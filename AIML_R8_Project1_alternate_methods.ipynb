{
  "nbformat": 4,
  "nbformat_minor": 0,
  "metadata": {
    "colab": {
      "name": "AIML_R8_Project1_alternate_methods.ipynb",
      "provenance": [],
      "collapsed_sections": []
    },
    "kernelspec": {
      "name": "python3",
      "display_name": "Python 3"
    },
    "language_info": {
      "name": "python"
    }
  },
  "cells": [
    {
      "cell_type": "markdown",
      "metadata": {
        "id": "MH2VYXLCmNA5"
      },
      "source": [
        "##Objective:\n",
        " To build a multilabel text(NLP) classifier to determine the author's labels of the blog."
      ]
    },
    {
      "cell_type": "code",
      "metadata": {
        "id": "XsEENKYumN0K"
      },
      "source": [
        "from IPython.core.interactiveshell import InteractiveShell\n",
        "InteractiveShell.ast_node_interactivity = \"all\""
      ],
      "execution_count": null,
      "outputs": []
    },
    {
      "cell_type": "code",
      "metadata": {
        "id": "uzYF3Z1h_Lzw"
      },
      "source": [
        "%matplotlib inline\n",
        "import pandas as pd\n",
        "import os\n",
        "import matplotlib.pyplot as plt\n",
        "import seaborn as sns"
      ],
      "execution_count": null,
      "outputs": []
    },
    {
      "cell_type": "code",
      "metadata": {
        "colab": {
          "base_uri": "https://localhost:8080/"
        },
        "id": "qFm8Pmq74km0",
        "outputId": "87ecb73c-e7c1-4fa3-84fe-215b8b842d7c"
      },
      "source": [
        "from google.colab import drive\n",
        "drive.mount('/content/drive')"
      ],
      "execution_count": null,
      "outputs": [
        {
          "output_type": "stream",
          "text": [
            "Mounted at /content/drive\n"
          ],
          "name": "stdout"
        }
      ]
    },
    {
      "cell_type": "code",
      "metadata": {
        "id": "B8Ujqjim4k0W"
      },
      "source": [
        "blog = pd.read_csv('/content/drive/MyDrive/Dataset - blogtext.csv')"
      ],
      "execution_count": null,
      "outputs": []
    },
    {
      "cell_type": "code",
      "metadata": {
        "colab": {
          "base_uri": "https://localhost:8080/"
        },
        "id": "ww9RUL-x4k1d",
        "outputId": "72e313e5-95fc-41d6-c625-e7da71256f22"
      },
      "source": [
        "blog.shape"
      ],
      "execution_count": null,
      "outputs": [
        {
          "output_type": "execute_result",
          "data": {
            "text/plain": [
              "(681284, 7)"
            ]
          },
          "metadata": {
            "tags": []
          },
          "execution_count": 5
        }
      ]
    },
    {
      "cell_type": "code",
      "metadata": {
        "colab": {
          "base_uri": "https://localhost:8080/",
          "height": 343
        },
        "id": "IbUIyB7e4k2V",
        "outputId": "f94d6bba-c422-4516-976a-90f924726ab5"
      },
      "source": [
        "blog.head(10)"
      ],
      "execution_count": null,
      "outputs": [
        {
          "output_type": "execute_result",
          "data": {
            "text/html": [
              "<div>\n",
              "<style scoped>\n",
              "    .dataframe tbody tr th:only-of-type {\n",
              "        vertical-align: middle;\n",
              "    }\n",
              "\n",
              "    .dataframe tbody tr th {\n",
              "        vertical-align: top;\n",
              "    }\n",
              "\n",
              "    .dataframe thead th {\n",
              "        text-align: right;\n",
              "    }\n",
              "</style>\n",
              "<table border=\"1\" class=\"dataframe\">\n",
              "  <thead>\n",
              "    <tr style=\"text-align: right;\">\n",
              "      <th></th>\n",
              "      <th>id</th>\n",
              "      <th>gender</th>\n",
              "      <th>age</th>\n",
              "      <th>topic</th>\n",
              "      <th>sign</th>\n",
              "      <th>date</th>\n",
              "      <th>text</th>\n",
              "    </tr>\n",
              "  </thead>\n",
              "  <tbody>\n",
              "    <tr>\n",
              "      <th>0</th>\n",
              "      <td>2059027</td>\n",
              "      <td>male</td>\n",
              "      <td>15</td>\n",
              "      <td>Student</td>\n",
              "      <td>Leo</td>\n",
              "      <td>14,May,2004</td>\n",
              "      <td>Info has been found (+/- 100 pages,...</td>\n",
              "    </tr>\n",
              "    <tr>\n",
              "      <th>1</th>\n",
              "      <td>2059027</td>\n",
              "      <td>male</td>\n",
              "      <td>15</td>\n",
              "      <td>Student</td>\n",
              "      <td>Leo</td>\n",
              "      <td>13,May,2004</td>\n",
              "      <td>These are the team members:   Drewe...</td>\n",
              "    </tr>\n",
              "    <tr>\n",
              "      <th>2</th>\n",
              "      <td>2059027</td>\n",
              "      <td>male</td>\n",
              "      <td>15</td>\n",
              "      <td>Student</td>\n",
              "      <td>Leo</td>\n",
              "      <td>12,May,2004</td>\n",
              "      <td>In het kader van kernfusie op aarde...</td>\n",
              "    </tr>\n",
              "    <tr>\n",
              "      <th>3</th>\n",
              "      <td>2059027</td>\n",
              "      <td>male</td>\n",
              "      <td>15</td>\n",
              "      <td>Student</td>\n",
              "      <td>Leo</td>\n",
              "      <td>12,May,2004</td>\n",
              "      <td>testing!!!  testing!!!</td>\n",
              "    </tr>\n",
              "    <tr>\n",
              "      <th>4</th>\n",
              "      <td>3581210</td>\n",
              "      <td>male</td>\n",
              "      <td>33</td>\n",
              "      <td>InvestmentBanking</td>\n",
              "      <td>Aquarius</td>\n",
              "      <td>11,June,2004</td>\n",
              "      <td>Thanks to Yahoo!'s Toolbar I can ...</td>\n",
              "    </tr>\n",
              "    <tr>\n",
              "      <th>5</th>\n",
              "      <td>3581210</td>\n",
              "      <td>male</td>\n",
              "      <td>33</td>\n",
              "      <td>InvestmentBanking</td>\n",
              "      <td>Aquarius</td>\n",
              "      <td>10,June,2004</td>\n",
              "      <td>I had an interesting conversation...</td>\n",
              "    </tr>\n",
              "    <tr>\n",
              "      <th>6</th>\n",
              "      <td>3581210</td>\n",
              "      <td>male</td>\n",
              "      <td>33</td>\n",
              "      <td>InvestmentBanking</td>\n",
              "      <td>Aquarius</td>\n",
              "      <td>10,June,2004</td>\n",
              "      <td>Somehow Coca-Cola has a way of su...</td>\n",
              "    </tr>\n",
              "    <tr>\n",
              "      <th>7</th>\n",
              "      <td>3581210</td>\n",
              "      <td>male</td>\n",
              "      <td>33</td>\n",
              "      <td>InvestmentBanking</td>\n",
              "      <td>Aquarius</td>\n",
              "      <td>10,June,2004</td>\n",
              "      <td>If anything, Korea is a country o...</td>\n",
              "    </tr>\n",
              "    <tr>\n",
              "      <th>8</th>\n",
              "      <td>3581210</td>\n",
              "      <td>male</td>\n",
              "      <td>33</td>\n",
              "      <td>InvestmentBanking</td>\n",
              "      <td>Aquarius</td>\n",
              "      <td>10,June,2004</td>\n",
              "      <td>Take a read of this news article ...</td>\n",
              "    </tr>\n",
              "    <tr>\n",
              "      <th>9</th>\n",
              "      <td>3581210</td>\n",
              "      <td>male</td>\n",
              "      <td>33</td>\n",
              "      <td>InvestmentBanking</td>\n",
              "      <td>Aquarius</td>\n",
              "      <td>09,June,2004</td>\n",
              "      <td>I surf the English news sites a l...</td>\n",
              "    </tr>\n",
              "  </tbody>\n",
              "</table>\n",
              "</div>"
            ],
            "text/plain": [
              "        id  ...                                               text\n",
              "0  2059027  ...             Info has been found (+/- 100 pages,...\n",
              "1  2059027  ...             These are the team members:   Drewe...\n",
              "2  2059027  ...             In het kader van kernfusie op aarde...\n",
              "3  2059027  ...                   testing!!!  testing!!!          \n",
              "4  3581210  ...               Thanks to Yahoo!'s Toolbar I can ...\n",
              "5  3581210  ...               I had an interesting conversation...\n",
              "6  3581210  ...               Somehow Coca-Cola has a way of su...\n",
              "7  3581210  ...               If anything, Korea is a country o...\n",
              "8  3581210  ...               Take a read of this news article ...\n",
              "9  3581210  ...               I surf the English news sites a l...\n",
              "\n",
              "[10 rows x 7 columns]"
            ]
          },
          "metadata": {
            "tags": []
          },
          "execution_count": 6
        }
      ]
    },
    {
      "cell_type": "code",
      "metadata": {
        "colab": {
          "base_uri": "https://localhost:8080/"
        },
        "id": "_FSTfcwzATI1",
        "outputId": "1ea6c8c2-3e2e-48cb-8a66-b5c2d942f5dc"
      },
      "source": [
        "blog['age'].value_counts()"
      ],
      "execution_count": null,
      "outputs": [
        {
          "output_type": "execute_result",
          "data": {
            "text/plain": [
              "17    80859\n",
              "24    80071\n",
              "23    72889\n",
              "16    72708\n",
              "25    67051\n",
              "26    55312\n",
              "27    46124\n",
              "15    41767\n",
              "14    27400\n",
              "34    21347\n",
              "33    17584\n",
              "35    17462\n",
              "36    14229\n",
              "13    13133\n",
              "37     9317\n",
              "38     7545\n",
              "39     5556\n",
              "40     5016\n",
              "45     4482\n",
              "43     4230\n",
              "41     3738\n",
              "48     3572\n",
              "42     2908\n",
              "46     2733\n",
              "47     2207\n",
              "44     2044\n",
              "Name: age, dtype: int64"
            ]
          },
          "metadata": {
            "tags": []
          },
          "execution_count": 7
        }
      ]
    },
    {
      "cell_type": "code",
      "metadata": {
        "colab": {
          "base_uri": "https://localhost:8080/"
        },
        "id": "EbVcH1if4k3K",
        "outputId": "b9f41e4c-d9c7-4341-85a9-a65cb330ba1d"
      },
      "source": [
        "blog['topic'].unique()"
      ],
      "execution_count": null,
      "outputs": [
        {
          "output_type": "execute_result",
          "data": {
            "text/plain": [
              "array(['Student', 'InvestmentBanking', 'indUnk', 'Non-Profit', 'Banking',\n",
              "       'Education', 'Engineering', 'Science', 'Communications-Media',\n",
              "       'BusinessServices', 'Sports-Recreation', 'Arts', 'Internet',\n",
              "       'Museums-Libraries', 'Accounting', 'Technology', 'Law',\n",
              "       'Consulting', 'Automotive', 'Religion', 'Fashion', 'Publishing',\n",
              "       'Marketing', 'LawEnforcement-Security', 'HumanResources',\n",
              "       'Telecommunications', 'Military', 'Government', 'Transportation',\n",
              "       'Architecture', 'Advertising', 'Agriculture', 'Biotech',\n",
              "       'RealEstate', 'Manufacturing', 'Construction', 'Chemicals',\n",
              "       'Maritime', 'Tourism', 'Environment'], dtype=object)"
            ]
          },
          "metadata": {
            "tags": []
          },
          "execution_count": 8
        }
      ]
    },
    {
      "cell_type": "code",
      "metadata": {
        "colab": {
          "base_uri": "https://localhost:8080/",
          "height": 326
        },
        "id": "Kl7mGQ_K-JIW",
        "outputId": "eabcf20e-10d7-4b5b-83c7-e790494f5cb7"
      },
      "source": [
        "blog['sign'].value_counts().plot(kind='bar')"
      ],
      "execution_count": null,
      "outputs": [
        {
          "output_type": "execute_result",
          "data": {
            "text/plain": [
              "<matplotlib.axes._subplots.AxesSubplot at 0x7ff7289005d0>"
            ]
          },
          "metadata": {
            "tags": []
          },
          "execution_count": 9
        },
        {
          "output_type": "display_data",
          "data": {
            "image/png": "[encoded data removed]",
            "text/plain": [
              "<Figure size 432x288 with 1 Axes>"
            ]
          },
          "metadata": {
            "tags": [],
            "needs_background": "light"
          }
        }
      ]
    },
    {
      "cell_type": "code",
      "metadata": {
        "id": "afZ8QB8m-JK-",
        "colab": {
          "base_uri": "https://localhost:8080/"
        },
        "outputId": "cf166f4f-34f5-46e2-bb48-bbc9931bcc45"
      },
      "source": [
        "blog.isnull().sum()"
      ],
      "execution_count": null,
      "outputs": [
        {
          "output_type": "execute_result",
          "data": {
            "text/plain": [
              "id        0\n",
              "gender    0\n",
              "age       0\n",
              "topic     0\n",
              "sign      0\n",
              "date      0\n",
              "text      0\n",
              "dtype: int64"
            ]
          },
          "metadata": {
            "tags": []
          },
          "execution_count": 10
        }
      ]
    },
    {
      "cell_type": "code",
      "metadata": {
        "id": "wc5IJ621-JOG"
      },
      "source": [
        "## Converting the age column into age_group column with three groups(10s,20s,30s) as mentioned the given problem statement.\n",
        "blog['age_group'] = blog['age'].apply(lambda x: '30s' if x>28 else ('10s' if x<20 else '20s'))"
      ],
      "execution_count": null,
      "outputs": []
    },
    {
      "cell_type": "code",
      "metadata": {
        "id": "VTO3YYg7-JQ_",
        "colab": {
          "base_uri": "https://localhost:8080/"
        },
        "outputId": "2c6738ec-19eb-4f96-88a3-1ee126ce2edd"
      },
      "source": [
        "blog['age_group'].value_counts()"
      ],
      "execution_count": null,
      "outputs": [
        {
          "output_type": "execute_result",
          "data": {
            "text/plain": [
              "20s    321447\n",
              "10s    235867\n",
              "30s    123970\n",
              "Name: age_group, dtype: int64"
            ]
          },
          "metadata": {
            "tags": []
          },
          "execution_count": 12
        }
      ]
    },
    {
      "cell_type": "code",
      "metadata": {
        "id": "bh_rJ8WF-JTs"
      },
      "source": [
        "blog.drop('age',axis=1, inplace= True)## dropping the age column"
      ],
      "execution_count": null,
      "outputs": []
    },
    {
      "cell_type": "code",
      "metadata": {
        "id": "9Ffnya3G4k4A",
        "colab": {
          "base_uri": "https://localhost:8080/",
          "height": 195
        },
        "outputId": "322ca23b-2df8-4df5-af0a-a3921282db5b"
      },
      "source": [
        "blog.head()"
      ],
      "execution_count": null,
      "outputs": [
        {
          "output_type": "execute_result",
          "data": {
            "text/html": [
              "<div>\n",
              "<style scoped>\n",
              "    .dataframe tbody tr th:only-of-type {\n",
              "        vertical-align: middle;\n",
              "    }\n",
              "\n",
              "    .dataframe tbody tr th {\n",
              "        vertical-align: top;\n",
              "    }\n",
              "\n",
              "    .dataframe thead th {\n",
              "        text-align: right;\n",
              "    }\n",
              "</style>\n",
              "<table border=\"1\" class=\"dataframe\">\n",
              "  <thead>\n",
              "    <tr style=\"text-align: right;\">\n",
              "      <th></th>\n",
              "      <th>id</th>\n",
              "      <th>gender</th>\n",
              "      <th>topic</th>\n",
              "      <th>sign</th>\n",
              "      <th>date</th>\n",
              "      <th>text</th>\n",
              "      <th>age_group</th>\n",
              "    </tr>\n",
              "  </thead>\n",
              "  <tbody>\n",
              "    <tr>\n",
              "      <th>0</th>\n",
              "      <td>2059027</td>\n",
              "      <td>male</td>\n",
              "      <td>Student</td>\n",
              "      <td>Leo</td>\n",
              "      <td>14,May,2004</td>\n",
              "      <td>Info has been found (+/- 100 pages,...</td>\n",
              "      <td>10s</td>\n",
              "    </tr>\n",
              "    <tr>\n",
              "      <th>1</th>\n",
              "      <td>2059027</td>\n",
              "      <td>male</td>\n",
              "      <td>Student</td>\n",
              "      <td>Leo</td>\n",
              "      <td>13,May,2004</td>\n",
              "      <td>These are the team members:   Drewe...</td>\n",
              "      <td>10s</td>\n",
              "    </tr>\n",
              "    <tr>\n",
              "      <th>2</th>\n",
              "      <td>2059027</td>\n",
              "      <td>male</td>\n",
              "      <td>Student</td>\n",
              "      <td>Leo</td>\n",
              "      <td>12,May,2004</td>\n",
              "      <td>In het kader van kernfusie op aarde...</td>\n",
              "      <td>10s</td>\n",
              "    </tr>\n",
              "    <tr>\n",
              "      <th>3</th>\n",
              "      <td>2059027</td>\n",
              "      <td>male</td>\n",
              "      <td>Student</td>\n",
              "      <td>Leo</td>\n",
              "      <td>12,May,2004</td>\n",
              "      <td>testing!!!  testing!!!</td>\n",
              "      <td>10s</td>\n",
              "    </tr>\n",
              "    <tr>\n",
              "      <th>4</th>\n",
              "      <td>3581210</td>\n",
              "      <td>male</td>\n",
              "      <td>InvestmentBanking</td>\n",
              "      <td>Aquarius</td>\n",
              "      <td>11,June,2004</td>\n",
              "      <td>Thanks to Yahoo!'s Toolbar I can ...</td>\n",
              "      <td>30s</td>\n",
              "    </tr>\n",
              "  </tbody>\n",
              "</table>\n",
              "</div>"
            ],
            "text/plain": [
              "        id gender  ...                                               text age_group\n",
              "0  2059027   male  ...             Info has been found (+/- 100 pages,...       10s\n",
              "1  2059027   male  ...             These are the team members:   Drewe...       10s\n",
              "2  2059027   male  ...             In het kader van kernfusie op aarde...       10s\n",
              "3  2059027   male  ...                   testing!!!  testing!!!                 10s\n",
              "4  3581210   male  ...               Thanks to Yahoo!'s Toolbar I can ...       30s\n",
              "\n",
              "[5 rows x 7 columns]"
            ]
          },
          "metadata": {
            "tags": []
          },
          "execution_count": 14
        }
      ]
    },
    {
      "cell_type": "code",
      "metadata": {
        "id": "peR_QUU3rLA_"
      },
      "source": [
        "blog['len'] = blog['text'].apply(lambda x: len(x.split())) ## calculating the length of each row"
      ],
      "execution_count": null,
      "outputs": []
    },
    {
      "cell_type": "code",
      "metadata": {
        "id": "baktppyjrQ3g"
      },
      "source": [
        "ind = blog[blog['len']==0].index"
      ],
      "execution_count": null,
      "outputs": []
    },
    {
      "cell_type": "code",
      "metadata": {
        "id": "BeykI_b5rQ8q"
      },
      "source": [
        "blog.drop(index = ind, axis=0, inplace =True)"
      ],
      "execution_count": null,
      "outputs": []
    },
    {
      "cell_type": "markdown",
      "metadata": {
        "id": "7EnhUBumyDnZ"
      },
      "source": [
        "**Tried using the full dataset but unsuccessul. Tried with 3lakh, 2lakh, and 1 lakh rows but still had hard time in training the model. Either the system is crashing or it is running more than a day for training. Hence, proceeding with subset of 50k rows.**"
      ]
    },
    {
      "cell_type": "code",
      "metadata": {
        "id": "mZJ51FH2_pUo"
      },
      "source": [
        "blod_df = pd.DataFrame()"
      ],
      "execution_count": null,
      "outputs": []
    },
    {
      "cell_type": "code",
      "metadata": {
        "id": "oxxbsyZMx6LD"
      },
      "source": [
        "blog_df = blog.sample(50000,random_state=4).reset_index(drop=True)"
      ],
      "execution_count": null,
      "outputs": []
    },
    {
      "cell_type": "code",
      "metadata": {
        "colab": {
          "base_uri": "https://localhost:8080/",
          "height": 195
        },
        "id": "LTFxNBRZ6kzv",
        "outputId": "6a83c3d0-1181-4277-8bb9-32e614554ea6"
      },
      "source": [
        "blog_df.head()"
      ],
      "execution_count": null,
      "outputs": [
        {
          "output_type": "execute_result",
          "data": {
            "text/html": [
              "<div>\n",
              "<style scoped>\n",
              "    .dataframe tbody tr th:only-of-type {\n",
              "        vertical-align: middle;\n",
              "    }\n",
              "\n",
              "    .dataframe tbody tr th {\n",
              "        vertical-align: top;\n",
              "    }\n",
              "\n",
              "    .dataframe thead th {\n",
              "        text-align: right;\n",
              "    }\n",
              "</style>\n",
              "<table border=\"1\" class=\"dataframe\">\n",
              "  <thead>\n",
              "    <tr style=\"text-align: right;\">\n",
              "      <th></th>\n",
              "      <th>id</th>\n",
              "      <th>gender</th>\n",
              "      <th>topic</th>\n",
              "      <th>sign</th>\n",
              "      <th>date</th>\n",
              "      <th>text</th>\n",
              "      <th>age_group</th>\n",
              "      <th>len</th>\n",
              "    </tr>\n",
              "  </thead>\n",
              "  <tbody>\n",
              "    <tr>\n",
              "      <th>0</th>\n",
              "      <td>3354828</td>\n",
              "      <td>male</td>\n",
              "      <td>Internet</td>\n",
              "      <td>Gemini</td>\n",
              "      <td>19,May,2004</td>\n",
              "      <td>Ahh yes, Halle's new movie. ...</td>\n",
              "      <td>10s</td>\n",
              "      <td>46</td>\n",
              "    </tr>\n",
              "    <tr>\n",
              "      <th>1</th>\n",
              "      <td>755231</td>\n",
              "      <td>male</td>\n",
              "      <td>Student</td>\n",
              "      <td>Aries</td>\n",
              "      <td>30,September,2003</td>\n",
              "      <td>GRAR GRAR GRAR</td>\n",
              "      <td>10s</td>\n",
              "      <td>3</td>\n",
              "    </tr>\n",
              "    <tr>\n",
              "      <th>2</th>\n",
              "      <td>3420072</td>\n",
              "      <td>male</td>\n",
              "      <td>Student</td>\n",
              "      <td>Libra</td>\n",
              "      <td>22,May,2004</td>\n",
              "      <td>Ive had some time now to think about wh...</td>\n",
              "      <td>10s</td>\n",
              "      <td>286</td>\n",
              "    </tr>\n",
              "    <tr>\n",
              "      <th>3</th>\n",
              "      <td>1325355</td>\n",
              "      <td>female</td>\n",
              "      <td>indUnk</td>\n",
              "      <td>Cancer</td>\n",
              "      <td>02,September,2003</td>\n",
              "      <td>urlLink MacInTouch Home Page: Appl...</td>\n",
              "      <td>20s</td>\n",
              "      <td>61</td>\n",
              "    </tr>\n",
              "    <tr>\n",
              "      <th>4</th>\n",
              "      <td>3429409</td>\n",
              "      <td>female</td>\n",
              "      <td>indUnk</td>\n",
              "      <td>Pisces</td>\n",
              "      <td>11,June,2004</td>\n",
              "      <td>she was suffering this morning.    I go...</td>\n",
              "      <td>30s</td>\n",
              "      <td>71</td>\n",
              "    </tr>\n",
              "  </tbody>\n",
              "</table>\n",
              "</div>"
            ],
            "text/plain": [
              "        id  gender  ... age_group  len\n",
              "0  3354828    male  ...       10s   46\n",
              "1   755231    male  ...       10s    3\n",
              "2  3420072    male  ...       10s  286\n",
              "3  1325355  female  ...       20s   61\n",
              "4  3429409  female  ...       30s   71\n",
              "\n",
              "[5 rows x 8 columns]"
            ]
          },
          "metadata": {
            "tags": []
          },
          "execution_count": 31
        }
      ]
    },
    {
      "cell_type": "code",
      "metadata": {
        "colab": {
          "base_uri": "https://localhost:8080/"
        },
        "id": "UXrsGPfb-9DL",
        "outputId": "b76c2bf9-16c0-44ef-9a29-8d75467ca228"
      },
      "source": [
        "blog_df.dtypes"
      ],
      "execution_count": null,
      "outputs": [
        {
          "output_type": "execute_result",
          "data": {
            "text/plain": [
              "id            int64\n",
              "gender       object\n",
              "topic        object\n",
              "sign         object\n",
              "date         object\n",
              "text         object\n",
              "age_group    object\n",
              "len           int64\n",
              "dtype: object"
            ]
          },
          "metadata": {
            "tags": []
          },
          "execution_count": 32
        }
      ]
    },
    {
      "cell_type": "code",
      "metadata": {
        "id": "d-Up6USH4k5E",
        "colab": {
          "base_uri": "https://localhost:8080/",
          "height": 296
        },
        "outputId": "58a5becf-f2f8-44f5-c0f1-ee57e4b49815"
      },
      "source": [
        "sns.countplot(x= 'age_group',data=blog_df,hue='gender')"
      ],
      "execution_count": null,
      "outputs": [
        {
          "output_type": "execute_result",
          "data": {
            "text/plain": [
              "<matplotlib.axes._subplots.AxesSubplot at 0x7ff7282fe350>"
            ]
          },
          "metadata": {
            "tags": []
          },
          "execution_count": 33
        },
        {
          "output_type": "display_data",
          "data": {
            "image/png": "[encoded data removed]",
            "text/plain": [
              "<Figure size 432x288 with 1 Axes>"
            ]
          },
          "metadata": {
            "tags": [],
            "needs_background": "light"
          }
        }
      ]
    },
    {
      "cell_type": "code",
      "metadata": {
        "colab": {
          "base_uri": "https://localhost:8080/"
        },
        "id": "PWdvaxWOy-a6",
        "outputId": "5d505cff-fde5-45e0-9125-aeb8797b0b84"
      },
      "source": [
        "blog_df.info()"
      ],
      "execution_count": null,
      "outputs": [
        {
          "output_type": "stream",
          "text": [
            "<class 'pandas.core.frame.DataFrame'>\n",
            "RangeIndex: 50000 entries, 0 to 49999\n",
            "Data columns (total 8 columns):\n",
            " #   Column     Non-Null Count  Dtype \n",
            "---  ------     --------------  ----- \n",
            " 0   id         50000 non-null  int64 \n",
            " 1   gender     50000 non-null  object\n",
            " 2   topic      50000 non-null  object\n",
            " 3   sign       50000 non-null  object\n",
            " 4   date       50000 non-null  object\n",
            " 5   text       50000 non-null  object\n",
            " 6   age_group  50000 non-null  object\n",
            " 7   len        50000 non-null  int64 \n",
            "dtypes: int64(2), object(6)\n",
            "memory usage: 3.1+ MB\n"
          ],
          "name": "stdout"
        }
      ]
    },
    {
      "cell_type": "code",
      "metadata": {
        "colab": {
          "base_uri": "https://localhost:8080/"
        },
        "id": "WWfNZX9HzSlr",
        "outputId": "7833a44f-c8bd-407b-f13a-684daa47ea6b"
      },
      "source": [
        "blog_df.topic.unique()"
      ],
      "execution_count": null,
      "outputs": [
        {
          "output_type": "execute_result",
          "data": {
            "text/plain": [
              "array(['Internet', 'Student', 'indUnk', 'Law', 'Technology',\n",
              "       'Architecture', 'Science', 'Engineering', 'Education',\n",
              "       'Publishing', 'Fashion', 'RealEstate', 'Communications-Media',\n",
              "       'Arts', 'LawEnforcement-Security', 'Government',\n",
              "       'BusinessServices', 'Non-Profit', 'Accounting', 'Biotech',\n",
              "       'Manufacturing', 'Chemicals', 'Construction', 'Military',\n",
              "       'Sports-Recreation', 'InvestmentBanking', 'HumanResources',\n",
              "       'Telecommunications', 'Marketing', 'Advertising', 'Transportation',\n",
              "       'Consulting', 'Museums-Libraries', 'Environment', 'Religion',\n",
              "       'Banking', 'Tourism', 'Automotive', 'Agriculture', 'Maritime'],\n",
              "      dtype=object)"
            ]
          },
          "metadata": {
            "tags": []
          },
          "execution_count": 35
        }
      ]
    },
    {
      "cell_type": "code",
      "metadata": {
        "colab": {
          "base_uri": "https://localhost:8080/",
          "height": 296
        },
        "id": "kBdDl6sLCPB7",
        "outputId": "82a73d57-34e1-48a9-e9ae-521f226b53f7"
      },
      "source": [
        "sns.countplot(x='sign',data=blog_df,hue='age_group')"
      ],
      "execution_count": null,
      "outputs": [
        {
          "output_type": "execute_result",
          "data": {
            "text/plain": [
              "<matplotlib.axes._subplots.AxesSubplot at 0x7ff728900d10>"
            ]
          },
          "metadata": {
            "tags": []
          },
          "execution_count": 36
        },
        {
          "output_type": "display_data",
          "data": {
            "image/png": "[encoded data removed]",
            "text/plain": [
              "<Figure size 432x288 with 1 Axes>"
            ]
          },
          "metadata": {
            "tags": [],
            "needs_background": "light"
          }
        }
      ]
    },
    {
      "cell_type": "code",
      "metadata": {
        "id": "eY8GUWiq8G2D"
      },
      "source": [
        "## removing unnecessary columns which are blogger id, date:\n",
        "\n",
        "blog_df.drop(['id','date'],axis=1,inplace=True)"
      ],
      "execution_count": null,
      "outputs": []
    },
    {
      "cell_type": "code",
      "metadata": {
        "colab": {
          "base_uri": "https://localhost:8080/"
        },
        "id": "Axbc09cE8G4y",
        "outputId": "b306c0fd-099a-42c8-ad0d-07581af7c59a"
      },
      "source": [
        "blog_df.dtypes"
      ],
      "execution_count": null,
      "outputs": [
        {
          "output_type": "execute_result",
          "data": {
            "text/plain": [
              "gender       object\n",
              "topic        object\n",
              "sign         object\n",
              "text         object\n",
              "age_group    object\n",
              "len           int64\n",
              "dtype: object"
            ]
          },
          "metadata": {
            "tags": []
          },
          "execution_count": 38
        }
      ]
    },
    {
      "cell_type": "code",
      "metadata": {
        "colab": {
          "base_uri": "https://localhost:8080/"
        },
        "id": "T1GI8Z4hRip_",
        "outputId": "3a5cc068-cfa6-49bd-9606-92dac0bc2373"
      },
      "source": [
        "print (blog_df[\"text\"][0:10])"
      ],
      "execution_count": null,
      "outputs": [
        {
          "output_type": "stream",
          "text": [
            "0                      Ahh yes, Halle's new movie. ...\n",
            "1                           GRAR GRAR GRAR            \n",
            "2           Ive had some time now to think about wh...\n",
            "3                urlLink MacInTouch Home Page: Appl...\n",
            "4           she was suffering this morning.    I go...\n",
            "5                     First of all, a very very big...\n",
            "6           You may have noticed that my posting he...\n",
            "7               omg you guys..its *9 mOnThS* for Kc...\n",
            "8                                ouch my head         \n",
            "9           ok, so we are getting close to cayle's ...\n",
            "Name: text, dtype: object\n"
          ],
          "name": "stdout"
        }
      ]
    },
    {
      "cell_type": "code",
      "metadata": {
        "colab": {
          "base_uri": "https://localhost:8080/"
        },
        "id": "HuC_9QttJkCd",
        "outputId": "d1b98daf-1be3-415c-841f-a25a9f7bfb8b"
      },
      "source": [
        "print(blog_df['text'][17463])"
      ],
      "execution_count": null,
      "outputs": [
        {
          "output_type": "stream",
          "text": [
            "       It is nice to be able to do things around the house again.  Kathy and I both need to get back into the swing of working on this place.  She travels tomorrow to get Adnan from Houston, along with his friend, Anke.  They will all go to College Station, TX to visit A&M, and then Kathy will take Anke back to Houston on Friday and the family will be back together.  I get to stay home and work.  I have done more cooking on the grill this last week than I di last year combined.  I am getting fairly good at shrimp, burgers, and brats.  I want to try fish, and I need more practice on steaks.         \n"
          ],
          "name": "stdout"
        }
      ]
    },
    {
      "cell_type": "code",
      "metadata": {
        "colab": {
          "base_uri": "https://localhost:8080/"
        },
        "id": "BDIRaggxIA_l",
        "outputId": "8f34d9a9-03ef-4dd0-b5e1-0d533f7f68ca"
      },
      "source": [
        "blog_df.info()"
      ],
      "execution_count": null,
      "outputs": [
        {
          "output_type": "stream",
          "text": [
            "<class 'pandas.core.frame.DataFrame'>\n",
            "RangeIndex: 50000 entries, 0 to 49999\n",
            "Data columns (total 6 columns):\n",
            " #   Column     Non-Null Count  Dtype \n",
            "---  ------     --------------  ----- \n",
            " 0   gender     50000 non-null  object\n",
            " 1   topic      50000 non-null  object\n",
            " 2   sign       50000 non-null  object\n",
            " 3   text       50000 non-null  object\n",
            " 4   age_group  50000 non-null  object\n",
            " 5   len        50000 non-null  int64 \n",
            "dtypes: int64(1), object(5)\n",
            "memory usage: 2.3+ MB\n"
          ],
          "name": "stdout"
        }
      ]
    },
    {
      "cell_type": "markdown",
      "metadata": {
        "id": "mryjCu-L8G71"
      },
      "source": [
        "##Text Processing and wrangling."
      ]
    },
    {
      "cell_type": "markdown",
      "metadata": {
        "id": "27OHdIZGAuFe"
      },
      "source": [
        "Preparing text involves several techniques:\n",
        " \n",
        " 1) Removing HTML & Markup tags.\n",
        " \n",
        " 2) Handling accented charaters.\n",
        " \n",
        " 3) Expanding contractions.\n",
        " \n",
        " 4) Removing special characters & symbols\n",
        " \n",
        " 5) Spelling mistakes.\n",
        " \n",
        " 6) Stemming and Lemmatization.\n",
        " \n",
        " 7) Removing stopwords.\n",
        "\n",
        " 8) Lower casing\n"
      ]
    },
    {
      "cell_type": "markdown",
      "metadata": {
        "id": "3S6Arocx_KGv"
      },
      "source": [
        "**Removing HTML & Markup tags**"
      ]
    },
    {
      "cell_type": "markdown",
      "metadata": {
        "id": "AJwMhWi08G94"
      },
      "source": [
        "There are no html tags found in the given corpus. But there are urllinks availalbe and in problem descritption it was \n",
        "mentioned, the website link present within a post were denoted by label urlLink. "
      ]
    },
    {
      "cell_type": "code",
      "metadata": {
        "id": "12KGC3jZGnj6"
      },
      "source": [
        "import re\n",
        "from bs4 import BeautifulSoup"
      ],
      "execution_count": null,
      "outputs": []
    },
    {
      "cell_type": "code",
      "metadata": {
        "id": "H5huXuId45bL"
      },
      "source": [
        "blog_df['text'] = blog_df['text'].apply(lambda x: BeautifulSoup(x).get_text()) ## remove html markups"
      ],
      "execution_count": null,
      "outputs": []
    },
    {
      "cell_type": "code",
      "metadata": {
        "id": "edK9D8DEVZew"
      },
      "source": [
        "blog_df['text'] = blog_df['text'].apply(lambda x: re.sub(r'https?:\\/\\/.\\S+', \" \",x)) ## removes the http: links"
      ],
      "execution_count": null,
      "outputs": []
    },
    {
      "cell_type": "code",
      "metadata": {
        "colab": {
          "base_uri": "https://localhost:8080/"
        },
        "id": "dJJvoAm0Iorx",
        "outputId": "a4606080-a04f-4cd2-fec8-3017b70bbaf6"
      },
      "source": [
        "print(blog_df['text'][2])"
      ],
      "execution_count": null,
      "outputs": [
        {
          "output_type": "stream",
          "text": [
            "Ive had some time now to think about what to write and i've come to the conclusion things come out better if you just write what you are feeling at the time. I mean its not as though thinking about something is not worth doing but it doesnt come off as fresh an idea as one that you just think of at like just this second.   Emotions: what are they to me emotions and the way you feel are intertwined but completely differnt i mean you could feel bad has hell but you could be on top of the world emotion wise. to me emotions are a myth it is just some word on how you should feel at a particular feeling you have which i think is poppycock. i know i could be wroung but hey i'm open for sudgestions.   if i were to start my blog from scrath i think i would have to stucture it so it was user friendly but hey i dont really care how i come off to people i mean i'm not a talented writer so i can do big words like because i mean who really like to use the word because any way its a crap word.  so i thought you know i'm lying in bed just thinking about my life and i thought wouldnt it be great if i designed my own page and i thought that would be cool so bear with me at the current moment as i get my new page up and running.  well my mind is blank so i will have to think even thouugh to me it doesnt come out fresh but hats sometimesx what you have to do.    ciao         \n"
          ],
          "name": "stdout"
        }
      ]
    },
    {
      "cell_type": "code",
      "metadata": {
        "id": "Nr9OsTU3ydxS"
      },
      "source": [
        "blog_df['text']= blog_df['text'].apply(lambda x: re.sub(r\"\\b[^\\s]+@[^\\s]+[.][^\\s]+\\b\", \" \",x)) ## removing email id's"
      ],
      "execution_count": null,
      "outputs": []
    },
    {
      "cell_type": "code",
      "metadata": {
        "colab": {
          "base_uri": "https://localhost:8080/"
        },
        "id": "erD1riDVy7EU",
        "outputId": "32a23420-4957-4ec1-a1d8-bb65f48fc781"
      },
      "source": [
        "print(blog_df['text'][2])"
      ],
      "execution_count": null,
      "outputs": [
        {
          "output_type": "stream",
          "text": [
            "Ive had some time now to think about what to write and i've come to the conclusion things come out better if you just write what you are feeling at the time. I mean its not as though thinking about something is not worth doing but it doesnt come off as fresh an idea as one that you just think of at like just this second.   Emotions: what are they to me emotions and the way you feel are intertwined but completely differnt i mean you could feel bad has hell but you could be on top of the world emotion wise. to me emotions are a myth it is just some word on how you should feel at a particular feeling you have which i think is poppycock. i know i could be wroung but hey i'm open for sudgestions.   if i were to start my blog from scrath i think i would have to stucture it so it was user friendly but hey i dont really care how i come off to people i mean i'm not a talented writer so i can do big words like because i mean who really like to use the word because any way its a crap word.  so i thought you know i'm lying in bed just thinking about my life and i thought wouldnt it be great if i designed my own page and i thought that would be cool so bear with me at the current moment as i get my new page up and running.  well my mind is blank so i will have to think even thouugh to me it doesnt come out fresh but hats sometimesx what you have to do.    ciao         \n"
          ],
          "name": "stdout"
        }
      ]
    },
    {
      "cell_type": "markdown",
      "metadata": {
        "id": "XMTIqqfeBpm6"
      },
      "source": [
        "It removed all the http hyperlink however there are few other email id's & website link present in the data"
      ]
    },
    {
      "cell_type": "code",
      "metadata": {
        "id": "bHG252sOB3l4"
      },
      "source": [
        "blog_df['text'] = blog_df['text'].replace('urlLink',' ',regex=True) ## removing the word urlLink"
      ],
      "execution_count": null,
      "outputs": []
    },
    {
      "cell_type": "code",
      "metadata": {
        "colab": {
          "base_uri": "https://localhost:8080/",
          "height": 47
        },
        "id": "9l1vGXTAvidd",
        "outputId": "34a52475-9f2e-439b-c0f7-c370813337be"
      },
      "source": [
        "blog_df[blog_df['text']=='urlLink']"
      ],
      "execution_count": null,
      "outputs": [
        {
          "output_type": "execute_result",
          "data": {
            "text/html": [
              "<div>\n",
              "<style scoped>\n",
              "    .dataframe tbody tr th:only-of-type {\n",
              "        vertical-align: middle;\n",
              "    }\n",
              "\n",
              "    .dataframe tbody tr th {\n",
              "        vertical-align: top;\n",
              "    }\n",
              "\n",
              "    .dataframe thead th {\n",
              "        text-align: right;\n",
              "    }\n",
              "</style>\n",
              "<table border=\"1\" class=\"dataframe\">\n",
              "  <thead>\n",
              "    <tr style=\"text-align: right;\">\n",
              "      <th></th>\n",
              "      <th>gender</th>\n",
              "      <th>topic</th>\n",
              "      <th>sign</th>\n",
              "      <th>text</th>\n",
              "      <th>age_group</th>\n",
              "      <th>len</th>\n",
              "    </tr>\n",
              "  </thead>\n",
              "  <tbody>\n",
              "  </tbody>\n",
              "</table>\n",
              "</div>"
            ],
            "text/plain": [
              "Empty DataFrame\n",
              "Columns: [gender, topic, sign, text, age_group, len]\n",
              "Index: []"
            ]
          },
          "metadata": {
            "tags": []
          },
          "execution_count": 49
        }
      ]
    },
    {
      "cell_type": "code",
      "metadata": {
        "id": "N0MfIIjj3f38"
      },
      "source": [
        "blog_df['text'] = blog_df['text'].apply(lambda x: re.sub(r'''(?i)\\b((?:https?://|www\\d{0,3}[.]|[a-z0-9.\\-]+[.][a-z]{2,4}/)(?:[^\\s()<>]+|\\(([^\\s()<>]+|(\\([^\\s()<>]+\\)))*\\))+(?:\\(([^\\s()<>]+|(\\([^\\s()<>]+\\)))*\\)|[^\\s`!()\\[\\]{};:'\".,<>?«»“”‘’]))''', \" \", x))"
      ],
      "execution_count": null,
      "outputs": []
    },
    {
      "cell_type": "markdown",
      "metadata": {
        "id": "4l1Y8QPdzNkO"
      },
      "source": [
        "**Converting to LowerCase**"
      ]
    },
    {
      "cell_type": "code",
      "metadata": {
        "id": "bW7M7EjIw2X4"
      },
      "source": [
        "blog_df['text'] = blog_df['text'].apply(lambda x: str(x).lower())"
      ],
      "execution_count": null,
      "outputs": []
    },
    {
      "cell_type": "code",
      "metadata": {
        "colab": {
          "base_uri": "https://localhost:8080/"
        },
        "id": "d7NmuqzCx3Ry",
        "outputId": "7660bc32-9c6e-4afb-966d-28a435f391d9"
      },
      "source": [
        "print(blog_df['text'][2])"
      ],
      "execution_count": null,
      "outputs": [
        {
          "output_type": "stream",
          "text": [
            "ive had some time now to think about what to write and i've come to the conclusion things come out better if you just write what you are feeling at the time. i mean its not as though thinking about something is not worth doing but it doesnt come off as fresh an idea as one that you just think of at like just this second.   emotions: what are they to me emotions and the way you feel are intertwined but completely differnt i mean you could feel bad has hell but you could be on top of the world emotion wise. to me emotions are a myth it is just some word on how you should feel at a particular feeling you have which i think is poppycock. i know i could be wroung but hey i'm open for sudgestions.   if i were to start my blog from scrath i think i would have to stucture it so it was user friendly but hey i dont really care how i come off to people i mean i'm not a talented writer so i can do big words like because i mean who really like to use the word because any way its a crap word.  so i thought you know i'm lying in bed just thinking about my life and i thought wouldnt it be great if i designed my own page and i thought that would be cool so bear with me at the current moment as i get my new page up and running.  well my mind is blank so i will have to think even thouugh to me it doesnt come out fresh but hats sometimesx what you have to do.    ciao         \n"
          ],
          "name": "stdout"
        }
      ]
    },
    {
      "cell_type": "markdown",
      "metadata": {
        "id": "TE8ENIpBMIlc"
      },
      "source": [
        "**Removing the special characters & symbols & numbers**"
      ]
    },
    {
      "cell_type": "markdown",
      "metadata": {
        "id": "WuZ8rqpFMXNY"
      },
      "source": [
        "Removing all the special characters and symbols as this will create lot of dimension"
      ]
    },
    {
      "cell_type": "code",
      "metadata": {
        "id": "PNKkek1_MWTA"
      },
      "source": [
        "blog_df['text'] = blog_df['text'].replace('[^\\w\\s]',' ',regex= True)"
      ],
      "execution_count": null,
      "outputs": []
    },
    {
      "cell_type": "code",
      "metadata": {
        "id": "0kpX5t8IBKPa"
      },
      "source": [
        "blog_df['text'] = blog_df['text'].apply(lambda x: re.sub(\"[^a-zA-Z]\",\" \",x))"
      ],
      "execution_count": null,
      "outputs": []
    },
    {
      "cell_type": "code",
      "metadata": {
        "colab": {
          "base_uri": "https://localhost:8080/"
        },
        "id": "h1yVSUqEMWeH",
        "outputId": "ad40bd6f-2562-4942-e03f-0fa9a98724ab"
      },
      "source": [
        "print(blog_df['text'][3])"
      ],
      "execution_count": null,
      "outputs": [
        {
          "output_type": "stream",
          "text": [
            "  macintouch home page  apple macintosh news  information and analysis    apple documents an odd open firmware password problem in a new knowledge base article   if you used open firmware password utility to create a password that contains the capital letter  u   your password will not be recognized during the startup process  when you try to access startup manager  for example             \n"
          ],
          "name": "stdout"
        }
      ]
    },
    {
      "cell_type": "code",
      "metadata": {
        "colab": {
          "base_uri": "https://localhost:8080/"
        },
        "id": "2LxER7R3cf8j",
        "outputId": "bd1d391f-7ce2-4364-ac67-dae526ae926f"
      },
      "source": [
        "print(blog_df['text'][6])"
      ],
      "execution_count": null,
      "outputs": [
        {
          "output_type": "stream",
          "text": [
            "you may have noticed that my posting here has slowed down quite a bit      frankly  i m disheartened by the tone i see on so many catholic blogs      i ve quit reading several  and my blogroll is shrinking rapidly      i feel lost out here in st  blogs   lost and lonely      i was going to write a big post about my feelings about the entire thing  but i just went over to    mark s site and found that he is feeling the same things  and saying exactly what i wanted to say        \n"
          ],
          "name": "stdout"
        }
      ]
    },
    {
      "cell_type": "markdown",
      "metadata": {
        "id": "FEAFfPZ-8klc"
      },
      "source": [
        "**Removing unwanted white space**"
      ]
    },
    {
      "cell_type": "code",
      "metadata": {
        "id": "8NH7X0Vjx3f8"
      },
      "source": [
        "blog_df['text']=  blog_df['text'].str.replace('\\s+',' ',regex = True)"
      ],
      "execution_count": null,
      "outputs": []
    },
    {
      "cell_type": "code",
      "metadata": {
        "id": "9cvrMbOMx3ip",
        "colab": {
          "base_uri": "https://localhost:8080/"
        },
        "outputId": "e829f81d-4413-4845-ae6d-639bd133e250"
      },
      "source": [
        "print(blog_df['text'][6])"
      ],
      "execution_count": null,
      "outputs": [
        {
          "output_type": "stream",
          "text": [
            "you may have noticed that my posting here has slowed down quite a bit frankly i m disheartened by the tone i see on so many catholic blogs i ve quit reading several and my blogroll is shrinking rapidly i feel lost out here in st blogs lost and lonely i was going to write a big post about my feelings about the entire thing but i just went over to mark s site and found that he is feeling the same things and saying exactly what i wanted to say \n"
          ],
          "name": "stdout"
        }
      ]
    },
    {
      "cell_type": "code",
      "metadata": {
        "colab": {
          "base_uri": "https://localhost:8080/"
        },
        "id": "jdj8xn0SBmct",
        "outputId": "0e81278d-ee9c-4cc7-a8aa-b1e834f16d47"
      },
      "source": [
        "print(blog_df['text'][6])"
      ],
      "execution_count": null,
      "outputs": [
        {
          "output_type": "stream",
          "text": [
            "you may have noticed that my posting here has slowed down quite a bit frankly i m disheartened by the tone i see on so many catholic blogs i ve quit reading several and my blogroll is shrinking rapidly i feel lost out here in st blogs lost and lonely i was going to write a big post about my feelings about the entire thing but i just went over to mark s site and found that he is feeling the same things and saying exactly what i wanted to say \n"
          ],
          "name": "stdout"
        }
      ]
    },
    {
      "cell_type": "markdown",
      "metadata": {
        "id": "CGHFk8RpC8Mk"
      },
      "source": [
        "**Removing short forms**"
      ]
    },
    {
      "cell_type": "code",
      "metadata": {
        "id": "MGu1jEV_DJrR"
      },
      "source": [
        "def short_form(text):\n",
        "  text = re.sub(r\"what's\", \"what is \", text)\n",
        "  text = re.sub(r\"\\'s\", \" \", text)\n",
        "  text = re.sub(r\"\\'ve\", \" have \", text)\n",
        "  text = re.sub(r\"can't\", \"can not \", text)\n",
        "  text = re.sub(r\"n't\", \" not \", text)\n",
        "  text = re.sub(r\"i'm\", \"i am \", text)\n",
        "  text = re.sub(r\"\\'re\", \" are \", text)\n",
        "  text = re.sub(r\"\\'d\", \" would \", text)\n",
        "  text = re.sub(r\"\\'ll\", \" will \", text)\n",
        "  text = re.sub(r\"youll\", \" you will \", text)\n",
        "  text = re.sub(r\"theyll\", \" they will \", text)\n",
        "  text = re.sub(r\"youve\", \" you have \", text)\n",
        "  text = re.sub(r\"youre\", \"you are\", text)\n",
        "  text = re.sub(r\"theyve\", \" they have \", text)\n",
        "  text = re.sub(r\"cant\", \"can not \", text)\n",
        "  text = re.sub(r\"ohh\", \" \", text)\n",
        "  text = re.sub(r\"ahh\", \" \", text)\n",
        "  text = re.sub(r\"ahhh\", \" \", text)\n",
        "  text = re.sub(r\"yup\", \"yes\", text)\n",
        "  text = re.sub(r\"yep\", \"yes\", text)\n",
        "  text = re.sub(r\"didnt\", \"did not \", text)\n",
        "  text = re.sub(r\"btw\",\"by the way\",text)\n",
        "  text = re.sub(r\"sooo\",\"so\",text)\n",
        "  text = re.sub(r\"ppl\",\"people\",text)\n",
        "  text = re.sub(r\"wtf\",\"What the fuck\",text)\n",
        "  text = re.sub(r\"zzz\", \" \", text)\n",
        "  text = re.sub(r\"aaa\", \" \", text)\n",
        "  text = re.sub(r\"abt\", \"about \", text)\n",
        "  return text"
      ],
      "execution_count": null,
      "outputs": []
    },
    {
      "cell_type": "code",
      "metadata": {
        "id": "UZKSy_cvFqx6"
      },
      "source": [
        "blog_df['text'] = blog_df['text'].apply(lambda x: short_form(x))"
      ],
      "execution_count": null,
      "outputs": []
    },
    {
      "cell_type": "code",
      "metadata": {
        "id": "K8g3R-wWIYrh"
      },
      "source": [
        "##blog_df['text'] = blog_df['text'].str.replace('ah',' ', regex = True)"
      ],
      "execution_count": null,
      "outputs": []
    },
    {
      "cell_type": "code",
      "metadata": {
        "colab": {
          "base_uri": "https://localhost:8080/",
          "height": 195
        },
        "id": "fgYqCjz9GkQV",
        "outputId": "b5a721f8-43c4-4741-f389-96851970244e"
      },
      "source": [
        "blog_df.head()"
      ],
      "execution_count": null,
      "outputs": [
        {
          "output_type": "execute_result",
          "data": {
            "text/html": [
              "<div>\n",
              "<style scoped>\n",
              "    .dataframe tbody tr th:only-of-type {\n",
              "        vertical-align: middle;\n",
              "    }\n",
              "\n",
              "    .dataframe tbody tr th {\n",
              "        vertical-align: top;\n",
              "    }\n",
              "\n",
              "    .dataframe thead th {\n",
              "        text-align: right;\n",
              "    }\n",
              "</style>\n",
              "<table border=\"1\" class=\"dataframe\">\n",
              "  <thead>\n",
              "    <tr style=\"text-align: right;\">\n",
              "      <th></th>\n",
              "      <th>gender</th>\n",
              "      <th>topic</th>\n",
              "      <th>sign</th>\n",
              "      <th>text</th>\n",
              "      <th>age_group</th>\n",
              "      <th>len</th>\n",
              "      <th>target</th>\n",
              "    </tr>\n",
              "  </thead>\n",
              "  <tbody>\n",
              "    <tr>\n",
              "      <th>0</th>\n",
              "      <td>male</td>\n",
              "      <td>Internet</td>\n",
              "      <td>Gemini</td>\n",
              "      <td>yes halle new movie much say side thought woma...</td>\n",
              "      <td>10s</td>\n",
              "      <td>46</td>\n",
              "      <td>[male, 10s, Internet, Gemini]</td>\n",
              "    </tr>\n",
              "    <tr>\n",
              "      <th>1</th>\n",
              "      <td>male</td>\n",
              "      <td>Student</td>\n",
              "      <td>Aries</td>\n",
              "      <td>grar grar grar</td>\n",
              "      <td>10s</td>\n",
              "      <td>3</td>\n",
              "      <td>[male, 10s, Student, Aries]</td>\n",
              "    </tr>\n",
              "    <tr>\n",
              "      <th>2</th>\n",
              "      <td>male</td>\n",
              "      <td>Student</td>\n",
              "      <td>Libra</td>\n",
              "      <td>ive time think write come conclusion thing com...</td>\n",
              "      <td>10s</td>\n",
              "      <td>286</td>\n",
              "      <td>[male, 10s, Student, Libra]</td>\n",
              "    </tr>\n",
              "    <tr>\n",
              "      <th>3</th>\n",
              "      <td>female</td>\n",
              "      <td>indUnk</td>\n",
              "      <td>Cancer</td>\n",
              "      <td>macintouch home page apeoplee macintosh news i...</td>\n",
              "      <td>20s</td>\n",
              "      <td>61</td>\n",
              "      <td>[female, 20s, indUnk, Cancer]</td>\n",
              "    </tr>\n",
              "    <tr>\n",
              "      <th>4</th>\n",
              "      <td>female</td>\n",
              "      <td>indUnk</td>\n",
              "      <td>Pisces</td>\n",
              "      <td>suffering morning got early made fry even smel...</td>\n",
              "      <td>30s</td>\n",
              "      <td>71</td>\n",
              "      <td>[female, 30s, indUnk, Pisces]</td>\n",
              "    </tr>\n",
              "  </tbody>\n",
              "</table>\n",
              "</div>"
            ],
            "text/plain": [
              "   gender     topic    sign  ... age_group  len                         target\n",
              "0    male  Internet  Gemini  ...       10s   46  [male, 10s, Internet, Gemini]\n",
              "1    male   Student   Aries  ...       10s    3    [male, 10s, Student, Aries]\n",
              "2    male   Student   Libra  ...       10s  286    [male, 10s, Student, Libra]\n",
              "3  female    indUnk  Cancer  ...       20s   61  [female, 20s, indUnk, Cancer]\n",
              "4  female    indUnk  Pisces  ...       30s   71  [female, 30s, indUnk, Pisces]\n",
              "\n",
              "[5 rows x 7 columns]"
            ]
          },
          "metadata": {
            "tags": []
          },
          "execution_count": 114
        }
      ]
    },
    {
      "cell_type": "markdown",
      "metadata": {
        "id": "LdQ6wYijk0JS"
      },
      "source": [
        "**Removing stop words**"
      ]
    },
    {
      "cell_type": "code",
      "metadata": {
        "colab": {
          "base_uri": "https://localhost:8080/"
        },
        "id": "NHPo5Ajpna1p",
        "outputId": "1bf3ce22-9d3c-4358-f4ea-5a0060e396ca"
      },
      "source": [
        "import nltk\n",
        "nltk.download('stopwords')"
      ],
      "execution_count": null,
      "outputs": [
        {
          "output_type": "stream",
          "text": [
            "[nltk_data] Downloading package stopwords to /root/nltk_data...\n",
            "[nltk_data]   Package stopwords is already up-to-date!\n"
          ],
          "name": "stdout"
        },
        {
          "output_type": "execute_result",
          "data": {
            "text/plain": [
              "True"
            ]
          },
          "metadata": {
            "tags": []
          },
          "execution_count": 115
        }
      ]
    },
    {
      "cell_type": "code",
      "metadata": {
        "id": "1pVdgGVsx3mb"
      },
      "source": [
        "from nltk.corpus import stopwords"
      ],
      "execution_count": null,
      "outputs": []
    },
    {
      "cell_type": "code",
      "metadata": {
        "id": "HkIoDSkfeg8J"
      },
      "source": [
        "stopw = set(stopwords.words('english'))"
      ],
      "execution_count": null,
      "outputs": []
    },
    {
      "cell_type": "code",
      "metadata": {
        "colab": {
          "base_uri": "https://localhost:8080/"
        },
        "id": "4GBdax9uoSdy",
        "outputId": "e399c5a8-62ec-4375-f25a-eb76855f3372"
      },
      "source": [
        "print(stopw)"
      ],
      "execution_count": null,
      "outputs": [
        {
          "output_type": "stream",
          "text": [
            "{'them', 'again', 'any', 'my', 'doing', 'during', 'once', 'some', 'has', \"shouldn't\", 'she', 'through', 'before', 'no', \"couldn't\", 'not', 'him', 'because', 'are', 'mustn', \"weren't\", 'those', 'about', \"should've\", 'her', 'their', 'of', 'such', 've', 'hadn', 'hasn', 'where', 'is', 'against', \"hadn't\", 'you', 's', 'yourself', 'wouldn', 'until', 'more', 'own', 'below', 'in', 'been', 't', 'nor', 'out', 'or', 'very', 'aren', 'ain', 're', 'as', \"that'll\", 'there', 'theirs', 'was', 'y', 'shouldn', 'on', 'will', 'whom', 'at', 'into', 'why', 'who', 'how', 'and', 'myself', \"doesn't\", 'isn', 'only', 'themselves', 'off', 'we', 'with', 'won', 'too', 'by', \"needn't\", \"aren't\", 'ours', 'a', 'he', \"don't\", \"isn't\", 'over', \"you'll\", 'so', 'its', 'which', 'now', 'but', 'other', 'mightn', 'haven', 'i', \"wouldn't\", 'had', 'each', 'm', 'can', 'herself', 'do', 'himself', \"shan't\", 'from', 'while', 'down', \"you'd\", \"won't\", 'am', 'they', 'needn', 'having', 'were', 'couldn', 'yours', 'above', 'after', 'yourselves', 'that', 'ourselves', 'these', 'hers', 'than', \"haven't\", \"it's\", 'if', 'the', 'd', 'an', 'when', \"she's\", 'doesn', 'weren', 'his', 'ma', 'itself', 'under', \"didn't\", \"you're\", 'most', 'few', 'shan', 'what', 'don', 'this', 'our', 'does', 'didn', 'it', 'be', 'your', 'then', 'just', 'being', 'for', 'same', \"you've\", 'all', 'up', 'further', 'did', 'between', 'both', 'll', \"mightn't\", 'have', \"mustn't\", 'to', 'here', 'me', 'wasn', \"hasn't\", \"wasn't\", 'o', 'should'}\n"
          ],
          "name": "stdout"
        }
      ]
    },
    {
      "cell_type": "code",
      "metadata": {
        "id": "Avb6cQaZehJr"
      },
      "source": [
        "blog_df['text']= blog_df['text'].apply(lambda words:' '.join(word for word in words.split() if word not in stopw))"
      ],
      "execution_count": null,
      "outputs": []
    },
    {
      "cell_type": "code",
      "metadata": {
        "colab": {
          "base_uri": "https://localhost:8080/"
        },
        "id": "eWWl90YrehXS",
        "outputId": "f30f94cc-d8c6-417b-fafb-8c0883380992"
      },
      "source": [
        "print(blog_df['text'][2])"
      ],
      "execution_count": null,
      "outputs": [
        {
          "output_type": "stream",
          "text": [
            "ive time think write come conclusion thing come better write feeling time mean though thinking something worth doesnt come fresh idea one think like second emotion emotion way feel intertwined completely differnt mean could feel bad hell could top world emotion wise emotion myth word feel particular feeling think poppycock know could wroung hey open sudgestions start blog scrath think would stucture user friendly hey dont really care come people mean talented writer big word like mean really like use word way crap word thought know lying bed thinking life thought wouldnt great designed page thought would cool bear current moment get new page running well mind blank think even thouugh doesnt come fresh hat sometimesx ciao\n"
          ],
          "name": "stdout"
        }
      ]
    },
    {
      "cell_type": "code",
      "metadata": {
        "colab": {
          "base_uri": "https://localhost:8080/"
        },
        "id": "qeFMu3HTMxMV",
        "outputId": "5ada3d61-4ef4-4259-d01c-44a5e54491d8"
      },
      "source": [
        "print(blog_df['text'][18256])"
      ],
      "execution_count": null,
      "outputs": [
        {
          "output_type": "stream",
          "text": [
            "work hecka fun went swimmin like day long walk kid bathroom twice second time andrew james come like take u bathroom please get pool gleefully yell yeah serena taking u bathroom like woa boy way back use worst language possibly really cannot repeat song sang listen mer mer mer mer mer mer mer ooo squirrel dive woohoo scary totally control scary feeling hurt sometimes know squirrel dive look google something freakishly frightening yet make adrenaline flow right hehehe love diving far jump dive really nice suicide thing awesome nearly perfect jackknife pretty nice opener cannon ball big splash stuff gotta work flip heck funny supposed go first group back school walked back brian tying kaiah hawaiian wrap dress thing like styling stuff like boob tied dress make puff stuff like brian gross lookin icky eric styling halarious eric used turbin jumped diving board indian style sooo funny kid staring u brian tied around shoulder suicide streaming behind steven like eric superman brian like superman brian told yell water polo really loud cause wanted play asked like cause shy almost laughed looked right eye said looked innocent stuff dang funny g g jak\n"
          ],
          "name": "stdout"
        }
      ]
    },
    {
      "cell_type": "markdown",
      "metadata": {
        "id": "qxlaH6Cs7P9X"
      },
      "source": [
        "**Applying Lemmatisation**"
      ]
    },
    {
      "cell_type": "code",
      "metadata": {
        "id": "O-IP6SuGehde"
      },
      "source": [
        "from nltk.stem import WordNetLemmatizer"
      ],
      "execution_count": null,
      "outputs": []
    },
    {
      "cell_type": "code",
      "metadata": {
        "colab": {
          "base_uri": "https://localhost:8080/"
        },
        "id": "W9J8aPmc_UpO",
        "outputId": "ce7d67c2-782e-4190-afd4-19852d202144"
      },
      "source": [
        "nltk.download('wordnet')"
      ],
      "execution_count": null,
      "outputs": [
        {
          "output_type": "stream",
          "text": [
            "[nltk_data] Downloading package wordnet to /root/nltk_data...\n",
            "[nltk_data]   Package wordnet is already up-to-date!\n"
          ],
          "name": "stdout"
        },
        {
          "output_type": "execute_result",
          "data": {
            "text/plain": [
              "True"
            ]
          },
          "metadata": {
            "tags": []
          },
          "execution_count": 123
        }
      ]
    },
    {
      "cell_type": "code",
      "metadata": {
        "id": "fMCpfNyU_UrV"
      },
      "source": [
        "w_tokenizer = nltk.tokenize.WhitespaceTokenizer()"
      ],
      "execution_count": null,
      "outputs": []
    },
    {
      "cell_type": "code",
      "metadata": {
        "id": "GaLclMR1_UuC"
      },
      "source": [
        "def lemmatize_text(text):\n",
        "    lemmatizer = WordNetLemmatizer()\n",
        "    out_text = ' '.join([lemmatizer.lemmatize(word) for word in w_tokenizer.tokenize(text)])\n",
        "    return out_text"
      ],
      "execution_count": null,
      "outputs": []
    },
    {
      "cell_type": "code",
      "metadata": {
        "id": "6BA2V1K7_Uxx"
      },
      "source": [
        "blog_df['text'] = blog_df['text'].apply(lemmatize_text)"
      ],
      "execution_count": null,
      "outputs": []
    },
    {
      "cell_type": "code",
      "metadata": {
        "id": "sUBbbUIL_hWB",
        "colab": {
          "base_uri": "https://localhost:8080/"
        },
        "outputId": "c55ec54e-f5ff-4209-85d5-36b8655e81a5"
      },
      "source": [
        "print(blog_df['text'][2])"
      ],
      "execution_count": null,
      "outputs": [
        {
          "output_type": "stream",
          "text": [
            "ive time think write come conclusion thing come better write feeling time mean though thinking something worth doesnt come fresh idea one think like second emotion emotion way feel intertwined completely differnt mean could feel bad hell could top world emotion wise emotion myth word feel particular feeling think poppycock know could wroung hey open sudgestions start blog scrath think would stucture user friendly hey dont really care come people mean talented writer big word like mean really like use word way crap word thought know lying bed thinking life thought wouldnt great designed page thought would cool bear current moment get new page running well mind blank think even thouugh doesnt come fresh hat sometimesx ciao\n"
          ],
          "name": "stdout"
        }
      ]
    },
    {
      "cell_type": "markdown",
      "metadata": {
        "id": "2-mPnJ2tJS8y"
      },
      "source": [
        "#Target/label merging "
      ]
    },
    {
      "cell_type": "code",
      "metadata": {
        "colab": {
          "base_uri": "https://localhost:8080/"
        },
        "id": "2D695jj1lTvQ",
        "outputId": "33ed663f-cc6b-4751-d17e-298058c33127"
      },
      "source": [
        "blog_df.dtypes"
      ],
      "execution_count": null,
      "outputs": [
        {
          "output_type": "execute_result",
          "data": {
            "text/plain": [
              "gender       object\n",
              "topic        object\n",
              "sign         object\n",
              "text         object\n",
              "age_group    object\n",
              "len           int64\n",
              "target       object\n",
              "dtype: object"
            ]
          },
          "metadata": {
            "tags": []
          },
          "execution_count": 128
        }
      ]
    },
    {
      "cell_type": "code",
      "metadata": {
        "id": "3taO7tVzJbC-"
      },
      "source": [
        "blog_df[\"target\"] = blog_df.apply(lambda x : [x[\"gender\"],x[\"age_group\"],x[\"topic\"],x[\"sign\"]],axis =1)"
      ],
      "execution_count": null,
      "outputs": []
    },
    {
      "cell_type": "code",
      "metadata": {
        "colab": {
          "base_uri": "https://localhost:8080/"
        },
        "id": "xa-atQCnJbFp",
        "outputId": "232ae619-2287-4a8f-adfa-605b52e41667"
      },
      "source": [
        "blog_df['target'].sample(10)"
      ],
      "execution_count": null,
      "outputs": [
        {
          "output_type": "execute_result",
          "data": {
            "text/plain": [
              "17512        [female, 20s, Arts, Libra]\n",
              "9790      [female, 10s, Student, Libra]\n",
              "18855        [male, 10s, indUnk, Virgo]\n",
              "29270    [female, 10s, Student, Cancer]\n",
              "44885      [male, 20s, Biotech, Cancer]\n",
              "32939     [female, 20s, indUnk, Gemini]\n",
              "46863       [male, 10s, indUnk, Gemini]\n",
              "2167     [male, 10s, Student, Aquarius]\n",
              "23736     [female, 30s, indUnk, Cancer]\n",
              "44496        [female, 20s, indUnk, Leo]\n",
              "Name: target, dtype: object"
            ]
          },
          "metadata": {
            "tags": []
          },
          "execution_count": 130
        }
      ]
    },
    {
      "cell_type": "code",
      "metadata": {
        "id": "urF6dQu2pK8P"
      },
      "source": [
        "todo_df= blog_df[['target','text']]"
      ],
      "execution_count": null,
      "outputs": []
    },
    {
      "cell_type": "code",
      "metadata": {
        "colab": {
          "base_uri": "https://localhost:8080/"
        },
        "id": "BVrDp9akpK_D",
        "outputId": "8c22bc88-7281-461e-f085-ede73d0f1243"
      },
      "source": [
        "todo_df.shape"
      ],
      "execution_count": null,
      "outputs": [
        {
          "output_type": "execute_result",
          "data": {
            "text/plain": [
              "(50000, 2)"
            ]
          },
          "metadata": {
            "tags": []
          },
          "execution_count": 132
        }
      ]
    },
    {
      "cell_type": "markdown",
      "metadata": {
        "id": "TKJz69kVeDYz"
      },
      "source": [
        "## Bag Of Words Model - Vectorization\n",
        "\n",
        "1) Count Vectorizer\n",
        "\n",
        "2) TF-IDF\n",
        "\n",
        "\n",
        "I am going to use TF-IDF vectorizer for this project."
      ]
    },
    {
      "cell_type": "markdown",
      "metadata": {
        "id": "1gii1VmEeRkm"
      },
      "source": [
        "**TF-IDF Vectorizer**"
      ]
    },
    {
      "cell_type": "code",
      "metadata": {
        "id": "uDEFZXSheR09"
      },
      "source": [
        "from sklearn.feature_extraction.text import TfidfVectorizer"
      ],
      "execution_count": null,
      "outputs": []
    },
    {
      "cell_type": "code",
      "metadata": {
        "id": "EaLnqYh3emy2"
      },
      "source": [
        "tfidf = TfidfVectorizer(analyzer = \"word\", stop_words='english', ngram_range = (1,3), max_features = 2500)"
      ],
      "execution_count": null,
      "outputs": []
    },
    {
      "cell_type": "markdown",
      "metadata": {
        "id": "Mwy3n97wpn3P"
      },
      "source": [
        "**Splitting and transforming the data**"
      ]
    },
    {
      "cell_type": "code",
      "metadata": {
        "id": "ku9iN5kDpsDg"
      },
      "source": [
        "from sklearn.model_selection import train_test_split\n",
        "from sklearn.preprocessing import MultiLabelBinarizer\n",
        "import pickle"
      ],
      "execution_count": null,
      "outputs": []
    },
    {
      "cell_type": "code",
      "metadata": {
        "id": "x9m9ZYpRpsMv"
      },
      "source": [
        "X = tfidf.fit_transform(todo_df['text'])\n",
        "y= todo_df['target']"
      ],
      "execution_count": null,
      "outputs": []
    },
    {
      "cell_type": "code",
      "metadata": {
        "id": "Ngg9X-CnmB16"
      },
      "source": [
        "vocab = tfidf.get_feature_names()"
      ],
      "execution_count": null,
      "outputs": []
    },
    {
      "cell_type": "code",
      "metadata": {
        "colab": {
          "base_uri": "https://localhost:8080/"
        },
        "id": "ivQE6fvnmgeu",
        "outputId": "96c666a5-af53-45d9-cc51-db429e9526fd"
      },
      "source": [
        "print(vocab)"
      ],
      "execution_count": null,
      "outputs": [
        {
          "output_type": "stream",
          "text": [
            "['ability', 'able', 'abortion', 'absolutely', 'accept', 'accepted', 'access', 'accident', 'according', 'account', 'act', 'acting', 'action', 'activity', 'actor', 'actual', 'actually', 'ad', 'adam', 'add', 'added', 'addition', 'address', 'administration', 'admit', 'adult', 'advantage', 'adventure', 'advice', 'affect', 'afford', 'afraid', 'afternoon', 'age', 'agent', 'ago', 'agree', 'agreed', 'ah', 'ahead', 'aid', 'aim', 'air', 'airport', 'aka', 'ako', 'al', 'alan', 'alarm', 'album', 'alcohol', 'alex', 'alien', 'alive', 'allow', 'allowed', 'alot', 'alright', 'alternative', 'amanda', 'amazing', 'america', 'american', 'amusing', 'amy', 'andrew', 'andy', 'ang', 'angel', 'anger', 'angry', 'animal', 'annoyed', 'annoying', 'answer', 'answered', 'anti', 'anybody', 'anymore', 'anyways', 'ap', 'apart', 'apartment', 'apeoplee', 'apeopleication', 'apeopley', 'apparently', 'appear', 'appearance', 'appears', 'appointment', 'appreciate', 'approach', 'april', 'area', 'argh', 'argue', 'argument', 'arm', 'army', 'arrived', 'art', 'article', 'artist', 'ashley', 'asian', 'aside', 'ask', 'asked', 'asking', 'asks', 'asleep', 'aspect', 'asshole', 'assignment', 'assume', 'ate', 'attack', 'attempt', 'attend', 'attention', 'attitude', 'attractive', 'audience', 'august', 'aunt', 'author', 'authority', 'available', 'average', 'avoid', 'awake', 'award', 'aware', 'away', 'awesome', 'awful', 'awhile', 'ba', 'baby', 'background', 'bad', 'bad thing', 'badly', 'bag', 'balance', 'ball', 'band', 'bank', 'bar', 'barely', 'base', 'baseball', 'based', 'basic', 'basically', 'basis', 'basketball', 'bastard', 'bath', 'bathroom', 'battle', 'bay', 'beach', 'bean', 'bear', 'beat', 'beautiful', 'beauty', 'bed', 'bedroom', 'beer', 'began', 'begin', 'beginning', 'behavior', 'belief', 'believe', 'believed', 'bell', 'ben', 'benefit', 'best', 'best friend', 'bet', 'better', 'bible', 'big', 'big deal', 'bigger', 'biggest', 'bike', 'billion', 'bin', 'bird', 'birth', 'birthday', 'bit', 'bitch', 'bite', 'black', 'blah', 'blah blah', 'blame', 'blast', 'bless', 'blessed', 'blind', 'block', 'blog', 'blogger', 'blogging', 'blonde', 'blood', 'bloody', 'blow', 'blue', 'board', 'boat', 'bob', 'body', 'bomb', 'bone', 'book', 'boot', 'border', 'bored', 'boring', 'born', 'bos', 'boston', 'bother', 'bottle', 'bought', 'bout', 'bowl', 'box', 'boy', 'boyfriend', 'brain', 'brand', 'bread', 'break', 'breakfast', 'breaking', 'breast', 'breath', 'breathe', 'brian', 'bridge', 'brief', 'bright', 'brilliant', 'bring', 'bringing', 'brings', 'british', 'bro', 'broke', 'broken', 'brother', 'brought', 'brought quizilla', 'brown', 'buck', 'buddy', 'bug', 'build', 'building', 'built', 'bullshit', 'bunch', 'burn', 'burning', 'bus', 'bush', 'business', 'busy', 'butt', 'button', 'buy', 'buying', 'bye', 'cable', 'cafe', 'cake', 'california', 'called', 'calling', 'calm', 'came', 'came home', 'camera', 'camp', 'campaign', 'campus', 'canada', 'canadian', 'cancer', 'candidate', 'candy', 'cap', 'captain', 'car', 'card', 'care', 'career', 'carry', 'case', 'cash', 'cast', 'cat', 'catch', 'category', 'catholic', 'caught', 'cause', 'caused', 'cd', 'celebrate', 'cell', 'cell phone', 'cent', 'center', 'central', 'centre', 'century', 'certain', 'certainly', 'chain', 'chair', 'challenge', 'chance', 'change', 'changed', 'changing', 'channel', 'chapter', 'character', 'charge', 'chat', 'cheap', 'check', 'checked', 'checking', 'cheer', 'cheese', 'chest', 'chicago', 'chick', 'chicken', 'child', 'childhood', 'chill', 'china', 'chinese', 'chip', 'chocolate', 'choice', 'choose', 'chorus', 'chose', 'chris', 'christ', 'christian', 'christmas', 'church', 'cigarette', 'circle', 'citizen', 'city', 'civil', 'claim', 'class', 'classic', 'clean', 'cleaned', 'cleaning', 'clear', 'clearly', 'click', 'client', 'clinton', 'clock', 'close', 'closed', 'closer', 'clothes', 'clothing', 'cloud', 'club', 'clue', 'coach', 'code', 'coffee', 'coke', 'cold', 'collection', 'college', 'color', 'colour', 'com', 'come', 'come home', 'comedy', 'comfort', 'comfortable', 'comic', 'coming', 'comment', 'commercial', 'common', 'communication', 'community', 'company', 'compared', 'competition', 'complain', 'complaining', 'complete', 'completely', 'complex', 'computer', 'concept', 'concern', 'concerned', 'concert', 'conclusion', 'condition', 'conference', 'confused', 'connection', 'conservative', 'consider', 'considered', 'considering', 'constant', 'constantly', 'contact', 'content', 'contest', 'continue', 'continued', 'continues', 'control', 'convention', 'conversation', 'convinced', 'cook', 'cooking', 'cooky', 'cool', 'cop', 'copy', 'corner', 'correct', 'cost', 'couch', 'cough', 'count', 'counter', 'country', 'county', 'couple', 'couple day', 'course', 'court', 'cousin', 'cover', 'covered', 'cow', 'coz', 'crack', 'crap', 'crappy', 'crash', 'crazy', 'cream', 'create', 'created', 'creating', 'creative', 'creature', 'credit', 'crew', 'cried', 'crime', 'cross', 'crowd', 'crush', 'culture', 'cup', 'curious', 'current', 'currently', 'customer', 'cut', 'cute', 'cutting', 'cuz', 'da', 'dad', 'daddy', 'daily', 'damage', 'damn', 'dan', 'dance', 'dancing', 'dangerous', 'daniel', 'dare', 'dark', 'darkness', 'darn', 'dat', 'data', 'date', 'dating', 'daughter', 'dave', 'david', 'day', 'day day', 'day today', 'day week', 'day work', 'dc', 'dead', 'deal', 'dealing', 'dean', 'dear', 'death', 'debate', 'december', 'decent', 'decide', 'decided', 'decision', 'deep', 'defense', 'definitely', 'degree', 'demand', 'democrat', 'democratic', 'den', 'department', 'depressed', 'depressing', 'depression', 'description', 'deserve', 'design', 'desire', 'desk', 'despite', 'developed', 'development', 'di', 'diary', 'dick', 'die', 'died', 'diet', 'difference', 'different', 'difficult', 'digital', 'dinner', 'direct', 'direction', 'directly', 'director', 'dirty', 'disappointed', 'discovered', 'discus', 'discussion', 'disease', 'dish', 'display', 'distance', 'dj', 'doctor', 'document', 'doesnt', 'dog', 'dollar', 'dont', 'dont know', 'dont think', 'dont want', 'door', 'double', 'doubt', 'download', 'downstairs', 'downtown', 'dr', 'drama', 'drank', 'draw', 'drawing', 'dream', 'dress', 'dressed', 'drew', 'drink', 'drinking', 'drive', 'driver', 'driving', 'drop', 'dropped', 'drove', 'drug', 'drum', 'drunk', 'dry', 'duck', 'dude', 'dumb', 'dun', 'dunno', 'duty', 'dvd', 'dying', 'ear', 'earlier', 'early', 'earth', 'easier', 'easily', 'east', 'easy', 'eat', 'eating', 'economy', 'ed', 'edge', 'edit', 'education', 'edward', 'effect', 'effort', 'egg', 'eh', 'el', 'election', 'element', 'em', 'email', 'emily', 'emotion', 'emotional', 'employee', 'en', 'end', 'ended', 'ending', 'enemy', 'energy', 'engine', 'england', 'english', 'enjoy', 'enjoyed', 'enjoying', 'enter', 'entertaining', 'entertainment', 'entire', 'entirely', 'entry', 'environment', 'episode', 'equal', 'er', 'eric', 'erin', 'error', 'escape', 'especially', 'essay', 'europe', 'evening', 'event', 'eventually', 'everybody', 'everyday', 'everytime', 'evidence', 'evil', 'ex', 'exact', 'exactly', 'exam', 'example', 'excellent', 'exception', 'exchange', 'excited', 'exciting', 'excuse', 'exercise', 'exhausted', 'exist', 'existence', 'expect', 'expected', 'expecting', 'expensive', 'experience', 'experienced', 'explain', 'explained', 'express', 'expression', 'extra', 'extreme', 'extremely', 'eye', 'fabulous', 'face', 'fact', 'factor', 'fail', 'failed', 'failure', 'fair', 'fairly', 'faith', 'fake', 'fall', 'falling', 'familiar', 'family', 'famous', 'fan', 'fantastic', 'fantasy', 'far', 'far away', 'fashion', 'fast', 'faster', 'fat', 'father', 'fault', 'favor', 'favorite', 'favourite', 'fear', 'feature', 'feed', 'feel', 'feel bad', 'feel better', 'feel good', 'feel like', 'feeling', 'fell', 'fell asleep', 'fellow', 'felt', 'felt like', 'female', 'festival', 'fiction', 'field', 'fight', 'fighting', 'figure', 'figured', 'file', 'filled', 'film', 'final', 'finally', 'finally got', 'financial', 'finding', 'fine', 'finger', 'finish', 'finished', 'firework', 'firm', 'fish', 'fit', 'fix', 'fixed', 'flag', 'flash', 'flat', 'flight', 'floor', 'florida', 'flow', 'flower', 'fly', 'flying', 'focus', 'folk', 'follow', 'followed', 'following', 'food', 'fool', 'foot', 'football', 'force', 'forced', 'foreign', 'forever', 'forget', 'forgive', 'forgot', 'forgotten', 'form', 'forth', 'forum', 'forward', 'fourth', 'fox', 'frame', 'france', 'frank', 'freak', 'freakin', 'freaking', 'free', 'freedom', 'french', 'fresh', 'friday', 'friday night', 'friend', 'friendly', 'friendship', 'fruit', 'fry', 'fuck', 'fucked', 'fuckin', 'fucking', 'fully', 'fun', 'function', 'funny', 'future', 'gain', 'gal', 'game', 'garden', 'gas', 'gate', 'gave', 'gay', 'general', 'generally', 'generation', 'genius', 'george', 'george bush', 'german', 'getting', 'ghost', 'giant', 'gift', 'gig', 'girl', 'girlfriend', 'given', 'giving', 'glad', 'glass', 'glory', 'goal', 'god', 'goin', 'going', 'gold', 'golden', 'golf', 'gone', 'gonna', 'good', 'good day', 'good friend', 'good idea', 'good news', 'good night', 'good thing', 'good time', 'goodbye', 'goodness', 'google', 'gorgeous', 'gosh', 'got', 'got home', 'gotta', 'gotten', 'government', 'grab', 'grace', 'grade', 'graduate', 'graduation', 'grand', 'grandma', 'grandmother', 'granted', 'grass', 'great', 'great time', 'greater', 'greatest', 'greek', 'green', 'greg', 'grew', 'grocery', 'gross', 'ground', 'group', 'grow', 'growing', 'grown', 'guard', 'guess', 'guest', 'guide', 'guilty', 'guitar', 'gun', 'gut', 'guy', 'gym', 'ha', 'ha ha', 'habit', 'haha', 'hahaha', 'hair', 'haiz', 'half', 'half hour', 'hall', 'hand', 'handed', 'handle', 'hang', 'hanging', 'happen', 'happened', 'happening', 'happens', 'happiness', 'happy', 'happy birthday', 'hard', 'harder', 'hardly', 'harry', 'harry potter', 'hat', 'hate', 'hated', 'havent', 'head', 'headache', 'headed', 'heading', 'health', 'healthy', 'hear', 'heard', 'hearing', 'heart', 'heat', 'heather', 'heaven', 'heavy', 'heck', 'hee', 'heh', 'hehe', 'hehehe', 'height', 'held', 'hell', 'hello', 'help', 'helped', 'helping', 'hero', 'hey', 'hi', 'hide', 'high', 'high school', 'higher', 'highlight', 'highly', 'hilarious', 'hill', 'hip', 'history', 'hit', 'hitting', 'hmm', 'hmmm', 'hold', 'holding', 'hole', 'holiday', 'hollywood', 'holy', 'home', 'homework', 'honest', 'honestly', 'honor', 'hope', 'hopefully', 'hoping', 'horrible', 'horror', 'horse', 'hospital', 'host', 'hot', 'hotel', 'hour', 'house', 'hr', 'hug', 'huge', 'huh', 'human', 'humor', 'hung', 'hungry', 'hurt', 'husband', 'ice', 'ice cream', 'id', 'idea', 'idiot', 'idol', 'ignore', 'ii', 'ill', 'im', 'im going', 'im gonna', 'image', 'imagine', 'immediately', 'important', 'impossible', 'impressed', 'inch', 'incident', 'include', 'included', 'including', 'increase', 'incredible', 'incredibly', 'india', 'indian', 'individual', 'industry', 'influence', 'info', 'information', 'informed', 'innocent', 'insane', 'inside', 'inspired', 'instance', 'instead', 'insurance', 'intelligence', 'interested', 'interesting', 'international', 'internet', 'interview', 'invite', 'invited', 'involved', 'iraq', 'iraqi', 'ish', 'island', 'isnt', 'issue', 'italian', 'item', 'ive', 'jack', 'jackson', 'james', 'january', 'japan', 'japanese', 'jason', 'jay', 'jazz', 'jealous', 'jean', 'jeff', 'jen', 'jessica', 'jesus', 'jim', 'job', 'joe', 'john', 'john kerry', 'join', 'joined', 'joke', 'jon', 'jones', 'josh', 'journal', 'journey', 'joy', 'judge', 'juice', 'july', 'jump', 'jumped', 'jumper', 'june', 'junior', 'jus', 'justice', 'justin', 'juz', 'ka', 'kate', 'katie', 'keeping', 'kelly', 'kept', 'kerry', 'kevin', 'key', 'keyboard', 'kick', 'kicked', 'kid', 'kidding', 'kill', 'killed', 'killing', 'kind', 'kinda', 'king', 'kiss', 'kitchen', 'knee', 'knew', 'know', 'know going', 'know know', 'know like', 'know mean', 'know people', 'know really', 'know say', 'know think', 'know want', 'knowing', 'knowledge', 'known', 'ko', 'la', 'la la', 'lab', 'lack', 'lady', 'lah', 'laid', 'lake', 'lame', 'land', 'lane', 'lang', 'language', 'lap', 'laptop', 'large', 'late', 'late night', 'lately', 'later', 'latest', 'laugh', 'laughed', 'laughing', 'laughter', 'laundry', 'laura', 'lauren', 'law', 'lawyer', 'lay', 'lazy', 'le', 'lead', 'leader', 'leading', 'leaf', 'league', 'learn', 'learned', 'learning', 'leave', 'leaving', 'led', 'lee', 'left', 'leg', 'legal', 'lesson', 'let', 'let know', 'let say', 'letter', 'letting', 'level', 'liao', 'liberal', 'library', 'license', 'lie', 'life', 'lift', 'light', 'like', 'like going', 'like know', 'like like', 'like people', 'like really', 'like said', 'like think', 'like time', 'liked', 'likely', 'lil', 'limit', 'limited', 'line', 'link', 'lip', 'lisa', 'list', 'listen', 'listened', 'listening', 'lit', 'literally', 'little', 'little bit', 'little girl', 'live', 'lived', 'living', 'lo', 'load', 'local', 'location', 'lock', 'log', 'lol', 'london', 'lonely', 'long', 'long time', 'longer', 'look', 'look like', 'looked', 'looked like', 'looking', 'looking forward', 'loose', 'lor', 'lord', 'los', 'lose', 'loser', 'losing', 'loss', 'lost', 'lot', 'lot fun', 'lot people', 'lot thing', 'loud', 'love', 'love love', 'love love love', 'loved', 'lovely', 'lover', 'loving', 'low', 'lower', 'luck', 'luckily', 'lucky', 'lunch', 'lying', 'lyric', 'mac', 'machine', 'mad', 'magazine', 'magic', 'mail', 'main', 'mainly', 'major', 'majority', 'make', 'make feel', 'make happy', 'make sense', 'make sure', 'making', 'male', 'mall', 'mama', 'man', 'manage', 'managed', 'management', 'manager', 'manner', 'map', 'march', 'mark', 'market', 'marriage', 'married', 'marry', 'mary', 'mass', 'massive', 'master', 'match', 'mate', 'material', 'math', 'matt', 'matter', 'max', 'maybe', 'meal', 'mean', 'meaning', 'meant', 'meat', 'medical', 'medium', 'meet', 'meeting', 'member', 'memory', 'men', 'mental', 'mention', 'mentioned', 'merely', 'mess', 'message', 'messed', 'met', 'metal', 'method', 'mi', 'michael', 'michelle', 'microsoft', 'mid', 'middle', 'midnight', 'mike', 'mile', 'military', 'milk', 'million', 'min', 'mind', 'mini', 'minute', 'mirror', 'miss', 'missed', 'missing', 'mission', 'mistake', 'mix', 'mixed', 'mo', 'mode', 'model', 'modern', 'mom', 'moment', 'monday', 'money', 'monkey', 'monster', 'month', 'month ago', 'mood', 'moon', 'moore', 'moral', 'morning', 'mother', 'mountain', 'mouse', 'mouth', 'moved', 'movement', 'movie', 'moving', 'mr', 'msn', 'multiple', 'mum', 'murder', 'muscle', 'museum', 'music', 'musical', 'mystery', 'na', 'nah', 'nail', 'naked', 'named', 'nap', 'nasty', 'nathan', 'nation', 'national', 'natural', 'naturally', 'nature', 'nay', 'nd', 'ne', 'near', 'nearly', 'necessary', 'neck', 'need', 'needed', 'needle', 'negative', 'neighbor', 'neighborhood', 'nervous', 'net', 'network', 'new', 'new year', 'new york', 'news', 'newspaper', 'ng', 'nice', 'nick', 'night', 'nite', 'noe', 'noise', 'non', 'noon', 'nope', 'normal', 'normally', 'north', 'nose', 'note', 'notice', 'noticed', 'novel', 'november', 'number', 'nut', 'object', 'obvious', 'obviously', 'ocean', 'october', 'odd', 'offer', 'offered', 'office', 'officer', 'official', 'officially', 'oh', 'oh god', 'oh yeah', 'oil', 'ok', 'okay', 'old', 'older', 'omg', 'online', 'open', 'opened', 'opening', 'operation', 'opinion', 'opportunity', 'opposite', 'option', 'orange', 'order', 'ordered', 'organization', 'original', 'originally', 'outside', 'outta', 'overall', 'owner', 'pa', 'pack', 'package', 'packed', 'page', 'paid', 'pain', 'painful', 'paint', 'painting', 'pair', 'pant', 'paper', 'parent', 'park', 'parking', 'particular', 'particularly', 'partner', 'party', 'passed', 'passing', 'passion', 'past', 'past day', 'past week', 'past year', 'pat', 'path', 'pathetic', 'patient', 'pattern', 'paul', 'pay', 'paying', 'pc', 'peace', 'pen', 'penny', 'people', 'people know', 'people like', 'people think', 'percent', 'perfect', 'perfectly', 'performance', 'period', 'person', 'personal', 'personality', 'personally', 'perspective', 'pet', 'peter', 'phone', 'photo', 'phrase', 'physic', 'physical', 'piano', 'pic', 'pick', 'picked', 'picking', 'picture', 'pie', 'piece', 'pig', 'pill', 'pink', 'pirate', 'piss', 'pissed', 'pizza', 'place', 'placed', 'plain', 'plan', 'plane', 'planet', 'planned', 'planning', 'plant', 'plastic', 'plate', 'play', 'played', 'player', 'playing', 'pleasure', 'plenty', 'plot', 'plus', 'pm', 'pocket', 'poem', 'poetry', 'point', 'police', 'policy', 'political', 'politics', 'poll', 'pool', 'poor', 'pop', 'popular', 'population', 'porn', 'position', 'positive', 'possibility', 'possible', 'possibly', 'post', 'posted', 'poster', 'posting', 'pot', 'potato', 'potential', 'potter', 'pound', 'power', 'powerful', 'practice', 'praise', 'pray', 'prayer', 'pre', 'precious', 'prefer', 'pregnant', 'prepare', 'prepared', 'presence', 'present', 'presentation', 'president', 'press', 'pressure', 'pretend', 'pretty', 'pretty cool', 'pretty good', 'previous', 'price', 'pride', 'print', 'prison', 'private', 'prize', 'pro', 'probably', 'problem', 'process', 'product', 'production', 'professional', 'professor', 'profile', 'program', 'progress', 'project', 'promise', 'promised', 'proof', 'proper', 'properly', 'property', 'protect', 'proud', 'prove', 'provide', 'provided', 'public', 'published', 'pull', 'pulled', 'punk', 'purchase', 'pure', 'purple', 'purpose', 'push', 'putting', 'quality', 'quarter', 'que', 'queen', 'question', 'quick', 'quickly', 'quiet', 'quit', 'quite', 'quiz', 'quizilla', 'quote', 'race', 'rachel', 'radio', 'rain', 'raining', 'raise', 'raised', 'ran', 'random', 'range', 'rant', 'rare', 'rate', 'ray', 'rd', 'reach', 'reached', 'reaction', 'read', 'read book', 'reader', 'reading', 'ready', 'reagan', 'real', 'reality', 'realize', 'realized', 'really', 'really bad', 'really care', 'really cool', 'really good', 'really know', 'really like', 'really need', 'really nice', 'really really', 'really think', 'really want', 'reason', 'recall', 'receive', 'received', 'recent', 'recently', 'recognize', 'recommend', 'record', 'red', 'reference', 'refuse', 'regarding', 'regardless', 'regret', 'regular', 'related', 'relationship', 'relative', 'relax', 'release', 'released', 'religion', 'religious', 'remain', 'remember', 'remembered', 'remind', 'reminded', 'reminds', 'rent', 'repeat', 'replied', 'reply', 'report', 'republican', 'request', 'required', 'research', 'resource', 'respect', 'response', 'responsibility', 'responsible', 'rest', 'restaurant', 'result', 'return', 'returned', 'review', 'rice', 'rich', 'richard', 'rick', 'rid', 'ride', 'ridiculous', 'riding', 'right', 'ring', 'rise', 'risk', 'rite', 'river', 'road', 'rob', 'robert', 'robot', 'rock', 'role', 'roll', 'rolling', 'romantic', 'room', 'roommate', 'root', 'rose', 'rough', 'round', 'routine', 'row', 'rude', 'rule', 'run', 'running', 'rush', 'ryan', 'sa', 'sabby', 'sad', 'saddam', 'sadly', 'safe', 'said', 'sake', 'salad', 'sale', 'sam', 'san', 'sand', 'sandwich', 'sang', 'sarah', 'sat', 'saturday', 'saturday night', 'save', 'saved', 'saving', 'saw', 'say', 'saying', 'scale', 'scare', 'scared', 'scary', 'scene', 'sch', 'schedule', 'school', 'science', 'score', 'scott', 'scream', 'screaming', 'screen', 'screw', 'screwed', 'sea', 'sean', 'search', 'searching', 'season', 'seat', 'second', 'secret', 'section', 'security', 'seeing', 'seek', 'seen', 'self', 'selfish', 'sell', 'selling', 'semester', 'semi', 'send', 'sending', 'senior', 'sense', 'sent', 'sentence', 'separate', 'september', 'series', 'seriously', 'serve', 'served', 'server', 'service', 'session', 'set', 'setting', 'seven', 'sex', 'sexual', 'sexy', 'shadow', 'shake', 'shall', 'shame', 'shape', 'share', 'shared', 'sharing', 'sheet', 'shes', 'shift', 'ship', 'shirt', 'shit', 'shitty', 'shock', 'shocked', 'shoe', 'shoot', 'shop', 'shopping', 'short', 'shot', 'shoulder', 'shout', 'showed', 'shower', 'showing', 'shown', 'shut', 'shy', 'si', 'sick', 'sigh', 'sight', 'sign', 'signed', 'significan', 'silence', 'silent', 'silly', 'silver', 'similar', 'simple', 'simply', 'sin', 'sing', 'singapore', 'singer', 'singing', 'single', 'sir', 'sister', 'sit', 'site', 'sitting', 'situation', 'size', 'skill', 'skin', 'skirt', 'sky', 'sleep', 'sleeping', 'sleepy', 'slept', 'slide', 'slightly', 'slip', 'slow', 'slowly', 'small', 'smart', 'smell', 'smile', 'smith', 'smoke', 'smoking', 'snow', 'soccer', 'social', 'society', 'sock', 'soft', 'software', 'sold', 'soldier', 'solid', 'solution', 'somebody', 'someday', 'somewhat', 'son', 'song', 'soo', 'soon', 'sore', 'sorry', 'sort', 'soul', 'sound', 'sound like', 'sounded', 'source', 'south', 'space', 'spanish', 'speak', 'speaker', 'speaking', 'special', 'specific', 'specifically', 'speech', 'speed', 'spell', 'spend', 'spend time', 'spending', 'spent', 'spider', 'spirit', 'spiritual', 'split', 'spoke', 'sport', 'spot', 'spread', 'spring', 'square', 'st', 'staff', 'stage', 'stair', 'stand', 'standard', 'standing', 'star', 'stare', 'staring', 'start', 'started', 'starting', 'state', 'statement', 'station', 'status', 'stay', 'stayed', 'staying', 'steal', 'step', 'steve', 'stick', 'stock', 'stomach', 'stone', 'stood', 'stop', 'stopped', 'store', 'storm', 'story', 'straight', 'strange', 'stranger', 'street', 'strength', 'stress', 'stressed', 'strike', 'string', 'strip', 'strong', 'struggle', 'stuck', 'student', 'studio', 'study', 'studying', 'stuff', 'stuff like', 'stupid', 'style', 'subject', 'success', 'successful', 'suck', 'sucked', 'sudden', 'suddenly', 'suffer', 'suffering', 'sugar', 'suggest', 'suggested', 'suggestion', 'suit', 'sum', 'summer', 'sun', 'sunday', 'sunny', 'super', 'support', 'suppose', 'supposed', 'sure', 'surely', 'surgery', 'surprise', 'surprised', 'survive', 'swear', 'sweat', 'sweet', 'swim', 'swimming', 'swing', 'switch', 'table', 'tag', 'taken', 'taking', 'tale', 'talent', 'talk', 'talked', 'talking', 'tall', 'tan', 'tank', 'tape', 'target', 'task', 'taste', 'tat', 'taught', 'tax', 'tea', 'teach', 'teacher', 'teaching', 'team', 'tear', 'tech', 'technology', 'teen', 'teenager', 'teeth', 'television', 'tell', 'telling', 'template', 'tend', 'tent', 'term', 'terrible', 'terrorist', 'test', 'texas', 'text', 'th', 'thank', 'thank god', 'thanks', 'thats', 'theater', 'theatre', 'theme', 'theory', 'thing', 'thing going', 'thing know', 'thing like', 'thing really', 'thingy', 'think', 'think going', 'think good', 'think know', 'think like', 'think really', 'thinking', 'tho', 'thomas', 'thought', 'thousand', 'threat', 'threw', 'throat', 'throw', 'throwing', 'thrown', 'thursday', 'ticket', 'tie', 'tight', 'til', 'till', 'tim', 'time', 'time got', 'time like', 'time really', 'time think', 'time time', 'time year', 'tiny', 'tip', 'tired', 'title', 'today', 'today day', 'today went', 'toe', 'toilet', 'told', 'tom', 'tomorrow', 'ton', 'tone', 'tongue', 'tonight', 'tony', 'took', 'tool', 'topic', 'total', 'totally', 'touch', 'touched', 'tough', 'tour', 'tower', 'town', 'toy', 'track', 'trade', 'traffic', 'train', 'training', 'trash', 'travel', 'treat', 'treated', 'tree', 'trial', 'trick', 'tried', 'trip', 'trouble', 'truck', 'true', 'truly', 'trust', 'truth', 'try', 'trying', 'tt', 'tuesday', 'tune', 'turn', 'turned', 'turning', 'tv', 'twice', 'twin', 'tyke', 'type', 'typical', 'typing', 'ugh', 'ugly', 'uh', 'um', 'umm', 'unable', 'uncle', 'understand', 'understanding', 'understood', 'unfortunately', 'union', 'unique', 'unit', 'united', 'united state', 'universe', 'university', 'unless', 'unlike', 'update', 'updated', 'ups', 'upset', 'upstairs', 'ur', 'use', 'used', 'useful', 'user', 'using', 'usual', 'usually', 'vacation', 'value', 'van', 'variety', 'various', 'vehicle', 'version', 'victim', 'video', 'video game', 'view', 'village', 'vision', 'visit', 'visited', 'visiting', 'voice', 'vote', 'wad', 'wait', 'waited', 'waiting', 'wake', 'waking', 'walk', 'walked', 'walking', 'wall', 'wan', 'wanna', 'want', 'want know', 'wanted', 'wanting', 'war', 'warm', 'warning', 'wash', 'washington', 'wasnt', 'waste', 'wasted', 'wat', 'watch', 'watched', 'watching', 'water', 'wave', 'way', 'way home', 'weak', 'weapon', 'wear', 'wearing', 'weather', 'web', 'website', 'wedding', 'wednesday', 'week', 'week ago', 'weekend', 'weight', 'weird', 'welcome', 'went', 'went home', 'west', 'wet', 'whats', 'wheel', 'white', 'wide', 'wif', 'wife', 'wild', 'willing', 'win', 'wind', 'window', 'wine', 'wing', 'winner', 'winning', 'winter', 'wisdom', 'wise', 'wish', 'wit', 'woke', 'woman', 'wonder', 'wonderful', 'wondering', 'wont', 'woo', 'wood', 'word', 'wore', 'work', 'worked', 'worker', 'working', 'world', 'worried', 'worry', 'worse', 'worship', 'worst', 'worth', 'wouldnt', 'wow', 'write', 'writer', 'writing', 'written', 'wrong', 'wrote', 'ya', 'yah', 'yahoo', 'yard', 'yay', 'yea', 'yeah', 'year', 'year ago', 'year old', 'yell', 'yelling', 'yellow', 'yes', 'yes yes', 'yesterday', 'yo', 'york', 'young', 'younger', 'youth', 'yr']\n"
          ],
          "name": "stdout"
        }
      ]
    },
    {
      "cell_type": "code",
      "metadata": {
        "id": "NKVWntELivpL"
      },
      "source": [
        "pickle.dump(X, open(\"tfidf.pickle\", \"wb\"))"
      ],
      "execution_count": null,
      "outputs": []
    },
    {
      "cell_type": "code",
      "metadata": {
        "id": "0eRxdpxeSGIR"
      },
      "source": [
        "MB = MultiLabelBinarizer()"
      ],
      "execution_count": null,
      "outputs": []
    },
    {
      "cell_type": "code",
      "metadata": {
        "id": "riVP14lCSKVO"
      },
      "source": [
        "Y=MB.fit_transform(y)"
      ],
      "execution_count": null,
      "outputs": []
    },
    {
      "cell_type": "code",
      "metadata": {
        "colab": {
          "base_uri": "https://localhost:8080/"
        },
        "id": "sdrYThanjfFc",
        "outputId": "68a20419-0302-46c7-e424-9c37024bfc7c"
      },
      "source": [
        "X.shape"
      ],
      "execution_count": null,
      "outputs": [
        {
          "output_type": "execute_result",
          "data": {
            "text/plain": [
              "(50000, 2500)"
            ]
          },
          "metadata": {
            "tags": []
          },
          "execution_count": 143
        }
      ]
    },
    {
      "cell_type": "code",
      "metadata": {
        "id": "bVIGtlfiZxWD"
      },
      "source": [
        "x_train,x_test,y_train,y_test = train_test_split(X,Y,test_size = 0.25, random_state=1)"
      ],
      "execution_count": null,
      "outputs": []
    },
    {
      "cell_type": "code",
      "metadata": {
        "colab": {
          "base_uri": "https://localhost:8080/"
        },
        "id": "PEpFlwxniTTH",
        "outputId": "ae622a61-df11-4519-c5b4-ca3de69a5f27"
      },
      "source": [
        "print(x_train.shape,y_train.shape)\n",
        "print(x_test.shape,y_test.shape)"
      ],
      "execution_count": null,
      "outputs": [
        {
          "output_type": "stream",
          "text": [
            "(37500, 2500) (37500, 57)\n",
            "(12500, 2500) (12500, 57)\n"
          ],
          "name": "stdout"
        }
      ]
    },
    {
      "cell_type": "code",
      "metadata": {
        "colab": {
          "base_uri": "https://localhost:8080/"
        },
        "id": "GgAzTEJaSqzo",
        "outputId": "3d07d294-bd4f-41ce-bc72-80babb158ec0"
      },
      "source": [
        "y_test"
      ],
      "execution_count": null,
      "outputs": [
        {
          "output_type": "execute_result",
          "data": {
            "text/plain": [
              "array([[0, 0, 1, ..., 0, 1, 1],\n",
              "       [0, 1, 0, ..., 1, 0, 0],\n",
              "       [1, 0, 0, ..., 1, 1, 0],\n",
              "       ...,\n",
              "       [1, 0, 0, ..., 1, 0, 0],\n",
              "       [0, 1, 0, ..., 0, 0, 1],\n",
              "       [0, 1, 0, ..., 0, 0, 1]])"
            ]
          },
          "metadata": {
            "tags": []
          },
          "execution_count": 146
        }
      ]
    },
    {
      "cell_type": "markdown",
      "metadata": {
        "id": "dZe82C1fl4Bm"
      },
      "source": [
        "#Model Building"
      ]
    },
    {
      "cell_type": "code",
      "metadata": {
        "colab": {
          "base_uri": "https://localhost:8080/"
        },
        "id": "6I28omLVjYef",
        "outputId": "a3cae682-e929-4f37-ea63-f8293e8b47b8"
      },
      "source": [
        "! pip install scikit-multilearn"
      ],
      "execution_count": null,
      "outputs": [
        {
          "output_type": "stream",
          "text": [
            "Collecting scikit-multilearn\n",
            "\u001b[?25l  Downloading https://files.pythonhosted.org/packages/bb/1f/e6ff649c72a1cdf2c7a1d31eb21705110ce1c5d3e7e26b2cc300e1637272/scikit_multilearn-0.2.0-py3-none-any.whl (89kB)\n",
            "\r\u001b[K     |███▊                            | 10kB 15.4MB/s eta 0:00:01\r\u001b[K     |███████▍                        | 20kB 17.0MB/s eta 0:00:01\r\u001b[K     |███████████                     | 30kB 8.1MB/s eta 0:00:01\r\u001b[K     |██████████████▊                 | 40kB 6.0MB/s eta 0:00:01\r\u001b[K     |██████████████████▍             | 51kB 7.1MB/s eta 0:00:01\r\u001b[K     |██████████████████████          | 61kB 7.2MB/s eta 0:00:01\r\u001b[K     |█████████████████████████▊      | 71kB 7.9MB/s eta 0:00:01\r\u001b[K     |█████████████████████████████▍  | 81kB 7.5MB/s eta 0:00:01\r\u001b[K     |████████████████████████████████| 92kB 4.6MB/s \n",
            "\u001b[?25hInstalling collected packages: scikit-multilearn\n",
            "Successfully installed scikit-multilearn-0.2.0\n"
          ],
          "name": "stdout"
        }
      ]
    },
    {
      "cell_type": "code",
      "metadata": {
        "id": "LWLdv3u08g9K"
      },
      "source": [
        "from sklearn.multiclass import OneVsRestClassifier\n",
        "from skmultilearn.problem_transform import BinaryRelevance, ClassifierChain, LabelPowerset\n",
        "from sklearn.metrics import accuracy_score,classification_report, hamming_loss"
      ],
      "execution_count": null,
      "outputs": []
    },
    {
      "cell_type": "code",
      "metadata": {
        "id": "Nc4Yo0nq8QJR"
      },
      "source": [
        "from sklearn.svm import SVC\n",
        "from sklearn.linear_model import LogisticRegression\n",
        "import xgboost as xgb\n",
        "from sklearn.tree import DecisionTreeClassifier\n",
        "from sklearn.ensemble import RandomForestClassifier\n",
        "from sklearn.naive_bayes import MultinomialNB"
      ],
      "execution_count": null,
      "outputs": []
    },
    {
      "cell_type": "code",
      "metadata": {
        "id": "jWHocVWCBsX9"
      },
      "source": [
        "svc = SVC()\n",
        "lr = LogisticRegression()\n",
        "xgb_c = xgb.XGBClassifier()\n",
        "dt = DecisionTreeClassifier()\n",
        "rfcl = RandomForestClassifier()\n",
        "nb = MultinomialNB()"
      ],
      "execution_count": null,
      "outputs": []
    },
    {
      "cell_type": "markdown",
      "metadata": {
        "id": "XhUXHUtZ43DT"
      },
      "source": [
        "##BinaryRelevance with Naive Bayes"
      ]
    },
    {
      "cell_type": "code",
      "metadata": {
        "colab": {
          "base_uri": "https://localhost:8080/"
        },
        "id": "UVLzSNjGsP3S",
        "outputId": "9dce9a7a-9e10-42a3-e464-5297b9789e9c"
      },
      "source": [
        "BR = BinaryRelevance(nb)\n",
        "BR.fit(x_train,y_train)"
      ],
      "execution_count": null,
      "outputs": [
        {
          "output_type": "execute_result",
          "data": {
            "text/plain": [
              "BinaryRelevance(classifier=MultinomialNB(alpha=1.0, class_prior=None,\n",
              "                                         fit_prior=True),\n",
              "                require_dense=[True, True])"
            ]
          },
          "metadata": {
            "tags": []
          },
          "execution_count": 150
        }
      ]
    },
    {
      "cell_type": "code",
      "metadata": {
        "id": "SvQXnnTNsP5_"
      },
      "source": [
        "pred = BR.predict(x_test)"
      ],
      "execution_count": null,
      "outputs": []
    },
    {
      "cell_type": "code",
      "metadata": {
        "colab": {
          "base_uri": "https://localhost:8080/"
        },
        "id": "mdIOxCj2sP88",
        "outputId": "d69ca88b-38bc-4570-ec0d-ace919f1ff93"
      },
      "source": [
        "accuracy_score(y_test,pred)"
      ],
      "execution_count": null,
      "outputs": [
        {
          "output_type": "execute_result",
          "data": {
            "text/plain": [
              "0.00056"
            ]
          },
          "metadata": {
            "tags": []
          },
          "execution_count": 152
        }
      ]
    },
    {
      "cell_type": "code",
      "metadata": {
        "colab": {
          "base_uri": "https://localhost:8080/"
        },
        "id": "OLgEKio_sQAG",
        "outputId": "307d2412-473a-4324-f3f5-adc26890c9b4"
      },
      "source": [
        "print(classification_report(y_test,pred))"
      ],
      "execution_count": null,
      "outputs": [
        {
          "output_type": "stream",
          "text": [
            "              precision    recall  f1-score   support\n",
            "\n",
            "           0       0.79      0.43      0.56      4396\n",
            "           1       0.59      0.57      0.58      5806\n",
            "           2       0.51      0.08      0.14      2298\n",
            "           3       0.00      0.00      0.00        78\n",
            "           4       0.00      0.00      0.00        91\n",
            "           5       0.00      0.00      0.00        21\n",
            "           6       0.00      0.00      0.00       869\n",
            "           7       0.00      0.00      0.00        33\n",
            "           8       0.00      0.00      0.00      1221\n",
            "           9       0.00      0.00      0.00       589\n",
            "          10       0.00      0.00      0.00        25\n",
            "          11       0.00      0.00      0.00        67\n",
            "          12       0.00      0.00      0.00        34\n",
            "          13       0.00      0.00      0.00        89\n",
            "          14       1.00      0.00      0.00      1238\n",
            "          15       0.00      0.00      0.00       883\n",
            "          16       0.00      0.00      0.00        75\n",
            "          17       0.00      0.00      0.00       401\n",
            "          18       0.00      0.00      0.00        14\n",
            "          19       0.00      0.00      0.00       100\n",
            "          20       0.00      0.00      0.00       594\n",
            "          21       0.00      0.00      0.00       220\n",
            "          22       0.00      0.00      0.00        13\n",
            "          23       0.00      0.00      0.00        83\n",
            "          24       0.00      0.00      0.00       985\n",
            "          25       0.00      0.00      0.00       112\n",
            "          26       0.00      0.00      0.00        56\n",
            "          27       0.00      0.00      0.00       285\n",
            "          28       0.00      0.00      0.00        27\n",
            "          29       0.00      0.00      0.00       172\n",
            "          30       0.00      0.00      0.00        30\n",
            "          31       0.00      0.00      0.00       966\n",
            "          32       0.00      0.00      0.00      1135\n",
            "          33       0.00      0.00      0.00        39\n",
            "          34       0.00      0.00      0.00         2\n",
            "          35       0.00      0.00      0.00        80\n",
            "          36       0.00      0.00      0.00        53\n",
            "          37       0.00      0.00      0.00        43\n",
            "          38       0.00      0.00      0.00       269\n",
            "          39       0.00      0.00      0.00       992\n",
            "          40       0.00      0.00      0.00       151\n",
            "          41       0.00      0.00      0.00        59\n",
            "          42       0.00      0.00      0.00        83\n",
            "          43       0.00      0.00      0.00       918\n",
            "          44       0.00      0.00      0.00       115\n",
            "          45       0.00      0.00      0.00      1019\n",
            "          46       0.00      0.00      0.00        48\n",
            "          47       0.47      0.06      0.11      2812\n",
            "          48       1.00      0.00      0.01      1164\n",
            "          49       0.33      0.00      0.00       748\n",
            "          50       0.00      0.00      0.00        70\n",
            "          51       0.00      0.00      0.00        37\n",
            "          52       0.00      0.00      0.00        40\n",
            "          53       1.00      0.00      0.01      1110\n",
            "          54       0.62      0.66      0.63      6116\n",
            "          55       0.91      0.00      0.01      4642\n",
            "          56       0.65      0.61      0.63      6384\n",
            "\n",
            "   micro avg       0.63      0.27      0.38     50000\n",
            "   macro avg       0.14      0.04      0.05     50000\n",
            "weighted avg       0.51      0.27      0.29     50000\n",
            " samples avg       0.63      0.27      0.37     50000\n",
            "\n"
          ],
          "name": "stdout"
        },
        {
          "output_type": "stream",
          "text": [
            "/usr/local/lib/python3.7/dist-packages/sklearn/metrics/_classification.py:1272: UndefinedMetricWarning: Precision and F-score are ill-defined and being set to 0.0 in labels with no predicted samples. Use `zero_division` parameter to control this behavior.\n",
            "  _warn_prf(average, modifier, msg_start, len(result))\n"
          ],
          "name": "stderr"
        }
      ]
    },
    {
      "cell_type": "code",
      "metadata": {
        "colab": {
          "base_uri": "https://localhost:8080/"
        },
        "id": "ETvMuEYhxNba",
        "outputId": "8ea39043-240d-4958-a85b-87fb21ca1a8f"
      },
      "source": [
        "print(pred[0:5])"
      ],
      "execution_count": null,
      "outputs": [
        {
          "output_type": "stream",
          "text": [
            "  (2, 0)\t1\n",
            "  (4, 0)\t1\n",
            "  (0, 1)\t1\n",
            "  (2, 54)\t1\n",
            "  (4, 54)\t1\n",
            "  (0, 56)\t1\n",
            "  (1, 56)\t1\n",
            "  (3, 56)\t1\n"
          ],
          "name": "stdout"
        }
      ]
    },
    {
      "cell_type": "code",
      "metadata": {
        "colab": {
          "base_uri": "https://localhost:8080/"
        },
        "id": "cZKybt0DxNnX",
        "outputId": "25d488a1-441f-4222-8b78-46e524dfd51a"
      },
      "source": [
        "print(y_test[:5])"
      ],
      "execution_count": null,
      "outputs": [
        {
          "output_type": "stream",
          "text": [
            "[[0 0 1 0 0 0 0 0 0 0 0 0 0 0 0 0 0 0 0 0 0 0 0 0 0 0 0 0 0 0 0 0 1 0 0 0\n",
            "  0 0 0 0 0 0 0 0 0 0 0 0 0 0 0 0 0 0 0 1 1]\n",
            " [0 1 0 0 0 0 0 0 0 0 0 0 0 0 0 0 0 0 0 0 0 0 0 0 0 0 0 0 0 0 0 0 0 0 0 0\n",
            "  0 0 0 0 0 0 0 0 0 1 0 1 0 0 0 0 0 0 1 0 0]\n",
            " [1 0 0 0 0 0 0 0 1 0 0 0 0 0 0 0 0 0 0 0 0 0 0 0 0 0 0 0 0 0 0 0 0 0 0 0\n",
            "  0 0 0 0 0 0 0 0 0 0 0 0 0 0 0 0 0 0 1 1 0]\n",
            " [0 1 0 0 0 0 0 0 0 0 0 0 0 0 1 0 0 0 0 0 0 0 0 1 0 0 0 0 0 0 0 0 0 0 0 0\n",
            "  0 0 0 0 0 0 0 0 0 0 0 0 0 0 0 0 0 0 0 0 1]\n",
            " [1 0 0 0 0 0 0 0 0 0 0 0 0 0 0 0 0 0 0 0 0 0 0 0 1 0 0 0 0 0 0 0 0 0 0 0\n",
            "  0 0 1 0 0 0 0 0 0 0 0 0 0 0 0 0 0 0 0 0 1]]\n"
          ],
          "name": "stdout"
        }
      ]
    },
    {
      "cell_type": "markdown",
      "metadata": {
        "id": "TXYw0MWzsQy4"
      },
      "source": [
        "##Random Forest techinique"
      ]
    },
    {
      "cell_type": "code",
      "metadata": {
        "id": "vjgv5pz8RfBN",
        "colab": {
          "base_uri": "https://localhost:8080/"
        },
        "outputId": "f73ac6c1-7e80-4fb7-c7ba-6a98434d7769"
      },
      "source": [
        "ovr = OneVsRestClassifier(rfcl)\n",
        "ovr.fit(x_train,y_train)"
      ],
      "execution_count": null,
      "outputs": [
        {
          "output_type": "execute_result",
          "data": {
            "text/plain": [
              "OneVsRestClassifier(estimator=RandomForestClassifier(bootstrap=True,\n",
              "                                                     ccp_alpha=0.0,\n",
              "                                                     class_weight=None,\n",
              "                                                     criterion='gini',\n",
              "                                                     max_depth=None,\n",
              "                                                     max_features='auto',\n",
              "                                                     max_leaf_nodes=None,\n",
              "                                                     max_samples=None,\n",
              "                                                     min_impurity_decrease=0.0,\n",
              "                                                     min_impurity_split=None,\n",
              "                                                     min_samples_leaf=1,\n",
              "                                                     min_samples_split=2,\n",
              "                                                     min_weight_fraction_leaf=0.0,\n",
              "                                                     n_estimators=100,\n",
              "                                                     n_jobs=None,\n",
              "                                                     oob_score=False,\n",
              "                                                     random_state=None,\n",
              "                                                     verbose=0,\n",
              "                                                     warm_start=False),\n",
              "                    n_jobs=None)"
            ]
          },
          "metadata": {
            "tags": []
          },
          "execution_count": 269
        }
      ]
    },
    {
      "cell_type": "code",
      "metadata": {
        "id": "EV9a-tglWnjp"
      },
      "source": [
        "predictions = ovr.predict(x_test)"
      ],
      "execution_count": null,
      "outputs": []
    },
    {
      "cell_type": "code",
      "metadata": {
        "id": "zG9XgMzJWnlZ",
        "colab": {
          "base_uri": "https://localhost:8080/"
        },
        "outputId": "3f432ce9-4fb8-49bf-a715-eac4401cd361"
      },
      "source": [
        "print(accuracy_score(y_test, predictions))"
      ],
      "execution_count": null,
      "outputs": [
        {
          "output_type": "stream",
          "text": [
            "0.00584\n"
          ],
          "name": "stdout"
        }
      ]
    },
    {
      "cell_type": "code",
      "metadata": {
        "id": "pVOEn5aJWnpT",
        "colab": {
          "base_uri": "https://localhost:8080/"
        },
        "outputId": "e34ef188-a09a-4003-8cb8-e8fb85574ed8"
      },
      "source": [
        "print(classification_report(y_test, predictions))"
      ],
      "execution_count": null,
      "outputs": [
        {
          "output_type": "stream",
          "text": [
            "              precision    recall  f1-score   support\n",
            "\n",
            "           0       0.75      0.46      0.57      4333\n",
            "           1       0.60      0.59      0.60      5890\n",
            "           2       0.62      0.05      0.09      2277\n",
            "           3       0.00      0.00      0.00        77\n",
            "           4       0.00      0.00      0.00       100\n",
            "           5       0.00      0.00      0.00        23\n",
            "           6       0.21      0.02      0.03       873\n",
            "           7       0.00      0.00      0.00        22\n",
            "           8       0.14      0.01      0.02      1215\n",
            "           9       0.14      0.01      0.02       654\n",
            "          10       0.00      0.00      0.00        24\n",
            "          11       0.00      0.00      0.00        69\n",
            "          12       0.00      0.00      0.00        41\n",
            "          13       0.00      0.00      0.00        73\n",
            "          14       0.26      0.03      0.05      1181\n",
            "          15       0.07      0.01      0.01       892\n",
            "          16       0.00      0.00      0.00        69\n",
            "          17       0.07      0.01      0.01       366\n",
            "          18       0.00      0.00      0.00        17\n",
            "          19       0.00      0.00      0.00       101\n",
            "          20       0.16      0.01      0.03       535\n",
            "          21       0.18      0.01      0.02       197\n",
            "          22       0.00      0.00      0.00        12\n",
            "          23       0.00      0.00      0.00       102\n",
            "          24       0.22      0.02      0.03       936\n",
            "          25       0.09      0.01      0.02       120\n",
            "          26       0.00      0.00      0.00        72\n",
            "          27       0.12      0.01      0.02       303\n",
            "          28       0.00      0.00      0.00        24\n",
            "          29       0.00      0.00      0.00       174\n",
            "          30       0.00      0.00      0.00        38\n",
            "          31       0.23      0.02      0.03      1022\n",
            "          32       0.07      0.01      0.01      1166\n",
            "          33       0.00      0.00      0.00        34\n",
            "          34       0.00      0.00      0.00         6\n",
            "          35       0.00      0.00      0.00        79\n",
            "          36       0.00      0.00      0.00        54\n",
            "          37       0.00      0.00      0.00        57\n",
            "          38       0.00      0.00      0.00       260\n",
            "          39       0.16      0.01      0.03       957\n",
            "          40       0.00      0.00      0.00       146\n",
            "          41       0.00      0.00      0.00        54\n",
            "          42       0.00      0.00      0.00       100\n",
            "          43       0.15      0.01      0.02       963\n",
            "          44       0.11      0.01      0.01       130\n",
            "          45       0.12      0.01      0.02      1040\n",
            "          46       0.00      0.00      0.00        49\n",
            "          47       0.40      0.04      0.07      2873\n",
            "          48       0.25      0.03      0.05      1188\n",
            "          49       0.26      0.02      0.03       761\n",
            "          50       0.20      0.02      0.03        61\n",
            "          51       0.00      0.00      0.00        44\n",
            "          52       0.80      0.09      0.17        43\n",
            "          53       0.11      0.01      0.02      1067\n",
            "          54       0.62      0.62      0.62      6150\n",
            "          55       0.43      0.08      0.13      4536\n",
            "          56       0.64      0.62      0.63      6350\n",
            "\n",
            "   micro avg       0.60      0.28      0.38     50000\n",
            "   macro avg       0.14      0.05      0.06     50000\n",
            "weighted avg       0.44      0.28      0.30     50000\n",
            " samples avg       0.60      0.28      0.37     50000\n",
            "\n"
          ],
          "name": "stdout"
        },
        {
          "output_type": "stream",
          "text": [
            "/usr/local/lib/python3.7/dist-packages/sklearn/metrics/_classification.py:1272: UndefinedMetricWarning: Precision and F-score are ill-defined and being set to 0.0 in labels with no predicted samples. Use `zero_division` parameter to control this behavior.\n",
            "  _warn_prf(average, modifier, msg_start, len(result))\n",
            "/usr/local/lib/python3.7/dist-packages/sklearn/metrics/_classification.py:1272: UndefinedMetricWarning: Precision and F-score are ill-defined and being set to 0.0 in samples with no predicted labels. Use `zero_division` parameter to control this behavior.\n",
            "  _warn_prf(average, modifier, msg_start, len(result))\n"
          ],
          "name": "stderr"
        }
      ]
    },
    {
      "cell_type": "markdown",
      "metadata": {
        "id": "KXTaBOXs4n50"
      },
      "source": [
        "##Label PowerSet with Decision Tree"
      ]
    },
    {
      "cell_type": "code",
      "metadata": {
        "id": "tHv5JBlc2-9j",
        "colab": {
          "base_uri": "https://localhost:8080/"
        },
        "outputId": "559ff017-4103-464a-b5f1-8c354a9d27d3"
      },
      "source": [
        "lps = LabelPowerset(dt)\n",
        "lps.fit(x_train,y_train)"
      ],
      "execution_count": null,
      "outputs": [
        {
          "output_type": "execute_result",
          "data": {
            "text/plain": [
              "LabelPowerset(classifier=DecisionTreeClassifier(ccp_alpha=0.0,\n",
              "                                                class_weight=None,\n",
              "                                                criterion='gini',\n",
              "                                                max_depth=None,\n",
              "                                                max_features=None,\n",
              "                                                max_leaf_nodes=None,\n",
              "                                                min_impurity_decrease=0.0,\n",
              "                                                min_impurity_split=None,\n",
              "                                                min_samples_leaf=1,\n",
              "                                                min_samples_split=2,\n",
              "                                                min_weight_fraction_leaf=0.0,\n",
              "                                                presort='deprecated',\n",
              "                                                random_state=None,\n",
              "                                                splitter='best'),\n",
              "              require_dense=[True, True])"
            ]
          },
          "metadata": {
            "tags": []
          },
          "execution_count": 157
        }
      ]
    },
    {
      "cell_type": "code",
      "metadata": {
        "id": "n6cuGtDL2_O5"
      },
      "source": [
        "predict = lps.predict(x_test)"
      ],
      "execution_count": null,
      "outputs": []
    },
    {
      "cell_type": "code",
      "metadata": {
        "id": "hhiFt97h2_Rw",
        "colab": {
          "base_uri": "https://localhost:8080/"
        },
        "outputId": "b18f5561-adfe-40d0-e8c7-35cdf0e9a1ab"
      },
      "source": [
        "accuracy_score(y_test,predict)"
      ],
      "execution_count": null,
      "outputs": [
        {
          "output_type": "execute_result",
          "data": {
            "text/plain": [
              "0.02416"
            ]
          },
          "metadata": {
            "tags": []
          },
          "execution_count": 161
        }
      ]
    },
    {
      "cell_type": "code",
      "metadata": {
        "id": "vKxjNjd2Wnqp",
        "colab": {
          "base_uri": "https://localhost:8080/"
        },
        "outputId": "db80c831-be82-4d65-8fe4-b1064ab45c7d"
      },
      "source": [
        "print(classification_report(y_test,pred))"
      ],
      "execution_count": null,
      "outputs": [
        {
          "output_type": "stream",
          "text": [
            "              precision    recall  f1-score   support\n",
            "\n",
            "           0       0.79      0.43      0.56      4396\n",
            "           1       0.59      0.57      0.58      5806\n",
            "           2       0.51      0.08      0.14      2298\n",
            "           3       0.00      0.00      0.00        78\n",
            "           4       0.00      0.00      0.00        91\n",
            "           5       0.00      0.00      0.00        21\n",
            "           6       0.00      0.00      0.00       869\n",
            "           7       0.00      0.00      0.00        33\n",
            "           8       0.00      0.00      0.00      1221\n",
            "           9       0.00      0.00      0.00       589\n",
            "          10       0.00      0.00      0.00        25\n",
            "          11       0.00      0.00      0.00        67\n",
            "          12       0.00      0.00      0.00        34\n",
            "          13       0.00      0.00      0.00        89\n",
            "          14       1.00      0.00      0.00      1238\n",
            "          15       0.00      0.00      0.00       883\n",
            "          16       0.00      0.00      0.00        75\n",
            "          17       0.00      0.00      0.00       401\n",
            "          18       0.00      0.00      0.00        14\n",
            "          19       0.00      0.00      0.00       100\n",
            "          20       0.00      0.00      0.00       594\n",
            "          21       0.00      0.00      0.00       220\n",
            "          22       0.00      0.00      0.00        13\n",
            "          23       0.00      0.00      0.00        83\n",
            "          24       0.00      0.00      0.00       985\n",
            "          25       0.00      0.00      0.00       112\n",
            "          26       0.00      0.00      0.00        56\n",
            "          27       0.00      0.00      0.00       285\n",
            "          28       0.00      0.00      0.00        27\n",
            "          29       0.00      0.00      0.00       172\n",
            "          30       0.00      0.00      0.00        30\n",
            "          31       0.00      0.00      0.00       966\n",
            "          32       0.00      0.00      0.00      1135\n",
            "          33       0.00      0.00      0.00        39\n",
            "          34       0.00      0.00      0.00         2\n",
            "          35       0.00      0.00      0.00        80\n",
            "          36       0.00      0.00      0.00        53\n",
            "          37       0.00      0.00      0.00        43\n",
            "          38       0.00      0.00      0.00       269\n",
            "          39       0.00      0.00      0.00       992\n",
            "          40       0.00      0.00      0.00       151\n",
            "          41       0.00      0.00      0.00        59\n",
            "          42       0.00      0.00      0.00        83\n",
            "          43       0.00      0.00      0.00       918\n",
            "          44       0.00      0.00      0.00       115\n",
            "          45       0.00      0.00      0.00      1019\n",
            "          46       0.00      0.00      0.00        48\n",
            "          47       0.47      0.06      0.11      2812\n",
            "          48       1.00      0.00      0.01      1164\n",
            "          49       0.33      0.00      0.00       748\n",
            "          50       0.00      0.00      0.00        70\n",
            "          51       0.00      0.00      0.00        37\n",
            "          52       0.00      0.00      0.00        40\n",
            "          53       1.00      0.00      0.01      1110\n",
            "          54       0.62      0.66      0.63      6116\n",
            "          55       0.91      0.00      0.01      4642\n",
            "          56       0.65      0.61      0.63      6384\n",
            "\n",
            "   micro avg       0.63      0.27      0.38     50000\n",
            "   macro avg       0.14      0.04      0.05     50000\n",
            "weighted avg       0.51      0.27      0.29     50000\n",
            " samples avg       0.63      0.27      0.37     50000\n",
            "\n"
          ],
          "name": "stdout"
        },
        {
          "output_type": "stream",
          "text": [
            "/usr/local/lib/python3.7/dist-packages/sklearn/metrics/_classification.py:1272: UndefinedMetricWarning: Precision and F-score are ill-defined and being set to 0.0 in labels with no predicted samples. Use `zero_division` parameter to control this behavior.\n",
            "  _warn_prf(average, modifier, msg_start, len(result))\n"
          ],
          "name": "stderr"
        }
      ]
    },
    {
      "cell_type": "code",
      "metadata": {
        "id": "YUzywqlny6u8"
      },
      "source": [
        ""
      ],
      "execution_count": null,
      "outputs": []
    },
    {
      "cell_type": "markdown",
      "metadata": {
        "id": "yAPUTHy4nR8e"
      },
      "source": [
        "** All these model doest not give as better accuracy.Hence tried using SVC model and Neural network in different files. Please look into it.**\n",
        "\n",
        "File Names:\n",
        " \n",
        " 1) AIML_R8_Project1_OneVsRest_SVC.\n",
        " 2) AIML_R8_Project1_Word_Embeddings_with_DNN_chatbot."
      ]
    }
  ]
}