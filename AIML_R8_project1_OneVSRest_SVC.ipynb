{
  "nbformat": 4,
  "nbformat_minor": 0,
  "metadata": {
    "colab": {
      "name": "AIML_R8_project1_OneVSRest_SVC.ipynb",
      "provenance": [],
      "collapsed_sections": []
    },
    "kernelspec": {
      "display_name": "Python 3",
      "name": "python3"
    },
    "language_info": {
      "name": "python"
    }
  },
  "cells": [
    {
      "cell_type": "code",
      "metadata": {
        "id": "YBTFz-Pmz35p"
      },
      "source": [
        "from IPython.core.interactiveshell import InteractiveShell\n",
        "InteractiveShell.ast_node_interactivity = \"all\""
      ],
      "execution_count": null,
      "outputs": []
    },
    {
      "cell_type": "code",
      "metadata": {
        "id": "bHaiiR8V4VoD"
      },
      "source": [
        "%matplotlib inline\n",
        "import pandas as pd\n",
        "import os\n",
        "import matplotlib.pyplot as plt\n",
        "import seaborn as sns"
      ],
      "execution_count": null,
      "outputs": []
    },
    {
      "cell_type": "code",
      "metadata": {
        "colab": {
          "base_uri": "https://localhost:8080/"
        },
        "id": "1dSr6ivj4V48",
        "outputId": "939e57b1-b0dd-42c3-9a33-4080b0309783"
      },
      "source": [
        "from google.colab import drive\n",
        "drive.mount('/content/drive')"
      ],
      "execution_count": null,
      "outputs": [
        {
          "output_type": "stream",
          "text": [
            "Mounted at /content/drive\n"
          ],
          "name": "stdout"
        }
      ]
    },
    {
      "cell_type": "code",
      "metadata": {
        "id": "NrKJXY1q4V7b"
      },
      "source": [
        "blog = pd.read_csv('/content/drive/MyDrive/Dataset - blogtext.csv')"
      ],
      "execution_count": null,
      "outputs": []
    },
    {
      "cell_type": "code",
      "metadata": {
        "colab": {
          "base_uri": "https://localhost:8080/"
        },
        "id": "0d8DSAHJ4V-Q",
        "outputId": "0442ce31-7dea-40b4-fa1f-2e043a758e39"
      },
      "source": [
        "blog.shape"
      ],
      "execution_count": null,
      "outputs": [
        {
          "output_type": "execute_result",
          "data": {
            "text/plain": [
              "(681284, 7)"
            ]
          },
          "metadata": {
            "tags": []
          },
          "execution_count": 7
        }
      ]
    },
    {
      "cell_type": "code",
      "metadata": {
        "colab": {
          "base_uri": "https://localhost:8080/",
          "height": 343
        },
        "id": "6HLNM8OT4krl",
        "outputId": "55441df0-94b6-45b0-90b3-d25ce81287ed"
      },
      "source": [
        "blog.head(10)"
      ],
      "execution_count": null,
      "outputs": [
        {
          "output_type": "execute_result",
          "data": {
            "text/html": [
              "<div>\n",
              "<style scoped>\n",
              "    .dataframe tbody tr th:only-of-type {\n",
              "        vertical-align: middle;\n",
              "    }\n",
              "\n",
              "    .dataframe tbody tr th {\n",
              "        vertical-align: top;\n",
              "    }\n",
              "\n",
              "    .dataframe thead th {\n",
              "        text-align: right;\n",
              "    }\n",
              "</style>\n",
              "<table border=\"1\" class=\"dataframe\">\n",
              "  <thead>\n",
              "    <tr style=\"text-align: right;\">\n",
              "      <th></th>\n",
              "      <th>id</th>\n",
              "      <th>gender</th>\n",
              "      <th>age</th>\n",
              "      <th>topic</th>\n",
              "      <th>sign</th>\n",
              "      <th>date</th>\n",
              "      <th>text</th>\n",
              "    </tr>\n",
              "  </thead>\n",
              "  <tbody>\n",
              "    <tr>\n",
              "      <th>0</th>\n",
              "      <td>2059027</td>\n",
              "      <td>male</td>\n",
              "      <td>15</td>\n",
              "      <td>Student</td>\n",
              "      <td>Leo</td>\n",
              "      <td>14,May,2004</td>\n",
              "      <td>Info has been found (+/- 100 pages,...</td>\n",
              "    </tr>\n",
              "    <tr>\n",
              "      <th>1</th>\n",
              "      <td>2059027</td>\n",
              "      <td>male</td>\n",
              "      <td>15</td>\n",
              "      <td>Student</td>\n",
              "      <td>Leo</td>\n",
              "      <td>13,May,2004</td>\n",
              "      <td>These are the team members:   Drewe...</td>\n",
              "    </tr>\n",
              "    <tr>\n",
              "      <th>2</th>\n",
              "      <td>2059027</td>\n",
              "      <td>male</td>\n",
              "      <td>15</td>\n",
              "      <td>Student</td>\n",
              "      <td>Leo</td>\n",
              "      <td>12,May,2004</td>\n",
              "      <td>In het kader van kernfusie op aarde...</td>\n",
              "    </tr>\n",
              "    <tr>\n",
              "      <th>3</th>\n",
              "      <td>2059027</td>\n",
              "      <td>male</td>\n",
              "      <td>15</td>\n",
              "      <td>Student</td>\n",
              "      <td>Leo</td>\n",
              "      <td>12,May,2004</td>\n",
              "      <td>testing!!!  testing!!!</td>\n",
              "    </tr>\n",
              "    <tr>\n",
              "      <th>4</th>\n",
              "      <td>3581210</td>\n",
              "      <td>male</td>\n",
              "      <td>33</td>\n",
              "      <td>InvestmentBanking</td>\n",
              "      <td>Aquarius</td>\n",
              "      <td>11,June,2004</td>\n",
              "      <td>Thanks to Yahoo!'s Toolbar I can ...</td>\n",
              "    </tr>\n",
              "    <tr>\n",
              "      <th>5</th>\n",
              "      <td>3581210</td>\n",
              "      <td>male</td>\n",
              "      <td>33</td>\n",
              "      <td>InvestmentBanking</td>\n",
              "      <td>Aquarius</td>\n",
              "      <td>10,June,2004</td>\n",
              "      <td>I had an interesting conversation...</td>\n",
              "    </tr>\n",
              "    <tr>\n",
              "      <th>6</th>\n",
              "      <td>3581210</td>\n",
              "      <td>male</td>\n",
              "      <td>33</td>\n",
              "      <td>InvestmentBanking</td>\n",
              "      <td>Aquarius</td>\n",
              "      <td>10,June,2004</td>\n",
              "      <td>Somehow Coca-Cola has a way of su...</td>\n",
              "    </tr>\n",
              "    <tr>\n",
              "      <th>7</th>\n",
              "      <td>3581210</td>\n",
              "      <td>male</td>\n",
              "      <td>33</td>\n",
              "      <td>InvestmentBanking</td>\n",
              "      <td>Aquarius</td>\n",
              "      <td>10,June,2004</td>\n",
              "      <td>If anything, Korea is a country o...</td>\n",
              "    </tr>\n",
              "    <tr>\n",
              "      <th>8</th>\n",
              "      <td>3581210</td>\n",
              "      <td>male</td>\n",
              "      <td>33</td>\n",
              "      <td>InvestmentBanking</td>\n",
              "      <td>Aquarius</td>\n",
              "      <td>10,June,2004</td>\n",
              "      <td>Take a read of this news article ...</td>\n",
              "    </tr>\n",
              "    <tr>\n",
              "      <th>9</th>\n",
              "      <td>3581210</td>\n",
              "      <td>male</td>\n",
              "      <td>33</td>\n",
              "      <td>InvestmentBanking</td>\n",
              "      <td>Aquarius</td>\n",
              "      <td>09,June,2004</td>\n",
              "      <td>I surf the English news sites a l...</td>\n",
              "    </tr>\n",
              "  </tbody>\n",
              "</table>\n",
              "</div>"
            ],
            "text/plain": [
              "        id  ...                                               text\n",
              "0  2059027  ...             Info has been found (+/- 100 pages,...\n",
              "1  2059027  ...             These are the team members:   Drewe...\n",
              "2  2059027  ...             In het kader van kernfusie op aarde...\n",
              "3  2059027  ...                   testing!!!  testing!!!          \n",
              "4  3581210  ...               Thanks to Yahoo!'s Toolbar I can ...\n",
              "5  3581210  ...               I had an interesting conversation...\n",
              "6  3581210  ...               Somehow Coca-Cola has a way of su...\n",
              "7  3581210  ...               If anything, Korea is a country o...\n",
              "8  3581210  ...               Take a read of this news article ...\n",
              "9  3581210  ...               I surf the English news sites a l...\n",
              "\n",
              "[10 rows x 7 columns]"
            ]
          },
          "metadata": {
            "tags": []
          },
          "execution_count": 8
        }
      ]
    },
    {
      "cell_type": "code",
      "metadata": {
        "id": "sahQnDEf4lSY"
      },
      "source": [
        "## Converting the age column into age_group column with three groups(10s,20s,30s) as mentioned the given problem statement.\n",
        "blog['age_group'] = blog['age'].apply(lambda x: '30s' if x>28 else ('10s' if x<20 else '20s'))"
      ],
      "execution_count": null,
      "outputs": []
    },
    {
      "cell_type": "code",
      "metadata": {
        "id": "Le4iTSg74lU0"
      },
      "source": [
        "blog.drop('age',axis=1, inplace= True)## dropping the age column"
      ],
      "execution_count": null,
      "outputs": []
    },
    {
      "cell_type": "markdown",
      "metadata": {
        "id": "POCvIirt4lX0"
      },
      "source": [
        "**Tried using the full dataset but unsuccessul. Either the system is crashing or it is running more than a day for training. Hence, proceeding with subset of 30k rows.**"
      ]
    },
    {
      "cell_type": "code",
      "metadata": {
        "id": "cQZpuGo84laS"
      },
      "source": [
        "blog_df = blog.head(30000).reset_index(drop=True)"
      ],
      "execution_count": null,
      "outputs": []
    },
    {
      "cell_type": "code",
      "metadata": {
        "id": "hvLOXH7t4lc8"
      },
      "source": [
        "## removing unnecessary columns which are blogger id, date:\n",
        "\n",
        "blog_df.drop(['id','date'],axis=1,inplace=True)"
      ],
      "execution_count": null,
      "outputs": []
    },
    {
      "cell_type": "code",
      "metadata": {
        "colab": {
          "base_uri": "https://localhost:8080/"
        },
        "id": "l4M90ARL9Xhv",
        "outputId": "fe10eb41-6aa1-46ea-a9ce-001f473836be"
      },
      "source": [
        "print(blog_df['text'][2100])"
      ],
      "execution_count": null,
      "outputs": [
        {
          "output_type": "stream",
          "text": [
            "           that is the funniest thing i have heard in a long time, final.           \n"
          ],
          "name": "stdout"
        }
      ]
    },
    {
      "cell_type": "code",
      "metadata": {
        "colab": {
          "base_uri": "https://localhost:8080/",
          "height": 195
        },
        "id": "UDqmKjDW61wy",
        "outputId": "b1e6920f-22f5-476c-914c-69a8c61b5d61"
      },
      "source": [
        "blog_df.head()"
      ],
      "execution_count": null,
      "outputs": [
        {
          "output_type": "execute_result",
          "data": {
            "text/html": [
              "<div>\n",
              "<style scoped>\n",
              "    .dataframe tbody tr th:only-of-type {\n",
              "        vertical-align: middle;\n",
              "    }\n",
              "\n",
              "    .dataframe tbody tr th {\n",
              "        vertical-align: top;\n",
              "    }\n",
              "\n",
              "    .dataframe thead th {\n",
              "        text-align: right;\n",
              "    }\n",
              "</style>\n",
              "<table border=\"1\" class=\"dataframe\">\n",
              "  <thead>\n",
              "    <tr style=\"text-align: right;\">\n",
              "      <th></th>\n",
              "      <th>gender</th>\n",
              "      <th>topic</th>\n",
              "      <th>sign</th>\n",
              "      <th>text</th>\n",
              "      <th>age_group</th>\n",
              "    </tr>\n",
              "  </thead>\n",
              "  <tbody>\n",
              "    <tr>\n",
              "      <th>0</th>\n",
              "      <td>male</td>\n",
              "      <td>Student</td>\n",
              "      <td>Leo</td>\n",
              "      <td>Info has been found (+/- 100 pages,...</td>\n",
              "      <td>10s</td>\n",
              "    </tr>\n",
              "    <tr>\n",
              "      <th>1</th>\n",
              "      <td>male</td>\n",
              "      <td>Student</td>\n",
              "      <td>Leo</td>\n",
              "      <td>These are the team members:   Drewe...</td>\n",
              "      <td>10s</td>\n",
              "    </tr>\n",
              "    <tr>\n",
              "      <th>2</th>\n",
              "      <td>male</td>\n",
              "      <td>Student</td>\n",
              "      <td>Leo</td>\n",
              "      <td>In het kader van kernfusie op aarde...</td>\n",
              "      <td>10s</td>\n",
              "    </tr>\n",
              "    <tr>\n",
              "      <th>3</th>\n",
              "      <td>male</td>\n",
              "      <td>Student</td>\n",
              "      <td>Leo</td>\n",
              "      <td>testing!!!  testing!!!</td>\n",
              "      <td>10s</td>\n",
              "    </tr>\n",
              "    <tr>\n",
              "      <th>4</th>\n",
              "      <td>male</td>\n",
              "      <td>InvestmentBanking</td>\n",
              "      <td>Aquarius</td>\n",
              "      <td>Thanks to Yahoo!'s Toolbar I can ...</td>\n",
              "      <td>30s</td>\n",
              "    </tr>\n",
              "  </tbody>\n",
              "</table>\n",
              "</div>"
            ],
            "text/plain": [
              "  gender  ... age_group\n",
              "0   male  ...       10s\n",
              "1   male  ...       10s\n",
              "2   male  ...       10s\n",
              "3   male  ...       10s\n",
              "4   male  ...       30s\n",
              "\n",
              "[5 rows x 5 columns]"
            ]
          },
          "metadata": {
            "tags": []
          },
          "execution_count": 14
        }
      ]
    },
    {
      "cell_type": "code",
      "metadata": {
        "id": "X3mJz1xG4lfe"
      },
      "source": [
        "import re\n",
        "from bs4 import BeautifulSoup"
      ],
      "execution_count": null,
      "outputs": []
    },
    {
      "cell_type": "code",
      "metadata": {
        "id": "Wj4epJkj4lhp"
      },
      "source": [
        "blog_df['text'] = blog_df['text'].apply(lambda x: BeautifulSoup(x).get_text())"
      ],
      "execution_count": null,
      "outputs": []
    },
    {
      "cell_type": "code",
      "metadata": {
        "id": "Tn9fulY14lkP"
      },
      "source": [
        "blog_df['text'] = blog_df['text'].apply(lambda x: re.sub(r'https?:\\/\\/.\\S+', \" \",x)) ## removes the http: links"
      ],
      "execution_count": null,
      "outputs": []
    },
    {
      "cell_type": "code",
      "metadata": {
        "id": "V7bxlADW5T6v"
      },
      "source": [
        "blog_df['text']= blog_df['text'].apply(lambda x: re.sub(r\"\\b[^\\s]+@[^\\s]+[.][^\\s]+\\b\", \" \",x)) ## removing email id's"
      ],
      "execution_count": null,
      "outputs": []
    },
    {
      "cell_type": "code",
      "metadata": {
        "id": "mDdI07ws5Wst"
      },
      "source": [
        "blog_df['text'] = blog_df['text'].replace('urlLink',' ',regex=True) ## removing the word urlLink"
      ],
      "execution_count": null,
      "outputs": []
    },
    {
      "cell_type": "code",
      "metadata": {
        "id": "cS6T-y2C5ZtZ"
      },
      "source": [
        "blog_df['text'] = blog_df['text'].apply(lambda x: re.sub(r'''(?i)\\b((?:https?://|www\\d{0,3}[.]|[a-z0-9.\\-]+[.][a-z]{2,4}/)(?:[^\\s()<>]+|\\(([^\\s()<>]+|(\\([^\\s()<>]+\\)))*\\))+(?:\\(([^\\s()<>]+|(\\([^\\s()<>]+\\)))*\\)|[^\\s`!()\\[\\]{};:'\".,<>?«»“”‘’]))''', \" \", x))"
      ],
      "execution_count": null,
      "outputs": []
    },
    {
      "cell_type": "code",
      "metadata": {
        "id": "Rl3xRdNu5mPG"
      },
      "source": [
        "blog_df['text'] = blog_df['text'].apply(lambda x: str(x).lower())"
      ],
      "execution_count": null,
      "outputs": []
    },
    {
      "cell_type": "code",
      "metadata": {
        "id": "BQgCm3Cx5pJY"
      },
      "source": [
        "blog_df['text'] = blog_df['text'].replace('[^\\w\\s]',' ',regex= True)"
      ],
      "execution_count": null,
      "outputs": []
    },
    {
      "cell_type": "code",
      "metadata": {
        "id": "v6BwWKNR5xlt"
      },
      "source": [
        "blog_df['text'] = blog_df['text'].apply(lambda x: re.sub(\"[^a-zA-Z]\",\" \",x))"
      ],
      "execution_count": null,
      "outputs": []
    },
    {
      "cell_type": "code",
      "metadata": {
        "id": "0Va9kQG15zoX"
      },
      "source": [
        "def short_form(text):\n",
        "  text = re.sub(r\"what's\", \"what is \", text)\n",
        "  text = re.sub(r\"\\'s\", \" \", text)\n",
        "  text = re.sub(r\"\\'ve\", \" have \", text)\n",
        "  text = re.sub(r\"can't\", \"can not \", text)\n",
        "  text = re.sub(r\"n't\", \" not \", text)\n",
        "  text = re.sub(r\"i'm\", \"i am \", text)\n",
        "  text = re.sub(r\"\\'re\", \" are \", text)\n",
        "  text = re.sub(r\"\\'d\", \" would \", text)\n",
        "  text = re.sub(r\"\\'ll\", \" will \", text)\n",
        "  text = re.sub(r\"youll\", \" you will \", text)\n",
        "  text = re.sub(r\"theyll\", \" they will \", text)\n",
        "  text = re.sub(r\"youve\", \" you have \", text)\n",
        "  text = re.sub(r\"theyve\", \" they have \", text)\n",
        "  text = re.sub(r\"cant\", \"can not \", text)\n",
        "  text = re.sub(r\"ohh\", \" \", text)\n",
        "  text = re.sub(r\"ahh\", \" \", text)\n",
        "  text = re.sub(r\"ahhh\", \" \", text)\n",
        "  text = re.sub(r\"yup\",\"yes\",text)\n",
        "  text = re.sub(r\"yep\",\"yes\",text)\n",
        "  text = re.sub(r\"didnt\", \"did not \", text)\n",
        "  text = re.sub(r\"btw\",\"by the way\",text)\n",
        "  text = re.sub(r\"sooo\",\"so\",text)\n",
        "  text = re.sub(r\"ppl\",\"people\",text)\n",
        "  text = re.sub(r\"wtf\",\"What the fuck\",text)\n",
        "  return text"
      ],
      "execution_count": null,
      "outputs": []
    },
    {
      "cell_type": "code",
      "metadata": {
        "id": "CzTxhPd86K1o"
      },
      "source": [
        "blog_df['text'] = blog_df['text'].apply(lambda x: short_form(x))"
      ],
      "execution_count": null,
      "outputs": []
    },
    {
      "cell_type": "code",
      "metadata": {
        "colab": {
          "base_uri": "https://localhost:8080/",
          "height": 195
        },
        "id": "F5cDaChj6OD7",
        "outputId": "d3716f19-570c-4560-fe26-f21903df1f01"
      },
      "source": [
        "blog_df.head()"
      ],
      "execution_count": null,
      "outputs": [
        {
          "output_type": "execute_result",
          "data": {
            "text/html": [
              "<div>\n",
              "<style scoped>\n",
              "    .dataframe tbody tr th:only-of-type {\n",
              "        vertical-align: middle;\n",
              "    }\n",
              "\n",
              "    .dataframe tbody tr th {\n",
              "        vertical-align: top;\n",
              "    }\n",
              "\n",
              "    .dataframe thead th {\n",
              "        text-align: right;\n",
              "    }\n",
              "</style>\n",
              "<table border=\"1\" class=\"dataframe\">\n",
              "  <thead>\n",
              "    <tr style=\"text-align: right;\">\n",
              "      <th></th>\n",
              "      <th>gender</th>\n",
              "      <th>topic</th>\n",
              "      <th>sign</th>\n",
              "      <th>text</th>\n",
              "      <th>age_group</th>\n",
              "    </tr>\n",
              "  </thead>\n",
              "  <tbody>\n",
              "    <tr>\n",
              "      <th>0</th>\n",
              "      <td>male</td>\n",
              "      <td>Student</td>\n",
              "      <td>Leo</td>\n",
              "      <td>info has been found          pages  and     mb...</td>\n",
              "      <td>10s</td>\n",
              "    </tr>\n",
              "    <tr>\n",
              "      <th>1</th>\n",
              "      <td>male</td>\n",
              "      <td>Student</td>\n",
              "      <td>Leo</td>\n",
              "      <td>these are the team members    drewes van der l...</td>\n",
              "      <td>10s</td>\n",
              "    </tr>\n",
              "    <tr>\n",
              "      <th>2</th>\n",
              "      <td>male</td>\n",
              "      <td>Student</td>\n",
              "      <td>Leo</td>\n",
              "      <td>in het kader van kernfusie op aarde   maak je ...</td>\n",
              "      <td>10s</td>\n",
              "    </tr>\n",
              "    <tr>\n",
              "      <th>3</th>\n",
              "      <td>male</td>\n",
              "      <td>Student</td>\n",
              "      <td>Leo</td>\n",
              "      <td>testing     testing</td>\n",
              "      <td>10s</td>\n",
              "    </tr>\n",
              "    <tr>\n",
              "      <th>4</th>\n",
              "      <td>male</td>\n",
              "      <td>InvestmentBanking</td>\n",
              "      <td>Aquarius</td>\n",
              "      <td>thanks to yahoo  s toolbar i can now  capture ...</td>\n",
              "      <td>30s</td>\n",
              "    </tr>\n",
              "  </tbody>\n",
              "</table>\n",
              "</div>"
            ],
            "text/plain": [
              "  gender  ... age_group\n",
              "0   male  ...       10s\n",
              "1   male  ...       10s\n",
              "2   male  ...       10s\n",
              "3   male  ...       10s\n",
              "4   male  ...       30s\n",
              "\n",
              "[5 rows x 5 columns]"
            ]
          },
          "metadata": {
            "tags": []
          },
          "execution_count": 26
        }
      ]
    },
    {
      "cell_type": "code",
      "metadata": {
        "colab": {
          "base_uri": "https://localhost:8080/"
        },
        "id": "OP4Qr0Kh6SmI",
        "outputId": "62e3ad6f-2ece-47bc-bd5e-e3ef306b6f58"
      },
      "source": [
        "print(blog_df['text'][2])"
      ],
      "execution_count": null,
      "outputs": [
        {
          "output_type": "stream",
          "text": [
            "in het kader van kernfusie op aarde   maak je eigen waterstofbom   how to build an h bomb from     andrew scott  newsgroups  rec humor subject  how to build an h bomb  humorous   date    feb               gmt organization  the university of western australia  original file dated   th november       seemed to be a transcript of a  seven days  article  poorly formatted and corrupted  i have added the text between  examine under a microscope  and  malleable  like gold   as it was missing  if anyone has the full text  please distribute  i am not responsible for the accuracy of this information  converted to html by              did a little spell checking and some minor edits too   stolen from       and reformatted the html  it now validates to xhtml     strict  how to build an h bomb making and owning an h bomb is the kind of challenge real americans seek  who wants to be a passive victim of nuclear war when  with a little effort  you can be an active participant  bomb shelters are for losers  who wants to huddle together underground eating canned spam  winners want to push the button themselves  making your own h bomb is a big step in nuclear assertiveness training    it s called taking charge  we re sure you ll enjoy the risks and the heady thrill of playing nuclear chicken  introduction when the feds clamped down on the progressive magazine for attempting to publish an article on the manufacture of the hydrogen bomb  it piqued our curiosity  was it really true that atomic and hydrogen bomb technology was so simple you could build an h bomb in your own kitchen  seven days decided to find out  food editor barbara ehrenreich  investigative reporter peter biskind  photographer jane melnick and nuclear scientist michio kaku were given three days to cook up a workable h bomb  they did and we have decided to share their culinary secrets with you  not that seven days supports nuclear terrorism  we don t  we would prefer to die slowly from familiar poisons like low level radiation  microwaves  ddt  dbcp  aflatoxins  pbbs  pbcs  or food dyes  rather than unexpectedly  say as hostage to a latvian nationalist brandishing a homemade bomb  in our view the real terrorists are the governments  american  soviet  french  chinese  and british  that are hoarding h bombs for their own use  and worse still  those governments  u s   french and german  that are eagerly peddling advanced nuclear technology to countries like south africa  brazil  and argentina so that they can make their own bombs  when these bombs are used  and they will be  it will be the world s big time nuclear peddlers  along with corporate supeopleiers like general electric  westinghouse  and gulf oil  that we can thank for it  gagging the progressive will do no more for national security than backyard bomb shelters because like it or not the news is out  the heart of the successful h bomb is the successful a bomb  once you ve got your a bombs made the rest is frosting on the cake  all you have to do is set them up so that when they detonate they ll start off a hydrogen fusion reaction   part    making your bomb step    getting the ingredients uranium is the basic ingredient of the a bomb  when a uranium atom s nucleus splits apart  it releases a tremendous amount of energy  for its size   and it emits neutrons which go on to split other nearby uranium nuclei  releasing more energy  in what is called a  chain reaction    when atoms split  matter is converted into energy according to einstein s equation e mc   what better way to mark his birthday than with your own atomic fireworks   there are two kinds  isotopes  of uranium  the rare u      used in bombs  and the more common  heavier  but useless u      natural uranium contains less than   percent u     and in order to be usable in bombs it has to be  enriched  to    percent u     and only    percent u      plutonium     can also be used in bombs as a substitute for u      ten pounds of u      or slightly less plutonium  is all that is necessary for a bomb  less than ten pounds won t give you a critical mass  so purifying or enriching naturally occurring uranium is likely to be your first big hurdle  it is infinitely easy to steal ready to use enriched uranium or plutonium than to enrich some yourself  and stealing uranium is not as hard as it sounds  there are at least three sources of enriched uranium or plutonium    enriched uranium is manufactured at a gaseous diffusion plant in portsmouth  ohio  from there it is shipped in    liter bottles by airplane and trucks to conversion plants that turn it into uranium oxide or uranium metal  each    liter bottle contains   kilograms of u      and there are    bottles to a typical shipment  conversion facilities exist at hematite  missouri  apollo  pennsylvania  and erwin  tennessee  the kerr mcgee plant at crescent oklahoma    where karen silkwood worked    was a conversion plant that  lost     lbs of plutonium  enriched uranium can be stolen from these plants or from fuel fabricating plants like those in new haven  san diego  or lynchburg  virginia   a former kerr mcgee supervisor  james v  smith  when asked at the silkwood trial if there were any security precautions at the plant to prevent theft  testified that  there were none of any kind  no guards  no fences  no nothing    plutonium can be obtained from places like united nuclear in pawling  new york  nuclear fuel services in erwin  tennessee  general electric in pleasanton  california  westinghouse in cheswick  pennsylvania  nuclear materials and equipment corporation  numec  in leechburg  pennsylvania  and plants in hanfford  washington and morris  illinois  according to rolling stone magazine the israelis were involved in the theft of plutonium from numec  finally you can steal enriched uranium or plutonium while it s en route from conversion plants to fuel fabricating plants  it is usually transported  by air or truck  in the form of uranium oxide  a brownish powder resembling instant coffee  or as a metal  coming in small chunks called  broken buttons   both forms are shipped in small cans stacked in   inch cylinders braced with welded struts in the center of ordinary    gallon steel drums  the drums weigh about     pounds and are clearly marked  fissible material  or  danger  plutonium   a typical shipment might go from the enrichment plant at portsmouth  ohio to the conversion plant in hematite missouri then to kansas city by truck where it would be flown to los angeles and then trucked down to the general atomic plant in san diego  the plans for the general atomic plant are on file at the nuclear regulatory commission s reading room at      h street nw washington  a xerox machine is provided for the convenience of the public  if you can t get hold of any enriched uranium you ll have to settle for commercial grade     percent u       this can be stolen from university reactors of a type called triga mark ii  where security is even more casual than at commercial plants  if stealing uranium seems too tacky you can buy it  unenriched uranium is available at any chemical supeopley house for     a pound  commercial grade    to    percent enriched  is available for     a pound from gulf atomic  you ll have to enrich it further yourself  quite frankly this can be something of a pain in the ass  you ll need to start with a little more than    pounds of commercial grade uranium   it s only    percent u     at best  and you need    pounds of u     so      but with a little kitchen table chemistry you ll be able to convert the solid uranium oxide you ve purchased into a liquid form  once you ve done that  you ll be able to separate the u     that you ll need from the u      first pour a few gallons of concentrated hydrofluoric acid into your uranium oxide  converting it to uranium tetrafluoride   safety note  concentrated hydrofluoric acid is so corrosive that it will eat its way through glass  so store it only in plastic  used   gallon plastic milk containers will do   now you have to convert your uranium tetrafluoride to uranium hexafluoride  the gaseous form of uranium  which is convenient for separating out the isotope u     from u      to get the hexafluoride form  bubble fluorine gas into your container of uranium tetrafluoride  fluorine is available in pressurized tanks from chemical supeopley firms  be careful how you use it though because fluorine is several times more deadly than chlorine  the classic world war i poison gas  chemists recommend that you carry out this step under a stove hood  the kind used to remove unpleasant cooking odors   if you ve done your chemistry right you should now have a generous supeopley of uranium hexafluoride ready for enriching  in the old horse and buggy days of a bomb manufacture the enrichment was carried out by passing the uranium hexafluoride through hundreds of miles of pipes  tubes  and membranes  until the u     was eventually separated from the u      this gaseous diffusion process  as it was called is difficult  time consuming  and expensive  gaseous diffusion plants cover hundreds of acres and cost in the neighborhood of    billion each  so forget it  there are easier  and cheaper  ways to enrich your uranium  first transform the gas into a liquid by subjecting it to pressure  you can use a bicycle pump for this  then make a simple home centrifuge  fill a standard size bucket one quarter full of liquid uranium hexafluoride  attach a six foot rope to the bucket handle  now swing the rope  and attached bucket  around your head as fast as possible  keep this up for about    minutes  slow down gradually  and very gently put the bucket on the floor  the u      which is lighter  will have risen to the top  where it can be skimmed off like cream  repeat this step until you have the required    pounds of uranium   safety note  don t put all your enriched uranium hexafluoride in one bucket  use at least two or three buckets and keep them in separate corners of the room  this will prevent the premature build up of a critical mass   now it s time to convert your enriched uranium back to metal form  this is easily enough accomplished by spooning several ladlefuls of calcium  available in tablet form from your drugstore  into each bucket of uranium  the calcium will react with the uranium hexafluoride to produce calcium fluoride  a colorless salt which can be easily be separated from your pure enriched uranium metal  a few precautions    while uranium is not dangerously radioactive in the amounts you ll be handling  if you plan to make more than one bomb it might be wise to wear gloves and a lead apron  the kind you can buy in dental supeopley stores    plutonium is one of the most toxic substances known  if inhaled  a thousandth of a gram can cause massive fibrosis of the lungs  a painful way to go  even a millionth of a gram in the lungs will cause cancer  if eaten plutonium is metabolized like calcium  it goes straight to the bones where it gives out alpha particles preventing bone marrow from manufacturing red blood cells  the best way to avoid inhaling plutonium is to hold your breath while handling it  if this is too difficult wear a mask  to avoid ingesting plutonium orally follow this simple rule  never make an a bomb on an empty stomach    if you find yourself dozing off while you re working  or if you begin to glow in the dark  it might be wise to take a blood count  prick your finger with a sterile pin  place a drop of blood on a microscope slide  cover it with a cover slip  and examine under a microscope   best results are obtained in the early morning   when you get leukemia  immature cells are released into the bloodstream  and usually the number of white cells increases  though this increase might take almost   weeks   red blood cells look kind of like donuts  without the hole   and are slightly smaller than the white cells  each of which has a nucleus  immature red cells look similar to white cells  i e   slightly larger and have a nucleus   if you have more than about   white cell  including immature ones  to     red cells then start to worry  but  depending upon your plans for the eventual use of the bomb  a short life expectancy might not be a problem   step    assembling the a bomb now that you ve acquired the enriched uranium  all that s left is to assemble your a bomb  go find a couple of stainless steel salad bowls  you also want to separate your    pounds of u     into two hunks   keep them apart   the idea is to push each half your uranium into the inside of a bowl  take one hunk of your uranium and beat it into the inside of the first bowl  uranium is malleable  like gold  so you should have no trouble hammering it into the bowl to get a good fit  take another five pound hunk of uranium and fit it into a second stainless steel bowl  these two bowls of u     are the  subcritical masses  which  when brought together forcefully  will provide the critical mass that makes your a bomb go  keep them a respectful distance apart while working because you don t want them to  go critical  on you    at least not yet  now hollow out the body of an old vacuum cleaner and place your two hemispherical bowls inside  open ends facing each other  no less than seven inches apart  using masking tape to set them up in position  the reason for the steel bowls and the vacuum cleaner  in case you re wondering  is that these help reflect the neutrons back into the uranium for a more efficient explosion   a loose neutron is a useless neutron  as the a bomb pioneers used to say  as far as the a bomb goes  you re almost done  the final problem is to figure out how to get the two u     hemispheres to smash into each other with sufficient force to set off a truly effective fission reaction  almost any type of explosive can be used to drive them together  gunpowder  for example  is easily made at home from potassium nitrate  sulfur  and carbon  or  you can get some blasting caps or tnt   buy them or steal them from a construction site   best of all is c  plastic explosive  you can mold it around your bowls  and it s fairly safe to work with   but  it might be wise to shape it around an extra salad bowl in another room  and then fit it to your uranium packed bowls  this is particularly true in winter  when a stray static electrical charge might induce ignition in the c   a responsible bomb maker considers it impolite to accidentally destroy more of the neighborhood than absolutely necessary   once the explosives are in place all you need to do is hook up a simple detonation device with a few batteries  a switch  and some wire  remember though that it is essential that the two charges    one on each side of the casing    go off simultaneously  now put the whole thing in the casing of an old hoover vacuum cleaner and you re finished with this part of the process  the rest is easy   step    make more a bombs following the directions above  a word to the wise about wastes after your a bomb is completed you ll have a pile of moderately fatal radioactive wastes like u      these are not dangerous  but you do have to get rid of them  you can flush leftovers down the toilet   don t worry about polluting the ocean  there is already so much radioactive waste there  a few more bucketfuls won t make any waves whatsoever   if you re the fastidious type    the kind who never leaves gum under their seat at the movies    you can seal the nasty stuff in coffee cans and bury it in the backyard  just like uncle sam does  if the neighbor kids have a habit of trampling the lawn  tell them to play over by the waste  you ll soon find that they re spending most of their time in bed   going first class if you re like us  you re feeling the economic pinch  and you ll want to make your bomb as inexpensively as possible  consonant of course with reasonable yield  the recipe we ve given is for a budget pleasing h bomb  no frills  no flourishes  it s just a simple   megaton bomb  capable of wiping out the new york metropolitan area  the san francisco bay area  or boston  but don t forget  your h bomb will only be as good as the a bombs in it  if you want to spend a little more money you can punch up your a bomb considerably  instead of centrifuging your uranium by hand  you can buy a commercial centrifuge   fisher scientific sells one for about         you also might want to be fussier about your design  the hiroshima bomb  a relatively crude one  only fissioned   percent of it s uranium and yielded only    kilotons  in order to fission more of the uranium  the force of your explosive  trigger  needs to be evenly diffused around the sphere  the same pressure has to be exerted on every point of the sphere simultaneously   it was a technique for producing this sort of simultaneous detonation by fashioning the explosives into lenses that the government accused julius and ethel rosenberg of trying to steal    part    putting your h bomb together the heart of the h bomb is the fusion process  several a bombs are detonated in such a way as to create the extremely high temperature      million degrees c  necessary to fuse lithium deuteride  lid  into helium  when the lithium nucleus slams into the deuterium nucleus  two helium nuclei are created  and if this happens to enough deuterium nuclei rapidly enough  the result is an enormous amount of energy  the energy of the h bomb  you don t have to worry about stealing lithium deuteride  it can be purchased from any chemical supeopley house  it costs       a pound  if your budget won t allow it you can substitute lithium hydride at     a pound  you will need at least     pounds  it s a corrosive and toxic powder so be careful  place the lithium deuteride or hydride in glass jars and surround it with four a bombs in their casings  attach them to the same detonator so that they will go off simultaneously  the container for the whole thing is no problem  they can be placed anywhere  inside an old stereo console  a discarded refrigerator  etc    when the detonator sets off the four a bombs all eight hemispheres of fissionable material will slam into each other at the same time creating four critical masses and four detonations  this will raise the temperature of the lithium deuteride to     million degrees c fast enough  a few billionths of a second  so that the lithium will not be blown all over the neighborhood before the nuclei have time to fuse  the result  at least      times the punch of the puny a bomb that leveled hiroshima     million tons of tnt vs     thousand tons    part    what to do with your bomb now that you have a fully assembled h bomb housed in an attractive console of your choice you may be wondering   what should i do with it   every family will have to answer this question according to its own tastes and preferences  but you may want to explore some possibilities which have been successfully pioneered by the american government     sell your bomb and make a pile of money in these days of rising inflation  increasing unemployment  and an uncertain economic outlook  few businesses make as much sense as weapons production  if your career forecast is cloudy  bomb sales may be the only sure way to avoid the humiliation of receiving welfare  or unemployment  regardless of your present income level  a home h bomb business can be an invaluable income supeopleement  and certainly a profitable alternative to selling tupperware or pirated girl scout cookies  unfortunately for the family bomb business  big government has already cornered a large part of the world market  but this does not mean that there is a shortage of potential customers  the raid on entebee was the waterloo of hijacking  and many nationalist groups are now on the alert for new means to get their message across  they d jump at the chance to get hold of an h bomb  emerging nations which can t ante up enough rice or sugar to buy themselves a reactor from g e  or westinghouse are also shopping around  you may wonder about the ethics of selling to nations  or groups  whose goals you may disapprove of  but here again  take a tip from our government  forget ideology    it s cash that counts  and remember  h bomb sales have a way of escalating  almost like a chain reaction  suppose you make a sale to south yemen which you believe to be a soviet puppet  well within a few days some discrete inquiries from north yemen and possibly the saudis  the egyptians and the ethiopians as well can be expected  similarly  a sale to the ira will generate a sale to the ulster government  and a sale to the tanzanians will bring the ugandans running  and so forth  it doesn t matter which side you re on  only how many sides there are  don t forget about the possibility of repeat sales to the same customer  as the experience of both the u s  and the u s s r  has shown  each individual nation has a potentially infinite need for h bombs  no customer    no matter how small    can ever have too many     use your bomb at home many families are attracted to the h bomb simply as a  deterrent   a discrete sticker on the door or on the living room window saying  this home protected by h bomb  will discourage irs investigators  census takers  and jehovah s witnesses  you ll be surprised how fast the crime rate will go down and property values will go up  and once the news gets out that you are a home h bomb owner you ll find that you have unexpected leverage in neighborhood disputes over everything from parking places and stereo noise levels to school tax rates  so relax and enjoy the pride and excitement of home h bomb ownership   is it for you  let s be honest  the h bomb isn t for everyone  frankly there are people who can t handle it  they break out in hives at the very mention of mega death  fallout  or radiation sickness  the following quiz will help you find out whether you have what it takes for home h bomb ownership  if you can answer  yes  to six or more of these questions  then you re emotionally eligible to join the nuclear club  if not  a more conventional weapon may be more your cup of tea  try botulism toxin  laser rays  or nerve gas     i ignore the demands of others     i subscribe to one or more of the following  soldier of fortune  hustler  popular mechanics  self     though i have many interesting acquaintances  i am my own best friend     i know what to say after you say  hello   but i am seldom interested in pursuing the conversation     i have seen the movie  the deer hunter  more than once     i know that everyone can be a winner if they want to  and i resent whiners     i own one or more of the following  handgun  video game  trash compactor  snowmobile     i am convinced that leukemia is psychosomatic     i am aware that most vegetarians are sexually impotent      i have read evidence that solar energy is a communist conspiracy   myths about nuclear war ever since the first mushroom cloud over hiroshima ushered in the atomic age  a small group of nay sayers and doom mongers has lobbied  campaigned and demonstrated to convince americans that h bomb ownership  along with nuclear power  is dangerous and unhealthy  using their virtual stranglehold over the media  these people have tried to discredit everything nuclear from energy to war  they have vastly overrated the risks of nuclear bombs and left many americans feeling demoralized and indecisive  not sure where the truth lies  well  here are the myths  and here are the facts  myth  after a nuclear exchange the earth will no longer be suitable for human habitation  fact  this is completely false  according to one scientist  quoted in john mcpee s the curve of binding energy   the largest bomb that has ever been exploded anywhere was    megatons  and that is one thousandth the force of an earthquake  one thousandth the force of a hurricane  we have lived with earthquakes and hurricanes for a long time   another scientist adds   it is often assumed that a full blown nuclear war would be the end of life on earth  that is far from the truth  to end life on earth would take at least a thousand times the total yield of all the nuclear explosives existing in the world  and probably a lot more   even if humans succumbed  many forms of life would survive a nuclear free for all  cockroaches  certain forms of bacteria  and lichens  for instance  myth  radiation is bad for you  fact  everything is bad for you if you have too much of it  if you eat too many bananas you ll get a stomach ache  if you get too much sun you can get sunburned  or even skin cancer   same thing with radiation  too much may make you feel under the weather  but nuclear industry officials insist that there is no evidence that low level radiation has any really serious adverse effects  and  high level radiation may bring unexpected benefits  it speeds up evolution by weeding out unwanted genetic types and creating new ones   remember the old saying   two heads are better than one    nearer to home  it s plain that radiation will get rid of pesky crab grass and weeds  and teenagers will find that brief exposure to a nuclear burst vaporizes acne and other skin blemishes   many survivors of the hiroshima bomb found that they were free from skin and it s attendant problems forever   we hope this clears up any misconceptions you may have had  enjoy your h bomb            \n"
          ],
          "name": "stdout"
        }
      ]
    },
    {
      "cell_type": "code",
      "metadata": {
        "id": "fVmAfLCi6mhz"
      },
      "source": [
        "blog_df['text']=  blog_df['text'].str.replace('\\s+',' ',regex = True)"
      ],
      "execution_count": null,
      "outputs": []
    },
    {
      "cell_type": "code",
      "metadata": {
        "colab": {
          "base_uri": "https://localhost:8080/"
        },
        "id": "u71SipzZ7EuG",
        "outputId": "0554b559-5a63-40d6-f45c-a5452dc0527e"
      },
      "source": [
        "import nltk\n",
        "nltk.download('stopwords')"
      ],
      "execution_count": null,
      "outputs": [
        {
          "output_type": "stream",
          "text": [
            "[nltk_data] Downloading package stopwords to /root/nltk_data...\n",
            "[nltk_data]   Unzipping corpora/stopwords.zip.\n"
          ],
          "name": "stdout"
        },
        {
          "output_type": "execute_result",
          "data": {
            "text/plain": [
              "True"
            ]
          },
          "metadata": {
            "tags": []
          },
          "execution_count": 29
        }
      ]
    },
    {
      "cell_type": "code",
      "metadata": {
        "id": "dEpX7kAZ7FUs"
      },
      "source": [
        "from nltk.corpus import stopwords"
      ],
      "execution_count": null,
      "outputs": []
    },
    {
      "cell_type": "code",
      "metadata": {
        "id": "4Z6JhtB67FXr"
      },
      "source": [
        "stopw = set(stopwords.words('english'))"
      ],
      "execution_count": null,
      "outputs": []
    },
    {
      "cell_type": "code",
      "metadata": {
        "colab": {
          "base_uri": "https://localhost:8080/"
        },
        "id": "pnTrsZXN7T3y",
        "outputId": "76a6df22-e0da-4cf0-cb3e-9f1d68695cdd"
      },
      "source": [
        "print(stopw)"
      ],
      "execution_count": null,
      "outputs": [
        {
          "output_type": "stream",
          "text": [
            "{'have', \"didn't\", 'very', 'an', 'again', \"hasn't\", 'is', 'was', 'for', 'nor', 't', 'and', 'him', 'just', 's', 'should', 'she', 'before', 'those', 'we', 'over', 'than', 'below', \"she's\", 'all', 'i', 'me', 'you', 'couldn', \"should've\", 'at', 'out', 'our', 'into', 'more', \"won't\", 'mightn', 'shouldn', 'ours', 'each', 'can', 'this', 'so', 'down', 'weren', 'few', 'don', 'there', 'or', 'o', 'isn', 'after', \"needn't\", 'are', 'whom', 'had', \"weren't\", \"wasn't\", 'where', 'when', 'hasn', 'because', 'd', 'its', 'the', \"isn't\", 'did', 'be', \"aren't\", 'y', \"shouldn't\", \"that'll\", 'how', 'does', 'same', 'wasn', 'such', 'theirs', 'in', 'against', 'a', 'that', 'most', 'further', 'under', 'who', 'his', 'has', \"shan't\", 'of', \"you'll\", \"haven't\", 'themselves', 'haven', 'off', 'by', 'himself', 'my', 'some', 'doing', 'which', 'your', 'yours', 'having', 'doesn', 'didn', 'do', 've', 'herself', 'from', 'both', 'until', 'about', 're', 'them', 'above', \"mustn't\", 'not', \"mightn't\", 'ma', \"you've\", 'if', \"it's\", 'as', 'here', 'ain', \"don't\", \"wouldn't\", 'itself', 'while', 'he', 'am', \"you'd\", 'm', 'won', 'were', 'between', \"doesn't\", \"hadn't\", 'but', 'any', 'to', 'yourself', 'only', 'ourselves', 'through', 'hadn', 'been', 'during', 'on', 'no', 'too', 'with', \"couldn't\", 'why', 'it', 'mustn', 'once', 'hers', 'll', 'what', 'other', 'aren', 'her', 'wouldn', 'will', 'needn', 'being', 'yourselves', 'myself', \"you're\", 'they', 'their', 'then', 'these', 'up', 'now', 'own', 'shan'}\n"
          ],
          "name": "stdout"
        }
      ]
    },
    {
      "cell_type": "code",
      "metadata": {
        "id": "usR91Kdc7T6Y"
      },
      "source": [
        "blog_df['text']= blog_df['text'].apply(lambda words:' '.join(word for word in words.split() if word not in stopw))"
      ],
      "execution_count": null,
      "outputs": []
    },
    {
      "cell_type": "code",
      "metadata": {
        "colab": {
          "base_uri": "https://localhost:8080/"
        },
        "id": "s60GPFNs9CFh",
        "outputId": "0fa2cfc8-87b9-4f40-954a-3c02ad7e15e8"
      },
      "source": [
        "print(blog_df['text'][2100])"
      ],
      "execution_count": null,
      "outputs": [
        {
          "output_type": "stream",
          "text": [
            "funniest thing heard long time final\n"
          ],
          "name": "stdout"
        }
      ]
    },
    {
      "cell_type": "code",
      "metadata": {
        "colab": {
          "base_uri": "https://localhost:8080/"
        },
        "id": "jLGIUotdQTXg",
        "outputId": "df568418-87f4-4b14-fc8e-5b1967c4bbc4"
      },
      "source": [
        "print(blog_df['text'][2100])"
      ],
      "execution_count": null,
      "outputs": [
        {
          "output_type": "stream",
          "text": [
            "funniest thing heard long time final\n"
          ],
          "name": "stdout"
        }
      ]
    },
    {
      "cell_type": "code",
      "metadata": {
        "colab": {
          "base_uri": "https://localhost:8080/"
        },
        "id": "34cGKtYV7T8l",
        "outputId": "abc62d98-407b-43aa-b255-5481201b6d57"
      },
      "source": [
        "from nltk.stem import WordNetLemmatizer\n",
        "nltk.download('wordnet')"
      ],
      "execution_count": null,
      "outputs": [
        {
          "output_type": "stream",
          "text": [
            "[nltk_data] Downloading package wordnet to /root/nltk_data...\n",
            "[nltk_data]   Unzipping corpora/wordnet.zip.\n"
          ],
          "name": "stdout"
        },
        {
          "output_type": "execute_result",
          "data": {
            "text/plain": [
              "True"
            ]
          },
          "metadata": {
            "tags": []
          },
          "execution_count": 36
        }
      ]
    },
    {
      "cell_type": "code",
      "metadata": {
        "id": "o2w7DCA9dO7x"
      },
      "source": [
        "w_tokenizer = nltk.tokenize.WhitespaceTokenizer()"
      ],
      "execution_count": null,
      "outputs": []
    },
    {
      "cell_type": "code",
      "metadata": {
        "id": "cKMvy949dPF9"
      },
      "source": [
        "def lemmatize_text(text):\n",
        "    lemmatizer = WordNetLemmatizer()\n",
        "    out_text = ' '.join([lemmatizer.lemmatize(word) for word in w_tokenizer.tokenize(text)])\n",
        "    return out_text"
      ],
      "execution_count": null,
      "outputs": []
    },
    {
      "cell_type": "code",
      "metadata": {
        "id": "c9AW-1Op7T_Z"
      },
      "source": [
        "blog_df['text'] = blog_df['text'].apply(lemmatize_text)"
      ],
      "execution_count": null,
      "outputs": []
    },
    {
      "cell_type": "code",
      "metadata": {
        "colab": {
          "base_uri": "https://localhost:8080/"
        },
        "id": "55ckHBgZ9x6j",
        "outputId": "fee10c65-a724-408b-d238-2cd81476cef3"
      },
      "source": [
        "print(blog_df['text'].sample(5))"
      ],
      "execution_count": null,
      "outputs": [
        {
          "output_type": "stream",
          "text": [
            "6677     disturbing new trend noted getting coffee peop...\n",
            "14252                                            clairissa\n",
            "17734    teacher semester happened catch class chat lit...\n",
            "20689    last paper tomorrow everyone asking u excited ...\n",
            "2947                                  yes copy way woo hoo\n",
            "Name: text, dtype: object\n"
          ],
          "name": "stdout"
        }
      ]
    },
    {
      "cell_type": "code",
      "metadata": {
        "id": "IVvi83G695Kg"
      },
      "source": [
        "blog_df[\"target\"] = blog_df.apply(lambda x : [x[\"gender\"],x[\"age_group\"],x[\"topic\"],x[\"sign\"]],axis =1)"
      ],
      "execution_count": null,
      "outputs": []
    },
    {
      "cell_type": "code",
      "metadata": {
        "id": "NPWWv0XjRCGI"
      },
      "source": [
        "blog_df['len'] = blog_df['text'].apply(lambda x: len(x.split()))"
      ],
      "execution_count": null,
      "outputs": []
    },
    {
      "cell_type": "code",
      "metadata": {
        "id": "uzFu5RnXUXGv"
      },
      "source": [
        "ind = blog_df[blog_df['len']==0].index"
      ],
      "execution_count": null,
      "outputs": []
    },
    {
      "cell_type": "code",
      "metadata": {
        "id": "UNG3T0P5Ua__"
      },
      "source": [
        "blog_df.drop(index= ind, axis=0, inplace=True)"
      ],
      "execution_count": null,
      "outputs": []
    },
    {
      "cell_type": "code",
      "metadata": {
        "id": "1fupQYbQHCds"
      },
      "source": [
        "todo_df= blog_df[['target','text','len']].reset_index(drop = True)"
      ],
      "execution_count": null,
      "outputs": []
    },
    {
      "cell_type": "code",
      "metadata": {
        "colab": {
          "base_uri": "https://localhost:8080/",
          "height": 195
        },
        "id": "RDKbs_I3Rx8i",
        "outputId": "8423ab15-b613-457f-ad4a-c356012831f2"
      },
      "source": [
        "todo_df.head()"
      ],
      "execution_count": null,
      "outputs": [
        {
          "output_type": "execute_result",
          "data": {
            "text/html": [
              "<div>\n",
              "<style scoped>\n",
              "    .dataframe tbody tr th:only-of-type {\n",
              "        vertical-align: middle;\n",
              "    }\n",
              "\n",
              "    .dataframe tbody tr th {\n",
              "        vertical-align: top;\n",
              "    }\n",
              "\n",
              "    .dataframe thead th {\n",
              "        text-align: right;\n",
              "    }\n",
              "</style>\n",
              "<table border=\"1\" class=\"dataframe\">\n",
              "  <thead>\n",
              "    <tr style=\"text-align: right;\">\n",
              "      <th></th>\n",
              "      <th>target</th>\n",
              "      <th>text</th>\n",
              "      <th>len</th>\n",
              "    </tr>\n",
              "  </thead>\n",
              "  <tbody>\n",
              "    <tr>\n",
              "      <th>0</th>\n",
              "      <td>[male, 10s, Student, Leo]</td>\n",
              "      <td>info found page mb pdf file wait untill team l...</td>\n",
              "      <td>13</td>\n",
              "    </tr>\n",
              "    <tr>\n",
              "      <th>1</th>\n",
              "      <td>[male, 10s, Student, Leo]</td>\n",
              "      <td>team member drewes van der laag mail ruiyu xie...</td>\n",
              "      <td>13</td>\n",
              "    </tr>\n",
              "    <tr>\n",
              "      <th>2</th>\n",
              "      <td>[male, 10s, Student, Leo]</td>\n",
              "      <td>het kader van kernfusie op aarde maak je eigen...</td>\n",
              "      <td>2333</td>\n",
              "    </tr>\n",
              "    <tr>\n",
              "      <th>3</th>\n",
              "      <td>[male, 10s, Student, Leo]</td>\n",
              "      <td>testing testing</td>\n",
              "      <td>2</td>\n",
              "    </tr>\n",
              "    <tr>\n",
              "      <th>4</th>\n",
              "      <td>[male, 30s, InvestmentBanking, Aquarius]</td>\n",
              "      <td>thanks yahoo toolbar capture url popups mean s...</td>\n",
              "      <td>38</td>\n",
              "    </tr>\n",
              "  </tbody>\n",
              "</table>\n",
              "</div>"
            ],
            "text/plain": [
              "                                     target  ...   len\n",
              "0                 [male, 10s, Student, Leo]  ...    13\n",
              "1                 [male, 10s, Student, Leo]  ...    13\n",
              "2                 [male, 10s, Student, Leo]  ...  2333\n",
              "3                 [male, 10s, Student, Leo]  ...     2\n",
              "4  [male, 30s, InvestmentBanking, Aquarius]  ...    38\n",
              "\n",
              "[5 rows x 3 columns]"
            ]
          },
          "metadata": {
            "tags": []
          },
          "execution_count": 80
        }
      ]
    },
    {
      "cell_type": "code",
      "metadata": {
        "colab": {
          "base_uri": "https://localhost:8080/"
        },
        "id": "5yocyGaJSIQb",
        "outputId": "b0364178-96c5-4914-bef5-0dc559d1d8ac"
      },
      "source": [
        "todo_df.shape"
      ],
      "execution_count": null,
      "outputs": [
        {
          "output_type": "execute_result",
          "data": {
            "text/plain": [
              "(29728, 3)"
            ]
          },
          "metadata": {
            "tags": []
          },
          "execution_count": 81
        }
      ]
    },
    {
      "cell_type": "code",
      "metadata": {
        "id": "Qe_7xcnHHFh3"
      },
      "source": [
        "from sklearn.feature_extraction.text import TfidfVectorizer\n",
        "from sklearn.model_selection import train_test_split\n",
        "from sklearn.preprocessing import MultiLabelBinarizer\n",
        "import pickle"
      ],
      "execution_count": null,
      "outputs": []
    },
    {
      "cell_type": "code",
      "metadata": {
        "id": "c6RqTUuiHU0V"
      },
      "source": [
        "tfidf = TfidfVectorizer(analyzer = \"word\", stop_words='english', ngram_range=(1,3), min_df=0.02, max_df=0.1)"
      ],
      "execution_count": null,
      "outputs": []
    },
    {
      "cell_type": "code",
      "metadata": {
        "id": "IwYiRiJzHNXk"
      },
      "source": [
        "X = tfidf.fit_transform(todo_df['text'])\n",
        "y= todo_df['target']"
      ],
      "execution_count": null,
      "outputs": []
    },
    {
      "cell_type": "code",
      "metadata": {
        "colab": {
          "base_uri": "https://localhost:8080/"
        },
        "id": "9enuBWrrHN4M",
        "outputId": "b9c7c0cd-147a-4c01-a3ee-f6cfd1b7a7c4"
      },
      "source": [
        "vocab = tfidf.get_feature_names()\n",
        "print(vocab)"
      ],
      "execution_count": null,
      "outputs": [
        {
          "output_type": "stream",
          "text": [
            "['able', 'act', 'action', 'add', 'afternoon', 'age', 'ago', 'air', 'amazing', 'american', 'answer', 'anymore', 'anyways', 'apparently', 'area', 'art', 'article', 'ask', 'asked', 'ate', 'attention', 'away', 'awesome', 'baby', 'band', 'bar', 'basically', 'beautiful', 'bed', 'begin', 'believe', 'best', 'big', 'birthday', 'bit', 'black', 'blog', 'blue', 'body', 'book', 'bored', 'boring', 'bought', 'boy', 'break', 'bring', 'brother', 'brought', 'business', 'busy', 'buy', 'called', 'came', 'car', 'card', 'care', 'case', 'catch', 'cause', 'cd', 'certain', 'chance', 'change', 'changed', 'character', 'check', 'child', 'choice', 'church', 'city', 'class', 'close', 'cold', 'college', 'coming', 'comment', 'company', 'complete', 'completely', 'computer', 'control', 'conversation', 'cool', 'country', 'couple', 'course', 'crap', 'crazy', 'cut', 'cute', 'cuz', 'dad', 'damn', 'dark', 'date', 'dead', 'deal', 'death', 'decided', 'deep', 'definitely', 'die', 'different', 'dinner', 'dog', 'dont', 'door', 'dream', 'drink', 'drive', 'driving', 'early', 'easy', 'eat', 'eating', 'email', 'end', 'ended', 'english', 'enjoy', 'entire', 'entry', 'especially', 'evening', 'event', 'exactly', 'example', 'excited', 'experience', 'eye', 'face', 'fact', 'fall', 'family', 'fan', 'far', 'fast', 'father', 'favorite', 'fear', 'feel like', 'feeling', 'felt', 'fight', 'figure', 'film', 'final', 'finally', 'fine', 'finished', 'food', 'foot', 'forget', 'form', 'forward', 'free', 'friday', 'fuck', 'fucking', 'fun', 'funny', 'future', 'game', 'gave', 'getting', 'girl', 'given', 'giving', 'glad', 'god', 'gone', 'gonna', 'gotta', 'group', 'guess', 'haha', 'hair', 'half', 'hand', 'hang', 'happen', 'happened', 'happens', 'happy', 'hard', 'hate', 'head', 'hear', 'heard', 'heart', 'hell', 'help', 'hey', 'high', 'history', 'hit', 'hold', 'hope', 'hopefully', 'hot', 'hour', 'house', 'huge', 'human', 'hurt', 'idea', 'im', 'important', 'inside', 'instead', 'interesting', 'internet', 'issue', 'job', 'john', 'kept', 'kid', 'kill', 'kind', 'kinda', 'knew', 'known', 'la', 'lady', 'late', 'lately', 'later', 'laugh', 'law', 'le', 'lead', 'learn', 'leave', 'leaving', 'left', 'level', 'light', 'liked', 'line', 'link', 'list', 'listen', 'listening', 'live', 'living', 'lol', 'long time', 'longer', 'look like', 'looked', 'looking', 'lost', 'loved', 'lunch', 'making', 'man', 'matter', 'meet', 'meeting', 'member', 'memory', 'men', 'mention', 'message', 'met', 'middle', 'mind', 'minute', 'miss', 'mom', 'moment', 'monday', 'money', 'month', 'mood', 'morning', 'mother', 'movie', 'moving', 'mr', 'music', 'near', 'needed', 'news', 'nice', 'note', 'number', 'office', 'ok', 'okay', 'old', 'online', 'open', 'order', 'outside', 'page', 'pain', 'paper', 'parent', 'party', 'pas', 'past', 'pay', 'peace', 'perfect', 'person', 'personal', 'phone', 'pick', 'picture', 'piece', 'place', 'plan', 'play', 'played', 'playing', 'plus', 'pm', 'point', 'poor', 'possible', 'post', 'power', 'probably', 'problem', 'question', 'quite', 'read', 'reading', 'ready', 'real', 'realize', 'realized', 'reason', 'recently', 'red', 'relationship', 'remember', 'rest', 'result', 'return', 'ride', 'road', 'rock', 'room', 'run', 'running', 'sad', 'sat', 'saturday', 'saw', 'saying', 'school', 'second', 'seeing', 'seen', 'self', 'sense', 'sent', 'seriously', 'set', 'share', 'shit', 'short', 'sick', 'sigh', 'sign', 'simple', 'simply', 'single', 'sister', 'sit', 'site', 'sitting', 'situation', 'sleep', 'small', 'smile', 'song', 'soon', 'sorry', 'sort', 'soul', 'sound', 'space', 'special', 'spend', 'spent', 'st', 'stand', 'star', 'start', 'started', 'starting', 'state', 'stay', 'step', 'stop', 'store', 'story', 'straight', 'street', 'student', 'study', 'stuff', 'stupid', 'suck', 'summer', 'sunday', 'supposed', 'sweet', 'taken', 'taking', 'talk', 'talked', 'talking', 'teacher', 'team', 'telling', 'term', 'test', 'th', 'thank', 'thanks', 'thats', 'thinking', 'thursday', 'till', 'tired', 'title', 'told', 'tomorrow', 'tonight', 'took', 'totally', 'town', 'tried', 'trip', 'true', 'truly', 'truth', 'try', 'trying', 'turn', 'turned', 'tv', 'type', 'understand', 'unless', 'use', 'used', 'using', 'usually', 'view', 'visit', 'voice', 'wait', 'waiting', 'walk', 'walked', 'walking', 'wanna', 'wanted', 'war', 'watch', 'watched', 'watching', 'water', 'wear', 'website', 'weekend', 'weird', 'white', 'window', 'wish', 'woke', 'woman', 'wonder', 'wonderful', 'word', 'worked', 'working', 'world', 'worry', 'worse', 'worth', 'wow', 'write', 'writing', 'written', 'wrong', 'wrote', 'ya', 'yeah', 'year old', 'yes', 'yesterday', 'young']\n"
          ],
          "name": "stdout"
        }
      ]
    },
    {
      "cell_type": "code",
      "metadata": {
        "colab": {
          "base_uri": "https://localhost:8080/"
        },
        "id": "9bhuI0Z0htgT",
        "outputId": "d51982e7-bda8-4bcb-cdc8-fa0bef211f82"
      },
      "source": [
        "len(vocab)"
      ],
      "execution_count": null,
      "outputs": [
        {
          "output_type": "execute_result",
          "data": {
            "text/plain": [
              "498"
            ]
          },
          "metadata": {
            "tags": []
          },
          "execution_count": 86
        }
      ]
    },
    {
      "cell_type": "code",
      "metadata": {
        "id": "DBffPbX8HN6u"
      },
      "source": [
        "MB = MultiLabelBinarizer()"
      ],
      "execution_count": null,
      "outputs": []
    },
    {
      "cell_type": "code",
      "metadata": {
        "id": "JSwTrtoXHN9T"
      },
      "source": [
        "Y=MB.fit_transform(y)"
      ],
      "execution_count": null,
      "outputs": []
    },
    {
      "cell_type": "code",
      "metadata": {
        "id": "lOqWMtmEHOCM"
      },
      "source": [
        "x_train,x_test,y_train,y_test = train_test_split(X,Y,test_size = 0.25, random_state=1)"
      ],
      "execution_count": null,
      "outputs": []
    },
    {
      "cell_type": "code",
      "metadata": {
        "colab": {
          "base_uri": "https://localhost:8080/"
        },
        "id": "HmGfsMGtLJ4K",
        "outputId": "456af354-cf41-4cc7-8932-1db8053992c5"
      },
      "source": [
        "print(x_train.shape,y_train.shape)\n",
        "print(x_test.shape,y_test.shape)"
      ],
      "execution_count": null,
      "outputs": [
        {
          "output_type": "stream",
          "text": [
            "(22296, 498) (22296, 55)\n",
            "(7432, 498) (7432, 55)\n"
          ],
          "name": "stdout"
        }
      ]
    },
    {
      "cell_type": "markdown",
      "metadata": {
        "id": "yKH21MZX5YA8"
      },
      "source": [
        "## Model Building"
      ]
    },
    {
      "cell_type": "code",
      "metadata": {
        "colab": {
          "base_uri": "https://localhost:8080/"
        },
        "id": "X1DgNUccLJ6N",
        "outputId": "56ca18f4-5390-455f-d76e-9375eb48aac9"
      },
      "source": [
        "! pip install scikit-multilearn"
      ],
      "execution_count": null,
      "outputs": [
        {
          "output_type": "stream",
          "text": [
            "Collecting scikit-multilearn\n",
            "\u001b[?25l  Downloading https://files.pythonhosted.org/packages/bb/1f/e6ff649c72a1cdf2c7a1d31eb21705110ce1c5d3e7e26b2cc300e1637272/scikit_multilearn-0.2.0-py3-none-any.whl (89kB)\n",
            "\r\u001b[K     |███▊                            | 10kB 15.8MB/s eta 0:00:01\r\u001b[K     |███████▍                        | 20kB 21.7MB/s eta 0:00:01\r\u001b[K     |███████████                     | 30kB 24.5MB/s eta 0:00:01\r\u001b[K     |██████████████▊                 | 40kB 27.0MB/s eta 0:00:01\r\u001b[K     |██████████████████▍             | 51kB 29.3MB/s eta 0:00:01\r\u001b[K     |██████████████████████          | 61kB 19.6MB/s eta 0:00:01\r\u001b[K     |█████████████████████████▊      | 71kB 21.1MB/s eta 0:00:01\r\u001b[K     |█████████████████████████████▍  | 81kB 19.0MB/s eta 0:00:01\r\u001b[K     |████████████████████████████████| 92kB 6.9MB/s \n",
            "\u001b[?25hInstalling collected packages: scikit-multilearn\n",
            "Successfully installed scikit-multilearn-0.2.0\n"
          ],
          "name": "stdout"
        }
      ]
    },
    {
      "cell_type": "code",
      "metadata": {
        "id": "qYSkRT1wLJ9L"
      },
      "source": [
        "from sklearn.multiclass import OneVsRestClassifier\n",
        "from skmultilearn.problem_transform import BinaryRelevance, ClassifierChain, LabelPowerset"
      ],
      "execution_count": null,
      "outputs": []
    },
    {
      "cell_type": "code",
      "metadata": {
        "id": "xKDY1KAdLYPh"
      },
      "source": [
        "from sklearn.svm import SVC\n",
        "from sklearn.linear_model import LogisticRegression\n",
        "import xgboost as xgb\n",
        "from sklearn.tree import DecisionTreeClassifier\n",
        "from sklearn.naive_bayes import MultinomialNB\n",
        "from sklearn.metrics import accuracy_score, classification_report\n",
        "from sklearn.ensemble import RandomForestClassifier"
      ],
      "execution_count": null,
      "outputs": []
    },
    {
      "cell_type": "code",
      "metadata": {
        "id": "VBTbMzHpLYR6"
      },
      "source": [
        "svc = SVC()\n",
        "lr = LogisticRegression()\n",
        "xgb_c = xgb.XGBClassifier()\n",
        "dt = DecisionTreeClassifier()\n",
        "nb = MultinomialNB()\n",
        "rfl = RandomForestClassifier()"
      ],
      "execution_count": null,
      "outputs": []
    },
    {
      "cell_type": "markdown",
      "metadata": {
        "id": "ygn7d4r15TkI"
      },
      "source": [
        "**OneVSRest using SVC**"
      ]
    },
    {
      "cell_type": "code",
      "metadata": {
        "colab": {
          "base_uri": "https://localhost:8080/"
        },
        "id": "NW0WUKA9j5JR",
        "outputId": "533c3990-ccb3-47ff-da18-1785bfc411a6"
      },
      "source": [
        "ovr = OneVsRestClassifier(svc)\n",
        "ovr.fit(x_train,y_train)"
      ],
      "execution_count": null,
      "outputs": [
        {
          "output_type": "execute_result",
          "data": {
            "text/plain": [
              "OneVsRestClassifier(estimator=SVC(C=1.0, break_ties=False, cache_size=200,\n",
              "                                  class_weight=None, coef0=0.0,\n",
              "                                  decision_function_shape='ovr', degree=3,\n",
              "                                  gamma='scale', kernel='rbf', max_iter=-1,\n",
              "                                  probability=False, random_state=None,\n",
              "                                  shrinking=True, tol=0.001, verbose=False),\n",
              "                    n_jobs=None)"
            ]
          },
          "metadata": {
            "tags": []
          },
          "execution_count": 95
        }
      ]
    },
    {
      "cell_type": "code",
      "metadata": {
        "id": "9Qc45beKj5SB"
      },
      "source": [
        "predictions = ovr.predict(x_test)"
      ],
      "execution_count": null,
      "outputs": []
    },
    {
      "cell_type": "code",
      "metadata": {
        "colab": {
          "base_uri": "https://localhost:8080/"
        },
        "id": "rs0wQ8I8j5VP",
        "outputId": "041afbf5-102a-4242-9456-dec924cad77c"
      },
      "source": [
        "print(accuracy_score(y_test, predictions))"
      ],
      "execution_count": null,
      "outputs": [
        {
          "output_type": "stream",
          "text": [
            "0.014935414424111948\n"
          ],
          "name": "stdout"
        }
      ]
    },
    {
      "cell_type": "code",
      "metadata": {
        "colab": {
          "base_uri": "https://localhost:8080/"
        },
        "id": "yFAAj_gakK0P",
        "outputId": "24493203-79fe-430e-ed6c-e7ee865b0fe1"
      },
      "source": [
        "print(classification_report(y_test, predictions))"
      ],
      "execution_count": null,
      "outputs": [
        {
          "output_type": "stream",
          "text": [
            "              precision    recall  f1-score   support\n",
            "\n",
            "           0       0.80      0.42      0.55      2231\n",
            "           1       0.60      0.45      0.52      3171\n",
            "           2       0.65      0.05      0.10      2030\n",
            "           3       0.00      0.00      0.00        20\n",
            "           4       0.00      0.00      0.00         9\n",
            "           5       0.00      0.00      0.00         5\n",
            "           6       1.00      0.01      0.02       703\n",
            "           7       0.00      0.00      0.00        18\n",
            "           8       0.64      0.02      0.04      1711\n",
            "           9       1.00      0.00      0.01       267\n",
            "          10       0.00      0.00      0.00        36\n",
            "          11       0.00      0.00      0.00        27\n",
            "          12       0.00      0.00      0.00        19\n",
            "          13       0.00      0.00      0.00        51\n",
            "          14       1.00      0.00      0.01       596\n",
            "          15       0.00      0.00      0.00       345\n",
            "          16       0.00      0.00      0.00        18\n",
            "          17       0.00      0.00      0.00       195\n",
            "          18       0.00      0.00      0.00         7\n",
            "          19       0.00      0.00      0.00        46\n",
            "          20       1.00      0.01      0.02       269\n",
            "          21       0.00      0.00      0.00       180\n",
            "          22       0.00      0.00      0.00       405\n",
            "          23       0.96      0.13      0.23       390\n",
            "          24       0.00      0.00      0.00        95\n",
            "          25       0.00      0.00      0.00         4\n",
            "          26       0.00      0.00      0.00       300\n",
            "          27       0.00      0.00      0.00        20\n",
            "          28       0.00      0.00      0.00        13\n",
            "          29       0.00      0.00      0.00        26\n",
            "          30       1.00      0.01      0.02       593\n",
            "          31       0.80      0.04      0.07       326\n",
            "          32       0.00      0.00      0.00        46\n",
            "          33       0.00      0.00      0.00        14\n",
            "          34       0.00      0.00      0.00        77\n",
            "          35       0.00      0.00      0.00         4\n",
            "          36       1.00      0.16      0.28        43\n",
            "          37       0.00      0.00      0.00        66\n",
            "          38       0.00      0.00      0.00       589\n",
            "          39       0.00      0.00      0.00        31\n",
            "          40       0.00      0.00      0.00         2\n",
            "          41       0.00      0.00      0.00        48\n",
            "          42       0.93      0.02      0.04       776\n",
            "          43       0.00      0.00      0.00        34\n",
            "          44       0.00      0.00      0.00       553\n",
            "          45       0.00      0.00      0.00        26\n",
            "          46       0.94      0.08      0.14      1120\n",
            "          47       1.00      0.00      0.00       482\n",
            "          48       0.50      0.00      0.01       826\n",
            "          49       0.00      0.00      0.00         5\n",
            "          50       0.00      0.00      0.00        10\n",
            "          51       1.00      0.01      0.01       368\n",
            "          52       0.66      0.54      0.60      3444\n",
            "          53       0.62      0.29      0.39      3050\n",
            "          54       0.66      0.76      0.70      3988\n",
            "\n",
            "   micro avg       0.66      0.28      0.40     29728\n",
            "   macro avg       0.31      0.05      0.07     29728\n",
            "weighted avg       0.64      0.28      0.32     29728\n",
            " samples avg       0.65      0.28      0.38     29728\n",
            "\n"
          ],
          "name": "stdout"
        },
        {
          "output_type": "stream",
          "text": [
            "/usr/local/lib/python3.7/dist-packages/sklearn/metrics/_classification.py:1272: UndefinedMetricWarning: Precision and F-score are ill-defined and being set to 0.0 in labels with no predicted samples. Use `zero_division` parameter to control this behavior.\n",
            "  _warn_prf(average, modifier, msg_start, len(result))\n"
          ],
          "name": "stderr"
        }
      ]
    },
    {
      "cell_type": "code",
      "metadata": {
        "id": "-NSTDuFIZ0ag"
      },
      "source": [
        ""
      ],
      "execution_count": null,
      "outputs": []
    },
    {
      "cell_type": "code",
      "metadata": {
        "id": "i3XnUqWiZ0dO"
      },
      "source": [
        ""
      ],
      "execution_count": null,
      "outputs": []
    },
    {
      "cell_type": "code",
      "metadata": {
        "id": "7NQTbOIfSROi"
      },
      "source": [
        ""
      ],
      "execution_count": null,
      "outputs": []
    },
    {
      "cell_type": "code",
      "metadata": {
        "id": "ED9SThXGSRRK"
      },
      "source": [
        ""
      ],
      "execution_count": null,
      "outputs": []
    },
    {
      "cell_type": "code",
      "metadata": {
        "id": "uFsf6rBHSRTl"
      },
      "source": [
        ""
      ],
      "execution_count": null,
      "outputs": []
    },
    {
      "cell_type": "code",
      "metadata": {
        "id": "0n3dZ3DuSRYB"
      },
      "source": [
        ""
      ],
      "execution_count": null,
      "outputs": []
    }
  ]
}