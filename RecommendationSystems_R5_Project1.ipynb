{
 "cells": [
  {
   "cell_type": "markdown",
   "metadata": {},
   "source": [
    "## Objective"
   ]
  },
  {
   "cell_type": "markdown",
   "metadata": {},
   "source": [
    "To build my own recommendation system for product on an e-commerce website like Amazon."
   ]
  },
  {
   "cell_type": "markdown",
   "metadata": {},
   "source": [
    "Steps:\n",
    "\n",
    "    *) Exploring the data\n",
    "    \n",
    "    *) Simple Poporality based model & Item similarity based recommendations.\n",
    "           * Popularity based model.\n",
    "           * Item similarity model.\n",
    "           * Quatitative comparison between the models.\n",
    "         \n",
    "    *) Transfer the datatframe into surprise training and test set.\n",
    "    \n",
    "    *) Collobartive Filtering using Suprise package:\n",
    "    \n",
    "       -> Item based collabarotive filtering using KNNWith Means.\n",
    "           * Training the model\n",
    "           * Evaluating the model\n",
    "           * Prediction\n",
    "           * Generating top n recommendation\n",
    "           * Top 5 item based recommendation\n",
    "           \n",
    "       -> User Based collaborative filtering using KNNWith Means.\n",
    "           * Training the model\n",
    "           * Evaluating the model\n",
    "           * Prediction\n",
    "           * Generating top n recommendation\n",
    "           * Top 5 item based recommendation\n",
    "           \n",
    "    *) SVD Based collaborative filtering: \n",
    "           * Training the model\n",
    "           * Hyperparameter tunning for SVD recommendation system\n",
    "           * Evaluating the model\n",
    "           * Generating top n recommendation\n",
    "           * Top 5 item based recommendation\n",
    "      \n",
    "    *) Insights"
   ]
  },
  {
   "cell_type": "code",
   "execution_count": 62,
   "metadata": {},
   "outputs": [],
   "source": [
    "from IPython.core.interactiveshell import InteractiveShell\n",
    "InteractiveShell.ast_node_interactivity = \"all\""
   ]
  },
  {
   "cell_type": "code",
   "execution_count": 63,
   "metadata": {},
   "outputs": [],
   "source": [
    "%matplotlib inline\n",
    "import numpy as np\n",
    "import pandas as pd\n",
    "import matplotlib.pyplot as plt\n",
    "import seaborn as sns\n",
    "import warnings\n",
    "#warnings.filterwarnings('ignore')"
   ]
  },
  {
   "cell_type": "code",
   "execution_count": 3,
   "metadata": {},
   "outputs": [],
   "source": [
    "from sklearn.model_selection import train_test_split\n",
    "import Recommenders as recommender\n",
    "import Evaluation as evaluater\n",
    "import time"
   ]
  },
  {
   "cell_type": "code",
   "execution_count": 4,
   "metadata": {},
   "outputs": [],
   "source": [
    "Electronic_df = pd.read_csv('rating_electronic.csv', names = ['userId','productId','ratings','timestamp'], sep='\\,',\n",
    "                            engine = 'python')"
   ]
  },
  {
   "cell_type": "code",
   "execution_count": 5,
   "metadata": {},
   "outputs": [
    {
     "data": {
      "text/html": [
       "<div>\n",
       "<style scoped>\n",
       "    .dataframe tbody tr th:only-of-type {\n",
       "        vertical-align: middle;\n",
       "    }\n",
       "\n",
       "    .dataframe tbody tr th {\n",
       "        vertical-align: top;\n",
       "    }\n",
       "\n",
       "    .dataframe thead th {\n",
       "        text-align: right;\n",
       "    }\n",
       "</style>\n",
       "<table border=\"1\" class=\"dataframe\">\n",
       "  <thead>\n",
       "    <tr style=\"text-align: right;\">\n",
       "      <th></th>\n",
       "      <th>userId</th>\n",
       "      <th>productId</th>\n",
       "      <th>ratings</th>\n",
       "      <th>timestamp</th>\n",
       "    </tr>\n",
       "  </thead>\n",
       "  <tbody>\n",
       "    <tr>\n",
       "      <th>0</th>\n",
       "      <td>\"AKM1MP6P0OYPR</td>\n",
       "      <td>0132793040</td>\n",
       "      <td>5.0</td>\n",
       "      <td>1365811200\"</td>\n",
       "    </tr>\n",
       "    <tr>\n",
       "      <th>1</th>\n",
       "      <td>\"A2CX7LUOHB2NDG</td>\n",
       "      <td>0321732944</td>\n",
       "      <td>5.0</td>\n",
       "      <td>1341100800\"</td>\n",
       "    </tr>\n",
       "    <tr>\n",
       "      <th>2</th>\n",
       "      <td>\"A2NWSAGRHCP8N5</td>\n",
       "      <td>0439886341</td>\n",
       "      <td>1.0</td>\n",
       "      <td>1367193600\"</td>\n",
       "    </tr>\n",
       "    <tr>\n",
       "      <th>3</th>\n",
       "      <td>\"A2WNBOD3WNDNKT</td>\n",
       "      <td>0439886341</td>\n",
       "      <td>3.0</td>\n",
       "      <td>1374451200\"</td>\n",
       "    </tr>\n",
       "    <tr>\n",
       "      <th>4</th>\n",
       "      <td>\"A1GI0U4ZRJA8WN</td>\n",
       "      <td>0439886341</td>\n",
       "      <td>1.0</td>\n",
       "      <td>1334707200\"</td>\n",
       "    </tr>\n",
       "  </tbody>\n",
       "</table>\n",
       "</div>"
      ],
      "text/plain": [
       "            userId   productId  ratings    timestamp\n",
       "0   \"AKM1MP6P0OYPR  0132793040      5.0  1365811200\"\n",
       "1  \"A2CX7LUOHB2NDG  0321732944      5.0  1341100800\"\n",
       "2  \"A2NWSAGRHCP8N5  0439886341      1.0  1367193600\"\n",
       "3  \"A2WNBOD3WNDNKT  0439886341      3.0  1374451200\"\n",
       "4  \"A1GI0U4ZRJA8WN  0439886341      1.0  1334707200\""
      ]
     },
     "execution_count": 5,
     "metadata": {},
     "output_type": "execute_result"
    }
   ],
   "source": [
    "Electronic_df.head()"
   ]
  },
  {
   "cell_type": "code",
   "execution_count": 6,
   "metadata": {},
   "outputs": [],
   "source": [
    "Electronic_df.drop('timestamp', axis=1, inplace= True) ## Dropping timestamp column as it is not used in this case"
   ]
  },
  {
   "cell_type": "code",
   "execution_count": 7,
   "metadata": {},
   "outputs": [
    {
     "data": {
      "text/html": [
       "<div>\n",
       "<style scoped>\n",
       "    .dataframe tbody tr th:only-of-type {\n",
       "        vertical-align: middle;\n",
       "    }\n",
       "\n",
       "    .dataframe tbody tr th {\n",
       "        vertical-align: top;\n",
       "    }\n",
       "\n",
       "    .dataframe thead th {\n",
       "        text-align: right;\n",
       "    }\n",
       "</style>\n",
       "<table border=\"1\" class=\"dataframe\">\n",
       "  <thead>\n",
       "    <tr style=\"text-align: right;\">\n",
       "      <th></th>\n",
       "      <th>userId</th>\n",
       "      <th>productId</th>\n",
       "      <th>ratings</th>\n",
       "    </tr>\n",
       "  </thead>\n",
       "  <tbody>\n",
       "    <tr>\n",
       "      <th>0</th>\n",
       "      <td>\"AKM1MP6P0OYPR</td>\n",
       "      <td>0132793040</td>\n",
       "      <td>5.0</td>\n",
       "    </tr>\n",
       "    <tr>\n",
       "      <th>1</th>\n",
       "      <td>\"A2CX7LUOHB2NDG</td>\n",
       "      <td>0321732944</td>\n",
       "      <td>5.0</td>\n",
       "    </tr>\n",
       "    <tr>\n",
       "      <th>2</th>\n",
       "      <td>\"A2NWSAGRHCP8N5</td>\n",
       "      <td>0439886341</td>\n",
       "      <td>1.0</td>\n",
       "    </tr>\n",
       "    <tr>\n",
       "      <th>3</th>\n",
       "      <td>\"A2WNBOD3WNDNKT</td>\n",
       "      <td>0439886341</td>\n",
       "      <td>3.0</td>\n",
       "    </tr>\n",
       "    <tr>\n",
       "      <th>4</th>\n",
       "      <td>\"A1GI0U4ZRJA8WN</td>\n",
       "      <td>0439886341</td>\n",
       "      <td>1.0</td>\n",
       "    </tr>\n",
       "  </tbody>\n",
       "</table>\n",
       "</div>"
      ],
      "text/plain": [
       "            userId   productId  ratings\n",
       "0   \"AKM1MP6P0OYPR  0132793040      5.0\n",
       "1  \"A2CX7LUOHB2NDG  0321732944      5.0\n",
       "2  \"A2NWSAGRHCP8N5  0439886341      1.0\n",
       "3  \"A2WNBOD3WNDNKT  0439886341      3.0\n",
       "4  \"A1GI0U4ZRJA8WN  0439886341      1.0"
      ]
     },
     "execution_count": 7,
     "metadata": {},
     "output_type": "execute_result"
    }
   ],
   "source": [
    "Electronic_df.head()"
   ]
  },
  {
   "cell_type": "code",
   "execution_count": 8,
   "metadata": {},
   "outputs": [
    {
     "data": {
      "text/plain": [
       "array(['\"AKM1MP6P0OYPR', '\"A2CX7LUOHB2NDG', '\"A2NWSAGRHCP8N5', ...,\n",
       "       '\"A1H16CBCNEL4G3', '\"A2KIYE5RF0OEMY', '\"A1G9Q5UJ5Y7DES'],\n",
       "      dtype=object)"
      ]
     },
     "execution_count": 8,
     "metadata": {},
     "output_type": "execute_result"
    }
   ],
   "source": [
    "Electronic_df.userId.unique()"
   ]
  },
  {
   "cell_type": "markdown",
   "metadata": {},
   "source": [
    "Found there is a \" present in all the values of userId column, hence removing it"
   ]
  },
  {
   "cell_type": "code",
   "execution_count": 9,
   "metadata": {},
   "outputs": [],
   "source": [
    "Electronic_df['userId'] =  Electronic_df['userId'].str.replace('\"','')"
   ]
  },
  {
   "cell_type": "code",
   "execution_count": 10,
   "metadata": {},
   "outputs": [
    {
     "data": {
      "text/plain": [
       "array(['AKM1MP6P0OYPR', 'A2CX7LUOHB2NDG', 'A2NWSAGRHCP8N5', ...,\n",
       "       'A1H16CBCNEL4G3', 'A2KIYE5RF0OEMY', 'A1G9Q5UJ5Y7DES'], dtype=object)"
      ]
     },
     "execution_count": 10,
     "metadata": {},
     "output_type": "execute_result"
    }
   ],
   "source": [
    "Electronic_df['userId'].unique()"
   ]
  },
  {
   "cell_type": "code",
   "execution_count": 11,
   "metadata": {},
   "outputs": [
    {
     "data": {
      "text/plain": [
       "userId        object\n",
       "productId     object\n",
       "ratings      float64\n",
       "dtype: object"
      ]
     },
     "execution_count": 11,
     "metadata": {},
     "output_type": "execute_result"
    }
   ],
   "source": [
    "Electronic_df.dtypes"
   ]
  },
  {
   "cell_type": "code",
   "execution_count": 12,
   "metadata": {},
   "outputs": [
    {
     "data": {
      "text/html": [
       "<div>\n",
       "<style scoped>\n",
       "    .dataframe tbody tr th:only-of-type {\n",
       "        vertical-align: middle;\n",
       "    }\n",
       "\n",
       "    .dataframe tbody tr th {\n",
       "        vertical-align: top;\n",
       "    }\n",
       "\n",
       "    .dataframe thead th {\n",
       "        text-align: right;\n",
       "    }\n",
       "</style>\n",
       "<table border=\"1\" class=\"dataframe\">\n",
       "  <thead>\n",
       "    <tr style=\"text-align: right;\">\n",
       "      <th></th>\n",
       "      <th>userId</th>\n",
       "      <th>productId</th>\n",
       "      <th>ratings</th>\n",
       "    </tr>\n",
       "  </thead>\n",
       "  <tbody>\n",
       "    <tr>\n",
       "      <th>0</th>\n",
       "      <td>AKM1MP6P0OYPR</td>\n",
       "      <td>0132793040</td>\n",
       "      <td>5.0</td>\n",
       "    </tr>\n",
       "    <tr>\n",
       "      <th>1</th>\n",
       "      <td>A2CX7LUOHB2NDG</td>\n",
       "      <td>0321732944</td>\n",
       "      <td>5.0</td>\n",
       "    </tr>\n",
       "    <tr>\n",
       "      <th>2</th>\n",
       "      <td>A2NWSAGRHCP8N5</td>\n",
       "      <td>0439886341</td>\n",
       "      <td>1.0</td>\n",
       "    </tr>\n",
       "    <tr>\n",
       "      <th>3</th>\n",
       "      <td>A2WNBOD3WNDNKT</td>\n",
       "      <td>0439886341</td>\n",
       "      <td>3.0</td>\n",
       "    </tr>\n",
       "    <tr>\n",
       "      <th>4</th>\n",
       "      <td>A1GI0U4ZRJA8WN</td>\n",
       "      <td>0439886341</td>\n",
       "      <td>1.0</td>\n",
       "    </tr>\n",
       "  </tbody>\n",
       "</table>\n",
       "</div>"
      ],
      "text/plain": [
       "           userId   productId  ratings\n",
       "0   AKM1MP6P0OYPR  0132793040      5.0\n",
       "1  A2CX7LUOHB2NDG  0321732944      5.0\n",
       "2  A2NWSAGRHCP8N5  0439886341      1.0\n",
       "3  A2WNBOD3WNDNKT  0439886341      3.0\n",
       "4  A1GI0U4ZRJA8WN  0439886341      1.0"
      ]
     },
     "execution_count": 12,
     "metadata": {},
     "output_type": "execute_result"
    }
   ],
   "source": [
    "Electronic_df.head()"
   ]
  },
  {
   "cell_type": "code",
   "execution_count": 13,
   "metadata": {},
   "outputs": [
    {
     "data": {
      "text/plain": [
       "(1048576, 3)"
      ]
     },
     "execution_count": 13,
     "metadata": {},
     "output_type": "execute_result"
    }
   ],
   "source": [
    "Electronic_df.shape"
   ]
  },
  {
   "cell_type": "code",
   "execution_count": 14,
   "metadata": {},
   "outputs": [
    {
     "data": {
      "text/plain": [
       "userId       0\n",
       "productId    0\n",
       "ratings      0\n",
       "dtype: int64"
      ]
     },
     "execution_count": 14,
     "metadata": {},
     "output_type": "execute_result"
    }
   ],
   "source": [
    "Electronic_df.isnull().sum()"
   ]
  },
  {
   "cell_type": "code",
   "execution_count": 15,
   "metadata": {},
   "outputs": [
    {
     "data": {
      "text/html": [
       "<div>\n",
       "<style scoped>\n",
       "    .dataframe tbody tr th:only-of-type {\n",
       "        vertical-align: middle;\n",
       "    }\n",
       "\n",
       "    .dataframe tbody tr th {\n",
       "        vertical-align: top;\n",
       "    }\n",
       "\n",
       "    .dataframe thead th {\n",
       "        text-align: right;\n",
       "    }\n",
       "</style>\n",
       "<table border=\"1\" class=\"dataframe\">\n",
       "  <thead>\n",
       "    <tr style=\"text-align: right;\">\n",
       "      <th></th>\n",
       "      <th>count</th>\n",
       "      <th>mean</th>\n",
       "      <th>std</th>\n",
       "      <th>min</th>\n",
       "      <th>25%</th>\n",
       "      <th>50%</th>\n",
       "      <th>75%</th>\n",
       "      <th>max</th>\n",
       "    </tr>\n",
       "  </thead>\n",
       "  <tbody>\n",
       "    <tr>\n",
       "      <th>ratings</th>\n",
       "      <td>1048576.0</td>\n",
       "      <td>3.97338</td>\n",
       "      <td>1.399329</td>\n",
       "      <td>1.0</td>\n",
       "      <td>3.0</td>\n",
       "      <td>5.0</td>\n",
       "      <td>5.0</td>\n",
       "      <td>5.0</td>\n",
       "    </tr>\n",
       "  </tbody>\n",
       "</table>\n",
       "</div>"
      ],
      "text/plain": [
       "             count     mean       std  min  25%  50%  75%  max\n",
       "ratings  1048576.0  3.97338  1.399329  1.0  3.0  5.0  5.0  5.0"
      ]
     },
     "execution_count": 15,
     "metadata": {},
     "output_type": "execute_result"
    }
   ],
   "source": [
    "Electronic_df.describe().T"
   ]
  },
  {
   "cell_type": "markdown",
   "metadata": {},
   "source": [
    "###### Keeping the users who has given 50 plus rating "
   ]
  },
  {
   "cell_type": "code",
   "execution_count": 17,
   "metadata": {},
   "outputs": [],
   "source": [
    "elect = Electronic_df.groupby(['userId'], sort = False, as_index= False).sum()"
   ]
  },
  {
   "cell_type": "code",
   "execution_count": 18,
   "metadata": {},
   "outputs": [
    {
     "data": {
      "text/plain": [
       "(786330, 2)"
      ]
     },
     "execution_count": 18,
     "metadata": {},
     "output_type": "execute_result"
    }
   ],
   "source": [
    "elect.shape"
   ]
  },
  {
   "cell_type": "code",
   "execution_count": 19,
   "metadata": {},
   "outputs": [
    {
     "data": {
      "text/plain": [
       "userId      object\n",
       "ratings    float64\n",
       "dtype: object"
      ]
     },
     "execution_count": 19,
     "metadata": {},
     "output_type": "execute_result"
    }
   ],
   "source": [
    "elect.dtypes"
   ]
  },
  {
   "cell_type": "code",
   "execution_count": 20,
   "metadata": {},
   "outputs": [],
   "source": [
    "elect= elect.loc[elect['ratings'] >=50]"
   ]
  },
  {
   "cell_type": "code",
   "execution_count": 21,
   "metadata": {},
   "outputs": [
    {
     "data": {
      "text/html": [
       "<div>\n",
       "<style scoped>\n",
       "    .dataframe tbody tr th:only-of-type {\n",
       "        vertical-align: middle;\n",
       "    }\n",
       "\n",
       "    .dataframe tbody tr th {\n",
       "        vertical-align: top;\n",
       "    }\n",
       "\n",
       "    .dataframe thead th {\n",
       "        text-align: right;\n",
       "    }\n",
       "</style>\n",
       "<table border=\"1\" class=\"dataframe\">\n",
       "  <thead>\n",
       "    <tr style=\"text-align: right;\">\n",
       "      <th></th>\n",
       "      <th>userId</th>\n",
       "      <th>ratings</th>\n",
       "    </tr>\n",
       "  </thead>\n",
       "  <tbody>\n",
       "    <tr>\n",
       "      <th>118</th>\n",
       "      <td>AT09WGFUM934H</td>\n",
       "      <td>54.0</td>\n",
       "    </tr>\n",
       "    <tr>\n",
       "      <th>178</th>\n",
       "      <td>A17HMM1M7T9PJ1</td>\n",
       "      <td>122.0</td>\n",
       "    </tr>\n",
       "    <tr>\n",
       "      <th>389</th>\n",
       "      <td>A6J8D9V5S9MBE</td>\n",
       "      <td>70.0</td>\n",
       "    </tr>\n",
       "    <tr>\n",
       "      <th>631</th>\n",
       "      <td>A3TAS1AG6FMBQW</td>\n",
       "      <td>80.0</td>\n",
       "    </tr>\n",
       "    <tr>\n",
       "      <th>1045</th>\n",
       "      <td>ABU4LUKJU2QOY</td>\n",
       "      <td>70.0</td>\n",
       "    </tr>\n",
       "    <tr>\n",
       "      <th>1138</th>\n",
       "      <td>A25RTRAPQAJBDJ</td>\n",
       "      <td>91.0</td>\n",
       "    </tr>\n",
       "    <tr>\n",
       "      <th>1310</th>\n",
       "      <td>A3LDPF5FMB782Z</td>\n",
       "      <td>51.0</td>\n",
       "    </tr>\n",
       "    <tr>\n",
       "      <th>1322</th>\n",
       "      <td>A1A5KUIIIHFF4U</td>\n",
       "      <td>53.0</td>\n",
       "    </tr>\n",
       "    <tr>\n",
       "      <th>1485</th>\n",
       "      <td>A19N3S7CBSU6O7</td>\n",
       "      <td>57.0</td>\n",
       "    </tr>\n",
       "    <tr>\n",
       "      <th>1926</th>\n",
       "      <td>A1WKUY7T0EM0GM</td>\n",
       "      <td>64.0</td>\n",
       "    </tr>\n",
       "  </tbody>\n",
       "</table>\n",
       "</div>"
      ],
      "text/plain": [
       "              userId  ratings\n",
       "118    AT09WGFUM934H     54.0\n",
       "178   A17HMM1M7T9PJ1    122.0\n",
       "389    A6J8D9V5S9MBE     70.0\n",
       "631   A3TAS1AG6FMBQW     80.0\n",
       "1045   ABU4LUKJU2QOY     70.0\n",
       "1138  A25RTRAPQAJBDJ     91.0\n",
       "1310  A3LDPF5FMB782Z     51.0\n",
       "1322  A1A5KUIIIHFF4U     53.0\n",
       "1485  A19N3S7CBSU6O7     57.0\n",
       "1926  A1WKUY7T0EM0GM     64.0"
      ]
     },
     "execution_count": 21,
     "metadata": {},
     "output_type": "execute_result"
    }
   ],
   "source": [
    "elect.head(10)"
   ]
  },
  {
   "cell_type": "code",
   "execution_count": 22,
   "metadata": {},
   "outputs": [],
   "source": [
    "Elect_df = Electronic_df[Electronic_df['userId'].isin(elect['userId'])]"
   ]
  },
  {
   "cell_type": "code",
   "execution_count": 23,
   "metadata": {},
   "outputs": [
    {
     "data": {
      "text/plain": [
       "(27819, 3)"
      ]
     },
     "execution_count": 23,
     "metadata": {},
     "output_type": "execute_result"
    }
   ],
   "source": [
    "Elect_df.shape"
   ]
  },
  {
   "cell_type": "code",
   "execution_count": 24,
   "metadata": {},
   "outputs": [
    {
     "data": {
      "text/html": [
       "<div>\n",
       "<style scoped>\n",
       "    .dataframe tbody tr th:only-of-type {\n",
       "        vertical-align: middle;\n",
       "    }\n",
       "\n",
       "    .dataframe tbody tr th {\n",
       "        vertical-align: top;\n",
       "    }\n",
       "\n",
       "    .dataframe thead th {\n",
       "        text-align: right;\n",
       "    }\n",
       "</style>\n",
       "<table border=\"1\" class=\"dataframe\">\n",
       "  <thead>\n",
       "    <tr style=\"text-align: right;\">\n",
       "      <th></th>\n",
       "      <th>userId</th>\n",
       "      <th>productId</th>\n",
       "      <th>ratings</th>\n",
       "    </tr>\n",
       "  </thead>\n",
       "  <tbody>\n",
       "    <tr>\n",
       "      <th>118</th>\n",
       "      <td>AT09WGFUM934H</td>\n",
       "      <td>0594481813</td>\n",
       "      <td>3.0</td>\n",
       "    </tr>\n",
       "    <tr>\n",
       "      <th>178</th>\n",
       "      <td>A17HMM1M7T9PJ1</td>\n",
       "      <td>0970407998</td>\n",
       "      <td>4.0</td>\n",
       "    </tr>\n",
       "    <tr>\n",
       "      <th>389</th>\n",
       "      <td>A6J8D9V5S9MBE</td>\n",
       "      <td>0972683275</td>\n",
       "      <td>5.0</td>\n",
       "    </tr>\n",
       "    <tr>\n",
       "      <th>631</th>\n",
       "      <td>A3TAS1AG6FMBQW</td>\n",
       "      <td>0972683275</td>\n",
       "      <td>5.0</td>\n",
       "    </tr>\n",
       "    <tr>\n",
       "      <th>1045</th>\n",
       "      <td>ABU4LUKJU2QOY</td>\n",
       "      <td>0972683275</td>\n",
       "      <td>5.0</td>\n",
       "    </tr>\n",
       "  </tbody>\n",
       "</table>\n",
       "</div>"
      ],
      "text/plain": [
       "              userId   productId  ratings\n",
       "118    AT09WGFUM934H  0594481813      3.0\n",
       "178   A17HMM1M7T9PJ1  0970407998      4.0\n",
       "389    A6J8D9V5S9MBE  0972683275      5.0\n",
       "631   A3TAS1AG6FMBQW  0972683275      5.0\n",
       "1045   ABU4LUKJU2QOY  0972683275      5.0"
      ]
     },
     "execution_count": 24,
     "metadata": {},
     "output_type": "execute_result"
    }
   ],
   "source": [
    "Elect_df.head()"
   ]
  },
  {
   "cell_type": "code",
   "execution_count": 25,
   "metadata": {
    "scrolled": true
   },
   "outputs": [
    {
     "data": {
      "text/html": [
       "<div>\n",
       "<style scoped>\n",
       "    .dataframe tbody tr th:only-of-type {\n",
       "        vertical-align: middle;\n",
       "    }\n",
       "\n",
       "    .dataframe tbody tr th {\n",
       "        vertical-align: top;\n",
       "    }\n",
       "\n",
       "    .dataframe thead th {\n",
       "        text-align: right;\n",
       "    }\n",
       "</style>\n",
       "<table border=\"1\" class=\"dataframe\">\n",
       "  <thead>\n",
       "    <tr style=\"text-align: right;\">\n",
       "      <th></th>\n",
       "      <th>userId</th>\n",
       "      <th>productId</th>\n",
       "      <th>ratings</th>\n",
       "    </tr>\n",
       "  </thead>\n",
       "  <tbody>\n",
       "    <tr>\n",
       "      <th>2162</th>\n",
       "      <td>A5JLAU2ARJ0BO</td>\n",
       "      <td>1400532655</td>\n",
       "      <td>1.0</td>\n",
       "    </tr>\n",
       "    <tr>\n",
       "      <th>32736</th>\n",
       "      <td>A5JLAU2ARJ0BO</td>\n",
       "      <td>B00003006R</td>\n",
       "      <td>5.0</td>\n",
       "    </tr>\n",
       "    <tr>\n",
       "      <th>35087</th>\n",
       "      <td>A5JLAU2ARJ0BO</td>\n",
       "      <td>B00003G1RG</td>\n",
       "      <td>3.0</td>\n",
       "    </tr>\n",
       "    <tr>\n",
       "      <th>38345</th>\n",
       "      <td>A5JLAU2ARJ0BO</td>\n",
       "      <td>B00004S9AK</td>\n",
       "      <td>5.0</td>\n",
       "    </tr>\n",
       "    <tr>\n",
       "      <th>40411</th>\n",
       "      <td>A5JLAU2ARJ0BO</td>\n",
       "      <td>B00004SB92</td>\n",
       "      <td>4.0</td>\n",
       "    </tr>\n",
       "    <tr>\n",
       "      <th>43650</th>\n",
       "      <td>A5JLAU2ARJ0BO</td>\n",
       "      <td>B00004T1KZ</td>\n",
       "      <td>4.0</td>\n",
       "    </tr>\n",
       "    <tr>\n",
       "      <th>50803</th>\n",
       "      <td>A5JLAU2ARJ0BO</td>\n",
       "      <td>B00004TS16</td>\n",
       "      <td>5.0</td>\n",
       "    </tr>\n",
       "    <tr>\n",
       "      <th>51151</th>\n",
       "      <td>A5JLAU2ARJ0BO</td>\n",
       "      <td>B00004TVSO</td>\n",
       "      <td>2.0</td>\n",
       "    </tr>\n",
       "    <tr>\n",
       "      <th>56089</th>\n",
       "      <td>A5JLAU2ARJ0BO</td>\n",
       "      <td>B00004VX3T</td>\n",
       "      <td>3.0</td>\n",
       "    </tr>\n",
       "    <tr>\n",
       "      <th>60788</th>\n",
       "      <td>A5JLAU2ARJ0BO</td>\n",
       "      <td>B00004X107</td>\n",
       "      <td>4.0</td>\n",
       "    </tr>\n",
       "    <tr>\n",
       "      <th>63315</th>\n",
       "      <td>A5JLAU2ARJ0BO</td>\n",
       "      <td>B00004YKDQ</td>\n",
       "      <td>1.0</td>\n",
       "    </tr>\n",
       "    <tr>\n",
       "      <th>66141</th>\n",
       "      <td>A5JLAU2ARJ0BO</td>\n",
       "      <td>B00004Z5L8</td>\n",
       "      <td>5.0</td>\n",
       "    </tr>\n",
       "    <tr>\n",
       "      <th>66549</th>\n",
       "      <td>A5JLAU2ARJ0BO</td>\n",
       "      <td>B00004Z5M1</td>\n",
       "      <td>5.0</td>\n",
       "    </tr>\n",
       "    <tr>\n",
       "      <th>84798</th>\n",
       "      <td>A5JLAU2ARJ0BO</td>\n",
       "      <td>B000056SRE</td>\n",
       "      <td>5.0</td>\n",
       "    </tr>\n",
       "    <tr>\n",
       "      <th>85440</th>\n",
       "      <td>A5JLAU2ARJ0BO</td>\n",
       "      <td>B00005853Z</td>\n",
       "      <td>5.0</td>\n",
       "    </tr>\n",
       "    <tr>\n",
       "      <th>102147</th>\n",
       "      <td>A5JLAU2ARJ0BO</td>\n",
       "      <td>B00005LEN4</td>\n",
       "      <td>5.0</td>\n",
       "    </tr>\n",
       "    <tr>\n",
       "      <th>103006</th>\n",
       "      <td>A5JLAU2ARJ0BO</td>\n",
       "      <td>B00005LENO</td>\n",
       "      <td>5.0</td>\n",
       "    </tr>\n",
       "    <tr>\n",
       "      <th>106331</th>\n",
       "      <td>A5JLAU2ARJ0BO</td>\n",
       "      <td>B00005MOZG</td>\n",
       "      <td>4.0</td>\n",
       "    </tr>\n",
       "    <tr>\n",
       "      <th>110531</th>\n",
       "      <td>A5JLAU2ARJ0BO</td>\n",
       "      <td>B00005NIMR</td>\n",
       "      <td>4.0</td>\n",
       "    </tr>\n",
       "    <tr>\n",
       "      <th>110774</th>\n",
       "      <td>A5JLAU2ARJ0BO</td>\n",
       "      <td>B00005NKXS</td>\n",
       "      <td>5.0</td>\n",
       "    </tr>\n",
       "    <tr>\n",
       "      <th>112182</th>\n",
       "      <td>A5JLAU2ARJ0BO</td>\n",
       "      <td>B00005O0LH</td>\n",
       "      <td>5.0</td>\n",
       "    </tr>\n",
       "    <tr>\n",
       "      <th>113095</th>\n",
       "      <td>A5JLAU2ARJ0BO</td>\n",
       "      <td>B00005OP2T</td>\n",
       "      <td>5.0</td>\n",
       "    </tr>\n",
       "    <tr>\n",
       "      <th>114480</th>\n",
       "      <td>A5JLAU2ARJ0BO</td>\n",
       "      <td>B00005Q7DH</td>\n",
       "      <td>5.0</td>\n",
       "    </tr>\n",
       "    <tr>\n",
       "      <th>114942</th>\n",
       "      <td>A5JLAU2ARJ0BO</td>\n",
       "      <td>B00005QCU3</td>\n",
       "      <td>5.0</td>\n",
       "    </tr>\n",
       "    <tr>\n",
       "      <th>115400</th>\n",
       "      <td>A5JLAU2ARJ0BO</td>\n",
       "      <td>B00005QFZG</td>\n",
       "      <td>5.0</td>\n",
       "    </tr>\n",
       "    <tr>\n",
       "      <th>118664</th>\n",
       "      <td>A5JLAU2ARJ0BO</td>\n",
       "      <td>B00005T3B5</td>\n",
       "      <td>5.0</td>\n",
       "    </tr>\n",
       "    <tr>\n",
       "      <th>123143</th>\n",
       "      <td>A5JLAU2ARJ0BO</td>\n",
       "      <td>B00005T3RC</td>\n",
       "      <td>5.0</td>\n",
       "    </tr>\n",
       "    <tr>\n",
       "      <th>123264</th>\n",
       "      <td>A5JLAU2ARJ0BO</td>\n",
       "      <td>B00005T3SM</td>\n",
       "      <td>5.0</td>\n",
       "    </tr>\n",
       "    <tr>\n",
       "      <th>127773</th>\n",
       "      <td>A5JLAU2ARJ0BO</td>\n",
       "      <td>B00005USA7</td>\n",
       "      <td>5.0</td>\n",
       "    </tr>\n",
       "    <tr>\n",
       "      <th>127844</th>\n",
       "      <td>A5JLAU2ARJ0BO</td>\n",
       "      <td>B00005V14C</td>\n",
       "      <td>5.0</td>\n",
       "    </tr>\n",
       "    <tr>\n",
       "      <th>...</th>\n",
       "      <td>...</td>\n",
       "      <td>...</td>\n",
       "      <td>...</td>\n",
       "    </tr>\n",
       "    <tr>\n",
       "      <th>766100</th>\n",
       "      <td>A5JLAU2ARJ0BO</td>\n",
       "      <td>B000BOPTHO</td>\n",
       "      <td>1.0</td>\n",
       "    </tr>\n",
       "    <tr>\n",
       "      <th>768951</th>\n",
       "      <td>A5JLAU2ARJ0BO</td>\n",
       "      <td>B000BQ57BU</td>\n",
       "      <td>2.0</td>\n",
       "    </tr>\n",
       "    <tr>\n",
       "      <th>810013</th>\n",
       "      <td>A5JLAU2ARJ0BO</td>\n",
       "      <td>B000CQP98A</td>\n",
       "      <td>4.0</td>\n",
       "    </tr>\n",
       "    <tr>\n",
       "      <th>823401</th>\n",
       "      <td>A5JLAU2ARJ0BO</td>\n",
       "      <td>B000DZDQ26</td>\n",
       "      <td>5.0</td>\n",
       "    </tr>\n",
       "    <tr>\n",
       "      <th>823815</th>\n",
       "      <td>A5JLAU2ARJ0BO</td>\n",
       "      <td>B000DZFTZS</td>\n",
       "      <td>5.0</td>\n",
       "    </tr>\n",
       "    <tr>\n",
       "      <th>823901</th>\n",
       "      <td>A5JLAU2ARJ0BO</td>\n",
       "      <td>B000DZFV2E</td>\n",
       "      <td>5.0</td>\n",
       "    </tr>\n",
       "    <tr>\n",
       "      <th>824897</th>\n",
       "      <td>A5JLAU2ARJ0BO</td>\n",
       "      <td>B000DZKNEK</td>\n",
       "      <td>1.0</td>\n",
       "    </tr>\n",
       "    <tr>\n",
       "      <th>825373</th>\n",
       "      <td>A5JLAU2ARJ0BO</td>\n",
       "      <td>B000DZMC3K</td>\n",
       "      <td>5.0</td>\n",
       "    </tr>\n",
       "    <tr>\n",
       "      <th>847355</th>\n",
       "      <td>A5JLAU2ARJ0BO</td>\n",
       "      <td>B000EEQ83K</td>\n",
       "      <td>4.0</td>\n",
       "    </tr>\n",
       "    <tr>\n",
       "      <th>859168</th>\n",
       "      <td>A5JLAU2ARJ0BO</td>\n",
       "      <td>B000EJVWGS</td>\n",
       "      <td>4.0</td>\n",
       "    </tr>\n",
       "    <tr>\n",
       "      <th>864185</th>\n",
       "      <td>A5JLAU2ARJ0BO</td>\n",
       "      <td>B000EN62YG</td>\n",
       "      <td>5.0</td>\n",
       "    </tr>\n",
       "    <tr>\n",
       "      <th>865427</th>\n",
       "      <td>A5JLAU2ARJ0BO</td>\n",
       "      <td>B000ENQSRW</td>\n",
       "      <td>2.0</td>\n",
       "    </tr>\n",
       "    <tr>\n",
       "      <th>865584</th>\n",
       "      <td>A5JLAU2ARJ0BO</td>\n",
       "      <td>B000ENQUDY</td>\n",
       "      <td>5.0</td>\n",
       "    </tr>\n",
       "    <tr>\n",
       "      <th>870860</th>\n",
       "      <td>A5JLAU2ARJ0BO</td>\n",
       "      <td>B000EP1IKW</td>\n",
       "      <td>3.0</td>\n",
       "    </tr>\n",
       "    <tr>\n",
       "      <th>881065</th>\n",
       "      <td>A5JLAU2ARJ0BO</td>\n",
       "      <td>B000ETVKHE</td>\n",
       "      <td>4.0</td>\n",
       "    </tr>\n",
       "    <tr>\n",
       "      <th>886073</th>\n",
       "      <td>A5JLAU2ARJ0BO</td>\n",
       "      <td>B000EVM5DK</td>\n",
       "      <td>5.0</td>\n",
       "    </tr>\n",
       "    <tr>\n",
       "      <th>886653</th>\n",
       "      <td>A5JLAU2ARJ0BO</td>\n",
       "      <td>B000EVM5DU</td>\n",
       "      <td>5.0</td>\n",
       "    </tr>\n",
       "    <tr>\n",
       "      <th>894774</th>\n",
       "      <td>A5JLAU2ARJ0BO</td>\n",
       "      <td>B000EXTW5M</td>\n",
       "      <td>5.0</td>\n",
       "    </tr>\n",
       "    <tr>\n",
       "      <th>898429</th>\n",
       "      <td>A5JLAU2ARJ0BO</td>\n",
       "      <td>B000EZP0MO</td>\n",
       "      <td>5.0</td>\n",
       "    </tr>\n",
       "    <tr>\n",
       "      <th>905952</th>\n",
       "      <td>A5JLAU2ARJ0BO</td>\n",
       "      <td>B000F3RI3O</td>\n",
       "      <td>5.0</td>\n",
       "    </tr>\n",
       "    <tr>\n",
       "      <th>922503</th>\n",
       "      <td>A5JLAU2ARJ0BO</td>\n",
       "      <td>B000FCHTCK</td>\n",
       "      <td>4.0</td>\n",
       "    </tr>\n",
       "    <tr>\n",
       "      <th>931017</th>\n",
       "      <td>A5JLAU2ARJ0BO</td>\n",
       "      <td>B000FH658O</td>\n",
       "      <td>1.0</td>\n",
       "    </tr>\n",
       "    <tr>\n",
       "      <th>950249</th>\n",
       "      <td>A5JLAU2ARJ0BO</td>\n",
       "      <td>B000FRL5ES</td>\n",
       "      <td>5.0</td>\n",
       "    </tr>\n",
       "    <tr>\n",
       "      <th>951207</th>\n",
       "      <td>A5JLAU2ARJ0BO</td>\n",
       "      <td>B000FTEG24</td>\n",
       "      <td>5.0</td>\n",
       "    </tr>\n",
       "    <tr>\n",
       "      <th>953740</th>\n",
       "      <td>A5JLAU2ARJ0BO</td>\n",
       "      <td>B000FVCOGW</td>\n",
       "      <td>5.0</td>\n",
       "    </tr>\n",
       "    <tr>\n",
       "      <th>965579</th>\n",
       "      <td>A5JLAU2ARJ0BO</td>\n",
       "      <td>B000GBO9IM</td>\n",
       "      <td>5.0</td>\n",
       "    </tr>\n",
       "    <tr>\n",
       "      <th>978183</th>\n",
       "      <td>A5JLAU2ARJ0BO</td>\n",
       "      <td>B000GU4E1K</td>\n",
       "      <td>5.0</td>\n",
       "    </tr>\n",
       "    <tr>\n",
       "      <th>1030956</th>\n",
       "      <td>A5JLAU2ARJ0BO</td>\n",
       "      <td>B000I62WVQ</td>\n",
       "      <td>4.0</td>\n",
       "    </tr>\n",
       "    <tr>\n",
       "      <th>1041294</th>\n",
       "      <td>A5JLAU2ARJ0BO</td>\n",
       "      <td>B000IALP88</td>\n",
       "      <td>5.0</td>\n",
       "    </tr>\n",
       "    <tr>\n",
       "      <th>1042568</th>\n",
       "      <td>A5JLAU2ARJ0BO</td>\n",
       "      <td>B000IBRX4M</td>\n",
       "      <td>3.0</td>\n",
       "    </tr>\n",
       "  </tbody>\n",
       "</table>\n",
       "<p>412 rows × 3 columns</p>\n",
       "</div>"
      ],
      "text/plain": [
       "                userId   productId  ratings\n",
       "2162     A5JLAU2ARJ0BO  1400532655      1.0\n",
       "32736    A5JLAU2ARJ0BO  B00003006R      5.0\n",
       "35087    A5JLAU2ARJ0BO  B00003G1RG      3.0\n",
       "38345    A5JLAU2ARJ0BO  B00004S9AK      5.0\n",
       "40411    A5JLAU2ARJ0BO  B00004SB92      4.0\n",
       "43650    A5JLAU2ARJ0BO  B00004T1KZ      4.0\n",
       "50803    A5JLAU2ARJ0BO  B00004TS16      5.0\n",
       "51151    A5JLAU2ARJ0BO  B00004TVSO      2.0\n",
       "56089    A5JLAU2ARJ0BO  B00004VX3T      3.0\n",
       "60788    A5JLAU2ARJ0BO  B00004X107      4.0\n",
       "63315    A5JLAU2ARJ0BO  B00004YKDQ      1.0\n",
       "66141    A5JLAU2ARJ0BO  B00004Z5L8      5.0\n",
       "66549    A5JLAU2ARJ0BO  B00004Z5M1      5.0\n",
       "84798    A5JLAU2ARJ0BO  B000056SRE      5.0\n",
       "85440    A5JLAU2ARJ0BO  B00005853Z      5.0\n",
       "102147   A5JLAU2ARJ0BO  B00005LEN4      5.0\n",
       "103006   A5JLAU2ARJ0BO  B00005LENO      5.0\n",
       "106331   A5JLAU2ARJ0BO  B00005MOZG      4.0\n",
       "110531   A5JLAU2ARJ0BO  B00005NIMR      4.0\n",
       "110774   A5JLAU2ARJ0BO  B00005NKXS      5.0\n",
       "112182   A5JLAU2ARJ0BO  B00005O0LH      5.0\n",
       "113095   A5JLAU2ARJ0BO  B00005OP2T      5.0\n",
       "114480   A5JLAU2ARJ0BO  B00005Q7DH      5.0\n",
       "114942   A5JLAU2ARJ0BO  B00005QCU3      5.0\n",
       "115400   A5JLAU2ARJ0BO  B00005QFZG      5.0\n",
       "118664   A5JLAU2ARJ0BO  B00005T3B5      5.0\n",
       "123143   A5JLAU2ARJ0BO  B00005T3RC      5.0\n",
       "123264   A5JLAU2ARJ0BO  B00005T3SM      5.0\n",
       "127773   A5JLAU2ARJ0BO  B00005USA7      5.0\n",
       "127844   A5JLAU2ARJ0BO  B00005V14C      5.0\n",
       "...                ...         ...      ...\n",
       "766100   A5JLAU2ARJ0BO  B000BOPTHO      1.0\n",
       "768951   A5JLAU2ARJ0BO  B000BQ57BU      2.0\n",
       "810013   A5JLAU2ARJ0BO  B000CQP98A      4.0\n",
       "823401   A5JLAU2ARJ0BO  B000DZDQ26      5.0\n",
       "823815   A5JLAU2ARJ0BO  B000DZFTZS      5.0\n",
       "823901   A5JLAU2ARJ0BO  B000DZFV2E      5.0\n",
       "824897   A5JLAU2ARJ0BO  B000DZKNEK      1.0\n",
       "825373   A5JLAU2ARJ0BO  B000DZMC3K      5.0\n",
       "847355   A5JLAU2ARJ0BO  B000EEQ83K      4.0\n",
       "859168   A5JLAU2ARJ0BO  B000EJVWGS      4.0\n",
       "864185   A5JLAU2ARJ0BO  B000EN62YG      5.0\n",
       "865427   A5JLAU2ARJ0BO  B000ENQSRW      2.0\n",
       "865584   A5JLAU2ARJ0BO  B000ENQUDY      5.0\n",
       "870860   A5JLAU2ARJ0BO  B000EP1IKW      3.0\n",
       "881065   A5JLAU2ARJ0BO  B000ETVKHE      4.0\n",
       "886073   A5JLAU2ARJ0BO  B000EVM5DK      5.0\n",
       "886653   A5JLAU2ARJ0BO  B000EVM5DU      5.0\n",
       "894774   A5JLAU2ARJ0BO  B000EXTW5M      5.0\n",
       "898429   A5JLAU2ARJ0BO  B000EZP0MO      5.0\n",
       "905952   A5JLAU2ARJ0BO  B000F3RI3O      5.0\n",
       "922503   A5JLAU2ARJ0BO  B000FCHTCK      4.0\n",
       "931017   A5JLAU2ARJ0BO  B000FH658O      1.0\n",
       "950249   A5JLAU2ARJ0BO  B000FRL5ES      5.0\n",
       "951207   A5JLAU2ARJ0BO  B000FTEG24      5.0\n",
       "953740   A5JLAU2ARJ0BO  B000FVCOGW      5.0\n",
       "965579   A5JLAU2ARJ0BO  B000GBO9IM      5.0\n",
       "978183   A5JLAU2ARJ0BO  B000GU4E1K      5.0\n",
       "1030956  A5JLAU2ARJ0BO  B000I62WVQ      4.0\n",
       "1041294  A5JLAU2ARJ0BO  B000IALP88      5.0\n",
       "1042568  A5JLAU2ARJ0BO  B000IBRX4M      3.0\n",
       "\n",
       "[412 rows x 3 columns]"
      ]
     },
     "execution_count": 25,
     "metadata": {},
     "output_type": "execute_result"
    }
   ],
   "source": [
    "Elect_df.loc[Elect_df['userId'] == 'A5JLAU2ARJ0BO']"
   ]
  },
  {
   "cell_type": "code",
   "execution_count": 26,
   "metadata": {},
   "outputs": [],
   "source": [
    "dup = Elect_df[Elect_df[[\"userId\",\"productId\"]].duplicated() == True]"
   ]
  },
  {
   "cell_type": "code",
   "execution_count": 27,
   "metadata": {},
   "outputs": [
    {
     "data": {
      "text/html": [
       "<div>\n",
       "<style scoped>\n",
       "    .dataframe tbody tr th:only-of-type {\n",
       "        vertical-align: middle;\n",
       "    }\n",
       "\n",
       "    .dataframe tbody tr th {\n",
       "        vertical-align: top;\n",
       "    }\n",
       "\n",
       "    .dataframe thead th {\n",
       "        text-align: right;\n",
       "    }\n",
       "</style>\n",
       "<table border=\"1\" class=\"dataframe\">\n",
       "  <thead>\n",
       "    <tr style=\"text-align: right;\">\n",
       "      <th></th>\n",
       "      <th>userId</th>\n",
       "      <th>productId</th>\n",
       "      <th>ratings</th>\n",
       "    </tr>\n",
       "  </thead>\n",
       "  <tbody>\n",
       "  </tbody>\n",
       "</table>\n",
       "</div>"
      ],
      "text/plain": [
       "Empty DataFrame\n",
       "Columns: [userId, productId, ratings]\n",
       "Index: []"
      ]
     },
     "execution_count": 27,
     "metadata": {},
     "output_type": "execute_result"
    }
   ],
   "source": [
    "dup"
   ]
  },
  {
   "cell_type": "markdown",
   "metadata": {},
   "source": [
    "There are no duplicate rows present in the data"
   ]
  },
  {
   "cell_type": "code",
   "execution_count": 28,
   "metadata": {},
   "outputs": [],
   "source": [
    "users = Elect_df['userId'].unique()"
   ]
  },
  {
   "cell_type": "code",
   "execution_count": 29,
   "metadata": {},
   "outputs": [
    {
     "data": {
      "text/plain": [
       "1435"
      ]
     },
     "execution_count": 29,
     "metadata": {},
     "output_type": "execute_result"
    }
   ],
   "source": [
    "len(users)"
   ]
  },
  {
   "cell_type": "code",
   "execution_count": 30,
   "metadata": {},
   "outputs": [],
   "source": [
    "product = Elect_df['productId'].unique()"
   ]
  },
  {
   "cell_type": "code",
   "execution_count": 31,
   "metadata": {},
   "outputs": [
    {
     "data": {
      "text/plain": [
       "13223"
      ]
     },
     "execution_count": 31,
     "metadata": {},
     "output_type": "execute_result"
    }
   ],
   "source": [
    "len(product)"
   ]
  },
  {
   "cell_type": "markdown",
   "metadata": {},
   "source": [
    " There are 1435 users and 13,223 products."
   ]
  },
  {
   "cell_type": "code",
   "execution_count": 32,
   "metadata": {},
   "outputs": [
    {
     "data": {
      "text/plain": [
       "<matplotlib.axes._subplots.AxesSubplot at 0x17befc08c18>"
      ]
     },
     "execution_count": 32,
     "metadata": {},
     "output_type": "execute_result"
    },
    {
     "data": {
      "image/png": "[encoded data removed]",
      "text/plain": [
       "<Figure size 432x288 with 1 Axes>"
      ]
     },
     "metadata": {
      "needs_background": "light"
     },
     "output_type": "display_data"
    }
   ],
   "source": [
    "Elect_df.ratings.value_counts().plot(kind='bar')\n",
    "plt.show()"
   ]
  },
  {
   "cell_type": "code",
   "execution_count": 33,
   "metadata": {},
   "outputs": [
    {
     "name": "stdout",
     "output_type": "stream",
     "text": [
      "<class 'pandas.core.frame.DataFrame'>\n",
      "Int64Index: 27819 entries, 118 to 1048555\n",
      "Data columns (total 3 columns):\n",
      "userId       27819 non-null object\n",
      "productId    27819 non-null object\n",
      "ratings      27819 non-null float64\n",
      "dtypes: float64(1), object(2)\n",
      "memory usage: 869.3+ KB\n"
     ]
    }
   ],
   "source": [
    "Elect_df.info()"
   ]
  },
  {
   "cell_type": "code",
   "execution_count": null,
   "metadata": {},
   "outputs": [],
   "source": [
    "Inference:\n",
    "    \n",
    "    1) userId is the unique ID for each customer which is a string value. Total number of users= 1423.\n",
    "    2) productId is the also a unique id for each product(string). Total number of products= 13,223.\n",
    "    3) ratings is a ranked categorical variable with the rating scale from 1 to 5.\n",
    "    4) There are 27819 records with no null values. \n",
    "    5) From the bar chart it is evident that users has provided 5 rating for most of the product. \n",
    "       2 ratings is least provided rating.\n",
    "    \n",
    "    "
   ]
  },
  {
   "cell_type": "code",
   "execution_count": 31,
   "metadata": {},
   "outputs": [],
   "source": [
    "## Splitting the data"
   ]
  },
  {
   "cell_type": "code",
   "execution_count": 34,
   "metadata": {},
   "outputs": [],
   "source": [
    "train_data, test_data = train_test_split(Elect_df,test_size= .30, random_state = 0)"
   ]
  },
  {
   "cell_type": "markdown",
   "metadata": {},
   "source": [
    "## Popularity Model"
   ]
  },
  {
   "cell_type": "code",
   "execution_count": 35,
   "metadata": {},
   "outputs": [],
   "source": [
    "pop = recommender.popularity_recommender_py()"
   ]
  },
  {
   "cell_type": "code",
   "execution_count": 36,
   "metadata": {},
   "outputs": [],
   "source": [
    "pop.create(train_data, 'userId','productId')"
   ]
  },
  {
   "cell_type": "code",
   "execution_count": 37,
   "metadata": {},
   "outputs": [],
   "source": [
    "user_id = users[29]"
   ]
  },
  {
   "cell_type": "code",
   "execution_count": 38,
   "metadata": {},
   "outputs": [
    {
     "data": {
      "text/html": [
       "<div>\n",
       "<style scoped>\n",
       "    .dataframe tbody tr th:only-of-type {\n",
       "        vertical-align: middle;\n",
       "    }\n",
       "\n",
       "    .dataframe tbody tr th {\n",
       "        vertical-align: top;\n",
       "    }\n",
       "\n",
       "    .dataframe thead th {\n",
       "        text-align: right;\n",
       "    }\n",
       "</style>\n",
       "<table border=\"1\" class=\"dataframe\">\n",
       "  <thead>\n",
       "    <tr style=\"text-align: right;\">\n",
       "      <th></th>\n",
       "      <th>userId</th>\n",
       "      <th>productId</th>\n",
       "      <th>score</th>\n",
       "      <th>Rank</th>\n",
       "    </tr>\n",
       "  </thead>\n",
       "  <tbody>\n",
       "    <tr>\n",
       "      <th>2841</th>\n",
       "      <td>A4RASGC2BYMD5</td>\n",
       "      <td>B00007E7JU</td>\n",
       "      <td>58</td>\n",
       "      <td>1.0</td>\n",
       "    </tr>\n",
       "    <tr>\n",
       "      <th>930</th>\n",
       "      <td>A4RASGC2BYMD5</td>\n",
       "      <td>B00004ZCJE</td>\n",
       "      <td>46</td>\n",
       "      <td>2.0</td>\n",
       "    </tr>\n",
       "    <tr>\n",
       "      <th>5885</th>\n",
       "      <td>A4RASGC2BYMD5</td>\n",
       "      <td>B0002L5R78</td>\n",
       "      <td>42</td>\n",
       "      <td>3.0</td>\n",
       "    </tr>\n",
       "    <tr>\n",
       "      <th>4216</th>\n",
       "      <td>A4RASGC2BYMD5</td>\n",
       "      <td>B0000BZL1P</td>\n",
       "      <td>40</td>\n",
       "      <td>4.0</td>\n",
       "    </tr>\n",
       "    <tr>\n",
       "      <th>2935</th>\n",
       "      <td>A4RASGC2BYMD5</td>\n",
       "      <td>B00007KDVI</td>\n",
       "      <td>35</td>\n",
       "      <td>5.0</td>\n",
       "    </tr>\n",
       "    <tr>\n",
       "      <th>10164</th>\n",
       "      <td>A4RASGC2BYMD5</td>\n",
       "      <td>B000HPV3RW</td>\n",
       "      <td>34</td>\n",
       "      <td>6.0</td>\n",
       "    </tr>\n",
       "    <tr>\n",
       "      <th>3922</th>\n",
       "      <td>A4RASGC2BYMD5</td>\n",
       "      <td>B00009XVCZ</td>\n",
       "      <td>33</td>\n",
       "      <td>7.0</td>\n",
       "    </tr>\n",
       "    <tr>\n",
       "      <th>453</th>\n",
       "      <td>A4RASGC2BYMD5</td>\n",
       "      <td>B00004SB92</td>\n",
       "      <td>32</td>\n",
       "      <td>8.0</td>\n",
       "    </tr>\n",
       "    <tr>\n",
       "      <th>3568</th>\n",
       "      <td>A4RASGC2BYMD5</td>\n",
       "      <td>B00009R6TA</td>\n",
       "      <td>32</td>\n",
       "      <td>9.0</td>\n",
       "    </tr>\n",
       "    <tr>\n",
       "      <th>5577</th>\n",
       "      <td>A4RASGC2BYMD5</td>\n",
       "      <td>B0002CPBWI</td>\n",
       "      <td>31</td>\n",
       "      <td>10.0</td>\n",
       "    </tr>\n",
       "  </tbody>\n",
       "</table>\n",
       "</div>"
      ],
      "text/plain": [
       "              userId   productId  score  Rank\n",
       "2841   A4RASGC2BYMD5  B00007E7JU     58   1.0\n",
       "930    A4RASGC2BYMD5  B00004ZCJE     46   2.0\n",
       "5885   A4RASGC2BYMD5  B0002L5R78     42   3.0\n",
       "4216   A4RASGC2BYMD5  B0000BZL1P     40   4.0\n",
       "2935   A4RASGC2BYMD5  B00007KDVI     35   5.0\n",
       "10164  A4RASGC2BYMD5  B000HPV3RW     34   6.0\n",
       "3922   A4RASGC2BYMD5  B00009XVCZ     33   7.0\n",
       "453    A4RASGC2BYMD5  B00004SB92     32   8.0\n",
       "3568   A4RASGC2BYMD5  B00009R6TA     32   9.0\n",
       "5577   A4RASGC2BYMD5  B0002CPBWI     31  10.0"
      ]
     },
     "execution_count": 38,
     "metadata": {},
     "output_type": "execute_result"
    }
   ],
   "source": [
    "pop.recommend(user_id)"
   ]
  },
  {
   "cell_type": "code",
   "execution_count": 39,
   "metadata": {},
   "outputs": [],
   "source": [
    "user_id = users[150]"
   ]
  },
  {
   "cell_type": "code",
   "execution_count": 40,
   "metadata": {},
   "outputs": [
    {
     "data": {
      "text/html": [
       "<div>\n",
       "<style scoped>\n",
       "    .dataframe tbody tr th:only-of-type {\n",
       "        vertical-align: middle;\n",
       "    }\n",
       "\n",
       "    .dataframe tbody tr th {\n",
       "        vertical-align: top;\n",
       "    }\n",
       "\n",
       "    .dataframe thead th {\n",
       "        text-align: right;\n",
       "    }\n",
       "</style>\n",
       "<table border=\"1\" class=\"dataframe\">\n",
       "  <thead>\n",
       "    <tr style=\"text-align: right;\">\n",
       "      <th></th>\n",
       "      <th>userId</th>\n",
       "      <th>productId</th>\n",
       "      <th>score</th>\n",
       "      <th>Rank</th>\n",
       "    </tr>\n",
       "  </thead>\n",
       "  <tbody>\n",
       "    <tr>\n",
       "      <th>2841</th>\n",
       "      <td>A38QEATH3NODFM</td>\n",
       "      <td>B00007E7JU</td>\n",
       "      <td>58</td>\n",
       "      <td>1.0</td>\n",
       "    </tr>\n",
       "    <tr>\n",
       "      <th>930</th>\n",
       "      <td>A38QEATH3NODFM</td>\n",
       "      <td>B00004ZCJE</td>\n",
       "      <td>46</td>\n",
       "      <td>2.0</td>\n",
       "    </tr>\n",
       "    <tr>\n",
       "      <th>5885</th>\n",
       "      <td>A38QEATH3NODFM</td>\n",
       "      <td>B0002L5R78</td>\n",
       "      <td>42</td>\n",
       "      <td>3.0</td>\n",
       "    </tr>\n",
       "    <tr>\n",
       "      <th>4216</th>\n",
       "      <td>A38QEATH3NODFM</td>\n",
       "      <td>B0000BZL1P</td>\n",
       "      <td>40</td>\n",
       "      <td>4.0</td>\n",
       "    </tr>\n",
       "    <tr>\n",
       "      <th>2935</th>\n",
       "      <td>A38QEATH3NODFM</td>\n",
       "      <td>B00007KDVI</td>\n",
       "      <td>35</td>\n",
       "      <td>5.0</td>\n",
       "    </tr>\n",
       "    <tr>\n",
       "      <th>10164</th>\n",
       "      <td>A38QEATH3NODFM</td>\n",
       "      <td>B000HPV3RW</td>\n",
       "      <td>34</td>\n",
       "      <td>6.0</td>\n",
       "    </tr>\n",
       "    <tr>\n",
       "      <th>3922</th>\n",
       "      <td>A38QEATH3NODFM</td>\n",
       "      <td>B00009XVCZ</td>\n",
       "      <td>33</td>\n",
       "      <td>7.0</td>\n",
       "    </tr>\n",
       "    <tr>\n",
       "      <th>453</th>\n",
       "      <td>A38QEATH3NODFM</td>\n",
       "      <td>B00004SB92</td>\n",
       "      <td>32</td>\n",
       "      <td>8.0</td>\n",
       "    </tr>\n",
       "    <tr>\n",
       "      <th>3568</th>\n",
       "      <td>A38QEATH3NODFM</td>\n",
       "      <td>B00009R6TA</td>\n",
       "      <td>32</td>\n",
       "      <td>9.0</td>\n",
       "    </tr>\n",
       "    <tr>\n",
       "      <th>5577</th>\n",
       "      <td>A38QEATH3NODFM</td>\n",
       "      <td>B0002CPBWI</td>\n",
       "      <td>31</td>\n",
       "      <td>10.0</td>\n",
       "    </tr>\n",
       "  </tbody>\n",
       "</table>\n",
       "</div>"
      ],
      "text/plain": [
       "               userId   productId  score  Rank\n",
       "2841   A38QEATH3NODFM  B00007E7JU     58   1.0\n",
       "930    A38QEATH3NODFM  B00004ZCJE     46   2.0\n",
       "5885   A38QEATH3NODFM  B0002L5R78     42   3.0\n",
       "4216   A38QEATH3NODFM  B0000BZL1P     40   4.0\n",
       "2935   A38QEATH3NODFM  B00007KDVI     35   5.0\n",
       "10164  A38QEATH3NODFM  B000HPV3RW     34   6.0\n",
       "3922   A38QEATH3NODFM  B00009XVCZ     33   7.0\n",
       "453    A38QEATH3NODFM  B00004SB92     32   8.0\n",
       "3568   A38QEATH3NODFM  B00009R6TA     32   9.0\n",
       "5577   A38QEATH3NODFM  B0002CPBWI     31  10.0"
      ]
     },
     "execution_count": 40,
     "metadata": {},
     "output_type": "execute_result"
    }
   ],
   "source": [
    "pop.recommend(user_id)"
   ]
  },
  {
   "cell_type": "markdown",
   "metadata": {},
   "source": [
    "Popularity based model will recommend the high rated popular products.\n",
    "However, the drawback is that it will recommend the same products for all the users and \n",
    "personilize recommendation is not possible. One thing need to ensure is a product should not be given high rating by one/two users alone."
   ]
  },
  {
   "cell_type": "code",
   "execution_count": 41,
   "metadata": {},
   "outputs": [],
   "source": [
    "to_check = pop.recommend(user_id)"
   ]
  },
  {
   "cell_type": "code",
   "execution_count": 42,
   "metadata": {},
   "outputs": [],
   "source": [
    "elect_pro= Elect_df.groupby(['productId'], sort = False, as_index= False).count()"
   ]
  },
  {
   "cell_type": "code",
   "execution_count": 43,
   "metadata": {},
   "outputs": [
    {
     "data": {
      "text/html": [
       "<div>\n",
       "<style scoped>\n",
       "    .dataframe tbody tr th:only-of-type {\n",
       "        vertical-align: middle;\n",
       "    }\n",
       "\n",
       "    .dataframe tbody tr th {\n",
       "        vertical-align: top;\n",
       "    }\n",
       "\n",
       "    .dataframe thead th {\n",
       "        text-align: right;\n",
       "    }\n",
       "</style>\n",
       "<table border=\"1\" class=\"dataframe\">\n",
       "  <thead>\n",
       "    <tr style=\"text-align: right;\">\n",
       "      <th></th>\n",
       "      <th>productId</th>\n",
       "      <th>userId</th>\n",
       "      <th>ratings</th>\n",
       "    </tr>\n",
       "  </thead>\n",
       "  <tbody>\n",
       "    <tr>\n",
       "      <th>0</th>\n",
       "      <td>0594481813</td>\n",
       "      <td>1</td>\n",
       "      <td>1</td>\n",
       "    </tr>\n",
       "    <tr>\n",
       "      <th>1</th>\n",
       "      <td>0970407998</td>\n",
       "      <td>1</td>\n",
       "      <td>1</td>\n",
       "    </tr>\n",
       "    <tr>\n",
       "      <th>2</th>\n",
       "      <td>0972683275</td>\n",
       "      <td>4</td>\n",
       "      <td>4</td>\n",
       "    </tr>\n",
       "    <tr>\n",
       "      <th>3</th>\n",
       "      <td>1400501466</td>\n",
       "      <td>3</td>\n",
       "      <td>3</td>\n",
       "    </tr>\n",
       "    <tr>\n",
       "      <th>4</th>\n",
       "      <td>1400501520</td>\n",
       "      <td>1</td>\n",
       "      <td>1</td>\n",
       "    </tr>\n",
       "  </tbody>\n",
       "</table>\n",
       "</div>"
      ],
      "text/plain": [
       "    productId  userId  ratings\n",
       "0  0594481813       1        1\n",
       "1  0970407998       1        1\n",
       "2  0972683275       4        4\n",
       "3  1400501466       3        3\n",
       "4  1400501520       1        1"
      ]
     },
     "execution_count": 43,
     "metadata": {},
     "output_type": "execute_result"
    }
   ],
   "source": [
    "elect_pro.head()"
   ]
  },
  {
   "cell_type": "code",
   "execution_count": 44,
   "metadata": {},
   "outputs": [
    {
     "data": {
      "text/plain": [
       "13223"
      ]
     },
     "execution_count": 44,
     "metadata": {},
     "output_type": "execute_result"
    }
   ],
   "source": [
    "len(elect_pro)"
   ]
  },
  {
   "cell_type": "code",
   "execution_count": 45,
   "metadata": {},
   "outputs": [],
   "source": [
    "to_check_valid = elect_pro[elect_pro['productId'].isin(to_check['productId'])]"
   ]
  },
  {
   "cell_type": "code",
   "execution_count": 46,
   "metadata": {},
   "outputs": [
    {
     "data": {
      "text/html": [
       "<div>\n",
       "<style scoped>\n",
       "    .dataframe tbody tr th:only-of-type {\n",
       "        vertical-align: middle;\n",
       "    }\n",
       "\n",
       "    .dataframe tbody tr th {\n",
       "        vertical-align: top;\n",
       "    }\n",
       "\n",
       "    .dataframe thead th {\n",
       "        text-align: right;\n",
       "    }\n",
       "</style>\n",
       "<table border=\"1\" class=\"dataframe\">\n",
       "  <thead>\n",
       "    <tr style=\"text-align: right;\">\n",
       "      <th></th>\n",
       "      <th>productId</th>\n",
       "      <th>userId</th>\n",
       "      <th>ratings</th>\n",
       "    </tr>\n",
       "  </thead>\n",
       "  <tbody>\n",
       "    <tr>\n",
       "      <th>581</th>\n",
       "      <td>B00004SB92</td>\n",
       "      <td>46</td>\n",
       "      <td>46</td>\n",
       "    </tr>\n",
       "    <tr>\n",
       "      <th>1193</th>\n",
       "      <td>B00004ZCJE</td>\n",
       "      <td>70</td>\n",
       "      <td>70</td>\n",
       "    </tr>\n",
       "    <tr>\n",
       "      <th>3629</th>\n",
       "      <td>B00007E7JU</td>\n",
       "      <td>77</td>\n",
       "      <td>77</td>\n",
       "    </tr>\n",
       "    <tr>\n",
       "      <th>3747</th>\n",
       "      <td>B00007KDVI</td>\n",
       "      <td>56</td>\n",
       "      <td>56</td>\n",
       "    </tr>\n",
       "    <tr>\n",
       "      <th>4536</th>\n",
       "      <td>B00009R6TA</td>\n",
       "      <td>45</td>\n",
       "      <td>45</td>\n",
       "    </tr>\n",
       "    <tr>\n",
       "      <th>4972</th>\n",
       "      <td>B00009XVCZ</td>\n",
       "      <td>46</td>\n",
       "      <td>46</td>\n",
       "    </tr>\n",
       "    <tr>\n",
       "      <th>5349</th>\n",
       "      <td>B0000BZL1P</td>\n",
       "      <td>50</td>\n",
       "      <td>50</td>\n",
       "    </tr>\n",
       "    <tr>\n",
       "      <th>7067</th>\n",
       "      <td>B0002CPBWI</td>\n",
       "      <td>43</td>\n",
       "      <td>43</td>\n",
       "    </tr>\n",
       "    <tr>\n",
       "      <th>7476</th>\n",
       "      <td>B0002L5R78</td>\n",
       "      <td>66</td>\n",
       "      <td>66</td>\n",
       "    </tr>\n",
       "    <tr>\n",
       "      <th>12900</th>\n",
       "      <td>B000HPV3RW</td>\n",
       "      <td>40</td>\n",
       "      <td>40</td>\n",
       "    </tr>\n",
       "  </tbody>\n",
       "</table>\n",
       "</div>"
      ],
      "text/plain": [
       "        productId  userId  ratings\n",
       "581    B00004SB92      46       46\n",
       "1193   B00004ZCJE      70       70\n",
       "3629   B00007E7JU      77       77\n",
       "3747   B00007KDVI      56       56\n",
       "4536   B00009R6TA      45       45\n",
       "4972   B00009XVCZ      46       46\n",
       "5349   B0000BZL1P      50       50\n",
       "7067   B0002CPBWI      43       43\n",
       "7476   B0002L5R78      66       66\n",
       "12900  B000HPV3RW      40       40"
      ]
     },
     "execution_count": 46,
     "metadata": {},
     "output_type": "execute_result"
    }
   ],
   "source": [
    "to_check_valid"
   ]
  },
  {
   "cell_type": "markdown",
   "metadata": {},
   "source": [
    "Ensured that the product was not rated by only one user. UserId column indicates the count of users rated the partcular product"
   ]
  },
  {
   "cell_type": "markdown",
   "metadata": {},
   "source": [
    "## Item Similarity based  personalized recommender Model"
   ]
  },
  {
   "cell_type": "code",
   "execution_count": 47,
   "metadata": {},
   "outputs": [],
   "source": [
    "item_sim = recommender.item_similarity_recommender_py()"
   ]
  },
  {
   "cell_type": "code",
   "execution_count": 48,
   "metadata": {},
   "outputs": [],
   "source": [
    "item_sim.create(train_data, 'userId', 'productId')"
   ]
  },
  {
   "cell_type": "markdown",
   "metadata": {},
   "source": [
    "#### Making some personalized recommendations"
   ]
  },
  {
   "cell_type": "code",
   "execution_count": 49,
   "metadata": {},
   "outputs": [],
   "source": [
    "user_id = users[5]"
   ]
  },
  {
   "cell_type": "code",
   "execution_count": 50,
   "metadata": {},
   "outputs": [
    {
     "name": "stdout",
     "output_type": "stream",
     "text": [
      "No. of unique product for the user: 14\n",
      "no. of unique product in the training set: 10407\n"
     ]
    },
    {
     "data": {
      "text/html": [
       "<div>\n",
       "<style scoped>\n",
       "    .dataframe tbody tr th:only-of-type {\n",
       "        vertical-align: middle;\n",
       "    }\n",
       "\n",
       "    .dataframe tbody tr th {\n",
       "        vertical-align: top;\n",
       "    }\n",
       "\n",
       "    .dataframe thead th {\n",
       "        text-align: right;\n",
       "    }\n",
       "</style>\n",
       "<table border=\"1\" class=\"dataframe\">\n",
       "  <thead>\n",
       "    <tr style=\"text-align: right;\">\n",
       "      <th></th>\n",
       "      <th>userId</th>\n",
       "      <th>productId</th>\n",
       "      <th>score</th>\n",
       "      <th>rank</th>\n",
       "    </tr>\n",
       "  </thead>\n",
       "  <tbody>\n",
       "    <tr>\n",
       "      <th>0</th>\n",
       "      <td>A25RTRAPQAJBDJ</td>\n",
       "      <td>B000F8W35M</td>\n",
       "      <td>0.035714</td>\n",
       "      <td>1</td>\n",
       "    </tr>\n",
       "    <tr>\n",
       "      <th>1</th>\n",
       "      <td>A25RTRAPQAJBDJ</td>\n",
       "      <td>B00009W3DV</td>\n",
       "      <td>0.035714</td>\n",
       "      <td>2</td>\n",
       "    </tr>\n",
       "    <tr>\n",
       "      <th>2</th>\n",
       "      <td>A25RTRAPQAJBDJ</td>\n",
       "      <td>B0000683ED</td>\n",
       "      <td>0.035714</td>\n",
       "      <td>3</td>\n",
       "    </tr>\n",
       "    <tr>\n",
       "      <th>3</th>\n",
       "      <td>A25RTRAPQAJBDJ</td>\n",
       "      <td>B0009EQL00</td>\n",
       "      <td>0.035714</td>\n",
       "      <td>4</td>\n",
       "    </tr>\n",
       "    <tr>\n",
       "      <th>4</th>\n",
       "      <td>A25RTRAPQAJBDJ</td>\n",
       "      <td>B0009IG3UE</td>\n",
       "      <td>0.035714</td>\n",
       "      <td>5</td>\n",
       "    </tr>\n",
       "    <tr>\n",
       "      <th>5</th>\n",
       "      <td>A25RTRAPQAJBDJ</td>\n",
       "      <td>B0009IUZ1M</td>\n",
       "      <td>0.035714</td>\n",
       "      <td>6</td>\n",
       "    </tr>\n",
       "    <tr>\n",
       "      <th>6</th>\n",
       "      <td>A25RTRAPQAJBDJ</td>\n",
       "      <td>B0006HVIGC</td>\n",
       "      <td>0.035714</td>\n",
       "      <td>7</td>\n",
       "    </tr>\n",
       "    <tr>\n",
       "      <th>7</th>\n",
       "      <td>A25RTRAPQAJBDJ</td>\n",
       "      <td>B000FBS3US</td>\n",
       "      <td>0.035714</td>\n",
       "      <td>8</td>\n",
       "    </tr>\n",
       "    <tr>\n",
       "      <th>8</th>\n",
       "      <td>A25RTRAPQAJBDJ</td>\n",
       "      <td>B000CM2Y1E</td>\n",
       "      <td>0.035714</td>\n",
       "      <td>9</td>\n",
       "    </tr>\n",
       "    <tr>\n",
       "      <th>9</th>\n",
       "      <td>A25RTRAPQAJBDJ</td>\n",
       "      <td>B000922KLQ</td>\n",
       "      <td>0.035714</td>\n",
       "      <td>10</td>\n",
       "    </tr>\n",
       "  </tbody>\n",
       "</table>\n",
       "</div>"
      ],
      "text/plain": [
       "           userId   productId     score rank\n",
       "0  A25RTRAPQAJBDJ  B000F8W35M  0.035714    1\n",
       "1  A25RTRAPQAJBDJ  B00009W3DV  0.035714    2\n",
       "2  A25RTRAPQAJBDJ  B0000683ED  0.035714    3\n",
       "3  A25RTRAPQAJBDJ  B0009EQL00  0.035714    4\n",
       "4  A25RTRAPQAJBDJ  B0009IG3UE  0.035714    5\n",
       "5  A25RTRAPQAJBDJ  B0009IUZ1M  0.035714    6\n",
       "6  A25RTRAPQAJBDJ  B0006HVIGC  0.035714    7\n",
       "7  A25RTRAPQAJBDJ  B000FBS3US  0.035714    8\n",
       "8  A25RTRAPQAJBDJ  B000CM2Y1E  0.035714    9\n",
       "9  A25RTRAPQAJBDJ  B000922KLQ  0.035714   10"
      ]
     },
     "execution_count": 50,
     "metadata": {},
     "output_type": "execute_result"
    }
   ],
   "source": [
    "item_sim.recommend(user_id)"
   ]
  },
  {
   "cell_type": "markdown",
   "metadata": {},
   "source": [
    "##### Recommendation for different user"
   ]
  },
  {
   "cell_type": "code",
   "execution_count": 51,
   "metadata": {},
   "outputs": [],
   "source": [
    "user_id = users[48]"
   ]
  },
  {
   "cell_type": "code",
   "execution_count": 52,
   "metadata": {},
   "outputs": [
    {
     "name": "stdout",
     "output_type": "stream",
     "text": [
      "No. of unique product for the user: 9\n",
      "no. of unique product in the training set: 10407\n"
     ]
    },
    {
     "data": {
      "text/html": [
       "<div>\n",
       "<style scoped>\n",
       "    .dataframe tbody tr th:only-of-type {\n",
       "        vertical-align: middle;\n",
       "    }\n",
       "\n",
       "    .dataframe tbody tr th {\n",
       "        vertical-align: top;\n",
       "    }\n",
       "\n",
       "    .dataframe thead th {\n",
       "        text-align: right;\n",
       "    }\n",
       "</style>\n",
       "<table border=\"1\" class=\"dataframe\">\n",
       "  <thead>\n",
       "    <tr style=\"text-align: right;\">\n",
       "      <th></th>\n",
       "      <th>userId</th>\n",
       "      <th>productId</th>\n",
       "      <th>score</th>\n",
       "      <th>rank</th>\n",
       "    </tr>\n",
       "  </thead>\n",
       "  <tbody>\n",
       "    <tr>\n",
       "      <th>0</th>\n",
       "      <td>A3OBZ4F27KV8NO</td>\n",
       "      <td>B00022KOWU</td>\n",
       "      <td>0.055556</td>\n",
       "      <td>1</td>\n",
       "    </tr>\n",
       "    <tr>\n",
       "      <th>1</th>\n",
       "      <td>A3OBZ4F27KV8NO</td>\n",
       "      <td>B000067RE4</td>\n",
       "      <td>0.055556</td>\n",
       "      <td>2</td>\n",
       "    </tr>\n",
       "    <tr>\n",
       "      <th>2</th>\n",
       "      <td>A3OBZ4F27KV8NO</td>\n",
       "      <td>B000CR7RW0</td>\n",
       "      <td>0.055556</td>\n",
       "      <td>3</td>\n",
       "    </tr>\n",
       "    <tr>\n",
       "      <th>3</th>\n",
       "      <td>A3OBZ4F27KV8NO</td>\n",
       "      <td>B0000AE6B3</td>\n",
       "      <td>0.055556</td>\n",
       "      <td>4</td>\n",
       "    </tr>\n",
       "    <tr>\n",
       "      <th>4</th>\n",
       "      <td>A3OBZ4F27KV8NO</td>\n",
       "      <td>B0001AVSLO</td>\n",
       "      <td>0.055556</td>\n",
       "      <td>5</td>\n",
       "    </tr>\n",
       "    <tr>\n",
       "      <th>5</th>\n",
       "      <td>A3OBZ4F27KV8NO</td>\n",
       "      <td>B0006M39AK</td>\n",
       "      <td>0.055556</td>\n",
       "      <td>6</td>\n",
       "    </tr>\n",
       "    <tr>\n",
       "      <th>6</th>\n",
       "      <td>A3OBZ4F27KV8NO</td>\n",
       "      <td>B0009NX7Z8</td>\n",
       "      <td>0.055556</td>\n",
       "      <td>7</td>\n",
       "    </tr>\n",
       "    <tr>\n",
       "      <th>7</th>\n",
       "      <td>A3OBZ4F27KV8NO</td>\n",
       "      <td>B0006U3ACY</td>\n",
       "      <td>0.055556</td>\n",
       "      <td>8</td>\n",
       "    </tr>\n",
       "    <tr>\n",
       "      <th>8</th>\n",
       "      <td>A3OBZ4F27KV8NO</td>\n",
       "      <td>B000067S6V</td>\n",
       "      <td>0.055556</td>\n",
       "      <td>9</td>\n",
       "    </tr>\n",
       "    <tr>\n",
       "      <th>9</th>\n",
       "      <td>A3OBZ4F27KV8NO</td>\n",
       "      <td>B000CR7RVQ</td>\n",
       "      <td>0.055556</td>\n",
       "      <td>10</td>\n",
       "    </tr>\n",
       "  </tbody>\n",
       "</table>\n",
       "</div>"
      ],
      "text/plain": [
       "           userId   productId     score rank\n",
       "0  A3OBZ4F27KV8NO  B00022KOWU  0.055556    1\n",
       "1  A3OBZ4F27KV8NO  B000067RE4  0.055556    2\n",
       "2  A3OBZ4F27KV8NO  B000CR7RW0  0.055556    3\n",
       "3  A3OBZ4F27KV8NO  B0000AE6B3  0.055556    4\n",
       "4  A3OBZ4F27KV8NO  B0001AVSLO  0.055556    5\n",
       "5  A3OBZ4F27KV8NO  B0006M39AK  0.055556    6\n",
       "6  A3OBZ4F27KV8NO  B0009NX7Z8  0.055556    7\n",
       "7  A3OBZ4F27KV8NO  B0006U3ACY  0.055556    8\n",
       "8  A3OBZ4F27KV8NO  B000067S6V  0.055556    9\n",
       "9  A3OBZ4F27KV8NO  B000CR7RVQ  0.055556   10"
      ]
     },
     "execution_count": 52,
     "metadata": {},
     "output_type": "execute_result"
    }
   ],
   "source": [
    "item_sim.recommend(user_id)"
   ]
  },
  {
   "cell_type": "code",
   "execution_count": 58,
   "metadata": {},
   "outputs": [],
   "source": [
    "user_id = 'A1925WP0C8AGLB'"
   ]
  },
  {
   "cell_type": "code",
   "execution_count": 59,
   "metadata": {},
   "outputs": [
    {
     "name": "stdout",
     "output_type": "stream",
     "text": [
      "No. of unique product for the user: 9\n",
      "no. of unique product in the training set: 10407\n"
     ]
    },
    {
     "data": {
      "text/html": [
       "<div>\n",
       "<style scoped>\n",
       "    .dataframe tbody tr th:only-of-type {\n",
       "        vertical-align: middle;\n",
       "    }\n",
       "\n",
       "    .dataframe tbody tr th {\n",
       "        vertical-align: top;\n",
       "    }\n",
       "\n",
       "    .dataframe thead th {\n",
       "        text-align: right;\n",
       "    }\n",
       "</style>\n",
       "<table border=\"1\" class=\"dataframe\">\n",
       "  <thead>\n",
       "    <tr style=\"text-align: right;\">\n",
       "      <th></th>\n",
       "      <th>userId</th>\n",
       "      <th>productId</th>\n",
       "      <th>score</th>\n",
       "      <th>rank</th>\n",
       "    </tr>\n",
       "  </thead>\n",
       "  <tbody>\n",
       "    <tr>\n",
       "      <th>0</th>\n",
       "      <td>A1925WP0C8AGLB</td>\n",
       "      <td>B000BDDFPI</td>\n",
       "      <td>0.055556</td>\n",
       "      <td>1</td>\n",
       "    </tr>\n",
       "    <tr>\n",
       "      <th>1</th>\n",
       "      <td>A1925WP0C8AGLB</td>\n",
       "      <td>B000E8BGCO</td>\n",
       "      <td>0.055556</td>\n",
       "      <td>2</td>\n",
       "    </tr>\n",
       "    <tr>\n",
       "      <th>2</th>\n",
       "      <td>A1925WP0C8AGLB</td>\n",
       "      <td>B0009VU7RG</td>\n",
       "      <td>0.055556</td>\n",
       "      <td>3</td>\n",
       "    </tr>\n",
       "    <tr>\n",
       "      <th>3</th>\n",
       "      <td>A1925WP0C8AGLB</td>\n",
       "      <td>B000GHXTBO</td>\n",
       "      <td>0.037037</td>\n",
       "      <td>4</td>\n",
       "    </tr>\n",
       "    <tr>\n",
       "      <th>4</th>\n",
       "      <td>A1925WP0C8AGLB</td>\n",
       "      <td>B0009IIE4W</td>\n",
       "      <td>0.027778</td>\n",
       "      <td>5</td>\n",
       "    </tr>\n",
       "    <tr>\n",
       "      <th>5</th>\n",
       "      <td>A1925WP0C8AGLB</td>\n",
       "      <td>B0001XGQTA</td>\n",
       "      <td>0.022222</td>\n",
       "      <td>6</td>\n",
       "    </tr>\n",
       "    <tr>\n",
       "      <th>6</th>\n",
       "      <td>A1925WP0C8AGLB</td>\n",
       "      <td>B000CDLCGG</td>\n",
       "      <td>0.018519</td>\n",
       "      <td>7</td>\n",
       "    </tr>\n",
       "    <tr>\n",
       "      <th>7</th>\n",
       "      <td>A1925WP0C8AGLB</td>\n",
       "      <td>B000F0ELOG</td>\n",
       "      <td>0.012346</td>\n",
       "      <td>8</td>\n",
       "    </tr>\n",
       "    <tr>\n",
       "      <th>8</th>\n",
       "      <td>A1925WP0C8AGLB</td>\n",
       "      <td>B000FBK3QK</td>\n",
       "      <td>0.003968</td>\n",
       "      <td>9</td>\n",
       "    </tr>\n",
       "    <tr>\n",
       "      <th>9</th>\n",
       "      <td>A1925WP0C8AGLB</td>\n",
       "      <td>B00005111T</td>\n",
       "      <td>0.000000</td>\n",
       "      <td>10</td>\n",
       "    </tr>\n",
       "  </tbody>\n",
       "</table>\n",
       "</div>"
      ],
      "text/plain": [
       "           userId   productId     score rank\n",
       "0  A1925WP0C8AGLB  B000BDDFPI  0.055556    1\n",
       "1  A1925WP0C8AGLB  B000E8BGCO  0.055556    2\n",
       "2  A1925WP0C8AGLB  B0009VU7RG  0.055556    3\n",
       "3  A1925WP0C8AGLB  B000GHXTBO  0.037037    4\n",
       "4  A1925WP0C8AGLB  B0009IIE4W  0.027778    5\n",
       "5  A1925WP0C8AGLB  B0001XGQTA  0.022222    6\n",
       "6  A1925WP0C8AGLB  B000CDLCGG  0.018519    7\n",
       "7  A1925WP0C8AGLB  B000F0ELOG  0.012346    8\n",
       "8  A1925WP0C8AGLB  B000FBK3QK  0.003968    9\n",
       "9  A1925WP0C8AGLB  B00005111T  0.000000   10"
      ]
     },
     "execution_count": 59,
     "metadata": {},
     "output_type": "execute_result"
    }
   ],
   "source": [
    "item_sim.recommend(user_id)"
   ]
  },
  {
   "cell_type": "markdown",
   "metadata": {},
   "source": [
    "We can see the difference in the recommended product for each user."
   ]
  },
  {
   "cell_type": "markdown",
   "metadata": {},
   "source": [
    "## Quantitative comparison between the model"
   ]
  },
  {
   "cell_type": "code",
   "execution_count": 53,
   "metadata": {},
   "outputs": [
    {
     "name": "stdout",
     "output_type": "stream",
     "text": [
      "Length of user_test_and_training:1427\n",
      "Length of user sample:14\n",
      "Getting recommendations for user:A2BAAKZHSUGCDP\n",
      "No. of unique product for the user: 9\n",
      "no. of unique product in the training set: 10407\n",
      "Getting recommendations for user:A37JNUJSVAJKYN\n",
      "No. of unique product for the user: 10\n",
      "no. of unique product in the training set: 10407\n",
      "Getting recommendations for user:A31ICLWQ9CSHRS\n",
      "No. of unique product for the user: 23\n",
      "no. of unique product in the training set: 10407\n",
      "Getting recommendations for user:AR6APXLK7TJU2\n",
      "No. of unique product for the user: 12\n",
      "no. of unique product in the training set: 10407\n",
      "Getting recommendations for user:A2QZ36LCF7XX0C\n",
      "No. of unique product for the user: 8\n",
      "no. of unique product in the training set: 10407\n",
      "Getting recommendations for user:AIEOH19T22OQC\n",
      "No. of unique product for the user: 8\n",
      "no. of unique product in the training set: 10407\n",
      "Getting recommendations for user:A13V1ZWGVTHU6Y\n",
      "No. of unique product for the user: 11\n",
      "no. of unique product in the training set: 10407\n",
      "Getting recommendations for user:A1IUNUV8YDSMHU\n",
      "No. of unique product for the user: 7\n",
      "no. of unique product in the training set: 10407\n",
      "Getting recommendations for user:A2NFLHENCYAXGD\n",
      "No. of unique product for the user: 12\n",
      "no. of unique product in the training set: 10407\n",
      "Getting recommendations for user:A2W9GX82SLKROQ\n",
      "No. of unique product for the user: 11\n",
      "no. of unique product in the training set: 10407\n",
      "Getting recommendations for user:AILCWT1IIP7ZT\n",
      "No. of unique product for the user: 9\n",
      "no. of unique product in the training set: 10407\n",
      "Getting recommendations for user:A16SPGA83A4J8H\n",
      "No. of unique product for the user: 13\n",
      "no. of unique product in the training set: 10407\n",
      "Getting recommendations for user:ATXRV6Z3N08ZX\n",
      "No. of unique product for the user: 10\n",
      "no. of unique product in the training set: 10407\n",
      "Getting recommendations for user:AAJGG6HSSJZNF\n",
      "No. of unique product for the user: 7\n",
      "no. of unique product in the training set: 10407\n",
      "487.7650628089905\n"
     ]
    }
   ],
   "source": [
    "start = time.time()\n",
    "\n",
    "user_sample = 0.01\n",
    "\n",
    "rec_pre = evaluater.precision_recall_calculator(test_data,train_data, pop,item_sim)\n",
    "\n",
    "(pm_avg_precision_list, pm_avg_recall_list, ism_avg_precision_list, ism_avg_recall_list) = rec_pre.calculate_measures(user_sample)\n",
    "\n",
    "end = time.time()\n",
    "print(end - start)"
   ]
  },
  {
   "cell_type": "code",
   "execution_count": 54,
   "metadata": {},
   "outputs": [
    {
     "data": {
      "text/plain": [
       "[0.0,\n",
       " 0.0,\n",
       " 0.0,\n",
       " 0.0,\n",
       " 0.0,\n",
       " 0.0,\n",
       " 0.0,\n",
       " 0.008928571428571428,\n",
       " 0.008928571428571428,\n",
       " 0.008928571428571428]"
      ]
     },
     "execution_count": 54,
     "metadata": {},
     "output_type": "execute_result"
    }
   ],
   "source": [
    "ism_avg_precision_list"
   ]
  },
  {
   "cell_type": "code",
   "execution_count": 55,
   "metadata": {},
   "outputs": [
    {
     "data": {
      "text/plain": [
       "[0.0,\n",
       " 0.0,\n",
       " 0.0,\n",
       " 0.0,\n",
       " 0.0,\n",
       " 0.0,\n",
       " 0.0,\n",
       " 0.008928571428571428,\n",
       " 0.007936507936507936,\n",
       " 0.0071428571428571435]"
      ]
     },
     "execution_count": 55,
     "metadata": {},
     "output_type": "execute_result"
    }
   ],
   "source": [
    "ism_avg_recall_list"
   ]
  },
  {
   "cell_type": "code",
   "execution_count": 56,
   "metadata": {},
   "outputs": [],
   "source": [
    "import pylab as pl\n",
    "\n",
    "#Method to generate precision and recall curve\n",
    "def plot_precision_recall(m1_precision_list, m1_recall_list, m1_label, m2_precision_list, m2_recall_list, m2_label):\n",
    "    pl.clf()    \n",
    "    pl.plot(m1_recall_list, m1_precision_list, label=m1_label)\n",
    "    pl.plot(m2_recall_list, m2_precision_list, label=m2_label)\n",
    "    pl.xlabel('Recall')\n",
    "    pl.ylabel('Precision')\n",
    "    pl.ylim([0.0, 0.2])\n",
    "    pl.xlim([0.0, 0.2])\n",
    "    pl.title('Precision-Recall curve')\n",
    "    #pl.legend(loc=\"upper right\")\n",
    "    pl.legend(loc=9, bbox_to_anchor=(0.5, -0.2))\n",
    "    pl.show()"
   ]
  },
  {
   "cell_type": "code",
   "execution_count": 57,
   "metadata": {},
   "outputs": [
    {
     "data": {
      "image/png": "[encoded data removed]",
      "text/plain": [
       "<Figure size 432x288 with 1 Axes>"
      ]
     },
     "metadata": {
      "needs_background": "light"
     },
     "output_type": "display_data"
    }
   ],
   "source": [
    "plot_precision_recall(pm_avg_precision_list, pm_avg_recall_list, \"popularity_model\",\n",
    "                      ism_avg_precision_list, ism_avg_recall_list, \"item_similarity_model\")"
   ]
  },
  {
   "cell_type": "markdown",
   "metadata": {},
   "source": [
    "## Collaborative filtering model using Surprise"
   ]
  },
  {
   "cell_type": "markdown",
   "metadata": {},
   "source": [
    "#### Item Based Model using surprise package - KNNwith Means"
   ]
  },
  {
   "cell_type": "code",
   "execution_count": 39,
   "metadata": {},
   "outputs": [],
   "source": [
    "from surprise import Dataset, Reader\n",
    "from surprise.model_selection import train_test_split"
   ]
  },
  {
   "cell_type": "code",
   "execution_count": 40,
   "metadata": {},
   "outputs": [],
   "source": [
    "reader = Reader(rating_scale=(1,5))"
   ]
  },
  {
   "cell_type": "code",
   "execution_count": 41,
   "metadata": {},
   "outputs": [],
   "source": [
    "data = Dataset.load_from_df(Elect_df, reader)"
   ]
  },
  {
   "cell_type": "code",
   "execution_count": 42,
   "metadata": {},
   "outputs": [
    {
     "data": {
      "text/plain": [
       "surprise.dataset.DatasetAutoFolds"
      ]
     },
     "execution_count": 42,
     "metadata": {},
     "output_type": "execute_result"
    }
   ],
   "source": [
    "type(data)"
   ]
  },
  {
   "cell_type": "code",
   "execution_count": 43,
   "metadata": {},
   "outputs": [],
   "source": [
    "trainset, testset = train_test_split(data, test_size= .30, random_state = 123)"
   ]
  },
  {
   "cell_type": "code",
   "execution_count": 44,
   "metadata": {},
   "outputs": [
    {
     "data": {
      "text/plain": [
       "collections.defaultdict"
      ]
     },
     "execution_count": 44,
     "metadata": {},
     "output_type": "execute_result"
    }
   ],
   "source": [
    "user_records = trainset.ur\n",
    "type(user_records)"
   ]
  },
  {
   "cell_type": "code",
   "execution_count": 45,
   "metadata": {},
   "outputs": [
    {
     "data": {
      "text/plain": [
       "[(3, 4.0),\n",
       " (488, 4.0),\n",
       " (2408, 5.0),\n",
       " (2916, 5.0),\n",
       " (3418, 4.0),\n",
       " (1155, 5.0),\n",
       " (4728, 5.0),\n",
       " (6058, 4.0),\n",
       " (6881, 5.0),\n",
       " (1362, 5.0),\n",
       " (7326, 5.0),\n",
       " (1934, 4.0),\n",
       " (8580, 1.0),\n",
       " (5951, 5.0)]"
      ]
     },
     "execution_count": 45,
     "metadata": {},
     "output_type": "execute_result"
    }
   ],
   "source": [
    "user_records[3]"
   ]
  },
  {
   "cell_type": "markdown",
   "metadata": {},
   "source": [
    "## Training the model using KNNwith Means"
   ]
  },
  {
   "cell_type": "code",
   "execution_count": 51,
   "metadata": {},
   "outputs": [],
   "source": [
    "from surprise import KNNWithMeans, accuracy "
   ]
  },
  {
   "cell_type": "code",
   "execution_count": 54,
   "metadata": {},
   "outputs": [],
   "source": [
    "KNN = KNNWithMeans(k=20, sim_options = {'name':'pearson', 'user_based' : False})"
   ]
  },
  {
   "cell_type": "code",
   "execution_count": 55,
   "metadata": {},
   "outputs": [
    {
     "name": "stdout",
     "output_type": "stream",
     "text": [
      "Computing the pearson similarity matrix...\n",
      "Done computing similarity matrix.\n"
     ]
    },
    {
     "data": {
      "text/plain": [
       "<surprise.prediction_algorithms.knns.KNNWithMeans at 0x1ec162da470>"
      ]
     },
     "execution_count": 55,
     "metadata": {},
     "output_type": "execute_result"
    }
   ],
   "source": [
    "KNN.fit(trainset)"
   ]
  },
  {
   "cell_type": "code",
   "execution_count": null,
   "metadata": {},
   "outputs": [],
   "source": [
    "## Finding the similar product for the product id = B00007E7JU"
   ]
  },
  {
   "cell_type": "code",
   "execution_count": 56,
   "metadata": {},
   "outputs": [],
   "source": [
    "similar_prod = KNN.get_neighbors(trainset.to_inner_iid('B00007E7JU'), k=10)"
   ]
  },
  {
   "cell_type": "code",
   "execution_count": 57,
   "metadata": {},
   "outputs": [
    {
     "data": {
      "text/plain": [
       "['B0000CD08M',\n",
       " 'B00006I53X',\n",
       " 'B00007GQLU',\n",
       " 'B000I1YIDQ',\n",
       " 'B00009XVCZ',\n",
       " 'B0000A1G05',\n",
       " 'B00005K47X',\n",
       " 'B000G3KLPA',\n",
       " 'B0002YE6FY',\n",
       " 'B000A3XRSO']"
      ]
     },
     "execution_count": 57,
     "metadata": {},
     "output_type": "execute_result"
    }
   ],
   "source": [
    "[trainset.to_raw_iid(x) for x in similar_prod]"
   ]
  },
  {
   "cell_type": "markdown",
   "metadata": {},
   "source": [
    "## Evaluating the model"
   ]
  },
  {
   "cell_type": "code",
   "execution_count": 58,
   "metadata": {},
   "outputs": [
    {
     "data": {
      "text/plain": [
       "8346"
      ]
     },
     "execution_count": 58,
     "metadata": {},
     "output_type": "execute_result"
    }
   ],
   "source": [
    "len(testset)"
   ]
  },
  {
   "cell_type": "code",
   "execution_count": 59,
   "metadata": {},
   "outputs": [],
   "source": [
    "Eval_test= KNN.test(testset)"
   ]
  },
  {
   "cell_type": "code",
   "execution_count": 60,
   "metadata": {},
   "outputs": [
    {
     "name": "stdout",
     "output_type": "stream",
     "text": [
      "RMSE: 1.1722\n"
     ]
    },
    {
     "data": {
      "text/plain": [
       "1.1721978480440285"
      ]
     },
     "execution_count": 60,
     "metadata": {},
     "output_type": "execute_result"
    }
   ],
   "source": [
    "accuracy.rmse(Eval_test)"
   ]
  },
  {
   "cell_type": "code",
   "execution_count": 61,
   "metadata": {},
   "outputs": [
    {
     "data": {
      "text/plain": [
       "('A1925WP0C8AGLB', 'B000FDL2Z4', 5.0)"
      ]
     },
     "execution_count": 61,
     "metadata": {},
     "output_type": "execute_result"
    }
   ],
   "source": [
    "testset[17]"
   ]
  },
  {
   "cell_type": "markdown",
   "metadata": {},
   "source": [
    "###### Predicting for singe user"
   ]
  },
  {
   "cell_type": "code",
   "execution_count": 62,
   "metadata": {},
   "outputs": [
    {
     "data": {
      "text/plain": [
       "Prediction(uid='A1925WP0C8AGLB', iid='B00009XVCZ', r_ui=None, est=4.575757575757576, details={'actual_k': 0, 'was_impossible': False})"
      ]
     },
     "execution_count": 62,
     "metadata": {},
     "output_type": "execute_result"
    }
   ],
   "source": [
    "KNN.predict(uid = 'A1925WP0C8AGLB', iid = 'B00009XVCZ')"
   ]
  },
  {
   "cell_type": "markdown",
   "metadata": {},
   "source": [
    "For predicted user id and Item combiation the estimated ratings = 4.57 and the actual K = 0  means the user did not bought this product yet."
   ]
  },
  {
   "cell_type": "markdown",
   "metadata": {},
   "source": [
    "## Getting Top n recommendations"
   ]
  },
  {
   "cell_type": "code",
   "execution_count": 46,
   "metadata": {},
   "outputs": [],
   "source": [
    "testset_alter = trainset.build_anti_testset()"
   ]
  },
  {
   "cell_type": "code",
   "execution_count": 64,
   "metadata": {},
   "outputs": [
    {
     "data": {
      "text/plain": [
       "14916007"
      ]
     },
     "execution_count": 64,
     "metadata": {},
     "output_type": "execute_result"
    }
   ],
   "source": [
    "len(testset_alter)"
   ]
  },
  {
   "cell_type": "code",
   "execution_count": 67,
   "metadata": {},
   "outputs": [],
   "source": [
    "top_pred = KNN.test(testset_alter[0:100000]) ## taking 100000 records due to memory issue"
   ]
  },
  {
   "cell_type": "code",
   "execution_count": 68,
   "metadata": {},
   "outputs": [
    {
     "data": {
      "text/plain": [
       "Prediction(uid='A2DUJJEXQP8FOJ', iid='B00005YTWZ', r_ui=4.30524315719201, est=5, details={'actual_k': 0, 'was_impossible': False})"
      ]
     },
     "execution_count": 68,
     "metadata": {},
     "output_type": "execute_result"
    }
   ],
   "source": [
    "top_pred[8]"
   ]
  },
  {
   "cell_type": "code",
   "execution_count": 70,
   "metadata": {},
   "outputs": [],
   "source": [
    "Item_based_pred_df = pd.DataFrame([[x.uid,x.iid,x.est] for x in top_pred])"
   ]
  },
  {
   "cell_type": "code",
   "execution_count": 71,
   "metadata": {},
   "outputs": [],
   "source": [
    "Item_based_pred_df.columns = [\"userId\",\"productId\",\"est_ratings\"]"
   ]
  },
  {
   "cell_type": "code",
   "execution_count": 72,
   "metadata": {},
   "outputs": [],
   "source": [
    "Item_based_pred_df.sort_values(by = ['userId','est_ratings'], ascending = False, inplace = True)"
   ]
  },
  {
   "cell_type": "code",
   "execution_count": 73,
   "metadata": {
    "scrolled": true
   },
   "outputs": [
    {
     "data": {
      "text/html": [
       "<div>\n",
       "<style scoped>\n",
       "    .dataframe tbody tr th:only-of-type {\n",
       "        vertical-align: middle;\n",
       "    }\n",
       "\n",
       "    .dataframe tbody tr th {\n",
       "        vertical-align: top;\n",
       "    }\n",
       "\n",
       "    .dataframe thead th {\n",
       "        text-align: right;\n",
       "    }\n",
       "</style>\n",
       "<table border=\"1\" class=\"dataframe\">\n",
       "  <thead>\n",
       "    <tr style=\"text-align: right;\">\n",
       "      <th></th>\n",
       "      <th>userId</th>\n",
       "      <th>productId</th>\n",
       "      <th>est_ratings</th>\n",
       "    </tr>\n",
       "  </thead>\n",
       "  <tbody>\n",
       "    <tr>\n",
       "      <th>51951</th>\n",
       "      <td>AXNQ3UXQ3P5HE</td>\n",
       "      <td>B00083LJ5Y</td>\n",
       "      <td>5.0</td>\n",
       "    </tr>\n",
       "    <tr>\n",
       "      <th>51958</th>\n",
       "      <td>AXNQ3UXQ3P5HE</td>\n",
       "      <td>B00006IRS3</td>\n",
       "      <td>5.0</td>\n",
       "    </tr>\n",
       "    <tr>\n",
       "      <th>51960</th>\n",
       "      <td>AXNQ3UXQ3P5HE</td>\n",
       "      <td>B00005YTWZ</td>\n",
       "      <td>5.0</td>\n",
       "    </tr>\n",
       "    <tr>\n",
       "      <th>51961</th>\n",
       "      <td>AXNQ3UXQ3P5HE</td>\n",
       "      <td>B0009A2L9E</td>\n",
       "      <td>5.0</td>\n",
       "    </tr>\n",
       "    <tr>\n",
       "      <th>51963</th>\n",
       "      <td>AXNQ3UXQ3P5HE</td>\n",
       "      <td>B000090W8L</td>\n",
       "      <td>5.0</td>\n",
       "    </tr>\n",
       "    <tr>\n",
       "      <th>51966</th>\n",
       "      <td>AXNQ3UXQ3P5HE</td>\n",
       "      <td>B000087NBW</td>\n",
       "      <td>5.0</td>\n",
       "    </tr>\n",
       "    <tr>\n",
       "      <th>51969</th>\n",
       "      <td>AXNQ3UXQ3P5HE</td>\n",
       "      <td>B0000DC6AZ</td>\n",
       "      <td>5.0</td>\n",
       "    </tr>\n",
       "    <tr>\n",
       "      <th>51970</th>\n",
       "      <td>AXNQ3UXQ3P5HE</td>\n",
       "      <td>B0002NUECY</td>\n",
       "      <td>5.0</td>\n",
       "    </tr>\n",
       "    <tr>\n",
       "      <th>51976</th>\n",
       "      <td>AXNQ3UXQ3P5HE</td>\n",
       "      <td>B0000300QN</td>\n",
       "      <td>5.0</td>\n",
       "    </tr>\n",
       "    <tr>\n",
       "      <th>51977</th>\n",
       "      <td>AXNQ3UXQ3P5HE</td>\n",
       "      <td>B0002GD4P0</td>\n",
       "      <td>5.0</td>\n",
       "    </tr>\n",
       "  </tbody>\n",
       "</table>\n",
       "</div>"
      ],
      "text/plain": [
       "              userId   productId  est_ratings\n",
       "51951  AXNQ3UXQ3P5HE  B00083LJ5Y          5.0\n",
       "51958  AXNQ3UXQ3P5HE  B00006IRS3          5.0\n",
       "51960  AXNQ3UXQ3P5HE  B00005YTWZ          5.0\n",
       "51961  AXNQ3UXQ3P5HE  B0009A2L9E          5.0\n",
       "51963  AXNQ3UXQ3P5HE  B000090W8L          5.0\n",
       "51966  AXNQ3UXQ3P5HE  B000087NBW          5.0\n",
       "51969  AXNQ3UXQ3P5HE  B0000DC6AZ          5.0\n",
       "51970  AXNQ3UXQ3P5HE  B0002NUECY          5.0\n",
       "51976  AXNQ3UXQ3P5HE  B0000300QN          5.0\n",
       "51977  AXNQ3UXQ3P5HE  B0002GD4P0          5.0"
      ]
     },
     "execution_count": 73,
     "metadata": {},
     "output_type": "execute_result"
    }
   ],
   "source": [
    "Item_based_pred_df.head(10)"
   ]
  },
  {
   "cell_type": "markdown",
   "metadata": {},
   "source": [
    "## Top 5 recommendations"
   ]
  },
  {
   "cell_type": "code",
   "execution_count": 74,
   "metadata": {},
   "outputs": [],
   "source": [
    "Top_5_recommend = Item_based_pred_df.groupby(\"userId\").head(5).reset_index(drop= True)"
   ]
  },
  {
   "cell_type": "code",
   "execution_count": 75,
   "metadata": {
    "scrolled": true
   },
   "outputs": [
    {
     "data": {
      "text/html": [
       "<div>\n",
       "<style scoped>\n",
       "    .dataframe tbody tr th:only-of-type {\n",
       "        vertical-align: middle;\n",
       "    }\n",
       "\n",
       "    .dataframe tbody tr th {\n",
       "        vertical-align: top;\n",
       "    }\n",
       "\n",
       "    .dataframe thead th {\n",
       "        text-align: right;\n",
       "    }\n",
       "</style>\n",
       "<table border=\"1\" class=\"dataframe\">\n",
       "  <thead>\n",
       "    <tr style=\"text-align: right;\">\n",
       "      <th></th>\n",
       "      <th>userId</th>\n",
       "      <th>productId</th>\n",
       "      <th>est_ratings</th>\n",
       "    </tr>\n",
       "  </thead>\n",
       "  <tbody>\n",
       "    <tr>\n",
       "      <th>0</th>\n",
       "      <td>AXNQ3UXQ3P5HE</td>\n",
       "      <td>B00083LJ5Y</td>\n",
       "      <td>5.0</td>\n",
       "    </tr>\n",
       "    <tr>\n",
       "      <th>1</th>\n",
       "      <td>AXNQ3UXQ3P5HE</td>\n",
       "      <td>B00006IRS3</td>\n",
       "      <td>5.0</td>\n",
       "    </tr>\n",
       "    <tr>\n",
       "      <th>2</th>\n",
       "      <td>AXNQ3UXQ3P5HE</td>\n",
       "      <td>B00005YTWZ</td>\n",
       "      <td>5.0</td>\n",
       "    </tr>\n",
       "    <tr>\n",
       "      <th>3</th>\n",
       "      <td>AXNQ3UXQ3P5HE</td>\n",
       "      <td>B0009A2L9E</td>\n",
       "      <td>5.0</td>\n",
       "    </tr>\n",
       "    <tr>\n",
       "      <th>4</th>\n",
       "      <td>AXNQ3UXQ3P5HE</td>\n",
       "      <td>B000090W8L</td>\n",
       "      <td>5.0</td>\n",
       "    </tr>\n",
       "    <tr>\n",
       "      <th>5</th>\n",
       "      <td>A8TZ88OM8YOLW</td>\n",
       "      <td>B00083LJ5Y</td>\n",
       "      <td>5.0</td>\n",
       "    </tr>\n",
       "    <tr>\n",
       "      <th>6</th>\n",
       "      <td>A8TZ88OM8YOLW</td>\n",
       "      <td>B00006IRS3</td>\n",
       "      <td>5.0</td>\n",
       "    </tr>\n",
       "    <tr>\n",
       "      <th>7</th>\n",
       "      <td>A8TZ88OM8YOLW</td>\n",
       "      <td>B00005YTWZ</td>\n",
       "      <td>5.0</td>\n",
       "    </tr>\n",
       "    <tr>\n",
       "      <th>8</th>\n",
       "      <td>A8TZ88OM8YOLW</td>\n",
       "      <td>B0009A2L9E</td>\n",
       "      <td>5.0</td>\n",
       "    </tr>\n",
       "    <tr>\n",
       "      <th>9</th>\n",
       "      <td>A8TZ88OM8YOLW</td>\n",
       "      <td>B000090W8L</td>\n",
       "      <td>5.0</td>\n",
       "    </tr>\n",
       "    <tr>\n",
       "      <th>10</th>\n",
       "      <td>A33ZYFE8XMKKR1</td>\n",
       "      <td>B00083LJ5Y</td>\n",
       "      <td>5.0</td>\n",
       "    </tr>\n",
       "    <tr>\n",
       "      <th>11</th>\n",
       "      <td>A33ZYFE8XMKKR1</td>\n",
       "      <td>B00006IRS3</td>\n",
       "      <td>5.0</td>\n",
       "    </tr>\n",
       "    <tr>\n",
       "      <th>12</th>\n",
       "      <td>A33ZYFE8XMKKR1</td>\n",
       "      <td>B00005YTWZ</td>\n",
       "      <td>5.0</td>\n",
       "    </tr>\n",
       "    <tr>\n",
       "      <th>13</th>\n",
       "      <td>A33ZYFE8XMKKR1</td>\n",
       "      <td>B0009A2L9E</td>\n",
       "      <td>5.0</td>\n",
       "    </tr>\n",
       "    <tr>\n",
       "      <th>14</th>\n",
       "      <td>A33ZYFE8XMKKR1</td>\n",
       "      <td>B000090W8L</td>\n",
       "      <td>5.0</td>\n",
       "    </tr>\n",
       "    <tr>\n",
       "      <th>15</th>\n",
       "      <td>A2ZR3YTMEEIIZ4</td>\n",
       "      <td>B00083LJ5Y</td>\n",
       "      <td>5.0</td>\n",
       "    </tr>\n",
       "    <tr>\n",
       "      <th>16</th>\n",
       "      <td>A2ZR3YTMEEIIZ4</td>\n",
       "      <td>B00006IRS3</td>\n",
       "      <td>5.0</td>\n",
       "    </tr>\n",
       "    <tr>\n",
       "      <th>17</th>\n",
       "      <td>A2ZR3YTMEEIIZ4</td>\n",
       "      <td>B00005YTWZ</td>\n",
       "      <td>5.0</td>\n",
       "    </tr>\n",
       "    <tr>\n",
       "      <th>18</th>\n",
       "      <td>A2ZR3YTMEEIIZ4</td>\n",
       "      <td>B0009A2L9E</td>\n",
       "      <td>5.0</td>\n",
       "    </tr>\n",
       "    <tr>\n",
       "      <th>19</th>\n",
       "      <td>A2ZR3YTMEEIIZ4</td>\n",
       "      <td>B000090W8L</td>\n",
       "      <td>5.0</td>\n",
       "    </tr>\n",
       "    <tr>\n",
       "      <th>20</th>\n",
       "      <td>A2DUJJEXQP8FOJ</td>\n",
       "      <td>B00006IRS3</td>\n",
       "      <td>5.0</td>\n",
       "    </tr>\n",
       "    <tr>\n",
       "      <th>21</th>\n",
       "      <td>A2DUJJEXQP8FOJ</td>\n",
       "      <td>B00005YTWZ</td>\n",
       "      <td>5.0</td>\n",
       "    </tr>\n",
       "    <tr>\n",
       "      <th>22</th>\n",
       "      <td>A2DUJJEXQP8FOJ</td>\n",
       "      <td>B0009A2L9E</td>\n",
       "      <td>5.0</td>\n",
       "    </tr>\n",
       "    <tr>\n",
       "      <th>23</th>\n",
       "      <td>A2DUJJEXQP8FOJ</td>\n",
       "      <td>B000090W8L</td>\n",
       "      <td>5.0</td>\n",
       "    </tr>\n",
       "    <tr>\n",
       "      <th>24</th>\n",
       "      <td>A2DUJJEXQP8FOJ</td>\n",
       "      <td>B000087NBW</td>\n",
       "      <td>5.0</td>\n",
       "    </tr>\n",
       "    <tr>\n",
       "      <th>25</th>\n",
       "      <td>A281T8MXBOSWY5</td>\n",
       "      <td>B00083LJ5Y</td>\n",
       "      <td>5.0</td>\n",
       "    </tr>\n",
       "    <tr>\n",
       "      <th>26</th>\n",
       "      <td>A281T8MXBOSWY5</td>\n",
       "      <td>B00006IRS3</td>\n",
       "      <td>5.0</td>\n",
       "    </tr>\n",
       "    <tr>\n",
       "      <th>27</th>\n",
       "      <td>A281T8MXBOSWY5</td>\n",
       "      <td>B00005YTWZ</td>\n",
       "      <td>5.0</td>\n",
       "    </tr>\n",
       "    <tr>\n",
       "      <th>28</th>\n",
       "      <td>A281T8MXBOSWY5</td>\n",
       "      <td>B0009A2L9E</td>\n",
       "      <td>5.0</td>\n",
       "    </tr>\n",
       "    <tr>\n",
       "      <th>29</th>\n",
       "      <td>A281T8MXBOSWY5</td>\n",
       "      <td>B000090W8L</td>\n",
       "      <td>5.0</td>\n",
       "    </tr>\n",
       "    <tr>\n",
       "      <th>30</th>\n",
       "      <td>A212MDP6K4VJS5</td>\n",
       "      <td>B00083LJ5Y</td>\n",
       "      <td>5.0</td>\n",
       "    </tr>\n",
       "    <tr>\n",
       "      <th>31</th>\n",
       "      <td>A212MDP6K4VJS5</td>\n",
       "      <td>B00006IRS3</td>\n",
       "      <td>5.0</td>\n",
       "    </tr>\n",
       "    <tr>\n",
       "      <th>32</th>\n",
       "      <td>A212MDP6K4VJS5</td>\n",
       "      <td>B00005YTWZ</td>\n",
       "      <td>5.0</td>\n",
       "    </tr>\n",
       "    <tr>\n",
       "      <th>33</th>\n",
       "      <td>A212MDP6K4VJS5</td>\n",
       "      <td>B0009A2L9E</td>\n",
       "      <td>5.0</td>\n",
       "    </tr>\n",
       "    <tr>\n",
       "      <th>34</th>\n",
       "      <td>A212MDP6K4VJS5</td>\n",
       "      <td>B000090W8L</td>\n",
       "      <td>5.0</td>\n",
       "    </tr>\n",
       "    <tr>\n",
       "      <th>35</th>\n",
       "      <td>A1KLBWKUQHSQVW</td>\n",
       "      <td>B00083LJ5Y</td>\n",
       "      <td>5.0</td>\n",
       "    </tr>\n",
       "    <tr>\n",
       "      <th>36</th>\n",
       "      <td>A1KLBWKUQHSQVW</td>\n",
       "      <td>B00006IRS3</td>\n",
       "      <td>5.0</td>\n",
       "    </tr>\n",
       "    <tr>\n",
       "      <th>37</th>\n",
       "      <td>A1KLBWKUQHSQVW</td>\n",
       "      <td>B00005YTWZ</td>\n",
       "      <td>5.0</td>\n",
       "    </tr>\n",
       "    <tr>\n",
       "      <th>38</th>\n",
       "      <td>A1KLBWKUQHSQVW</td>\n",
       "      <td>B0009A2L9E</td>\n",
       "      <td>5.0</td>\n",
       "    </tr>\n",
       "    <tr>\n",
       "      <th>39</th>\n",
       "      <td>A1KLBWKUQHSQVW</td>\n",
       "      <td>B000090W8L</td>\n",
       "      <td>5.0</td>\n",
       "    </tr>\n",
       "    <tr>\n",
       "      <th>40</th>\n",
       "      <td>A1GFB47CXP4LKR</td>\n",
       "      <td>B00083LJ5Y</td>\n",
       "      <td>5.0</td>\n",
       "    </tr>\n",
       "    <tr>\n",
       "      <th>41</th>\n",
       "      <td>A1GFB47CXP4LKR</td>\n",
       "      <td>B00006IRS3</td>\n",
       "      <td>5.0</td>\n",
       "    </tr>\n",
       "    <tr>\n",
       "      <th>42</th>\n",
       "      <td>A1GFB47CXP4LKR</td>\n",
       "      <td>B00005YTWZ</td>\n",
       "      <td>5.0</td>\n",
       "    </tr>\n",
       "    <tr>\n",
       "      <th>43</th>\n",
       "      <td>A1GFB47CXP4LKR</td>\n",
       "      <td>B0009A2L9E</td>\n",
       "      <td>5.0</td>\n",
       "    </tr>\n",
       "    <tr>\n",
       "      <th>44</th>\n",
       "      <td>A1GFB47CXP4LKR</td>\n",
       "      <td>B000090W8L</td>\n",
       "      <td>5.0</td>\n",
       "    </tr>\n",
       "    <tr>\n",
       "      <th>45</th>\n",
       "      <td>A16HXVNPU5TCGE</td>\n",
       "      <td>B00083LJ5Y</td>\n",
       "      <td>5.0</td>\n",
       "    </tr>\n",
       "    <tr>\n",
       "      <th>46</th>\n",
       "      <td>A16HXVNPU5TCGE</td>\n",
       "      <td>B00005YTWZ</td>\n",
       "      <td>5.0</td>\n",
       "    </tr>\n",
       "    <tr>\n",
       "      <th>47</th>\n",
       "      <td>A16HXVNPU5TCGE</td>\n",
       "      <td>B0009A2L9E</td>\n",
       "      <td>5.0</td>\n",
       "    </tr>\n",
       "    <tr>\n",
       "      <th>48</th>\n",
       "      <td>A16HXVNPU5TCGE</td>\n",
       "      <td>B000090W8L</td>\n",
       "      <td>5.0</td>\n",
       "    </tr>\n",
       "    <tr>\n",
       "      <th>49</th>\n",
       "      <td>A16HXVNPU5TCGE</td>\n",
       "      <td>B000087NBW</td>\n",
       "      <td>5.0</td>\n",
       "    </tr>\n",
       "  </tbody>\n",
       "</table>\n",
       "</div>"
      ],
      "text/plain": [
       "            userId   productId  est_ratings\n",
       "0    AXNQ3UXQ3P5HE  B00083LJ5Y          5.0\n",
       "1    AXNQ3UXQ3P5HE  B00006IRS3          5.0\n",
       "2    AXNQ3UXQ3P5HE  B00005YTWZ          5.0\n",
       "3    AXNQ3UXQ3P5HE  B0009A2L9E          5.0\n",
       "4    AXNQ3UXQ3P5HE  B000090W8L          5.0\n",
       "5    A8TZ88OM8YOLW  B00083LJ5Y          5.0\n",
       "6    A8TZ88OM8YOLW  B00006IRS3          5.0\n",
       "7    A8TZ88OM8YOLW  B00005YTWZ          5.0\n",
       "8    A8TZ88OM8YOLW  B0009A2L9E          5.0\n",
       "9    A8TZ88OM8YOLW  B000090W8L          5.0\n",
       "10  A33ZYFE8XMKKR1  B00083LJ5Y          5.0\n",
       "11  A33ZYFE8XMKKR1  B00006IRS3          5.0\n",
       "12  A33ZYFE8XMKKR1  B00005YTWZ          5.0\n",
       "13  A33ZYFE8XMKKR1  B0009A2L9E          5.0\n",
       "14  A33ZYFE8XMKKR1  B000090W8L          5.0\n",
       "15  A2ZR3YTMEEIIZ4  B00083LJ5Y          5.0\n",
       "16  A2ZR3YTMEEIIZ4  B00006IRS3          5.0\n",
       "17  A2ZR3YTMEEIIZ4  B00005YTWZ          5.0\n",
       "18  A2ZR3YTMEEIIZ4  B0009A2L9E          5.0\n",
       "19  A2ZR3YTMEEIIZ4  B000090W8L          5.0\n",
       "20  A2DUJJEXQP8FOJ  B00006IRS3          5.0\n",
       "21  A2DUJJEXQP8FOJ  B00005YTWZ          5.0\n",
       "22  A2DUJJEXQP8FOJ  B0009A2L9E          5.0\n",
       "23  A2DUJJEXQP8FOJ  B000090W8L          5.0\n",
       "24  A2DUJJEXQP8FOJ  B000087NBW          5.0\n",
       "25  A281T8MXBOSWY5  B00083LJ5Y          5.0\n",
       "26  A281T8MXBOSWY5  B00006IRS3          5.0\n",
       "27  A281T8MXBOSWY5  B00005YTWZ          5.0\n",
       "28  A281T8MXBOSWY5  B0009A2L9E          5.0\n",
       "29  A281T8MXBOSWY5  B000090W8L          5.0\n",
       "30  A212MDP6K4VJS5  B00083LJ5Y          5.0\n",
       "31  A212MDP6K4VJS5  B00006IRS3          5.0\n",
       "32  A212MDP6K4VJS5  B00005YTWZ          5.0\n",
       "33  A212MDP6K4VJS5  B0009A2L9E          5.0\n",
       "34  A212MDP6K4VJS5  B000090W8L          5.0\n",
       "35  A1KLBWKUQHSQVW  B00083LJ5Y          5.0\n",
       "36  A1KLBWKUQHSQVW  B00006IRS3          5.0\n",
       "37  A1KLBWKUQHSQVW  B00005YTWZ          5.0\n",
       "38  A1KLBWKUQHSQVW  B0009A2L9E          5.0\n",
       "39  A1KLBWKUQHSQVW  B000090W8L          5.0\n",
       "40  A1GFB47CXP4LKR  B00083LJ5Y          5.0\n",
       "41  A1GFB47CXP4LKR  B00006IRS3          5.0\n",
       "42  A1GFB47CXP4LKR  B00005YTWZ          5.0\n",
       "43  A1GFB47CXP4LKR  B0009A2L9E          5.0\n",
       "44  A1GFB47CXP4LKR  B000090W8L          5.0\n",
       "45  A16HXVNPU5TCGE  B00083LJ5Y          5.0\n",
       "46  A16HXVNPU5TCGE  B00005YTWZ          5.0\n",
       "47  A16HXVNPU5TCGE  B0009A2L9E          5.0\n",
       "48  A16HXVNPU5TCGE  B000090W8L          5.0\n",
       "49  A16HXVNPU5TCGE  B000087NBW          5.0"
      ]
     },
     "execution_count": 75,
     "metadata": {},
     "output_type": "execute_result"
    }
   ],
   "source": [
    "Top_5_recommend"
   ]
  },
  {
   "cell_type": "code",
   "execution_count": 78,
   "metadata": {},
   "outputs": [
    {
     "data": {
      "text/plain": [
       "array(['AXNQ3UXQ3P5HE', 'A8TZ88OM8YOLW', 'A33ZYFE8XMKKR1',\n",
       "       'A2ZR3YTMEEIIZ4', 'A2DUJJEXQP8FOJ', 'A281T8MXBOSWY5',\n",
       "       'A212MDP6K4VJS5', 'A1KLBWKUQHSQVW', 'A1GFB47CXP4LKR',\n",
       "       'A16HXVNPU5TCGE'], dtype=object)"
      ]
     },
     "execution_count": 78,
     "metadata": {},
     "output_type": "execute_result"
    }
   ],
   "source": [
    "Top_5_recommend['userId'].unique()"
   ]
  },
  {
   "cell_type": "markdown",
   "metadata": {},
   "source": [
    "Hence the top 5 recommendation has been done using the Item based model. The sample we took has more product compared to user. But, there woudn't be a surprise to the user as the similar product was recommended and we were able to predict the recommendation for only 10 users due to sparsity issue."
   ]
  },
  {
   "cell_type": "markdown",
   "metadata": {},
   "source": [
    "## User Based model using surprise - KNNWithMeans"
   ]
  },
  {
   "cell_type": "markdown",
   "metadata": {},
   "source": [
    "#### Training the model"
   ]
  },
  {
   "cell_type": "code",
   "execution_count": 80,
   "metadata": {},
   "outputs": [],
   "source": [
    "KNN_user = KNNWithMeans(k=50, sim_options = {'name':'pearson_baseline', 'user_based' : True})"
   ]
  },
  {
   "cell_type": "code",
   "execution_count": 81,
   "metadata": {},
   "outputs": [
    {
     "name": "stdout",
     "output_type": "stream",
     "text": [
      "Estimating biases using als...\n",
      "Computing the pearson_baseline similarity matrix...\n",
      "Done computing similarity matrix.\n"
     ]
    },
    {
     "data": {
      "text/plain": [
       "<surprise.prediction_algorithms.knns.KNNWithMeans at 0x1ec2cb25438>"
      ]
     },
     "execution_count": 81,
     "metadata": {},
     "output_type": "execute_result"
    }
   ],
   "source": [
    "KNN_user.fit(trainset)"
   ]
  },
  {
   "cell_type": "code",
   "execution_count": 129,
   "metadata": {},
   "outputs": [],
   "source": [
    "## Finding the similar user for the user id A281T8MXBOSWY5"
   ]
  },
  {
   "cell_type": "code",
   "execution_count": 82,
   "metadata": {},
   "outputs": [],
   "source": [
    "similar_user = KNN_user.get_neighbors(trainset.to_inner_uid('A281T8MXBOSWY5'),k=10)"
   ]
  },
  {
   "cell_type": "code",
   "execution_count": 83,
   "metadata": {},
   "outputs": [
    {
     "data": {
      "text/plain": [
       "['A25FL6VLD7S23S',\n",
       " 'A2DUJJEXQP8FOJ',\n",
       " 'A212MDP6K4VJS5',\n",
       " 'A8TZ88OM8YOLW',\n",
       " 'A33ZYFE8XMKKR1',\n",
       " 'AXNQ3UXQ3P5HE',\n",
       " 'A1KLBWKUQHSQVW',\n",
       " 'A2ZR3YTMEEIIZ4',\n",
       " 'A16HXVNPU5TCGE',\n",
       " 'A1GFB47CXP4LKR']"
      ]
     },
     "execution_count": 83,
     "metadata": {},
     "output_type": "execute_result"
    }
   ],
   "source": [
    "[trainset.to_raw_uid(x) for x in similar_user]"
   ]
  },
  {
   "cell_type": "markdown",
   "metadata": {},
   "source": [
    "## Evaluating the model"
   ]
  },
  {
   "cell_type": "code",
   "execution_count": 84,
   "metadata": {},
   "outputs": [],
   "source": [
    "Eval_user = KNN_user.test(testset)"
   ]
  },
  {
   "cell_type": "code",
   "execution_count": 85,
   "metadata": {},
   "outputs": [
    {
     "data": {
      "text/plain": [
       "Prediction(uid='A21T0D2F7SKG5S', iid='B00009R6WT', r_ui=5.0, est=4.458333333333333, details={'actual_k': 1, 'was_impossible': False})"
      ]
     },
     "execution_count": 85,
     "metadata": {},
     "output_type": "execute_result"
    }
   ],
   "source": [
    "Eval_user[24]"
   ]
  },
  {
   "cell_type": "code",
   "execution_count": 86,
   "metadata": {},
   "outputs": [
    {
     "name": "stdout",
     "output_type": "stream",
     "text": [
      "RMSE: 1.0724\n"
     ]
    },
    {
     "data": {
      "text/plain": [
       "1.0723850708346745"
      ]
     },
     "execution_count": 86,
     "metadata": {},
     "output_type": "execute_result"
    }
   ],
   "source": [
    "accuracy.rmse(Eval_user)"
   ]
  },
  {
   "cell_type": "markdown",
   "metadata": {},
   "source": [
    "###### Predicition for a single user and item combination"
   ]
  },
  {
   "cell_type": "code",
   "execution_count": 87,
   "metadata": {},
   "outputs": [
    {
     "data": {
      "text/plain": [
       "Prediction(uid='A2ZR3YTMEEIIZ4', iid='0972683275', r_ui=None, est=4.111111111111111, details={'actual_k': 0, 'was_impossible': False})"
      ]
     },
     "execution_count": 87,
     "metadata": {},
     "output_type": "execute_result"
    }
   ],
   "source": [
    "KNN_user.predict(uid = 'A2ZR3YTMEEIIZ4', iid = '0972683275')"
   ]
  },
  {
   "cell_type": "markdown",
   "metadata": {},
   "source": [
    "## Generating top n recommendations"
   ]
  },
  {
   "cell_type": "code",
   "execution_count": 155,
   "metadata": {},
   "outputs": [],
   "source": [
    "##using the already built test set"
   ]
  },
  {
   "cell_type": "code",
   "execution_count": 88,
   "metadata": {},
   "outputs": [],
   "source": [
    "User_pred = KNN_user.test(testset_alter[0:100000]) ## taking 100000 records due to memory issue"
   ]
  },
  {
   "cell_type": "code",
   "execution_count": 89,
   "metadata": {},
   "outputs": [
    {
     "data": {
      "text/plain": [
       "Prediction(uid='A2DUJJEXQP8FOJ', iid='B0002WPREU', r_ui=4.30524315719201, est=4.764705882352941, details={'actual_k': 0, 'was_impossible': False})"
      ]
     },
     "execution_count": 89,
     "metadata": {},
     "output_type": "execute_result"
    }
   ],
   "source": [
    "User_pred[100]"
   ]
  },
  {
   "cell_type": "code",
   "execution_count": 90,
   "metadata": {},
   "outputs": [],
   "source": [
    "User_based_pred_df = pd.DataFrame([[x.uid,x.iid,x.est] for x in User_pred])"
   ]
  },
  {
   "cell_type": "code",
   "execution_count": 91,
   "metadata": {},
   "outputs": [],
   "source": [
    "User_based_pred_df.columns = [\"userId\",\"productId\",\"est_ratings\"]"
   ]
  },
  {
   "cell_type": "code",
   "execution_count": 92,
   "metadata": {},
   "outputs": [],
   "source": [
    "User_based_pred_df.sort_values(by = ['userId','est_ratings'], ascending = False, inplace = True)"
   ]
  },
  {
   "cell_type": "code",
   "execution_count": 93,
   "metadata": {},
   "outputs": [
    {
     "data": {
      "text/html": [
       "<div>\n",
       "<style scoped>\n",
       "    .dataframe tbody tr th:only-of-type {\n",
       "        vertical-align: middle;\n",
       "    }\n",
       "\n",
       "    .dataframe tbody tr th {\n",
       "        vertical-align: top;\n",
       "    }\n",
       "\n",
       "    .dataframe thead th {\n",
       "        text-align: right;\n",
       "    }\n",
       "</style>\n",
       "<table border=\"1\" class=\"dataframe\">\n",
       "  <thead>\n",
       "    <tr style=\"text-align: right;\">\n",
       "      <th></th>\n",
       "      <th>userId</th>\n",
       "      <th>productId</th>\n",
       "      <th>est_ratings</th>\n",
       "    </tr>\n",
       "  </thead>\n",
       "  <tbody>\n",
       "    <tr>\n",
       "      <th>22534</th>\n",
       "      <td>A8TZ88OM8YOLW</td>\n",
       "      <td>B00019OENY</td>\n",
       "      <td>4.703704</td>\n",
       "    </tr>\n",
       "    <tr>\n",
       "      <th>12340</th>\n",
       "      <td>A212MDP6K4VJS5</td>\n",
       "      <td>B0009U7Y32</td>\n",
       "      <td>4.117647</td>\n",
       "    </tr>\n",
       "    <tr>\n",
       "      <th>51703</th>\n",
       "      <td>A281T8MXBOSWY5</td>\n",
       "      <td>B00004S5H5</td>\n",
       "      <td>4.571429</td>\n",
       "    </tr>\n",
       "    <tr>\n",
       "      <th>21698</th>\n",
       "      <td>A8TZ88OM8YOLW</td>\n",
       "      <td>B000AL6NVO</td>\n",
       "      <td>4.703704</td>\n",
       "    </tr>\n",
       "    <tr>\n",
       "      <th>46711</th>\n",
       "      <td>A281T8MXBOSWY5</td>\n",
       "      <td>B000BSLW8U</td>\n",
       "      <td>4.571429</td>\n",
       "    </tr>\n",
       "    <tr>\n",
       "      <th>59228</th>\n",
       "      <td>AXNQ3UXQ3P5HE</td>\n",
       "      <td>B00009R6PV</td>\n",
       "      <td>4.500000</td>\n",
       "    </tr>\n",
       "    <tr>\n",
       "      <th>71879</th>\n",
       "      <td>A1KLBWKUQHSQVW</td>\n",
       "      <td>B000A835EA</td>\n",
       "      <td>4.545455</td>\n",
       "    </tr>\n",
       "    <tr>\n",
       "      <th>56010</th>\n",
       "      <td>AXNQ3UXQ3P5HE</td>\n",
       "      <td>B0000D8LSW</td>\n",
       "      <td>4.500000</td>\n",
       "    </tr>\n",
       "    <tr>\n",
       "      <th>1122</th>\n",
       "      <td>A2DUJJEXQP8FOJ</td>\n",
       "      <td>B00009UU00</td>\n",
       "      <td>4.764706</td>\n",
       "    </tr>\n",
       "    <tr>\n",
       "      <th>70401</th>\n",
       "      <td>A1KLBWKUQHSQVW</td>\n",
       "      <td>B00067PS7W</td>\n",
       "      <td>4.545455</td>\n",
       "    </tr>\n",
       "  </tbody>\n",
       "</table>\n",
       "</div>"
      ],
      "text/plain": [
       "               userId   productId  est_ratings\n",
       "22534   A8TZ88OM8YOLW  B00019OENY     4.703704\n",
       "12340  A212MDP6K4VJS5  B0009U7Y32     4.117647\n",
       "51703  A281T8MXBOSWY5  B00004S5H5     4.571429\n",
       "21698   A8TZ88OM8YOLW  B000AL6NVO     4.703704\n",
       "46711  A281T8MXBOSWY5  B000BSLW8U     4.571429\n",
       "59228   AXNQ3UXQ3P5HE  B00009R6PV     4.500000\n",
       "71879  A1KLBWKUQHSQVW  B000A835EA     4.545455\n",
       "56010   AXNQ3UXQ3P5HE  B0000D8LSW     4.500000\n",
       "1122   A2DUJJEXQP8FOJ  B00009UU00     4.764706\n",
       "70401  A1KLBWKUQHSQVW  B00067PS7W     4.545455"
      ]
     },
     "execution_count": 93,
     "metadata": {},
     "output_type": "execute_result"
    }
   ],
   "source": [
    "User_based_pred_df.sample(10)"
   ]
  },
  {
   "cell_type": "markdown",
   "metadata": {},
   "source": [
    "## Top 5 Recommendations"
   ]
  },
  {
   "cell_type": "code",
   "execution_count": 94,
   "metadata": {},
   "outputs": [],
   "source": [
    "Top_5users_recommend = User_based_pred_df.groupby(\"userId\").head(5).reset_index(drop= True)"
   ]
  },
  {
   "cell_type": "code",
   "execution_count": 95,
   "metadata": {
    "scrolled": true
   },
   "outputs": [
    {
     "data": {
      "text/html": [
       "<div>\n",
       "<style scoped>\n",
       "    .dataframe tbody tr th:only-of-type {\n",
       "        vertical-align: middle;\n",
       "    }\n",
       "\n",
       "    .dataframe tbody tr th {\n",
       "        vertical-align: top;\n",
       "    }\n",
       "\n",
       "    .dataframe thead th {\n",
       "        text-align: right;\n",
       "    }\n",
       "</style>\n",
       "<table border=\"1\" class=\"dataframe\">\n",
       "  <thead>\n",
       "    <tr style=\"text-align: right;\">\n",
       "      <th></th>\n",
       "      <th>userId</th>\n",
       "      <th>productId</th>\n",
       "      <th>est_ratings</th>\n",
       "    </tr>\n",
       "  </thead>\n",
       "  <tbody>\n",
       "    <tr>\n",
       "      <th>0</th>\n",
       "      <td>AXNQ3UXQ3P5HE</td>\n",
       "      <td>B00083LJ5Y</td>\n",
       "      <td>4.500000</td>\n",
       "    </tr>\n",
       "    <tr>\n",
       "      <th>1</th>\n",
       "      <td>AXNQ3UXQ3P5HE</td>\n",
       "      <td>B000BNZGKU</td>\n",
       "      <td>4.500000</td>\n",
       "    </tr>\n",
       "    <tr>\n",
       "      <th>2</th>\n",
       "      <td>AXNQ3UXQ3P5HE</td>\n",
       "      <td>B00005U243</td>\n",
       "      <td>4.500000</td>\n",
       "    </tr>\n",
       "    <tr>\n",
       "      <th>3</th>\n",
       "      <td>AXNQ3UXQ3P5HE</td>\n",
       "      <td>B00006HYJ5</td>\n",
       "      <td>4.500000</td>\n",
       "    </tr>\n",
       "    <tr>\n",
       "      <th>4</th>\n",
       "      <td>AXNQ3UXQ3P5HE</td>\n",
       "      <td>B000HGIWN4</td>\n",
       "      <td>4.500000</td>\n",
       "    </tr>\n",
       "    <tr>\n",
       "      <th>5</th>\n",
       "      <td>A8TZ88OM8YOLW</td>\n",
       "      <td>B00009J5W0</td>\n",
       "      <td>5.000000</td>\n",
       "    </tr>\n",
       "    <tr>\n",
       "      <th>6</th>\n",
       "      <td>A8TZ88OM8YOLW</td>\n",
       "      <td>B00000K4KH</td>\n",
       "      <td>5.000000</td>\n",
       "    </tr>\n",
       "    <tr>\n",
       "      <th>7</th>\n",
       "      <td>A8TZ88OM8YOLW</td>\n",
       "      <td>B0000696R8</td>\n",
       "      <td>5.000000</td>\n",
       "    </tr>\n",
       "    <tr>\n",
       "      <th>8</th>\n",
       "      <td>A8TZ88OM8YOLW</td>\n",
       "      <td>B000050AQ7</td>\n",
       "      <td>5.000000</td>\n",
       "    </tr>\n",
       "    <tr>\n",
       "      <th>9</th>\n",
       "      <td>A8TZ88OM8YOLW</td>\n",
       "      <td>B00001YVG4</td>\n",
       "      <td>5.000000</td>\n",
       "    </tr>\n",
       "    <tr>\n",
       "      <th>10</th>\n",
       "      <td>A33ZYFE8XMKKR1</td>\n",
       "      <td>B00083LJ5Y</td>\n",
       "      <td>4.357143</td>\n",
       "    </tr>\n",
       "    <tr>\n",
       "      <th>11</th>\n",
       "      <td>A33ZYFE8XMKKR1</td>\n",
       "      <td>B000BNZGKU</td>\n",
       "      <td>4.357143</td>\n",
       "    </tr>\n",
       "    <tr>\n",
       "      <th>12</th>\n",
       "      <td>A33ZYFE8XMKKR1</td>\n",
       "      <td>B00005U243</td>\n",
       "      <td>4.357143</td>\n",
       "    </tr>\n",
       "    <tr>\n",
       "      <th>13</th>\n",
       "      <td>A33ZYFE8XMKKR1</td>\n",
       "      <td>B000HGIWN4</td>\n",
       "      <td>4.357143</td>\n",
       "    </tr>\n",
       "    <tr>\n",
       "      <th>14</th>\n",
       "      <td>A33ZYFE8XMKKR1</td>\n",
       "      <td>B000093IRC</td>\n",
       "      <td>4.357143</td>\n",
       "    </tr>\n",
       "    <tr>\n",
       "      <th>15</th>\n",
       "      <td>A2ZR3YTMEEIIZ4</td>\n",
       "      <td>B00083LJ5Y</td>\n",
       "      <td>4.111111</td>\n",
       "    </tr>\n",
       "    <tr>\n",
       "      <th>16</th>\n",
       "      <td>A2ZR3YTMEEIIZ4</td>\n",
       "      <td>B000BNZGKU</td>\n",
       "      <td>4.111111</td>\n",
       "    </tr>\n",
       "    <tr>\n",
       "      <th>17</th>\n",
       "      <td>A2ZR3YTMEEIIZ4</td>\n",
       "      <td>B00005U243</td>\n",
       "      <td>4.111111</td>\n",
       "    </tr>\n",
       "    <tr>\n",
       "      <th>18</th>\n",
       "      <td>A2ZR3YTMEEIIZ4</td>\n",
       "      <td>B00006HYJ5</td>\n",
       "      <td>4.111111</td>\n",
       "    </tr>\n",
       "    <tr>\n",
       "      <th>19</th>\n",
       "      <td>A2ZR3YTMEEIIZ4</td>\n",
       "      <td>B000HGIWN4</td>\n",
       "      <td>4.111111</td>\n",
       "    </tr>\n",
       "    <tr>\n",
       "      <th>20</th>\n",
       "      <td>A2DUJJEXQP8FOJ</td>\n",
       "      <td>B000062VUO</td>\n",
       "      <td>5.000000</td>\n",
       "    </tr>\n",
       "    <tr>\n",
       "      <th>21</th>\n",
       "      <td>A2DUJJEXQP8FOJ</td>\n",
       "      <td>B000BTL0OA</td>\n",
       "      <td>5.000000</td>\n",
       "    </tr>\n",
       "    <tr>\n",
       "      <th>22</th>\n",
       "      <td>A2DUJJEXQP8FOJ</td>\n",
       "      <td>B000HPMP6A</td>\n",
       "      <td>5.000000</td>\n",
       "    </tr>\n",
       "    <tr>\n",
       "      <th>23</th>\n",
       "      <td>A2DUJJEXQP8FOJ</td>\n",
       "      <td>B000ETVKHE</td>\n",
       "      <td>5.000000</td>\n",
       "    </tr>\n",
       "    <tr>\n",
       "      <th>24</th>\n",
       "      <td>A2DUJJEXQP8FOJ</td>\n",
       "      <td>B000E8OVMQ</td>\n",
       "      <td>5.000000</td>\n",
       "    </tr>\n",
       "    <tr>\n",
       "      <th>25</th>\n",
       "      <td>A281T8MXBOSWY5</td>\n",
       "      <td>B00064V6RG</td>\n",
       "      <td>4.847291</td>\n",
       "    </tr>\n",
       "    <tr>\n",
       "      <th>26</th>\n",
       "      <td>A281T8MXBOSWY5</td>\n",
       "      <td>B000HJPK2C</td>\n",
       "      <td>4.847291</td>\n",
       "    </tr>\n",
       "    <tr>\n",
       "      <th>27</th>\n",
       "      <td>A281T8MXBOSWY5</td>\n",
       "      <td>B000FKKWVM</td>\n",
       "      <td>4.847291</td>\n",
       "    </tr>\n",
       "    <tr>\n",
       "      <th>28</th>\n",
       "      <td>A281T8MXBOSWY5</td>\n",
       "      <td>B000IE8Z4Q</td>\n",
       "      <td>4.847291</td>\n",
       "    </tr>\n",
       "    <tr>\n",
       "      <th>29</th>\n",
       "      <td>A281T8MXBOSWY5</td>\n",
       "      <td>B000EOSHGQ</td>\n",
       "      <td>4.847291</td>\n",
       "    </tr>\n",
       "    <tr>\n",
       "      <th>30</th>\n",
       "      <td>A212MDP6K4VJS5</td>\n",
       "      <td>B00015GYU4</td>\n",
       "      <td>4.450980</td>\n",
       "    </tr>\n",
       "    <tr>\n",
       "      <th>31</th>\n",
       "      <td>A212MDP6K4VJS5</td>\n",
       "      <td>B0000BZL1P</td>\n",
       "      <td>4.450980</td>\n",
       "    </tr>\n",
       "    <tr>\n",
       "      <th>32</th>\n",
       "      <td>A212MDP6K4VJS5</td>\n",
       "      <td>B0001CNMFM</td>\n",
       "      <td>4.450980</td>\n",
       "    </tr>\n",
       "    <tr>\n",
       "      <th>33</th>\n",
       "      <td>A212MDP6K4VJS5</td>\n",
       "      <td>B0009RP6T4</td>\n",
       "      <td>4.450980</td>\n",
       "    </tr>\n",
       "    <tr>\n",
       "      <th>34</th>\n",
       "      <td>A212MDP6K4VJS5</td>\n",
       "      <td>B0002OZXHO</td>\n",
       "      <td>4.450980</td>\n",
       "    </tr>\n",
       "    <tr>\n",
       "      <th>35</th>\n",
       "      <td>A1KLBWKUQHSQVW</td>\n",
       "      <td>B00083LJ5Y</td>\n",
       "      <td>4.545455</td>\n",
       "    </tr>\n",
       "    <tr>\n",
       "      <th>36</th>\n",
       "      <td>A1KLBWKUQHSQVW</td>\n",
       "      <td>B000BNZGKU</td>\n",
       "      <td>4.545455</td>\n",
       "    </tr>\n",
       "    <tr>\n",
       "      <th>37</th>\n",
       "      <td>A1KLBWKUQHSQVW</td>\n",
       "      <td>B00005U243</td>\n",
       "      <td>4.545455</td>\n",
       "    </tr>\n",
       "    <tr>\n",
       "      <th>38</th>\n",
       "      <td>A1KLBWKUQHSQVW</td>\n",
       "      <td>B00006HYJ5</td>\n",
       "      <td>4.545455</td>\n",
       "    </tr>\n",
       "    <tr>\n",
       "      <th>39</th>\n",
       "      <td>A1KLBWKUQHSQVW</td>\n",
       "      <td>B000HGIWN4</td>\n",
       "      <td>4.545455</td>\n",
       "    </tr>\n",
       "    <tr>\n",
       "      <th>40</th>\n",
       "      <td>A1GFB47CXP4LKR</td>\n",
       "      <td>B00083LJ5Y</td>\n",
       "      <td>4.200000</td>\n",
       "    </tr>\n",
       "    <tr>\n",
       "      <th>41</th>\n",
       "      <td>A1GFB47CXP4LKR</td>\n",
       "      <td>B000BNZGKU</td>\n",
       "      <td>4.200000</td>\n",
       "    </tr>\n",
       "    <tr>\n",
       "      <th>42</th>\n",
       "      <td>A1GFB47CXP4LKR</td>\n",
       "      <td>B00005U243</td>\n",
       "      <td>4.200000</td>\n",
       "    </tr>\n",
       "    <tr>\n",
       "      <th>43</th>\n",
       "      <td>A1GFB47CXP4LKR</td>\n",
       "      <td>B00006HYJ5</td>\n",
       "      <td>4.200000</td>\n",
       "    </tr>\n",
       "    <tr>\n",
       "      <th>44</th>\n",
       "      <td>A1GFB47CXP4LKR</td>\n",
       "      <td>B000HGIWN4</td>\n",
       "      <td>4.200000</td>\n",
       "    </tr>\n",
       "    <tr>\n",
       "      <th>45</th>\n",
       "      <td>A16HXVNPU5TCGE</td>\n",
       "      <td>B00083LJ5Y</td>\n",
       "      <td>5.000000</td>\n",
       "    </tr>\n",
       "    <tr>\n",
       "      <th>46</th>\n",
       "      <td>A16HXVNPU5TCGE</td>\n",
       "      <td>B000BNZGKU</td>\n",
       "      <td>5.000000</td>\n",
       "    </tr>\n",
       "    <tr>\n",
       "      <th>47</th>\n",
       "      <td>A16HXVNPU5TCGE</td>\n",
       "      <td>B00005U243</td>\n",
       "      <td>5.000000</td>\n",
       "    </tr>\n",
       "    <tr>\n",
       "      <th>48</th>\n",
       "      <td>A16HXVNPU5TCGE</td>\n",
       "      <td>B00006HYJ5</td>\n",
       "      <td>5.000000</td>\n",
       "    </tr>\n",
       "    <tr>\n",
       "      <th>49</th>\n",
       "      <td>A16HXVNPU5TCGE</td>\n",
       "      <td>B000HGIWN4</td>\n",
       "      <td>5.000000</td>\n",
       "    </tr>\n",
       "  </tbody>\n",
       "</table>\n",
       "</div>"
      ],
      "text/plain": [
       "            userId   productId  est_ratings\n",
       "0    AXNQ3UXQ3P5HE  B00083LJ5Y     4.500000\n",
       "1    AXNQ3UXQ3P5HE  B000BNZGKU     4.500000\n",
       "2    AXNQ3UXQ3P5HE  B00005U243     4.500000\n",
       "3    AXNQ3UXQ3P5HE  B00006HYJ5     4.500000\n",
       "4    AXNQ3UXQ3P5HE  B000HGIWN4     4.500000\n",
       "5    A8TZ88OM8YOLW  B00009J5W0     5.000000\n",
       "6    A8TZ88OM8YOLW  B00000K4KH     5.000000\n",
       "7    A8TZ88OM8YOLW  B0000696R8     5.000000\n",
       "8    A8TZ88OM8YOLW  B000050AQ7     5.000000\n",
       "9    A8TZ88OM8YOLW  B00001YVG4     5.000000\n",
       "10  A33ZYFE8XMKKR1  B00083LJ5Y     4.357143\n",
       "11  A33ZYFE8XMKKR1  B000BNZGKU     4.357143\n",
       "12  A33ZYFE8XMKKR1  B00005U243     4.357143\n",
       "13  A33ZYFE8XMKKR1  B000HGIWN4     4.357143\n",
       "14  A33ZYFE8XMKKR1  B000093IRC     4.357143\n",
       "15  A2ZR3YTMEEIIZ4  B00083LJ5Y     4.111111\n",
       "16  A2ZR3YTMEEIIZ4  B000BNZGKU     4.111111\n",
       "17  A2ZR3YTMEEIIZ4  B00005U243     4.111111\n",
       "18  A2ZR3YTMEEIIZ4  B00006HYJ5     4.111111\n",
       "19  A2ZR3YTMEEIIZ4  B000HGIWN4     4.111111\n",
       "20  A2DUJJEXQP8FOJ  B000062VUO     5.000000\n",
       "21  A2DUJJEXQP8FOJ  B000BTL0OA     5.000000\n",
       "22  A2DUJJEXQP8FOJ  B000HPMP6A     5.000000\n",
       "23  A2DUJJEXQP8FOJ  B000ETVKHE     5.000000\n",
       "24  A2DUJJEXQP8FOJ  B000E8OVMQ     5.000000\n",
       "25  A281T8MXBOSWY5  B00064V6RG     4.847291\n",
       "26  A281T8MXBOSWY5  B000HJPK2C     4.847291\n",
       "27  A281T8MXBOSWY5  B000FKKWVM     4.847291\n",
       "28  A281T8MXBOSWY5  B000IE8Z4Q     4.847291\n",
       "29  A281T8MXBOSWY5  B000EOSHGQ     4.847291\n",
       "30  A212MDP6K4VJS5  B00015GYU4     4.450980\n",
       "31  A212MDP6K4VJS5  B0000BZL1P     4.450980\n",
       "32  A212MDP6K4VJS5  B0001CNMFM     4.450980\n",
       "33  A212MDP6K4VJS5  B0009RP6T4     4.450980\n",
       "34  A212MDP6K4VJS5  B0002OZXHO     4.450980\n",
       "35  A1KLBWKUQHSQVW  B00083LJ5Y     4.545455\n",
       "36  A1KLBWKUQHSQVW  B000BNZGKU     4.545455\n",
       "37  A1KLBWKUQHSQVW  B00005U243     4.545455\n",
       "38  A1KLBWKUQHSQVW  B00006HYJ5     4.545455\n",
       "39  A1KLBWKUQHSQVW  B000HGIWN4     4.545455\n",
       "40  A1GFB47CXP4LKR  B00083LJ5Y     4.200000\n",
       "41  A1GFB47CXP4LKR  B000BNZGKU     4.200000\n",
       "42  A1GFB47CXP4LKR  B00005U243     4.200000\n",
       "43  A1GFB47CXP4LKR  B00006HYJ5     4.200000\n",
       "44  A1GFB47CXP4LKR  B000HGIWN4     4.200000\n",
       "45  A16HXVNPU5TCGE  B00083LJ5Y     5.000000\n",
       "46  A16HXVNPU5TCGE  B000BNZGKU     5.000000\n",
       "47  A16HXVNPU5TCGE  B00005U243     5.000000\n",
       "48  A16HXVNPU5TCGE  B00006HYJ5     5.000000\n",
       "49  A16HXVNPU5TCGE  B000HGIWN4     5.000000"
      ]
     },
     "execution_count": 95,
     "metadata": {},
     "output_type": "execute_result"
    }
   ],
   "source": [
    "Top_5users_recommend"
   ]
  },
  {
   "cell_type": "code",
   "execution_count": 96,
   "metadata": {},
   "outputs": [
    {
     "data": {
      "text/plain": [
       "array(['AXNQ3UXQ3P5HE', 'A8TZ88OM8YOLW', 'A33ZYFE8XMKKR1',\n",
       "       'A2ZR3YTMEEIIZ4', 'A2DUJJEXQP8FOJ', 'A281T8MXBOSWY5',\n",
       "       'A212MDP6K4VJS5', 'A1KLBWKUQHSQVW', 'A1GFB47CXP4LKR',\n",
       "       'A16HXVNPU5TCGE'], dtype=object)"
      ]
     },
     "execution_count": 96,
     "metadata": {},
     "output_type": "execute_result"
    }
   ],
   "source": [
    "Top_5users_recommend['userId'].unique()"
   ]
  },
  {
   "cell_type": "markdown",
   "metadata": {},
   "source": [
    "Hence the top 5 recommendation for each users has been predicted using user based collabarative filterings. Only, ten users were recommended due to sparsity."
   ]
  },
  {
   "cell_type": "markdown",
   "metadata": {},
   "source": [
    "## SVD based recommendation"
   ]
  },
  {
   "cell_type": "markdown",
   "metadata": {},
   "source": [
    "#### Training the Model"
   ]
  },
  {
   "cell_type": "code",
   "execution_count": 35,
   "metadata": {},
   "outputs": [],
   "source": [
    "from surprise import SVD"
   ]
  },
  {
   "cell_type": "code",
   "execution_count": 80,
   "metadata": {},
   "outputs": [],
   "source": [
    "svd_model = SVD(n_factors=20)"
   ]
  },
  {
   "cell_type": "code",
   "execution_count": 81,
   "metadata": {},
   "outputs": [
    {
     "data": {
      "text/plain": [
       "<surprise.prediction_algorithms.matrix_factorization.SVD at 0x238bbc96278>"
      ]
     },
     "execution_count": 81,
     "metadata": {},
     "output_type": "execute_result"
    }
   ],
   "source": [
    "svd_model.fit(trainset)"
   ]
  },
  {
   "cell_type": "code",
   "execution_count": 82,
   "metadata": {},
   "outputs": [],
   "source": [
    "SVD_pred = svd_model.test(testset)"
   ]
  },
  {
   "cell_type": "code",
   "execution_count": 83,
   "metadata": {},
   "outputs": [
    {
     "data": {
      "text/plain": [
       "Prediction(uid='A7Y6AVS576M03', iid='B00004YMBK', r_ui=5.0, est=4.825809340737733, details={'was_impossible': False})"
      ]
     },
     "execution_count": 83,
     "metadata": {},
     "output_type": "execute_result"
    }
   ],
   "source": [
    "SVD_pred[18]"
   ]
  },
  {
   "cell_type": "code",
   "execution_count": 84,
   "metadata": {},
   "outputs": [
    {
     "name": "stdout",
     "output_type": "stream",
     "text": [
      "RMSE: 1.0196\n"
     ]
    },
    {
     "data": {
      "text/plain": [
       "1.0195696615676562"
      ]
     },
     "execution_count": 84,
     "metadata": {},
     "output_type": "execute_result"
    }
   ],
   "source": [
    "accuracy.rmse(SVD_pred)"
   ]
  },
  {
   "cell_type": "markdown",
   "metadata": {},
   "source": [
    "## Parameter tunning for SVD Recommendation system "
   ]
  },
  {
   "cell_type": "code",
   "execution_count": 98,
   "metadata": {},
   "outputs": [],
   "source": [
    "from surprise.model_selection import GridSearchCV\n",
    "param_grid = {'n_factors' : [10,15,20,25], \"reg_all\":[0.01,0.02,0.03]}\n",
    "grid = GridSearchCV(SVD, param_grid, measures=['rmse'], cv=5,refit = True)"
   ]
  },
  {
   "cell_type": "code",
   "execution_count": 99,
   "metadata": {},
   "outputs": [],
   "source": [
    "grid.fit(data)"
   ]
  },
  {
   "cell_type": "code",
   "execution_count": 100,
   "metadata": {},
   "outputs": [
    {
     "data": {
      "text/plain": [
       "{'rmse': {'n_factors': 10, 'reg_all': 0.03}}"
      ]
     },
     "execution_count": 100,
     "metadata": {},
     "output_type": "execute_result"
    }
   ],
   "source": [
    "grid.best_params"
   ]
  },
  {
   "cell_type": "markdown",
   "metadata": {},
   "source": [
    "#### Building the SVD based on the best hyperparmters"
   ]
  },
  {
   "cell_type": "code",
   "execution_count": 101,
   "metadata": {},
   "outputs": [],
   "source": [
    "svd_model1 = SVD(n_factors=10, reg_all = .03,biased = True)"
   ]
  },
  {
   "cell_type": "code",
   "execution_count": 102,
   "metadata": {},
   "outputs": [
    {
     "data": {
      "text/plain": [
       "<surprise.prediction_algorithms.matrix_factorization.SVD at 0x238a5a33668>"
      ]
     },
     "execution_count": 102,
     "metadata": {},
     "output_type": "execute_result"
    }
   ],
   "source": [
    "svd_model1.fit(trainset)"
   ]
  },
  {
   "cell_type": "code",
   "execution_count": 103,
   "metadata": {},
   "outputs": [],
   "source": [
    "SVD_pred1 = svd_model1.test(testset)"
   ]
  },
  {
   "cell_type": "code",
   "execution_count": 104,
   "metadata": {},
   "outputs": [
    {
     "data": {
      "text/plain": [
       "Prediction(uid='A250AXLRBVYKB4', iid='B0007Y836W', r_ui=4.0, est=4.300722229049073, details={'was_impossible': False})"
      ]
     },
     "execution_count": 104,
     "metadata": {},
     "output_type": "execute_result"
    }
   ],
   "source": [
    "SVD_pred1[50]"
   ]
  },
  {
   "cell_type": "markdown",
   "metadata": {},
   "source": [
    "## Evaluating the model"
   ]
  },
  {
   "cell_type": "code",
   "execution_count": 105,
   "metadata": {},
   "outputs": [
    {
     "name": "stdout",
     "output_type": "stream",
     "text": [
      "RMSE: 1.0193\n"
     ]
    },
    {
     "data": {
      "text/plain": [
       "1.0193060718492455"
      ]
     },
     "execution_count": 105,
     "metadata": {},
     "output_type": "execute_result"
    }
   ],
   "source": [
    "accuracy.rmse(SVD_pred1)"
   ]
  },
  {
   "cell_type": "code",
   "execution_count": 106,
   "metadata": {},
   "outputs": [
    {
     "data": {
      "text/plain": [
       "8346"
      ]
     },
     "execution_count": 106,
     "metadata": {},
     "output_type": "execute_result"
    }
   ],
   "source": [
    "len(SVD_pred1)"
   ]
  },
  {
   "cell_type": "markdown",
   "metadata": {},
   "source": [
    "## Getting top n recommendations"
   ]
  },
  {
   "cell_type": "code",
   "execution_count": 107,
   "metadata": {},
   "outputs": [],
   "source": [
    "SVD_top_pred = svd_model1.test(testset_alter[0:1000000]) ## taking 100000 records"
   ]
  },
  {
   "cell_type": "code",
   "execution_count": 108,
   "metadata": {},
   "outputs": [
    {
     "data": {
      "text/plain": [
       "Prediction(uid='A2DUJJEXQP8FOJ', iid='B0001ZUZR2', r_ui=4.30524315719201, est=4.770326776048856, details={'was_impossible': False})"
      ]
     },
     "execution_count": 108,
     "metadata": {},
     "output_type": "execute_result"
    }
   ],
   "source": [
    "SVD_top_pred[106]"
   ]
  },
  {
   "cell_type": "code",
   "execution_count": 109,
   "metadata": {},
   "outputs": [],
   "source": [
    "SVD_MODEL = pd.DataFrame([[x.uid, x.iid, x.est] for x in SVD_top_pred])"
   ]
  },
  {
   "cell_type": "code",
   "execution_count": 110,
   "metadata": {},
   "outputs": [],
   "source": [
    "SVD_MODEL.columns = ['userID','productID', 'est_ratings']"
   ]
  },
  {
   "cell_type": "code",
   "execution_count": 111,
   "metadata": {},
   "outputs": [
    {
     "data": {
      "text/plain": [
       "(1000000, 3)"
      ]
     },
     "execution_count": 111,
     "metadata": {},
     "output_type": "execute_result"
    }
   ],
   "source": [
    "SVD_MODEL.shape"
   ]
  },
  {
   "cell_type": "code",
   "execution_count": 112,
   "metadata": {},
   "outputs": [],
   "source": [
    "SVD_MODEL.sort_values(by= ['userID','est_ratings'], ascending = False, inplace = True)"
   ]
  },
  {
   "cell_type": "code",
   "execution_count": 113,
   "metadata": {},
   "outputs": [
    {
     "data": {
      "text/html": [
       "<div>\n",
       "<style scoped>\n",
       "    .dataframe tbody tr th:only-of-type {\n",
       "        vertical-align: middle;\n",
       "    }\n",
       "\n",
       "    .dataframe tbody tr th {\n",
       "        vertical-align: top;\n",
       "    }\n",
       "\n",
       "    .dataframe thead th {\n",
       "        text-align: right;\n",
       "    }\n",
       "</style>\n",
       "<table border=\"1\" class=\"dataframe\">\n",
       "  <thead>\n",
       "    <tr style=\"text-align: right;\">\n",
       "      <th></th>\n",
       "      <th>userID</th>\n",
       "      <th>productID</th>\n",
       "      <th>est_ratings</th>\n",
       "    </tr>\n",
       "  </thead>\n",
       "  <tbody>\n",
       "    <tr>\n",
       "      <th>270327</th>\n",
       "      <td>AYWIO6OYAGFGQ</td>\n",
       "      <td>B0007QKMQY</td>\n",
       "      <td>4.820082</td>\n",
       "    </tr>\n",
       "    <tr>\n",
       "      <th>270248</th>\n",
       "      <td>AYWIO6OYAGFGQ</td>\n",
       "      <td>B000053HH5</td>\n",
       "      <td>4.804047</td>\n",
       "    </tr>\n",
       "    <tr>\n",
       "      <th>271242</th>\n",
       "      <td>AYWIO6OYAGFGQ</td>\n",
       "      <td>B0002L5R78</td>\n",
       "      <td>4.802547</td>\n",
       "    </tr>\n",
       "    <tr>\n",
       "      <th>270961</th>\n",
       "      <td>AYWIO6OYAGFGQ</td>\n",
       "      <td>B000053HC5</td>\n",
       "      <td>4.796426</td>\n",
       "    </tr>\n",
       "    <tr>\n",
       "      <th>271457</th>\n",
       "      <td>AYWIO6OYAGFGQ</td>\n",
       "      <td>B000BQ7GW8</td>\n",
       "      <td>4.791865</td>\n",
       "    </tr>\n",
       "    <tr>\n",
       "      <th>273599</th>\n",
       "      <td>AYWIO6OYAGFGQ</td>\n",
       "      <td>B0007Y791C</td>\n",
       "      <td>4.782724</td>\n",
       "    </tr>\n",
       "    <tr>\n",
       "      <th>270422</th>\n",
       "      <td>AYWIO6OYAGFGQ</td>\n",
       "      <td>B00006HZ0L</td>\n",
       "      <td>4.781244</td>\n",
       "    </tr>\n",
       "    <tr>\n",
       "      <th>270358</th>\n",
       "      <td>AYWIO6OYAGFGQ</td>\n",
       "      <td>B00017LSPI</td>\n",
       "      <td>4.770798</td>\n",
       "    </tr>\n",
       "    <tr>\n",
       "      <th>271667</th>\n",
       "      <td>AYWIO6OYAGFGQ</td>\n",
       "      <td>B00029U1DK</td>\n",
       "      <td>4.769318</td>\n",
       "    </tr>\n",
       "    <tr>\n",
       "      <th>270432</th>\n",
       "      <td>AYWIO6OYAGFGQ</td>\n",
       "      <td>B0002WPSBC</td>\n",
       "      <td>4.764973</td>\n",
       "    </tr>\n",
       "    <tr>\n",
       "      <th>272555</th>\n",
       "      <td>AYWIO6OYAGFGQ</td>\n",
       "      <td>B00009R6WO</td>\n",
       "      <td>4.763412</td>\n",
       "    </tr>\n",
       "    <tr>\n",
       "      <th>270815</th>\n",
       "      <td>AYWIO6OYAGFGQ</td>\n",
       "      <td>B000HPV3RW</td>\n",
       "      <td>4.762489</td>\n",
       "    </tr>\n",
       "    <tr>\n",
       "      <th>270551</th>\n",
       "      <td>AYWIO6OYAGFGQ</td>\n",
       "      <td>B00004Z5M1</td>\n",
       "      <td>4.759656</td>\n",
       "    </tr>\n",
       "    <tr>\n",
       "      <th>272038</th>\n",
       "      <td>AYWIO6OYAGFGQ</td>\n",
       "      <td>B0007G6RZE</td>\n",
       "      <td>4.749088</td>\n",
       "    </tr>\n",
       "    <tr>\n",
       "      <th>272732</th>\n",
       "      <td>AYWIO6OYAGFGQ</td>\n",
       "      <td>B00006LV79</td>\n",
       "      <td>4.746814</td>\n",
       "    </tr>\n",
       "  </tbody>\n",
       "</table>\n",
       "</div>"
      ],
      "text/plain": [
       "               userID   productID  est_ratings\n",
       "270327  AYWIO6OYAGFGQ  B0007QKMQY     4.820082\n",
       "270248  AYWIO6OYAGFGQ  B000053HH5     4.804047\n",
       "271242  AYWIO6OYAGFGQ  B0002L5R78     4.802547\n",
       "270961  AYWIO6OYAGFGQ  B000053HC5     4.796426\n",
       "271457  AYWIO6OYAGFGQ  B000BQ7GW8     4.791865\n",
       "273599  AYWIO6OYAGFGQ  B0007Y791C     4.782724\n",
       "270422  AYWIO6OYAGFGQ  B00006HZ0L     4.781244\n",
       "270358  AYWIO6OYAGFGQ  B00017LSPI     4.770798\n",
       "271667  AYWIO6OYAGFGQ  B00029U1DK     4.769318\n",
       "270432  AYWIO6OYAGFGQ  B0002WPSBC     4.764973\n",
       "272555  AYWIO6OYAGFGQ  B00009R6WO     4.763412\n",
       "270815  AYWIO6OYAGFGQ  B000HPV3RW     4.762489\n",
       "270551  AYWIO6OYAGFGQ  B00004Z5M1     4.759656\n",
       "272038  AYWIO6OYAGFGQ  B0007G6RZE     4.749088\n",
       "272732  AYWIO6OYAGFGQ  B00006LV79     4.746814"
      ]
     },
     "execution_count": 113,
     "metadata": {},
     "output_type": "execute_result"
    }
   ],
   "source": [
    "SVD_MODEL.head(15)"
   ]
  },
  {
   "cell_type": "markdown",
   "metadata": {},
   "source": [
    "## Top 5 recommendation"
   ]
  },
  {
   "cell_type": "code",
   "execution_count": 114,
   "metadata": {},
   "outputs": [],
   "source": [
    "SVD_Top_5_recommend = SVD_MODEL.groupby(\"userID\").head(5).reset_index(drop= True)"
   ]
  },
  {
   "cell_type": "code",
   "execution_count": 115,
   "metadata": {
    "scrolled": true
   },
   "outputs": [
    {
     "data": {
      "text/html": [
       "<div>\n",
       "<style scoped>\n",
       "    .dataframe tbody tr th:only-of-type {\n",
       "        vertical-align: middle;\n",
       "    }\n",
       "\n",
       "    .dataframe tbody tr th {\n",
       "        vertical-align: top;\n",
       "    }\n",
       "\n",
       "    .dataframe thead th {\n",
       "        text-align: right;\n",
       "    }\n",
       "</style>\n",
       "<table border=\"1\" class=\"dataframe\">\n",
       "  <thead>\n",
       "    <tr style=\"text-align: right;\">\n",
       "      <th></th>\n",
       "      <th>userID</th>\n",
       "      <th>productID</th>\n",
       "      <th>est_ratings</th>\n",
       "    </tr>\n",
       "  </thead>\n",
       "  <tbody>\n",
       "    <tr>\n",
       "      <th>0</th>\n",
       "      <td>AYWIO6OYAGFGQ</td>\n",
       "      <td>B0007QKMQY</td>\n",
       "      <td>4.820082</td>\n",
       "    </tr>\n",
       "    <tr>\n",
       "      <th>1</th>\n",
       "      <td>AYWIO6OYAGFGQ</td>\n",
       "      <td>B000053HH5</td>\n",
       "      <td>4.804047</td>\n",
       "    </tr>\n",
       "    <tr>\n",
       "      <th>2</th>\n",
       "      <td>AYWIO6OYAGFGQ</td>\n",
       "      <td>B0002L5R78</td>\n",
       "      <td>4.802547</td>\n",
       "    </tr>\n",
       "    <tr>\n",
       "      <th>3</th>\n",
       "      <td>AYWIO6OYAGFGQ</td>\n",
       "      <td>B000053HC5</td>\n",
       "      <td>4.796426</td>\n",
       "    </tr>\n",
       "    <tr>\n",
       "      <th>4</th>\n",
       "      <td>AYWIO6OYAGFGQ</td>\n",
       "      <td>B000BQ7GW8</td>\n",
       "      <td>4.791865</td>\n",
       "    </tr>\n",
       "    <tr>\n",
       "      <th>5</th>\n",
       "      <td>AXNQ3UXQ3P5HE</td>\n",
       "      <td>B0000BZL1P</td>\n",
       "      <td>4.996137</td>\n",
       "    </tr>\n",
       "    <tr>\n",
       "      <th>6</th>\n",
       "      <td>AXNQ3UXQ3P5HE</td>\n",
       "      <td>B000053HC5</td>\n",
       "      <td>4.904346</td>\n",
       "    </tr>\n",
       "    <tr>\n",
       "      <th>7</th>\n",
       "      <td>AXNQ3UXQ3P5HE</td>\n",
       "      <td>B00004Z5M1</td>\n",
       "      <td>4.895504</td>\n",
       "    </tr>\n",
       "    <tr>\n",
       "      <th>8</th>\n",
       "      <td>AXNQ3UXQ3P5HE</td>\n",
       "      <td>B00006HZ0L</td>\n",
       "      <td>4.881237</td>\n",
       "    </tr>\n",
       "    <tr>\n",
       "      <th>9</th>\n",
       "      <td>AXNQ3UXQ3P5HE</td>\n",
       "      <td>B000BQ7GW8</td>\n",
       "      <td>4.878992</td>\n",
       "    </tr>\n",
       "    <tr>\n",
       "      <th>10</th>\n",
       "      <td>AXARTAQU05PFL</td>\n",
       "      <td>B0000BZL1P</td>\n",
       "      <td>4.927806</td>\n",
       "    </tr>\n",
       "    <tr>\n",
       "      <th>11</th>\n",
       "      <td>AXARTAQU05PFL</td>\n",
       "      <td>B00006HZ0L</td>\n",
       "      <td>4.838076</td>\n",
       "    </tr>\n",
       "    <tr>\n",
       "      <th>12</th>\n",
       "      <td>AXARTAQU05PFL</td>\n",
       "      <td>B0000X0VCY</td>\n",
       "      <td>4.833953</td>\n",
       "    </tr>\n",
       "    <tr>\n",
       "      <th>13</th>\n",
       "      <td>AXARTAQU05PFL</td>\n",
       "      <td>B000BQ7GW8</td>\n",
       "      <td>4.832303</td>\n",
       "    </tr>\n",
       "    <tr>\n",
       "      <th>14</th>\n",
       "      <td>AXARTAQU05PFL</td>\n",
       "      <td>B00005LEN4</td>\n",
       "      <td>4.825480</td>\n",
       "    </tr>\n",
       "    <tr>\n",
       "      <th>15</th>\n",
       "      <td>AUX9KZUUB3YCE</td>\n",
       "      <td>B0000BZL1P</td>\n",
       "      <td>4.714550</td>\n",
       "    </tr>\n",
       "    <tr>\n",
       "      <th>16</th>\n",
       "      <td>AUX9KZUUB3YCE</td>\n",
       "      <td>B000053HH5</td>\n",
       "      <td>4.706297</td>\n",
       "    </tr>\n",
       "    <tr>\n",
       "      <th>17</th>\n",
       "      <td>AUX9KZUUB3YCE</td>\n",
       "      <td>B0007QKMQY</td>\n",
       "      <td>4.660998</td>\n",
       "    </tr>\n",
       "    <tr>\n",
       "      <th>18</th>\n",
       "      <td>AUX9KZUUB3YCE</td>\n",
       "      <td>B00005LEN4</td>\n",
       "      <td>4.636337</td>\n",
       "    </tr>\n",
       "    <tr>\n",
       "      <th>19</th>\n",
       "      <td>AUX9KZUUB3YCE</td>\n",
       "      <td>B0002L5R78</td>\n",
       "      <td>4.633671</td>\n",
       "    </tr>\n",
       "    <tr>\n",
       "      <th>20</th>\n",
       "      <td>ATDE9JYCPI0L1</td>\n",
       "      <td>B0000BZL1P</td>\n",
       "      <td>4.649808</td>\n",
       "    </tr>\n",
       "    <tr>\n",
       "      <th>21</th>\n",
       "      <td>ATDE9JYCPI0L1</td>\n",
       "      <td>B00006HZ0L</td>\n",
       "      <td>4.592213</td>\n",
       "    </tr>\n",
       "    <tr>\n",
       "      <th>22</th>\n",
       "      <td>ATDE9JYCPI0L1</td>\n",
       "      <td>B0000X0VCY</td>\n",
       "      <td>4.549239</td>\n",
       "    </tr>\n",
       "    <tr>\n",
       "      <th>23</th>\n",
       "      <td>ATDE9JYCPI0L1</td>\n",
       "      <td>B000HPV3RW</td>\n",
       "      <td>4.538287</td>\n",
       "    </tr>\n",
       "    <tr>\n",
       "      <th>24</th>\n",
       "      <td>ATDE9JYCPI0L1</td>\n",
       "      <td>B00029U1DK</td>\n",
       "      <td>4.534324</td>\n",
       "    </tr>\n",
       "    <tr>\n",
       "      <th>25</th>\n",
       "      <td>ASRA2UZ3JV87B</td>\n",
       "      <td>B0000BZL1P</td>\n",
       "      <td>4.504674</td>\n",
       "    </tr>\n",
       "    <tr>\n",
       "      <th>26</th>\n",
       "      <td>ASRA2UZ3JV87B</td>\n",
       "      <td>B000053HH5</td>\n",
       "      <td>4.430806</td>\n",
       "    </tr>\n",
       "    <tr>\n",
       "      <th>27</th>\n",
       "      <td>ASRA2UZ3JV87B</td>\n",
       "      <td>B00006HZ0L</td>\n",
       "      <td>4.394370</td>\n",
       "    </tr>\n",
       "    <tr>\n",
       "      <th>28</th>\n",
       "      <td>ASRA2UZ3JV87B</td>\n",
       "      <td>B000BQ7GW8</td>\n",
       "      <td>4.389346</td>\n",
       "    </tr>\n",
       "    <tr>\n",
       "      <th>29</th>\n",
       "      <td>ASRA2UZ3JV87B</td>\n",
       "      <td>B0007QKMQY</td>\n",
       "      <td>4.387858</td>\n",
       "    </tr>\n",
       "    <tr>\n",
       "      <th>...</th>\n",
       "      <td>...</td>\n",
       "      <td>...</td>\n",
       "      <td>...</td>\n",
       "    </tr>\n",
       "    <tr>\n",
       "      <th>455</th>\n",
       "      <td>A16HXVNPU5TCGE</td>\n",
       "      <td>B00005Q5U5</td>\n",
       "      <td>5.000000</td>\n",
       "    </tr>\n",
       "    <tr>\n",
       "      <th>456</th>\n",
       "      <td>A16HXVNPU5TCGE</td>\n",
       "      <td>B000053HH5</td>\n",
       "      <td>5.000000</td>\n",
       "    </tr>\n",
       "    <tr>\n",
       "      <th>457</th>\n",
       "      <td>A16HXVNPU5TCGE</td>\n",
       "      <td>B000EPJL1A</td>\n",
       "      <td>5.000000</td>\n",
       "    </tr>\n",
       "    <tr>\n",
       "      <th>458</th>\n",
       "      <td>A16HXVNPU5TCGE</td>\n",
       "      <td>B0007QKMQY</td>\n",
       "      <td>5.000000</td>\n",
       "    </tr>\n",
       "    <tr>\n",
       "      <th>459</th>\n",
       "      <td>A16HXVNPU5TCGE</td>\n",
       "      <td>B000067RT6</td>\n",
       "      <td>5.000000</td>\n",
       "    </tr>\n",
       "    <tr>\n",
       "      <th>460</th>\n",
       "      <td>A165OWIWJVVYRR</td>\n",
       "      <td>B0000BZL1P</td>\n",
       "      <td>4.722167</td>\n",
       "    </tr>\n",
       "    <tr>\n",
       "      <th>461</th>\n",
       "      <td>A165OWIWJVVYRR</td>\n",
       "      <td>B0007QKMQY</td>\n",
       "      <td>4.666929</td>\n",
       "    </tr>\n",
       "    <tr>\n",
       "      <th>462</th>\n",
       "      <td>A165OWIWJVVYRR</td>\n",
       "      <td>B00006HZ0L</td>\n",
       "      <td>4.634612</td>\n",
       "    </tr>\n",
       "    <tr>\n",
       "      <th>463</th>\n",
       "      <td>A165OWIWJVVYRR</td>\n",
       "      <td>B000053HH5</td>\n",
       "      <td>4.634016</td>\n",
       "    </tr>\n",
       "    <tr>\n",
       "      <th>464</th>\n",
       "      <td>A165OWIWJVVYRR</td>\n",
       "      <td>B000089GN3</td>\n",
       "      <td>4.631111</td>\n",
       "    </tr>\n",
       "    <tr>\n",
       "      <th>465</th>\n",
       "      <td>A12DQZKRKTNF5E</td>\n",
       "      <td>B0000BZL1P</td>\n",
       "      <td>4.894639</td>\n",
       "    </tr>\n",
       "    <tr>\n",
       "      <th>466</th>\n",
       "      <td>A12DQZKRKTNF5E</td>\n",
       "      <td>B000053HH5</td>\n",
       "      <td>4.812885</td>\n",
       "    </tr>\n",
       "    <tr>\n",
       "      <th>467</th>\n",
       "      <td>A12DQZKRKTNF5E</td>\n",
       "      <td>B00006HZ0L</td>\n",
       "      <td>4.811832</td>\n",
       "    </tr>\n",
       "    <tr>\n",
       "      <th>468</th>\n",
       "      <td>A12DQZKRKTNF5E</td>\n",
       "      <td>B0000X0VCY</td>\n",
       "      <td>4.804356</td>\n",
       "    </tr>\n",
       "    <tr>\n",
       "      <th>469</th>\n",
       "      <td>A12DQZKRKTNF5E</td>\n",
       "      <td>B000053HC5</td>\n",
       "      <td>4.803916</td>\n",
       "    </tr>\n",
       "    <tr>\n",
       "      <th>470</th>\n",
       "      <td>A11OUXGPUAMJXJ</td>\n",
       "      <td>B000053HH5</td>\n",
       "      <td>5.000000</td>\n",
       "    </tr>\n",
       "    <tr>\n",
       "      <th>471</th>\n",
       "      <td>A11OUXGPUAMJXJ</td>\n",
       "      <td>B0007QKMQY</td>\n",
       "      <td>5.000000</td>\n",
       "    </tr>\n",
       "    <tr>\n",
       "      <th>472</th>\n",
       "      <td>A11OUXGPUAMJXJ</td>\n",
       "      <td>B0000BZL1P</td>\n",
       "      <td>5.000000</td>\n",
       "    </tr>\n",
       "    <tr>\n",
       "      <th>473</th>\n",
       "      <td>A11OUXGPUAMJXJ</td>\n",
       "      <td>B0002L5R78</td>\n",
       "      <td>5.000000</td>\n",
       "    </tr>\n",
       "    <tr>\n",
       "      <th>474</th>\n",
       "      <td>A11OUXGPUAMJXJ</td>\n",
       "      <td>B00007GQLU</td>\n",
       "      <td>4.998800</td>\n",
       "    </tr>\n",
       "    <tr>\n",
       "      <th>475</th>\n",
       "      <td>A11D1KHM7DVOQK</td>\n",
       "      <td>B0000BZL1P</td>\n",
       "      <td>3.810960</td>\n",
       "    </tr>\n",
       "    <tr>\n",
       "      <th>476</th>\n",
       "      <td>A11D1KHM7DVOQK</td>\n",
       "      <td>B000053HH5</td>\n",
       "      <td>3.775611</td>\n",
       "    </tr>\n",
       "    <tr>\n",
       "      <th>477</th>\n",
       "      <td>A11D1KHM7DVOQK</td>\n",
       "      <td>B00007GQLU</td>\n",
       "      <td>3.751586</td>\n",
       "    </tr>\n",
       "    <tr>\n",
       "      <th>478</th>\n",
       "      <td>A11D1KHM7DVOQK</td>\n",
       "      <td>B000089GN3</td>\n",
       "      <td>3.747266</td>\n",
       "    </tr>\n",
       "    <tr>\n",
       "      <th>479</th>\n",
       "      <td>A11D1KHM7DVOQK</td>\n",
       "      <td>B00006LV79</td>\n",
       "      <td>3.743640</td>\n",
       "    </tr>\n",
       "    <tr>\n",
       "      <th>480</th>\n",
       "      <td>A10Y058K7B96C6</td>\n",
       "      <td>B00006HZ0L</td>\n",
       "      <td>5.000000</td>\n",
       "    </tr>\n",
       "    <tr>\n",
       "      <th>481</th>\n",
       "      <td>A10Y058K7B96C6</td>\n",
       "      <td>B0000BZL1P</td>\n",
       "      <td>5.000000</td>\n",
       "    </tr>\n",
       "    <tr>\n",
       "      <th>482</th>\n",
       "      <td>A10Y058K7B96C6</td>\n",
       "      <td>B0000X0VCY</td>\n",
       "      <td>5.000000</td>\n",
       "    </tr>\n",
       "    <tr>\n",
       "      <th>483</th>\n",
       "      <td>A10Y058K7B96C6</td>\n",
       "      <td>B0002L5R78</td>\n",
       "      <td>4.997146</td>\n",
       "    </tr>\n",
       "    <tr>\n",
       "      <th>484</th>\n",
       "      <td>A10Y058K7B96C6</td>\n",
       "      <td>B000053HH5</td>\n",
       "      <td>4.990283</td>\n",
       "    </tr>\n",
       "  </tbody>\n",
       "</table>\n",
       "<p>485 rows × 3 columns</p>\n",
       "</div>"
      ],
      "text/plain": [
       "             userID   productID  est_ratings\n",
       "0     AYWIO6OYAGFGQ  B0007QKMQY     4.820082\n",
       "1     AYWIO6OYAGFGQ  B000053HH5     4.804047\n",
       "2     AYWIO6OYAGFGQ  B0002L5R78     4.802547\n",
       "3     AYWIO6OYAGFGQ  B000053HC5     4.796426\n",
       "4     AYWIO6OYAGFGQ  B000BQ7GW8     4.791865\n",
       "5     AXNQ3UXQ3P5HE  B0000BZL1P     4.996137\n",
       "6     AXNQ3UXQ3P5HE  B000053HC5     4.904346\n",
       "7     AXNQ3UXQ3P5HE  B00004Z5M1     4.895504\n",
       "8     AXNQ3UXQ3P5HE  B00006HZ0L     4.881237\n",
       "9     AXNQ3UXQ3P5HE  B000BQ7GW8     4.878992\n",
       "10    AXARTAQU05PFL  B0000BZL1P     4.927806\n",
       "11    AXARTAQU05PFL  B00006HZ0L     4.838076\n",
       "12    AXARTAQU05PFL  B0000X0VCY     4.833953\n",
       "13    AXARTAQU05PFL  B000BQ7GW8     4.832303\n",
       "14    AXARTAQU05PFL  B00005LEN4     4.825480\n",
       "15    AUX9KZUUB3YCE  B0000BZL1P     4.714550\n",
       "16    AUX9KZUUB3YCE  B000053HH5     4.706297\n",
       "17    AUX9KZUUB3YCE  B0007QKMQY     4.660998\n",
       "18    AUX9KZUUB3YCE  B00005LEN4     4.636337\n",
       "19    AUX9KZUUB3YCE  B0002L5R78     4.633671\n",
       "20    ATDE9JYCPI0L1  B0000BZL1P     4.649808\n",
       "21    ATDE9JYCPI0L1  B00006HZ0L     4.592213\n",
       "22    ATDE9JYCPI0L1  B0000X0VCY     4.549239\n",
       "23    ATDE9JYCPI0L1  B000HPV3RW     4.538287\n",
       "24    ATDE9JYCPI0L1  B00029U1DK     4.534324\n",
       "25    ASRA2UZ3JV87B  B0000BZL1P     4.504674\n",
       "26    ASRA2UZ3JV87B  B000053HH5     4.430806\n",
       "27    ASRA2UZ3JV87B  B00006HZ0L     4.394370\n",
       "28    ASRA2UZ3JV87B  B000BQ7GW8     4.389346\n",
       "29    ASRA2UZ3JV87B  B0007QKMQY     4.387858\n",
       "..              ...         ...          ...\n",
       "455  A16HXVNPU5TCGE  B00005Q5U5     5.000000\n",
       "456  A16HXVNPU5TCGE  B000053HH5     5.000000\n",
       "457  A16HXVNPU5TCGE  B000EPJL1A     5.000000\n",
       "458  A16HXVNPU5TCGE  B0007QKMQY     5.000000\n",
       "459  A16HXVNPU5TCGE  B000067RT6     5.000000\n",
       "460  A165OWIWJVVYRR  B0000BZL1P     4.722167\n",
       "461  A165OWIWJVVYRR  B0007QKMQY     4.666929\n",
       "462  A165OWIWJVVYRR  B00006HZ0L     4.634612\n",
       "463  A165OWIWJVVYRR  B000053HH5     4.634016\n",
       "464  A165OWIWJVVYRR  B000089GN3     4.631111\n",
       "465  A12DQZKRKTNF5E  B0000BZL1P     4.894639\n",
       "466  A12DQZKRKTNF5E  B000053HH5     4.812885\n",
       "467  A12DQZKRKTNF5E  B00006HZ0L     4.811832\n",
       "468  A12DQZKRKTNF5E  B0000X0VCY     4.804356\n",
       "469  A12DQZKRKTNF5E  B000053HC5     4.803916\n",
       "470  A11OUXGPUAMJXJ  B000053HH5     5.000000\n",
       "471  A11OUXGPUAMJXJ  B0007QKMQY     5.000000\n",
       "472  A11OUXGPUAMJXJ  B0000BZL1P     5.000000\n",
       "473  A11OUXGPUAMJXJ  B0002L5R78     5.000000\n",
       "474  A11OUXGPUAMJXJ  B00007GQLU     4.998800\n",
       "475  A11D1KHM7DVOQK  B0000BZL1P     3.810960\n",
       "476  A11D1KHM7DVOQK  B000053HH5     3.775611\n",
       "477  A11D1KHM7DVOQK  B00007GQLU     3.751586\n",
       "478  A11D1KHM7DVOQK  B000089GN3     3.747266\n",
       "479  A11D1KHM7DVOQK  B00006LV79     3.743640\n",
       "480  A10Y058K7B96C6  B00006HZ0L     5.000000\n",
       "481  A10Y058K7B96C6  B0000BZL1P     5.000000\n",
       "482  A10Y058K7B96C6  B0000X0VCY     5.000000\n",
       "483  A10Y058K7B96C6  B0002L5R78     4.997146\n",
       "484  A10Y058K7B96C6  B000053HH5     4.990283\n",
       "\n",
       "[485 rows x 3 columns]"
      ]
     },
     "execution_count": 115,
     "metadata": {},
     "output_type": "execute_result"
    }
   ],
   "source": [
    "SVD_Top_5_recommend"
   ]
  },
  {
   "cell_type": "code",
   "execution_count": 116,
   "metadata": {
    "scrolled": true
   },
   "outputs": [
    {
     "data": {
      "text/plain": [
       "A1SCWY8O0IL2HU    5\n",
       "A11D1KHM7DVOQK    5\n",
       "A2LLSFQO8O8XNW    5\n",
       "A2JT5X557H8JWX    5\n",
       "A2FRFAQCWZJT3Q    5\n",
       "A2VV0TJNJT9D3O    5\n",
       "A33FS5H3CPDR6D    5\n",
       "A1VVRA3P6G1TWH    5\n",
       "A33ZYFE8XMKKR1    5\n",
       "A12DQZKRKTNF5E    5\n",
       "A1S4R6CZB4566C    5\n",
       "A3UO195ZCOA59U    5\n",
       "A1FTRR0WV1H5K     5\n",
       "ASRA2UZ3JV87B     5\n",
       "AKFOHJ9R66KUN     5\n",
       "AUX9KZUUB3YCE     5\n",
       "ALICSOW9JNXCD     5\n",
       "A1POL0R3RNLZ53    5\n",
       "A33KJZ6GCAUKOV    5\n",
       "ABDR6IJ93HFIO     5\n",
       "A16HXVNPU5TCGE    5\n",
       "A5JLAU2ARJ0BO     5\n",
       "AHCK96KL7JVGW     5\n",
       "AYWIO6OYAGFGQ     5\n",
       "AKKSHEGRQVQRK     5\n",
       "A2O8OE08KQ234C    5\n",
       "A8TZ88OM8YOLW     5\n",
       "AXNQ3UXQ3P5HE     5\n",
       "A3T3KPW2QE866W    5\n",
       "A3TLY1A7NGVCQM    5\n",
       "                 ..\n",
       "A2NFLHENCYAXGD    5\n",
       "A25C2M3QF9G7OQ    5\n",
       "AHY2KG32696ES     5\n",
       "A231WM2Z2JL0U3    5\n",
       "AMPGRXQMO89X9     5\n",
       "A1GFB47CXP4LKR    5\n",
       "A165OWIWJVVYRR    5\n",
       "A2UOHALGF2X77Q    5\n",
       "A281T8MXBOSWY5    5\n",
       "A2DUJJEXQP8FOJ    5\n",
       "A2GZURT3TNW3S2    5\n",
       "A2ZR3YTMEEIIZ4    5\n",
       "A1DS0IESVWVVPF    5\n",
       "A3F5JV08JUY06C    5\n",
       "A2NSMJVQY0RV9S    5\n",
       "A3IJ4Z18FTIIP     5\n",
       "A3SF2N0BJF0YJS    5\n",
       "A57Q87B0TC9IJ     5\n",
       "A1EFVTUYCEZEK     5\n",
       "A1FR68QH6Z4YZM    5\n",
       "A2BJC09BVK3R7R    5\n",
       "A3PLX6PTM2ERKL    5\n",
       "AR64CEBJWBICU     5\n",
       "A3977M5S0GIG5H    5\n",
       "A212MDP6K4VJS5    5\n",
       "A21T0D2F7SKG5S    5\n",
       "A2L42QEWR77PKZ    5\n",
       "A2R1QFDW2D8FOA    5\n",
       "AOEDWQLH2WKKW     5\n",
       "A3FPSY1M6G7XIB    5\n",
       "Name: userID, Length: 97, dtype: int64"
      ]
     },
     "execution_count": 116,
     "metadata": {},
     "output_type": "execute_result"
    }
   ],
   "source": [
    "SVD_Top_5_recommend.userID.value_counts()"
   ]
  },
  {
   "cell_type": "code",
   "execution_count": null,
   "metadata": {},
   "outputs": [],
   "source": [
    "Using SVD approach we were able to recommend for all the users(97)"
   ]
  },
  {
   "cell_type": "code",
   "execution_count": 117,
   "metadata": {},
   "outputs": [
    {
     "data": {
      "text/html": [
       "<div>\n",
       "<style scoped>\n",
       "    .dataframe tbody tr th:only-of-type {\n",
       "        vertical-align: middle;\n",
       "    }\n",
       "\n",
       "    .dataframe tbody tr th {\n",
       "        vertical-align: top;\n",
       "    }\n",
       "\n",
       "    .dataframe thead th {\n",
       "        text-align: right;\n",
       "    }\n",
       "</style>\n",
       "<table border=\"1\" class=\"dataframe\">\n",
       "  <thead>\n",
       "    <tr style=\"text-align: right;\">\n",
       "      <th></th>\n",
       "      <th>userID</th>\n",
       "      <th>productID</th>\n",
       "      <th>est_ratings</th>\n",
       "    </tr>\n",
       "  </thead>\n",
       "  <tbody>\n",
       "    <tr>\n",
       "      <th>5</th>\n",
       "      <td>AXNQ3UXQ3P5HE</td>\n",
       "      <td>B0000BZL1P</td>\n",
       "      <td>4.996137</td>\n",
       "    </tr>\n",
       "    <tr>\n",
       "      <th>6</th>\n",
       "      <td>AXNQ3UXQ3P5HE</td>\n",
       "      <td>B000053HC5</td>\n",
       "      <td>4.904346</td>\n",
       "    </tr>\n",
       "    <tr>\n",
       "      <th>7</th>\n",
       "      <td>AXNQ3UXQ3P5HE</td>\n",
       "      <td>B00004Z5M1</td>\n",
       "      <td>4.895504</td>\n",
       "    </tr>\n",
       "    <tr>\n",
       "      <th>8</th>\n",
       "      <td>AXNQ3UXQ3P5HE</td>\n",
       "      <td>B00006HZ0L</td>\n",
       "      <td>4.881237</td>\n",
       "    </tr>\n",
       "    <tr>\n",
       "      <th>9</th>\n",
       "      <td>AXNQ3UXQ3P5HE</td>\n",
       "      <td>B000BQ7GW8</td>\n",
       "      <td>4.878992</td>\n",
       "    </tr>\n",
       "  </tbody>\n",
       "</table>\n",
       "</div>"
      ],
      "text/plain": [
       "          userID   productID  est_ratings\n",
       "5  AXNQ3UXQ3P5HE  B0000BZL1P     4.996137\n",
       "6  AXNQ3UXQ3P5HE  B000053HC5     4.904346\n",
       "7  AXNQ3UXQ3P5HE  B00004Z5M1     4.895504\n",
       "8  AXNQ3UXQ3P5HE  B00006HZ0L     4.881237\n",
       "9  AXNQ3UXQ3P5HE  B000BQ7GW8     4.878992"
      ]
     },
     "execution_count": 117,
     "metadata": {},
     "output_type": "execute_result"
    }
   ],
   "source": [
    "SVD_Top_5_recommend[SVD_Top_5_recommend['userID']=='AXNQ3UXQ3P5HE']"
   ]
  },
  {
   "cell_type": "markdown",
   "metadata": {},
   "source": [
    "Insights:\n",
    "    Popularity Based Model:\n",
    "        *) Top 5 popular product is same for all the users.\n",
    "        *) Personalized recommendations is not possible.\n",
    "        *) Can be used for new users to implicitly observe the user's need.\n",
    "        \n",
    "    Collaborative Filtering:\n",
    "        \n",
    "      Item based collaborative filtering:\n",
    "    \n",
    "        *) KNNWithMeans approach with RMSE value = 1.17.\n",
    "        *) Personalized recommendation is possible, based on the similarity of the product(history) \n",
    "           which customer has already ordered/viewed.\n",
    "        *) Drawback is \"Visitors/product\" cold start problem.\n",
    "        *) Top 5 recommendation were made only for 10 users because of sparsity issue.\n",
    "        *) Since the recommendation is similar based on the history there would not be any \n",
    "           surprise to user in this recommendation.\n",
    "            \n",
    "      User based collaborative filtering:\n",
    "        \n",
    "        *) KNNWithMeans approach with RMSE value = 1.07.\n",
    "        *) Personalized recommendation is possible, based on the similarity between the users.  \n",
    "        *) Higher possibilities for a customer getting surprise product.\n",
    "        *) Top 5 recommendation were made only for 10 users because of sparsity issue.\n",
    "        *) \"Visitors/product\" cold start problem may occur.\n",
    "        \n",
    "    SVD based approach for Collaborative filtering: \n",
    "        \n",
    "        *) SVD approach with RMSE value = 1.019.\n",
    "        *) Personal recommendation possible based on Matrix multiplication. \n",
    "        *) We were able to recommend top 5 products for all the users(97 users) without the sparsity issue.\n",
    "        *) \"Visitors/product\" cold start problem may occur.\n",
    "        \n",
    " Hybrid recommendation(Ensemble of all these recommendation system) would yeild us better recommendation oppurtunity,          \n",
    " effectiveness and customer satisfaction.\n",
    "    \n",
    "    \n",
    "    \n",
    "    \n",
    "    \n",
    "    \n",
    "    \n",
    "    \n",
    "    \n",
    "    \n",
    "    \n",
    "    \n",
    "    \n",
    "    \n",
    "    \n",
    "    \n",
    "    \n",
    "    \n",
    "    \n",
    "    \n",
    "    "
   ]
  }
 ],
 "metadata": {
  "kernelspec": {
   "display_name": "Python 3",
   "language": "python",
   "name": "python3"
  },
  "language_info": {
   "codemirror_mode": {
    "name": "ipython",
    "version": 3
   },
   "file_extension": ".py",
   "mimetype": "text/x-python",
   "name": "python",
   "nbconvert_exporter": "python",
   "pygments_lexer": "ipython3",
   "version": "3.7.3"
  }
 },
 "nbformat": 4,
 "nbformat_minor": 2
}
