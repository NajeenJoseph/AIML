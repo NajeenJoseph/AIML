{
  "nbformat": 4,
  "nbformat_minor": 0,
  "metadata": {
    "colab": {
      "name": "Advance Computer Vision with CNN_R9_Project1_FaceMaskPrediction using U-Net-1.ipynb",
      "provenance": [],
      "collapsed_sections": []
    },
    "kernelspec": {
      "display_name": "Python 3",
      "language": "python",
      "name": "python3"
    },
    "language_info": {
      "codemirror_mode": {
        "name": "ipython",
        "version": 3
      },
      "file_extension": ".py",
      "mimetype": "text/x-python",
      "name": "python",
      "nbconvert_exporter": "python",
      "pygments_lexer": "ipython3",
      "version": "3.7.4"
    },
    "accelerator": "GPU"
  },
  "cells": [
    {
      "cell_type": "markdown",
      "metadata": {
        "id": "q24VEuL2PbvT"
      },
      "source": [
        "![alt text](https://drive.google.com/uc?export=view&id=1UXScsVx_Wni_JuDdB8LeTnM6jsPfIwkW)\n",
        "\n",
        "Proprietary content. © Great Learning. All Rights Reserved. Unauthorized use or distribution prohibited."
      ]
    },
    {
      "cell_type": "markdown",
      "metadata": {
        "id": "NgR0j5310qqC"
      },
      "source": [
        "# Face Mask Prediction using U-Net\n",
        "Task is to predict the mask around the face in a given image."
      ]
    },
    {
      "cell_type": "markdown",
      "metadata": {
        "id": "VvWl3ebqzCc1"
      },
      "source": [
        "# Instructions\n",
        "- Some part of the code is already done for you\n",
        "- You need to execute all the cells\n",
        "- You need to add the code where ever you see `\"#### Add your code here ####\"`\n",
        "- Marks are mentioned along with the cells"
      ]
    },
    {
      "cell_type": "markdown",
      "metadata": {
        "id": "Aa0jyJzw091I"
      },
      "source": [
        "## Dataset\n",
        "Faces in images marked with bounding boxes. Have around 409 images with around 1000 faces manually tagged via bounding box.\n",
        "- Data file name: images.npy"
      ]
    },
    {
      "cell_type": "markdown",
      "metadata": {
        "id": "CjRTlPkp1LC2"
      },
      "source": [
        "### Mount Google drive if you are using google colab\n",
        "- We recommend using Google Colab as you can face memory issues and longer runtimes while running on local"
      ]
    },
    {
      "cell_type": "code",
      "metadata": {
        "id": "sBWMoTJ9cf3Z",
        "colab": {
          "base_uri": "https://localhost:8080/"
        },
        "outputId": "9caf6be1-10a6-4be7-938f-5c7a4ee0fd98"
      },
      "source": [
        "from google.colab import drive\n",
        "drive.mount('/content/drive')"
      ],
      "execution_count": 1,
      "outputs": [
        {
          "output_type": "stream",
          "text": [
            "Mounted at /content/drive\n"
          ],
          "name": "stdout"
        }
      ]
    },
    {
      "cell_type": "markdown",
      "metadata": {
        "id": "3srplE-FEpKa"
      },
      "source": [
        "### Load the \"images.npy\" file (2 marks)\n",
        "- This file contains images with details of bounding boxes"
      ]
    },
    {
      "cell_type": "code",
      "metadata": {
        "id": "Tp687V4XKmRF"
      },
      "source": [
        "import numpy as np\n",
        "import tensorflow as tf\n",
        "import math"
      ],
      "execution_count": 2,
      "outputs": []
    },
    {
      "cell_type": "code",
      "metadata": {
        "id": "MqFE_tZDf0sM"
      },
      "source": [
        "data = np.load('/content/drive/MyDrive/ACV assignment/images.npy', allow_pickle = True)"
      ],
      "execution_count": 3,
      "outputs": []
    },
    {
      "cell_type": "code",
      "metadata": {
        "colab": {
          "base_uri": "https://localhost:8080/"
        },
        "id": "6M25h__khkPu",
        "outputId": "3535d1db-dc81-4766-c5c3-c7510dc194e0"
      },
      "source": [
        "data.shape"
      ],
      "execution_count": 4,
      "outputs": [
        {
          "output_type": "execute_result",
          "data": {
            "text/plain": [
              "(409, 2)"
            ]
          },
          "metadata": {
            "tags": []
          },
          "execution_count": 4
        }
      ]
    },
    {
      "cell_type": "markdown",
      "metadata": {
        "id": "_SMP8zliFT7R"
      },
      "source": [
        "### Check one sample from the loaded \"images.npy\" file  (2 marks)\n",
        "- Hint: print data[10][1] "
      ]
    },
    {
      "cell_type": "code",
      "metadata": {
        "id": "NoqNvPK-iXqG",
        "colab": {
          "base_uri": "https://localhost:8080/"
        },
        "outputId": "90cf78ea-6d97-4ae7-a840-83a8357e8924"
      },
      "source": [
        "print(data[15][1])"
      ],
      "execution_count": null,
      "outputs": [
        {
          "output_type": "stream",
          "text": [
            "[{'label': ['Face'], 'notes': '', 'points': [{'x': 0.26266666666666666, 'y': 0.08266666666666667}, {'x': 0.3973333333333333, 'y': 0.3893333333333333}], 'imageWidth': 750, 'imageHeight': 375}, {'label': ['Face'], 'notes': '', 'points': [{'x': 0.49866666666666665, 'y': 0.050666666666666665}, {'x': 0.5973333333333334, 'y': 0.2613333333333333}], 'imageWidth': 750, 'imageHeight': 375}, {'label': ['Face'], 'notes': '', 'points': [{'x': 0.6773333333333333, 'y': 0.112}, {'x': 0.7906666666666666, 'y': 0.368}], 'imageWidth': 750, 'imageHeight': 375}]\n"
          ],
          "name": "stdout"
        }
      ]
    },
    {
      "cell_type": "markdown",
      "metadata": {
        "id": "m94G4p3CE5Cj"
      },
      "source": [
        "### Set image dimensions   (1 mark)\n",
        "- Initialize image height, image width with value: 224 "
      ]
    },
    {
      "cell_type": "code",
      "metadata": {
        "id": "kuZmtOASevDo"
      },
      "source": [
        "IMAGE_HEIGHT = 224\n",
        "IMAGE_WIDTH = 224"
      ],
      "execution_count": 5,
      "outputs": []
    },
    {
      "cell_type": "markdown",
      "metadata": {
        "id": "wY6FEsCjG47s"
      },
      "source": [
        "### Create features and labels\n",
        "- Here feature is the image\n",
        "- The label is the mask\n",
        "- Images will be stored in \"X\" array\n",
        "- Masks will be stored in \"masks\" array"
      ]
    },
    {
      "cell_type": "code",
      "metadata": {
        "id": "XjCT9EVTgAvr"
      },
      "source": [
        "import cv2\n",
        "from tensorflow.keras.applications.mobilenet import preprocess_input\n",
        "\n",
        "masks = np.zeros((int(data.shape[0]), IMAGE_HEIGHT, IMAGE_WIDTH))\n",
        "X = np.zeros((int(data.shape[0]), IMAGE_HEIGHT, IMAGE_WIDTH, 3))\n",
        "for index in range(data.shape[0]):\n",
        "    img = data[index][0]\n",
        "    img = cv2.resize(img, dsize=(IMAGE_HEIGHT, IMAGE_WIDTH), interpolation=cv2.INTER_CUBIC)\n",
        "    try:\n",
        "      img = img[:, :, :3]\n",
        "    except:\n",
        "      continue\n",
        "    X[index] = preprocess_input(np.array(img, dtype=np.float32))\n",
        "    for i in data[index][1]:\n",
        "        x1 = int(i[\"points\"][0]['x'] * IMAGE_WIDTH)\n",
        "        x2 = int(i[\"points\"][1]['x'] * IMAGE_WIDTH)\n",
        "        y1 = int(i[\"points\"][0]['y'] * IMAGE_HEIGHT)\n",
        "        y2 = int(i[\"points\"][1]['y'] * IMAGE_HEIGHT)\n",
        "        masks[index][y1:y2, x1:x2] = 1"
      ],
      "execution_count": 6,
      "outputs": []
    },
    {
      "cell_type": "code",
      "metadata": {
        "colab": {
          "base_uri": "https://localhost:8080/"
        },
        "id": "4dRsbLbfiMXA",
        "outputId": "cce6d8e2-46b0-4bae-a138-ac2742d7bdc4"
      },
      "source": [
        "X.shape"
      ],
      "execution_count": 7,
      "outputs": [
        {
          "output_type": "execute_result",
          "data": {
            "text/plain": [
              "(409, 224, 224, 3)"
            ]
          },
          "metadata": {
            "tags": []
          },
          "execution_count": 7
        }
      ]
    },
    {
      "cell_type": "code",
      "metadata": {
        "colab": {
          "base_uri": "https://localhost:8080/"
        },
        "id": "y_AvNOd6Ed2C",
        "outputId": "5c68f9a6-d843-432d-c40c-df72f96b97a7"
      },
      "source": [
        "masks.shape"
      ],
      "execution_count": 8,
      "outputs": [
        {
          "output_type": "execute_result",
          "data": {
            "text/plain": [
              "(409, 224, 224)"
            ]
          },
          "metadata": {
            "tags": []
          },
          "execution_count": 8
        }
      ]
    },
    {
      "cell_type": "code",
      "metadata": {
        "colab": {
          "base_uri": "https://localhost:8080/"
        },
        "id": "U_IxeOsvpzOF",
        "outputId": "3d3694e3-c9ec-4193-eb47-8ac4fdbb2891"
      },
      "source": [
        "np.unique(masks)"
      ],
      "execution_count": 9,
      "outputs": [
        {
          "output_type": "execute_result",
          "data": {
            "text/plain": [
              "array([0., 1.])"
            ]
          },
          "metadata": {
            "tags": []
          },
          "execution_count": 9
        }
      ]
    },
    {
      "cell_type": "markdown",
      "metadata": {
        "id": "N3AYbP79bFtJ"
      },
      "source": [
        "### Split the data into training and testing (2 marks)\n",
        "- 400 images in training\n",
        "- 9 images in testing data"
      ]
    },
    {
      "cell_type": "markdown",
      "metadata": {
        "id": "-Uc0NmqXQtPK"
      },
      "source": [
        "Training data"
      ]
    },
    {
      "cell_type": "code",
      "metadata": {
        "id": "3PIRaEdWIjDa"
      },
      "source": [
        "X_train = X[0:400]\n",
        "y_train = masks[0:400]"
      ],
      "execution_count": 7,
      "outputs": []
    },
    {
      "cell_type": "code",
      "metadata": {
        "colab": {
          "base_uri": "https://localhost:8080/"
        },
        "id": "PrqB0tDosvu-",
        "outputId": "46434dd2-ac10-4ad6-8f16-5f5a3e190633"
      },
      "source": [
        "print(X_train.shape, y_train.shape)"
      ],
      "execution_count": 8,
      "outputs": [
        {
          "output_type": "stream",
          "text": [
            "(400, 224, 224, 3) (400, 224, 224)\n"
          ],
          "name": "stdout"
        }
      ]
    },
    {
      "cell_type": "markdown",
      "metadata": {
        "id": "7ybyn6QnQ4ID"
      },
      "source": [
        "Testing data"
      ]
    },
    {
      "cell_type": "code",
      "metadata": {
        "id": "Gw6uH5DxgI_r"
      },
      "source": [
        "X_test = X[400:]\n",
        "y_test = masks[400:]"
      ],
      "execution_count": 9,
      "outputs": []
    },
    {
      "cell_type": "code",
      "metadata": {
        "colab": {
          "base_uri": "https://localhost:8080/"
        },
        "id": "0acGCf20s-kJ",
        "outputId": "a28c1262-2d78-4124-8852-f8de646800a9"
      },
      "source": [
        "print(X_test.shape, y_test.shape)"
      ],
      "execution_count": 10,
      "outputs": [
        {
          "output_type": "stream",
          "text": [
            "(9, 224, 224, 3) (9, 224, 224)\n"
          ],
          "name": "stdout"
        }
      ]
    },
    {
      "cell_type": "markdown",
      "metadata": {
        "id": "R4wgkWq1bk5F"
      },
      "source": [
        "### Print a sample training image, image array and its mask (2 marks)"
      ]
    },
    {
      "cell_type": "markdown",
      "metadata": {
        "id": "gfqobMQoRCW-"
      },
      "source": [
        "Print the image and image array"
      ]
    },
    {
      "cell_type": "code",
      "metadata": {
        "id": "qfRZjQufj0N9"
      },
      "source": [
        "import matplotlib.pyplot as plt"
      ],
      "execution_count": 11,
      "outputs": []
    },
    {
      "cell_type": "code",
      "metadata": {
        "colab": {
          "base_uri": "https://localhost:8080/",
          "height": 305
        },
        "id": "sovwj8cHAKG_",
        "outputId": "042101db-5de7-4632-912f-5cafdc252334"
      },
      "source": [
        "plt.imshow(X_train[143])"
      ],
      "execution_count": 12,
      "outputs": [
        {
          "output_type": "stream",
          "text": [
            "Clipping input data to the valid range for imshow with RGB data ([0..1] for floats or [0..255] for integers).\n"
          ],
          "name": "stderr"
        },
        {
          "output_type": "execute_result",
          "data": {
            "text/plain": [
              "<matplotlib.image.AxesImage at 0x7f7b5a2339d0>"
            ]
          },
          "metadata": {
            "tags": []
          },
          "execution_count": 12
        },
        {
          "output_type": "display_data",
          "data": {
            "image/png": "[encoded data removed]",
            "text/plain": [
              "<Figure size 432x288 with 1 Axes>"
            ]
          },
          "metadata": {
            "tags": [],
            "needs_background": "light"
          }
        }
      ]
    },
    {
      "cell_type": "code",
      "metadata": {
        "colab": {
          "base_uri": "https://localhost:8080/"
        },
        "id": "GPinVeksB2fc",
        "outputId": "1282facb-9d6c-4ec6-86e7-d005ab4d8d0a"
      },
      "source": [
        "print(X_train[143])"
      ],
      "execution_count": null,
      "outputs": [
        {
          "output_type": "stream",
          "text": [
            "[[[-1.         -1.         -1.        ]\n",
            "  [-1.         -1.         -1.        ]\n",
            "  [-1.         -1.         -1.        ]\n",
            "  ...\n",
            "  [-1.         -1.         -1.        ]\n",
            "  [-1.         -1.         -1.        ]\n",
            "  [-1.         -1.         -1.        ]]\n",
            "\n",
            " [[-1.         -1.         -1.        ]\n",
            "  [-1.         -1.         -1.        ]\n",
            "  [-1.         -1.         -1.        ]\n",
            "  ...\n",
            "  [-1.         -1.         -1.        ]\n",
            "  [-1.         -1.         -1.        ]\n",
            "  [-1.         -1.         -1.        ]]\n",
            "\n",
            " [[-1.         -1.         -1.        ]\n",
            "  [-1.         -1.         -1.        ]\n",
            "  [-1.         -1.         -1.        ]\n",
            "  ...\n",
            "  [-1.         -1.         -1.        ]\n",
            "  [-1.         -1.         -1.        ]\n",
            "  [-1.         -1.         -1.        ]]\n",
            "\n",
            " ...\n",
            "\n",
            " [[ 0.26274514  0.05098045 -0.63921571]\n",
            "  [ 0.27843142  0.06666672 -0.65490198]\n",
            "  [ 0.28627455  0.07450986 -0.64705884]\n",
            "  ...\n",
            "  [-0.41960782 -0.6156863  -0.90588236]\n",
            "  [-0.50588238 -0.63921571 -0.9137255 ]\n",
            "  [-0.56078434 -0.69411767 -0.94509804]]\n",
            "\n",
            " [[ 0.23921573  0.0196079  -0.63921571]\n",
            "  [ 0.25490201  0.04313731 -0.67058825]\n",
            "  [ 0.27843142  0.06666672 -0.64705884]\n",
            "  ...\n",
            "  [-0.45098037 -0.63921571 -0.92156863]\n",
            "  [-0.52941179 -0.65490198 -0.9137255 ]\n",
            "  [-0.56862748 -0.7019608  -0.94509804]]\n",
            "\n",
            " [[ 0.22352946  0.00392163 -0.64705884]\n",
            "  [ 0.23921573  0.02745104 -0.67843139]\n",
            "  [ 0.24705887  0.03529418 -0.66274512]\n",
            "  ...\n",
            "  [-0.45098037 -0.63921571 -0.92156863]\n",
            "  [-0.5529412  -0.67843139 -0.94509804]\n",
            "  [-0.57647061 -0.70980394 -0.95294118]]]\n"
          ],
          "name": "stdout"
        }
      ]
    },
    {
      "cell_type": "markdown",
      "metadata": {
        "id": "cctmS46hJKnL"
      },
      "source": [
        "Print the mask"
      ]
    },
    {
      "cell_type": "code",
      "metadata": {
        "colab": {
          "base_uri": "https://localhost:8080/",
          "height": 287
        },
        "id": "aLBTdD7tFL6F",
        "outputId": "13f76b49-83bf-46db-9e1a-fba2f98f3ff4"
      },
      "source": [
        "plt.imshow(y_train[143])"
      ],
      "execution_count": 15,
      "outputs": [
        {
          "output_type": "execute_result",
          "data": {
            "text/plain": [
              "<matplotlib.image.AxesImage at 0x7f799c4e8810>"
            ]
          },
          "metadata": {
            "tags": []
          },
          "execution_count": 15
        },
        {
          "output_type": "display_data",
          "data": {
            "image/png": "[encoded data removed]",
            "text/plain": [
              "<Figure size 432x288 with 1 Axes>"
            ]
          },
          "metadata": {
            "tags": [],
            "needs_background": "light"
          }
        }
      ]
    },
    {
      "cell_type": "code",
      "metadata": {
        "id": "983gGKcwlSe8",
        "colab": {
          "base_uri": "https://localhost:8080/"
        },
        "outputId": "b7f750f6-e416-49f1-b9a4-c8e2df18b91f"
      },
      "source": [
        "print(y_train[143])"
      ],
      "execution_count": null,
      "outputs": [
        {
          "output_type": "stream",
          "text": [
            "[[0. 0. 0. ... 0. 0. 0.]\n",
            " [0. 0. 0. ... 0. 0. 0.]\n",
            " [0. 0. 0. ... 0. 0. 0.]\n",
            " ...\n",
            " [0. 0. 0. ... 0. 0. 0.]\n",
            " [0. 0. 0. ... 0. 0. 0.]\n",
            " [0. 0. 0. ... 0. 0. 0.]]\n"
          ],
          "name": "stdout"
        }
      ]
    },
    {
      "cell_type": "markdown",
      "metadata": {
        "id": "Z0Qa1UOue9TE"
      },
      "source": [
        "## Create the model (5 marks)\n",
        "- Add MobileNet as model with below parameter values\n",
        "  - input_shape: IMAGE_HEIGHT, IMAGE_WIDTH, 3\n",
        "  - include_top: False\n",
        "  - alpha: 1.0\n",
        "  - weights: \"imagenet\"\n",
        "- Add UNET architecture layers\n",
        "  - This is the trickiest part of the project, you need to research and implement it correctly"
      ]
    },
    {
      "cell_type": "code",
      "metadata": {
        "id": "BTVYOvANrUVx"
      },
      "source": [
        "from tensorflow.keras.applications.mobilenet import MobileNet\n",
        "from tensorflow.keras.layers import Reshape, UpSampling2D, Concatenate, Conv2D\n",
        "from tensorflow.keras.models import Model\n",
        "from tensorflow.keras.losses import binary_crossentropy\n",
        "\n",
        "def create_model(trainable=True):\n",
        "    model = MobileNet(input_shape=(IMAGE_HEIGHT,IMAGE_WIDTH,3), include_top=False, alpha=1.0, weights=\"imagenet\")\n",
        "\n",
        "    for layer in model.layers:\n",
        "        layer.trainable = trainable\n",
        "\n",
        "    block1 = model.get_layer(\"conv_pw_1_relu\").output #112*112\n",
        "    block2 = model.get_layer(\"conv_pw_3_relu\").output #56*56\n",
        "    block3 = model.get_layer(\"conv_pw_5_relu\").output #28*28\n",
        "    block4 = model.get_layer(\"conv_pw_11_relu\").output #14*14\n",
        "    block5 = model.get_layer(\"conv_pw_13_relu\").output #7*7\n",
        "\n",
        "    decoder = Concatenate()([UpSampling2D()(block5), block4])\n",
        "    decoder = Concatenate()([UpSampling2D()(decoder), block3])\n",
        "    decoder = Concatenate()([UpSampling2D()(decoder), block2])\n",
        "    decoder = Concatenate()([UpSampling2D()(decoder), block1])\n",
        "    decoder = UpSampling2D()(decoder)\n",
        "\n",
        "    decoder= Conv2D(1, kernel_size=1, activation=\"sigmoid\")(decoder)\n",
        "    decoder= Reshape((IMAGE_HEIGHT, IMAGE_WIDTH))(decoder)\n",
        "\n",
        "    return Model(inputs=model.input, outputs=decoder)"
      ],
      "execution_count": 13,
      "outputs": []
    },
    {
      "cell_type": "markdown",
      "metadata": {
        "id": "_snZ9o0ZBAiv"
      },
      "source": [
        "### Call the create_model function (1 mark)\n",
        "- Give trainable=False as argument, if you want to freeze lower layers for fast training (but low accuracy)"
      ]
    },
    {
      "cell_type": "code",
      "metadata": {
        "id": "9TfSSP51uPoO",
        "colab": {
          "base_uri": "https://localhost:8080/"
        },
        "outputId": "e8806616-92b6-4e45-bea5-57d9b2917353"
      },
      "source": [
        "model = create_model(True)"
      ],
      "execution_count": 14,
      "outputs": [
        {
          "output_type": "stream",
          "text": [
            "Downloading data from https://storage.googleapis.com/tensorflow/keras-applications/mobilenet/mobilenet_1_0_224_tf_no_top.h5\n",
            "17227776/17225924 [==============================] - 0s 0us/step\n"
          ],
          "name": "stdout"
        }
      ]
    },
    {
      "cell_type": "markdown",
      "metadata": {
        "id": "lUr_ZSHkKb5G"
      },
      "source": [
        "### Print model summary (1 mark)"
      ]
    },
    {
      "cell_type": "code",
      "metadata": {
        "id": "xXCbBt78KfT-",
        "colab": {
          "base_uri": "https://localhost:8080/"
        },
        "outputId": "33fce11b-e25d-445d-d932-1f60f49cf1ac"
      },
      "source": [
        "model.summary()"
      ],
      "execution_count": 15,
      "outputs": [
        {
          "output_type": "stream",
          "text": [
            "Model: \"model\"\n",
            "__________________________________________________________________________________________________\n",
            "Layer (type)                    Output Shape         Param #     Connected to                     \n",
            "==================================================================================================\n",
            "input_1 (InputLayer)            [(None, 224, 224, 3) 0                                            \n",
            "__________________________________________________________________________________________________\n",
            "conv1 (Conv2D)                  (None, 112, 112, 32) 864         input_1[0][0]                    \n",
            "__________________________________________________________________________________________________\n",
            "conv1_bn (BatchNormalization)   (None, 112, 112, 32) 128         conv1[0][0]                      \n",
            "__________________________________________________________________________________________________\n",
            "conv1_relu (ReLU)               (None, 112, 112, 32) 0           conv1_bn[0][0]                   \n",
            "__________________________________________________________________________________________________\n",
            "conv_dw_1 (DepthwiseConv2D)     (None, 112, 112, 32) 288         conv1_relu[0][0]                 \n",
            "__________________________________________________________________________________________________\n",
            "conv_dw_1_bn (BatchNormalizatio (None, 112, 112, 32) 128         conv_dw_1[0][0]                  \n",
            "__________________________________________________________________________________________________\n",
            "conv_dw_1_relu (ReLU)           (None, 112, 112, 32) 0           conv_dw_1_bn[0][0]               \n",
            "__________________________________________________________________________________________________\n",
            "conv_pw_1 (Conv2D)              (None, 112, 112, 64) 2048        conv_dw_1_relu[0][0]             \n",
            "__________________________________________________________________________________________________\n",
            "conv_pw_1_bn (BatchNormalizatio (None, 112, 112, 64) 256         conv_pw_1[0][0]                  \n",
            "__________________________________________________________________________________________________\n",
            "conv_pw_1_relu (ReLU)           (None, 112, 112, 64) 0           conv_pw_1_bn[0][0]               \n",
            "__________________________________________________________________________________________________\n",
            "conv_pad_2 (ZeroPadding2D)      (None, 113, 113, 64) 0           conv_pw_1_relu[0][0]             \n",
            "__________________________________________________________________________________________________\n",
            "conv_dw_2 (DepthwiseConv2D)     (None, 56, 56, 64)   576         conv_pad_2[0][0]                 \n",
            "__________________________________________________________________________________________________\n",
            "conv_dw_2_bn (BatchNormalizatio (None, 56, 56, 64)   256         conv_dw_2[0][0]                  \n",
            "__________________________________________________________________________________________________\n",
            "conv_dw_2_relu (ReLU)           (None, 56, 56, 64)   0           conv_dw_2_bn[0][0]               \n",
            "__________________________________________________________________________________________________\n",
            "conv_pw_2 (Conv2D)              (None, 56, 56, 128)  8192        conv_dw_2_relu[0][0]             \n",
            "__________________________________________________________________________________________________\n",
            "conv_pw_2_bn (BatchNormalizatio (None, 56, 56, 128)  512         conv_pw_2[0][0]                  \n",
            "__________________________________________________________________________________________________\n",
            "conv_pw_2_relu (ReLU)           (None, 56, 56, 128)  0           conv_pw_2_bn[0][0]               \n",
            "__________________________________________________________________________________________________\n",
            "conv_dw_3 (DepthwiseConv2D)     (None, 56, 56, 128)  1152        conv_pw_2_relu[0][0]             \n",
            "__________________________________________________________________________________________________\n",
            "conv_dw_3_bn (BatchNormalizatio (None, 56, 56, 128)  512         conv_dw_3[0][0]                  \n",
            "__________________________________________________________________________________________________\n",
            "conv_dw_3_relu (ReLU)           (None, 56, 56, 128)  0           conv_dw_3_bn[0][0]               \n",
            "__________________________________________________________________________________________________\n",
            "conv_pw_3 (Conv2D)              (None, 56, 56, 128)  16384       conv_dw_3_relu[0][0]             \n",
            "__________________________________________________________________________________________________\n",
            "conv_pw_3_bn (BatchNormalizatio (None, 56, 56, 128)  512         conv_pw_3[0][0]                  \n",
            "__________________________________________________________________________________________________\n",
            "conv_pw_3_relu (ReLU)           (None, 56, 56, 128)  0           conv_pw_3_bn[0][0]               \n",
            "__________________________________________________________________________________________________\n",
            "conv_pad_4 (ZeroPadding2D)      (None, 57, 57, 128)  0           conv_pw_3_relu[0][0]             \n",
            "__________________________________________________________________________________________________\n",
            "conv_dw_4 (DepthwiseConv2D)     (None, 28, 28, 128)  1152        conv_pad_4[0][0]                 \n",
            "__________________________________________________________________________________________________\n",
            "conv_dw_4_bn (BatchNormalizatio (None, 28, 28, 128)  512         conv_dw_4[0][0]                  \n",
            "__________________________________________________________________________________________________\n",
            "conv_dw_4_relu (ReLU)           (None, 28, 28, 128)  0           conv_dw_4_bn[0][0]               \n",
            "__________________________________________________________________________________________________\n",
            "conv_pw_4 (Conv2D)              (None, 28, 28, 256)  32768       conv_dw_4_relu[0][0]             \n",
            "__________________________________________________________________________________________________\n",
            "conv_pw_4_bn (BatchNormalizatio (None, 28, 28, 256)  1024        conv_pw_4[0][0]                  \n",
            "__________________________________________________________________________________________________\n",
            "conv_pw_4_relu (ReLU)           (None, 28, 28, 256)  0           conv_pw_4_bn[0][0]               \n",
            "__________________________________________________________________________________________________\n",
            "conv_dw_5 (DepthwiseConv2D)     (None, 28, 28, 256)  2304        conv_pw_4_relu[0][0]             \n",
            "__________________________________________________________________________________________________\n",
            "conv_dw_5_bn (BatchNormalizatio (None, 28, 28, 256)  1024        conv_dw_5[0][0]                  \n",
            "__________________________________________________________________________________________________\n",
            "conv_dw_5_relu (ReLU)           (None, 28, 28, 256)  0           conv_dw_5_bn[0][0]               \n",
            "__________________________________________________________________________________________________\n",
            "conv_pw_5 (Conv2D)              (None, 28, 28, 256)  65536       conv_dw_5_relu[0][0]             \n",
            "__________________________________________________________________________________________________\n",
            "conv_pw_5_bn (BatchNormalizatio (None, 28, 28, 256)  1024        conv_pw_5[0][0]                  \n",
            "__________________________________________________________________________________________________\n",
            "conv_pw_5_relu (ReLU)           (None, 28, 28, 256)  0           conv_pw_5_bn[0][0]               \n",
            "__________________________________________________________________________________________________\n",
            "conv_pad_6 (ZeroPadding2D)      (None, 29, 29, 256)  0           conv_pw_5_relu[0][0]             \n",
            "__________________________________________________________________________________________________\n",
            "conv_dw_6 (DepthwiseConv2D)     (None, 14, 14, 256)  2304        conv_pad_6[0][0]                 \n",
            "__________________________________________________________________________________________________\n",
            "conv_dw_6_bn (BatchNormalizatio (None, 14, 14, 256)  1024        conv_dw_6[0][0]                  \n",
            "__________________________________________________________________________________________________\n",
            "conv_dw_6_relu (ReLU)           (None, 14, 14, 256)  0           conv_dw_6_bn[0][0]               \n",
            "__________________________________________________________________________________________________\n",
            "conv_pw_6 (Conv2D)              (None, 14, 14, 512)  131072      conv_dw_6_relu[0][0]             \n",
            "__________________________________________________________________________________________________\n",
            "conv_pw_6_bn (BatchNormalizatio (None, 14, 14, 512)  2048        conv_pw_6[0][0]                  \n",
            "__________________________________________________________________________________________________\n",
            "conv_pw_6_relu (ReLU)           (None, 14, 14, 512)  0           conv_pw_6_bn[0][0]               \n",
            "__________________________________________________________________________________________________\n",
            "conv_dw_7 (DepthwiseConv2D)     (None, 14, 14, 512)  4608        conv_pw_6_relu[0][0]             \n",
            "__________________________________________________________________________________________________\n",
            "conv_dw_7_bn (BatchNormalizatio (None, 14, 14, 512)  2048        conv_dw_7[0][0]                  \n",
            "__________________________________________________________________________________________________\n",
            "conv_dw_7_relu (ReLU)           (None, 14, 14, 512)  0           conv_dw_7_bn[0][0]               \n",
            "__________________________________________________________________________________________________\n",
            "conv_pw_7 (Conv2D)              (None, 14, 14, 512)  262144      conv_dw_7_relu[0][0]             \n",
            "__________________________________________________________________________________________________\n",
            "conv_pw_7_bn (BatchNormalizatio (None, 14, 14, 512)  2048        conv_pw_7[0][0]                  \n",
            "__________________________________________________________________________________________________\n",
            "conv_pw_7_relu (ReLU)           (None, 14, 14, 512)  0           conv_pw_7_bn[0][0]               \n",
            "__________________________________________________________________________________________________\n",
            "conv_dw_8 (DepthwiseConv2D)     (None, 14, 14, 512)  4608        conv_pw_7_relu[0][0]             \n",
            "__________________________________________________________________________________________________\n",
            "conv_dw_8_bn (BatchNormalizatio (None, 14, 14, 512)  2048        conv_dw_8[0][0]                  \n",
            "__________________________________________________________________________________________________\n",
            "conv_dw_8_relu (ReLU)           (None, 14, 14, 512)  0           conv_dw_8_bn[0][0]               \n",
            "__________________________________________________________________________________________________\n",
            "conv_pw_8 (Conv2D)              (None, 14, 14, 512)  262144      conv_dw_8_relu[0][0]             \n",
            "__________________________________________________________________________________________________\n",
            "conv_pw_8_bn (BatchNormalizatio (None, 14, 14, 512)  2048        conv_pw_8[0][0]                  \n",
            "__________________________________________________________________________________________________\n",
            "conv_pw_8_relu (ReLU)           (None, 14, 14, 512)  0           conv_pw_8_bn[0][0]               \n",
            "__________________________________________________________________________________________________\n",
            "conv_dw_9 (DepthwiseConv2D)     (None, 14, 14, 512)  4608        conv_pw_8_relu[0][0]             \n",
            "__________________________________________________________________________________________________\n",
            "conv_dw_9_bn (BatchNormalizatio (None, 14, 14, 512)  2048        conv_dw_9[0][0]                  \n",
            "__________________________________________________________________________________________________\n",
            "conv_dw_9_relu (ReLU)           (None, 14, 14, 512)  0           conv_dw_9_bn[0][0]               \n",
            "__________________________________________________________________________________________________\n",
            "conv_pw_9 (Conv2D)              (None, 14, 14, 512)  262144      conv_dw_9_relu[0][0]             \n",
            "__________________________________________________________________________________________________\n",
            "conv_pw_9_bn (BatchNormalizatio (None, 14, 14, 512)  2048        conv_pw_9[0][0]                  \n",
            "__________________________________________________________________________________________________\n",
            "conv_pw_9_relu (ReLU)           (None, 14, 14, 512)  0           conv_pw_9_bn[0][0]               \n",
            "__________________________________________________________________________________________________\n",
            "conv_dw_10 (DepthwiseConv2D)    (None, 14, 14, 512)  4608        conv_pw_9_relu[0][0]             \n",
            "__________________________________________________________________________________________________\n",
            "conv_dw_10_bn (BatchNormalizati (None, 14, 14, 512)  2048        conv_dw_10[0][0]                 \n",
            "__________________________________________________________________________________________________\n",
            "conv_dw_10_relu (ReLU)          (None, 14, 14, 512)  0           conv_dw_10_bn[0][0]              \n",
            "__________________________________________________________________________________________________\n",
            "conv_pw_10 (Conv2D)             (None, 14, 14, 512)  262144      conv_dw_10_relu[0][0]            \n",
            "__________________________________________________________________________________________________\n",
            "conv_pw_10_bn (BatchNormalizati (None, 14, 14, 512)  2048        conv_pw_10[0][0]                 \n",
            "__________________________________________________________________________________________________\n",
            "conv_pw_10_relu (ReLU)          (None, 14, 14, 512)  0           conv_pw_10_bn[0][0]              \n",
            "__________________________________________________________________________________________________\n",
            "conv_dw_11 (DepthwiseConv2D)    (None, 14, 14, 512)  4608        conv_pw_10_relu[0][0]            \n",
            "__________________________________________________________________________________________________\n",
            "conv_dw_11_bn (BatchNormalizati (None, 14, 14, 512)  2048        conv_dw_11[0][0]                 \n",
            "__________________________________________________________________________________________________\n",
            "conv_dw_11_relu (ReLU)          (None, 14, 14, 512)  0           conv_dw_11_bn[0][0]              \n",
            "__________________________________________________________________________________________________\n",
            "conv_pw_11 (Conv2D)             (None, 14, 14, 512)  262144      conv_dw_11_relu[0][0]            \n",
            "__________________________________________________________________________________________________\n",
            "conv_pw_11_bn (BatchNormalizati (None, 14, 14, 512)  2048        conv_pw_11[0][0]                 \n",
            "__________________________________________________________________________________________________\n",
            "conv_pw_11_relu (ReLU)          (None, 14, 14, 512)  0           conv_pw_11_bn[0][0]              \n",
            "__________________________________________________________________________________________________\n",
            "conv_pad_12 (ZeroPadding2D)     (None, 15, 15, 512)  0           conv_pw_11_relu[0][0]            \n",
            "__________________________________________________________________________________________________\n",
            "conv_dw_12 (DepthwiseConv2D)    (None, 7, 7, 512)    4608        conv_pad_12[0][0]                \n",
            "__________________________________________________________________________________________________\n",
            "conv_dw_12_bn (BatchNormalizati (None, 7, 7, 512)    2048        conv_dw_12[0][0]                 \n",
            "__________________________________________________________________________________________________\n",
            "conv_dw_12_relu (ReLU)          (None, 7, 7, 512)    0           conv_dw_12_bn[0][0]              \n",
            "__________________________________________________________________________________________________\n",
            "conv_pw_12 (Conv2D)             (None, 7, 7, 1024)   524288      conv_dw_12_relu[0][0]            \n",
            "__________________________________________________________________________________________________\n",
            "conv_pw_12_bn (BatchNormalizati (None, 7, 7, 1024)   4096        conv_pw_12[0][0]                 \n",
            "__________________________________________________________________________________________________\n",
            "conv_pw_12_relu (ReLU)          (None, 7, 7, 1024)   0           conv_pw_12_bn[0][0]              \n",
            "__________________________________________________________________________________________________\n",
            "conv_dw_13 (DepthwiseConv2D)    (None, 7, 7, 1024)   9216        conv_pw_12_relu[0][0]            \n",
            "__________________________________________________________________________________________________\n",
            "conv_dw_13_bn (BatchNormalizati (None, 7, 7, 1024)   4096        conv_dw_13[0][0]                 \n",
            "__________________________________________________________________________________________________\n",
            "conv_dw_13_relu (ReLU)          (None, 7, 7, 1024)   0           conv_dw_13_bn[0][0]              \n",
            "__________________________________________________________________________________________________\n",
            "conv_pw_13 (Conv2D)             (None, 7, 7, 1024)   1048576     conv_dw_13_relu[0][0]            \n",
            "__________________________________________________________________________________________________\n",
            "conv_pw_13_bn (BatchNormalizati (None, 7, 7, 1024)   4096        conv_pw_13[0][0]                 \n",
            "__________________________________________________________________________________________________\n",
            "conv_pw_13_relu (ReLU)          (None, 7, 7, 1024)   0           conv_pw_13_bn[0][0]              \n",
            "__________________________________________________________________________________________________\n",
            "up_sampling2d (UpSampling2D)    (None, 14, 14, 1024) 0           conv_pw_13_relu[0][0]            \n",
            "__________________________________________________________________________________________________\n",
            "concatenate (Concatenate)       (None, 14, 14, 1536) 0           up_sampling2d[0][0]              \n",
            "                                                                 conv_pw_11_relu[0][0]            \n",
            "__________________________________________________________________________________________________\n",
            "up_sampling2d_1 (UpSampling2D)  (None, 28, 28, 1536) 0           concatenate[0][0]                \n",
            "__________________________________________________________________________________________________\n",
            "concatenate_1 (Concatenate)     (None, 28, 28, 1792) 0           up_sampling2d_1[0][0]            \n",
            "                                                                 conv_pw_5_relu[0][0]             \n",
            "__________________________________________________________________________________________________\n",
            "up_sampling2d_2 (UpSampling2D)  (None, 56, 56, 1792) 0           concatenate_1[0][0]              \n",
            "__________________________________________________________________________________________________\n",
            "concatenate_2 (Concatenate)     (None, 56, 56, 1920) 0           up_sampling2d_2[0][0]            \n",
            "                                                                 conv_pw_3_relu[0][0]             \n",
            "__________________________________________________________________________________________________\n",
            "up_sampling2d_3 (UpSampling2D)  (None, 112, 112, 192 0           concatenate_2[0][0]              \n",
            "__________________________________________________________________________________________________\n",
            "concatenate_3 (Concatenate)     (None, 112, 112, 198 0           up_sampling2d_3[0][0]            \n",
            "                                                                 conv_pw_1_relu[0][0]             \n",
            "__________________________________________________________________________________________________\n",
            "up_sampling2d_4 (UpSampling2D)  (None, 224, 224, 198 0           concatenate_3[0][0]              \n",
            "__________________________________________________________________________________________________\n",
            "conv2d (Conv2D)                 (None, 224, 224, 1)  1985        up_sampling2d_4[0][0]            \n",
            "__________________________________________________________________________________________________\n",
            "reshape (Reshape)               (None, 224, 224)     0           conv2d[0][0]                     \n",
            "==================================================================================================\n",
            "Total params: 3,230,849\n",
            "Trainable params: 3,208,961\n",
            "Non-trainable params: 21,888\n",
            "__________________________________________________________________________________________________\n"
          ],
          "name": "stdout"
        }
      ]
    },
    {
      "cell_type": "markdown",
      "metadata": {
        "id": "2spcE4TvfEZw"
      },
      "source": [
        "### Define dice coefficient function (2 marks)\n",
        "- Create a function to calculate dice coefficient\n"
      ]
    },
    {
      "cell_type": "code",
      "metadata": {
        "id": "kVykJCh9AMG-"
      },
      "source": [
        "from tensorflow.keras.backend import epsilon"
      ],
      "execution_count": 16,
      "outputs": []
    },
    {
      "cell_type": "code",
      "metadata": {
        "id": "8H8aViXZuWz1"
      },
      "source": [
        "def dice_coefficient(y_true, y_pred):\n",
        "    numerator = 2 * tf.reduce_sum(y_true * y_pred)\n",
        "    denominator = tf.reduce_sum(y_true + y_pred)\n",
        "\n",
        "    return numerator / (denominator + epsilon())"
      ],
      "execution_count": 17,
      "outputs": []
    },
    {
      "cell_type": "markdown",
      "metadata": {
        "id": "Nkp5SDM1fIu2"
      },
      "source": [
        "### Define loss function (2 marks)"
      ]
    },
    {
      "cell_type": "code",
      "metadata": {
        "id": "FEOVfs19KVLv"
      },
      "source": [
        "def loss(y_true, y_pred):\n",
        "    return binary_crossentropy(y_true, y_pred) - tf.math.log(dice_coefficient(y_true, y_pred) + epsilon())"
      ],
      "execution_count": 18,
      "outputs": []
    },
    {
      "cell_type": "markdown",
      "metadata": {
        "id": "Thltv_akfOMS"
      },
      "source": [
        "### Compile the model (2 marks)\n",
        "- Complie the model using below parameters\n",
        "  - loss: use the loss function defined above\n",
        "  - optimizers: use Adam optimizer\n",
        "  - metrics: use dice_coefficient function defined above"
      ]
    },
    {
      "cell_type": "code",
      "metadata": {
        "id": "atPb8xm2qkK5"
      },
      "source": [
        "model.compile(loss=loss, optimizer='adam', metrics=[dice_coefficient])"
      ],
      "execution_count": 19,
      "outputs": []
    },
    {
      "cell_type": "markdown",
      "metadata": {
        "id": "VTumZyg0fuVy"
      },
      "source": [
        "### Define callbacks (2 marks)\n",
        "- Use ModelCheckpoint\n",
        "- Use EarlyStopping\n",
        "- Use ReduceLROnPlateau"
      ]
    },
    {
      "cell_type": "code",
      "metadata": {
        "id": "Adk8zp3gF2vx"
      },
      "source": [
        "from tensorflow.keras.callbacks import ModelCheckpoint, EarlyStopping, ReduceLROnPlateau"
      ],
      "execution_count": 20,
      "outputs": []
    },
    {
      "cell_type": "code",
      "metadata": {
        "id": "QNlQHt8DMy7h"
      },
      "source": [
        "checkpoint = ModelCheckpoint(\"Facemask.h5\", monitor=\"val_loss\", verbose=1, save_best_only=True, save_weights_only=True, mode=\"auto\")\n",
        "stop = EarlyStopping(monitor=\"val_loss\", patience=5, mode=\"auto\")\n",
        "reduce_lr = ReduceLROnPlateau(monitor=\"val_loss\", factor=0.2, patience=5, min_lr=1e-6, verbose=1, mode=\"auto\")"
      ],
      "execution_count": 21,
      "outputs": []
    },
    {
      "cell_type": "markdown",
      "metadata": {
        "id": "LxxbwvXEf07e"
      },
      "source": [
        "### Fit the model (2 marks)\n",
        "- Fit the model using below parameters\n",
        "  - epochs: you can decide\n",
        "  - batch_size: 1\n",
        "  - callbacks: use the callbacks defined above"
      ]
    },
    {
      "cell_type": "code",
      "metadata": {
        "colab": {
          "base_uri": "https://localhost:8080/"
        },
        "id": "TfgtE54CIvQ8",
        "outputId": "626e10c2-da6e-44e8-96a7-2832816928e4"
      },
      "source": [
        "model.fit(X_train, y_train,batch_size = 1, epochs = 30, callbacks = [checkpoint, reduce_lr,stop], validation_data = (X_test, y_test))"
      ],
      "execution_count": 22,
      "outputs": [
        {
          "output_type": "stream",
          "text": [
            "Epoch 1/30\n",
            "400/400 [==============================] - 55s 53ms/step - loss: 1.2079 - dice_coefficient: 0.5104 - val_loss: 1.3796 - val_dice_coefficient: 0.4463\n",
            "\n",
            "Epoch 00001: val_loss improved from inf to 1.37961, saving model to Facemask.h5\n",
            "Epoch 2/30\n",
            "400/400 [==============================] - 21s 53ms/step - loss: 0.8461 - dice_coefficient: 0.6060 - val_loss: 1.8864 - val_dice_coefficient: 0.4186\n",
            "\n",
            "Epoch 00002: val_loss did not improve from 1.37961\n",
            "Epoch 3/30\n",
            "400/400 [==============================] - 22s 54ms/step - loss: 0.7446 - dice_coefficient: 0.6389 - val_loss: 0.8764 - val_dice_coefficient: 0.5493\n",
            "\n",
            "Epoch 00003: val_loss improved from 1.37961 to 0.87640, saving model to Facemask.h5\n",
            "Epoch 4/30\n",
            "400/400 [==============================] - 22s 54ms/step - loss: 0.6566 - dice_coefficient: 0.6735 - val_loss: 1.5031 - val_dice_coefficient: 0.4670\n",
            "\n",
            "Epoch 00004: val_loss did not improve from 0.87640\n",
            "Epoch 5/30\n",
            "400/400 [==============================] - 22s 54ms/step - loss: 0.6137 - dice_coefficient: 0.6895 - val_loss: 1.3506 - val_dice_coefficient: 0.4799\n",
            "\n",
            "Epoch 00005: val_loss did not improve from 0.87640\n",
            "Epoch 6/30\n",
            "400/400 [==============================] - 21s 54ms/step - loss: 0.5582 - dice_coefficient: 0.7134 - val_loss: 0.9733 - val_dice_coefficient: 0.5306\n",
            "\n",
            "Epoch 00006: val_loss did not improve from 0.87640\n",
            "Epoch 7/30\n",
            "400/400 [==============================] - 22s 54ms/step - loss: 0.5373 - dice_coefficient: 0.7244 - val_loss: 1.2068 - val_dice_coefficient: 0.5080\n",
            "\n",
            "Epoch 00007: val_loss did not improve from 0.87640\n",
            "Epoch 8/30\n",
            "400/400 [==============================] - 21s 54ms/step - loss: 0.5069 - dice_coefficient: 0.7400 - val_loss: 0.7999 - val_dice_coefficient: 0.5938\n",
            "\n",
            "Epoch 00008: val_loss improved from 0.87640 to 0.79991, saving model to Facemask.h5\n",
            "Epoch 9/30\n",
            "400/400 [==============================] - 21s 54ms/step - loss: 0.4572 - dice_coefficient: 0.7618 - val_loss: 0.9610 - val_dice_coefficient: 0.5449\n",
            "\n",
            "Epoch 00009: val_loss did not improve from 0.79991\n",
            "Epoch 10/30\n",
            "400/400 [==============================] - 22s 54ms/step - loss: 0.3877 - dice_coefficient: 0.7918 - val_loss: 0.9939 - val_dice_coefficient: 0.5374\n",
            "\n",
            "Epoch 00010: val_loss did not improve from 0.79991\n",
            "Epoch 11/30\n",
            "400/400 [==============================] - 22s 54ms/step - loss: 0.3751 - dice_coefficient: 0.8009 - val_loss: 0.7611 - val_dice_coefficient: 0.6066\n",
            "\n",
            "Epoch 00011: val_loss improved from 0.79991 to 0.76108, saving model to Facemask.h5\n",
            "Epoch 12/30\n",
            "400/400 [==============================] - 21s 54ms/step - loss: 0.3784 - dice_coefficient: 0.7994 - val_loss: 0.8909 - val_dice_coefficient: 0.5889\n",
            "\n",
            "Epoch 00012: val_loss did not improve from 0.76108\n",
            "Epoch 13/30\n",
            "400/400 [==============================] - 22s 54ms/step - loss: 0.3845 - dice_coefficient: 0.7975 - val_loss: 1.0316 - val_dice_coefficient: 0.5323\n",
            "\n",
            "Epoch 00013: val_loss did not improve from 0.76108\n",
            "Epoch 14/30\n",
            "400/400 [==============================] - 22s 54ms/step - loss: 0.3724 - dice_coefficient: 0.8040 - val_loss: 0.9498 - val_dice_coefficient: 0.5550\n",
            "\n",
            "Epoch 00014: val_loss did not improve from 0.76108\n",
            "Epoch 15/30\n",
            "400/400 [==============================] - 21s 54ms/step - loss: 0.3703 - dice_coefficient: 0.8065 - val_loss: 1.5038 - val_dice_coefficient: 0.4561\n",
            "\n",
            "Epoch 00015: val_loss did not improve from 0.76108\n",
            "Epoch 16/30\n",
            "400/400 [==============================] - 22s 54ms/step - loss: 0.3536 - dice_coefficient: 0.8139 - val_loss: 0.9235 - val_dice_coefficient: 0.5710\n",
            "\n",
            "Epoch 00016: val_loss did not improve from 0.76108\n",
            "\n",
            "Epoch 00016: ReduceLROnPlateau reducing learning rate to 0.00020000000949949026.\n"
          ],
          "name": "stdout"
        },
        {
          "output_type": "execute_result",
          "data": {
            "text/plain": [
              "<tensorflow.python.keras.callbacks.History at 0x7f7b0c041a50>"
            ]
          },
          "metadata": {
            "tags": []
          },
          "execution_count": 22
        }
      ]
    },
    {
      "cell_type": "markdown",
      "metadata": {
        "id": "5VtnuzlOf4uL"
      },
      "source": [
        "### Get the predicted mask for a test image   (2 marks)"
      ]
    },
    {
      "cell_type": "markdown",
      "metadata": {
        "id": "EKeEPrQJNqpq"
      },
      "source": [
        "Show the test image"
      ]
    },
    {
      "cell_type": "code",
      "metadata": {
        "id": "o-CBCMysrchu"
      },
      "source": [
        "test_img = X_test[3]"
      ],
      "execution_count": 23,
      "outputs": []
    },
    {
      "cell_type": "code",
      "metadata": {
        "colab": {
          "base_uri": "https://localhost:8080/",
          "height": 305
        },
        "id": "oMNGKUiZPyn5",
        "outputId": "83c55d4a-1bd1-4dee-9efd-50d561083f93"
      },
      "source": [
        "plt.imshow(test_img)"
      ],
      "execution_count": 24,
      "outputs": [
        {
          "output_type": "stream",
          "text": [
            "Clipping input data to the valid range for imshow with RGB data ([0..1] for floats or [0..255] for integers).\n"
          ],
          "name": "stderr"
        },
        {
          "output_type": "execute_result",
          "data": {
            "text/plain": [
              "<matplotlib.image.AxesImage at 0x7f7afa4f5e50>"
            ]
          },
          "metadata": {
            "tags": []
          },
          "execution_count": 24
        },
        {
          "output_type": "display_data",
          "data": {
            "image/png": "[encoded data removed]",
            "text/plain": [
              "<Figure size 432x288 with 1 Axes>"
            ]
          },
          "metadata": {
            "tags": [],
            "needs_background": "light"
          }
        }
      ]
    },
    {
      "cell_type": "markdown",
      "metadata": {
        "id": "0HuDvCJHNuwF"
      },
      "source": [
        "Show original mask for test image"
      ]
    },
    {
      "cell_type": "code",
      "metadata": {
        "id": "fvUuZu2zNxuj"
      },
      "source": [
        "test_mask = y_test[3]"
      ],
      "execution_count": 25,
      "outputs": []
    },
    {
      "cell_type": "code",
      "metadata": {
        "colab": {
          "base_uri": "https://localhost:8080/",
          "height": 287
        },
        "id": "ScDSXFXbP9Vh",
        "outputId": "fc55298e-bd9d-4b36-9412-248faddf2c6a"
      },
      "source": [
        "plt.imshow(test_mask)"
      ],
      "execution_count": 26,
      "outputs": [
        {
          "output_type": "execute_result",
          "data": {
            "text/plain": [
              "<matplotlib.image.AxesImage at 0x7f7afa4dee90>"
            ]
          },
          "metadata": {
            "tags": []
          },
          "execution_count": 26
        },
        {
          "output_type": "display_data",
          "data": {
            "image/png": "[encoded data removed]",
            "text/plain": [
              "<Figure size 432x288 with 1 Axes>"
            ]
          },
          "metadata": {
            "tags": [],
            "needs_background": "light"
          }
        }
      ]
    },
    {
      "cell_type": "markdown",
      "metadata": {
        "id": "IJjNguwlN6rI"
      },
      "source": [
        "Predict the mask on the test image"
      ]
    },
    {
      "cell_type": "code",
      "metadata": {
        "id": "-3X6XQgDP8hy"
      },
      "source": [
        "model = create_model()\n",
        "model.load_weights('Facemask.h5')"
      ],
      "execution_count": 27,
      "outputs": []
    },
    {
      "cell_type": "code",
      "metadata": {
        "id": "X2dmz90gOcIr"
      },
      "source": [
        "prediction = model.predict(np.array([test_img]))[0]"
      ],
      "execution_count": 28,
      "outputs": []
    },
    {
      "cell_type": "code",
      "metadata": {
        "colab": {
          "base_uri": "https://localhost:8080/",
          "height": 287
        },
        "id": "J5brOQns10Xb",
        "outputId": "edf33a87-45c0-4da7-f72e-99fef5dd36b2"
      },
      "source": [
        "plt.imshow(prediction)"
      ],
      "execution_count": 29,
      "outputs": [
        {
          "output_type": "execute_result",
          "data": {
            "text/plain": [
              "<matplotlib.image.AxesImage at 0x7f7afa282ed0>"
            ]
          },
          "metadata": {
            "tags": []
          },
          "execution_count": 29
        },
        {
          "output_type": "display_data",
          "data": {
            "image/png": "[encoded data removed]",
            "text/plain": [
              "<Figure size 432x288 with 1 Axes>"
            ]
          },
          "metadata": {
            "tags": [],
            "needs_background": "light"
          }
        }
      ]
    },
    {
      "cell_type": "markdown",
      "metadata": {
        "id": "fDIetz0HgA4R"
      },
      "source": [
        "### Impose the mask on the test image (2 marks)\n",
        "- In imshow use the alpha parameter and set it to greater than 0.5"
      ]
    },
    {
      "cell_type": "code",
      "metadata": {
        "id": "9j0dZkh8FZXP"
      },
      "source": [
        "predicted_mask = cv2.resize(1.0*(model.predict(x=np.array([test_img]))[0] > 0.5), (IMAGE_WIDTH,IMAGE_HEIGHT))"
      ],
      "execution_count": 30,
      "outputs": []
    },
    {
      "cell_type": "code",
      "metadata": {
        "id": "5RrtfXuBIY9y"
      },
      "source": [
        "image = cv2.resize(test_img,(IMAGE_WIDTH,IMAGE_HEIGHT))"
      ],
      "execution_count": 31,
      "outputs": []
    },
    {
      "cell_type": "code",
      "metadata": {
        "id": "6xQHWskmmv_N"
      },
      "source": [
        "image = cv2.resize(test_img,(IMAGE_WIDTH,IMAGE_HEIGHT))\n",
        "\n",
        "img= image\n",
        "img[:,:,0] = predicted_mask*image[:,:,0]\n",
        "img[:,:,1] = predicted_mask*image[:,:,1]\n",
        "img[:,:,2] = predicted_mask*image[:,:,2]\n",
        "\n",
        "out_image = img"
      ],
      "execution_count": 32,
      "outputs": []
    },
    {
      "cell_type": "code",
      "metadata": {
        "colab": {
          "base_uri": "https://localhost:8080/",
          "height": 305
        },
        "id": "LVDP30PcvHbL",
        "outputId": "e5bb88d0-be1e-4532-94b6-224fc83e5827"
      },
      "source": [
        "plt.imshow(img)"
      ],
      "execution_count": 33,
      "outputs": [
        {
          "output_type": "stream",
          "text": [
            "Clipping input data to the valid range for imshow with RGB data ([0..1] for floats or [0..255] for integers).\n"
          ],
          "name": "stderr"
        },
        {
          "output_type": "execute_result",
          "data": {
            "text/plain": [
              "<matplotlib.image.AxesImage at 0x7f7afa11c0d0>"
            ]
          },
          "metadata": {
            "tags": []
          },
          "execution_count": 33
        },
        {
          "output_type": "display_data",
          "data": {
            "image/png": "[encoded data removed]",
            "text/plain": [
              "<Figure size 432x288 with 1 Axes>"
            ]
          },
          "metadata": {
            "tags": [],
            "needs_background": "light"
          }
        }
      ]
    },
    {
      "cell_type": "code",
      "metadata": {
        "colab": {
          "base_uri": "https://localhost:8080/"
        },
        "id": "UQFzrh4vLZYx",
        "outputId": "72946aaf-555d-4562-c56f-9cfc9e1cef5e"
      },
      "source": [
        "!jupyter nbconvert --to html Advance_Computer_Vision_with_CNN_R9_Project1_FaceMaskPrediction_using_U_Net_1.ipynb"
      ],
      "execution_count": 87,
      "outputs": [
        {
          "output_type": "stream",
          "text": [
            "[NbConvertApp] Converting notebook Advance_Computer_Vision_with_CNN_R9_Project1_FaceMaskPrediction_using_U_Net_1.ipynb to html\n",
            "[NbConvertApp] Writing 573357 bytes to Advance_Computer_Vision_with_CNN_R9_Project1_FaceMaskPrediction_using_U_Net_1.html\n"
          ],
          "name": "stdout"
        }
      ]
    },
    {
      "cell_type": "code",
      "metadata": {
        "id": "_WYvZVBpNPsN"
      },
      "source": [
        ""
      ],
      "execution_count": null,
      "outputs": []
    }
  ]
}